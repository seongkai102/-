{
  "nbformat": 4,
  "nbformat_minor": 0,
  "metadata": {
    "colab": {
      "provenance": [],
      "authorship_tag": "ABX9TyNicBHrLaGIqcCAEnU0Rco6",
      "include_colab_link": true
    },
    "kernelspec": {
      "name": "python3",
      "display_name": "Python 3"
    },
    "language_info": {
      "name": "python"
    }
  },
  "cells": [
    {
      "cell_type": "markdown",
      "metadata": {
        "id": "view-in-github",
        "colab_type": "text"
      },
      "source": [
        "<a href=\"https://colab.research.google.com/github/seongkai102/-/blob/main/%EC%86%8C%ED%94%94%EB%9D%BC%E3%85%93%E3%85%93.ipynb\" target=\"_parent\"><img src=\"https://colab.research.google.com/assets/colab-badge.svg\" alt=\"Open In Colab\"/></a>"
      ]
    },
    {
      "cell_type": "code",
      "execution_count": null,
      "metadata": {
        "id": "HYLRU0UdG6zj"
      },
      "outputs": [],
      "source": [
        "import cv2\n",
        "import pandas as pd\n",
        "# import tkinter 아직 확정은 아님\n",
        "from sklearn.neighbors import KNeighborsClassifier\n",
        "from sklearn.datasets import load_iris\n",
        "from sklearn.model_selection import train_test_split\n",
        "from sklearn.metrics import accuracy_score\n",
        "\n",
        "\n",
        "#에이 진짜 설마\n",
        "def  survey():\n",
        "  jj_list = ['a','b']\n",
        "  for i,j in enumerate(jj_list):\n",
        "    print(j)\n",
        "    aa = int(input(\"1,2,3,4,5 중 하나 선택\"))\n",
        "\n",
        "  \"\"\"\n",
        "  이후 질문당 가중치 설정해 각 변수의 값구하기\n",
        "  \"\"\"\n",
        "\n",
        "\n",
        "def csv_to(x):\n",
        "  \"\"\"\n",
        "  리스트를 받아 [[]] 판다스를 통해 csv로 변환\n",
        "  \"\"\"\n",
        "\n",
        "\n",
        "def model(n):\n",
        "  \"\"\"\n",
        "  k-nn 모델 학습 학습후 모델 save\n",
        "  이후 팀인원수 n입력하여 가장 잘맞는 팀원 n 구하기\n",
        "  \"\"\"\n",
        "\n",
        "\n",
        "def main():\n",
        "  \"\"\"\n",
        "  GUI\n",
        "  \"\"\"\n",
        "\n",
        "\n",
        "if __name__ == '__main__':\n",
        "  main()\n"
      ]
    },
    {
      "cell_type": "code",
      "source": [
        "import numpy as np\n",
        "from sklearn.neighbors import KNeighborsClassifier\n",
        "\n",
        "# 예시 설문조사 데이터 (팀원들의 성향을 수치화한 데이터)\n",
        "data = np.array([\n",
        "    [4, 5, 3, 2],  # 팀원 1\n",
        "    [5, 5, 4, 3],  # 팀원 2\n",
        "    [2, 1, 5, 4],  # 팀원 3\n",
        "    [3, 4, 3, 2],  # 팀원 4\n",
        "    [5, 5, 5, 5],  # 팀원 5\n",
        "])\n",
        "\n",
        "# 나의 설문조사 응답\n",
        "my_profile = np.array([4, 4, 4, 3])\n",
        "\n",
        "# KNN 모델 (k=3)\n",
        "knn = KNeighborsClassifier(n_neighbors=3)\n",
        "\n",
        "# 팀원 인덱스\n",
        "labels = np.array([1, 2, 3, 4, 5])\n",
        "\n",
        "# 모델 학습\n",
        "knn.fit(data, labels)\n",
        "\n",
        "# 나와 가장 가까운 팀원 3명을 찾고, 거리와 이웃 정보 반환\n",
        "distances, indices = knn.kneighbors([my_profile], return_distance=True)\n",
        "\n",
        "# 이웃들의 인덱스\n",
        "print(\"가장 가까운 팀원의 인덱스:\", indices)\n",
        "# 이웃들과의 거리\n",
        "print(\"이웃들과의 거리:\", distances)\n"
      ],
      "metadata": {
        "id": "LnvyEKd6LLme"
      },
      "execution_count": null,
      "outputs": []
    }
  ]
}