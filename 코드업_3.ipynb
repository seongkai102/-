{
  "nbformat": 4,
  "nbformat_minor": 0,
  "metadata": {
    "colab": {
      "provenance": [],
      "authorship_tag": "ABX9TyNgSbHE0CabB7IefbF0nzzZ",
      "include_colab_link": true
    },
    "kernelspec": {
      "name": "python3",
      "display_name": "Python 3"
    },
    "language_info": {
      "name": "python"
    }
  },
  "cells": [
    {
      "cell_type": "markdown",
      "metadata": {
        "id": "view-in-github",
        "colab_type": "text"
      },
      "source": [
        "<a href=\"https://colab.research.google.com/github/seongkai102/-/blob/main/%EC%BD%94%EB%93%9C%EC%97%85_3.ipynb\" target=\"_parent\"><img src=\"https://colab.research.google.com/assets/colab-badge.svg\" alt=\"Open In Colab\"/></a>"
      ]
    },
    {
      "cell_type": "code",
      "source": [
        "a = int(input())\n",
        "b = sorted(list(map(int, input().split())), reverse = True)\n",
        "\n",
        "while len(b) > 1:\n",
        "    b[0] = b[0] + (b[1] / 2)\n",
        "    del b[1]\n",
        "\n",
        "print(b[0])\n",
        "\n",
        "###############gpt\n",
        "\n",
        "a = int(input())\n",
        "b = sorted(list(map(int, input().split())), reverse=True)\n",
        "\n",
        "for i in range(1, a):\n",
        "    b[0] += b[i] / 2\n",
        "\n",
        "print(b[0])\n"
      ],
      "metadata": {
        "id": "SG3LAnne2ObX"
      },
      "execution_count": null,
      "outputs": []
    },
    {
      "cell_type": "code",
      "source": [
        "#1298 tlqkf 개어렵네\n",
        "\n",
        "def gcd(a, b):\n",
        "    if b == 0:\n",
        "        return a, 1, 0\n",
        "    g, x1, y1 = gcd(b, a % b)\n",
        "    x = y1\n",
        "    y = x1 - (a // b) * y1\n",
        "    return g, x, y\n",
        "\n",
        "def find_solution(A, B, C):\n",
        "    if A == 0 and B == 0:\n",
        "        if C == 0:\n",
        "            return (1, 1)\n",
        "        else:\n",
        "            return \"Not Exist\"\n",
        "\n",
        "    if A == 0:\n",
        "        if C % B == 0:\n",
        "            x = 1\n",
        "            y = C // B\n",
        "            return (x, y)\n",
        "        else:\n",
        "            return \"Not Exist\"\n",
        "\n",
        "    if B == 0:\n",
        "        if C % A == 0:\n",
        "            x = C // A\n",
        "            y = 1\n",
        "            return (x, y)\n",
        "        else:\n",
        "            return \"Not Exist\"\n",
        "\n",
        "    g, x, y = gcd(A, B)\n",
        "\n",
        "    if C % g != 0:\n",
        "        return \"Not Exist\"\n",
        "\n",
        "    x *= C // g\n",
        "    y *= C // g\n",
        "    return x, y\n",
        "\n",
        "A, B, C = map(int, input().split())\n",
        "\n",
        "result = find_solution(A, B, C)\n",
        "if result == \"Not Exist\":\n",
        "    print(result)\n",
        "else:\n",
        "    print(result[0], result[1])\n"
      ],
      "metadata": {
        "id": "0AVkWsR3_zLh"
      },
      "execution_count": null,
      "outputs": []
    },
    {
      "cell_type": "code",
      "source": [
        "#1373\n",
        "\n",
        "import sys\n",
        "sys.setrecursionlimit(10000000)\n",
        "def fact(num):\n",
        "\tif num > 1:\n",
        "\t\treturn num * fact(num - 1)\n",
        "\telse :\n",
        "\t\treturn 1\n",
        "\n",
        "n, m, k, p = map(int, input().split())\n",
        "d = 0\n",
        "count = 0\n",
        "\n",
        "n = abs(n)\n",
        "m = abs(m)\n",
        "\n",
        "if n > m:\n",
        "\tn, m = m, n\n",
        "\n",
        "if k == 0:\n",
        "\tif n == 0:\n",
        "\t\tif m == 0:\n",
        "\t\t\td = 4\n",
        "\t\t\tcount = 8\n",
        "\t\telif m == 1:\n",
        "\t\t\td = 3\n",
        "\t\t\tcount = 2\n",
        "\t\telse:\n",
        "\t\t\td = m + 2\n",
        "\t\t\tcount = ((m + 1) * m)\n",
        "\telif n == 1:\n",
        "\t\tif m == 1:\n",
        "\t\t\td = 4\n",
        "\t\t\tcount = 4\n",
        "\t\telse:\n",
        "\t\t\td = m + 1\n",
        "\t\t\tcount = m - 1\n",
        "\telse:\n",
        "\t\td = n + m\n",
        "\t\tcount = fact(n + m) // (fact(n) * fact(m)) - 2\n",
        "else:\n",
        "\tif n == 0:\n",
        "\t\tif m == 0:\n",
        "\t\t\td = 6\n",
        "\t\t\tcount = 24\n",
        "\t\telif m == 1:\n",
        "\t\t\td = 5\n",
        "\t\t\tcount  =  10\n",
        "\t\telif m == 2:\n",
        "\t\t\td = 4\n",
        "\t\t\tcount = 2\n",
        "\t\telif m == 3:\n",
        "\t\t\td = 5\n",
        "\t\t\tcount = 10\n",
        "\t\telse:\n",
        "\t\t\td = m + 2\n",
        "\t\t\tcount = ((m + 1) * m)\n",
        "\telif n == 1:\n",
        "\t\tif m == 1:\n",
        "\t\t\td = 4\n",
        "\t\t\tcount = 4\n",
        "\t\telif m == 2:\n",
        "\t\t\td = 5\n",
        "\t\t\tcount = 8\n",
        "\t\telse:\n",
        "\t\t\td = m + 1\n",
        "\t\t\tcount = m - 1\n",
        "\telse:\n",
        "\t\tif m - n == 0:\n",
        "\t\t\td = n + m\n",
        "\t\t\tcount = fact(n + m) // (fact(n) * fact(m)) - 4\n",
        "\t\telif m - n == 1:\n",
        "\t\t\td = n + m\n",
        "\t\t\tcount = fact(n + m) // (fact(n) * fact(m)) - 3\n",
        "\t\telse:\n",
        "\t\t\td = n + m\n",
        "\t\t\tcount  = fact(n + m) // (fact(n) * fact(m)) - 2\n",
        "\n",
        "if p == 0:\n",
        "\tprint(d, count)\n",
        "else:\n",
        "\tprint(d, int(count % p))"
      ],
      "metadata": {
        "id": "flRU_PucRt_l"
      },
      "execution_count": null,
      "outputs": []
    },
    {
      "cell_type": "code",
      "source": [
        "matrix = []\n",
        "\n",
        "\n",
        "for i in range(100):\n",
        "  matrix.append([0 for j in range(100)])\n",
        "\n",
        "N = int(input())\n",
        "for k in range(N):\n",
        "  x, y = map(int, input().split())\n",
        "  for i in range(x, x + 10):\n",
        "    for j in range(y, y + 10):\n",
        "      matrix[i][j] = 1\n",
        "\n",
        "myeonjuck = 0\n",
        "for i in range(100):\n",
        "  for j in range(100):\n",
        "    if matrix[i][j] == 1:\n",
        "      myeonjuck += 1\n",
        "print(myeonjuck)"
      ],
      "metadata": {
        "colab": {
          "base_uri": "https://localhost:8080/"
        },
        "id": "BvG5e8Z1B83z",
        "outputId": "a9189e60-93d9-428c-9104-3c3fac3b05a2"
      },
      "execution_count": null,
      "outputs": [
        {
          "output_type": "stream",
          "name": "stdout",
          "text": [
            "3\n",
            "3 7\n",
            "15 7\n",
            "5 2\n",
            "260\n"
          ]
        }
      ]
    },
    {
      "cell_type": "code",
      "execution_count": null,
      "metadata": {
        "colab": {
          "base_uri": "https://localhost:8080/"
        },
        "id": "rfTXy4CIVEZ1",
        "outputId": "571fc6f2-fb30-4af8-9a02-1dbb939c61a0"
      },
      "outputs": [
        {
          "output_type": "stream",
          "name": "stdout",
          "text": [
            "2\n",
            "AMOLED\n",
            "AMOLED\n",
            "AMOLED\n",
            "AMOLED\n",
            "AMOLED\n"
          ]
        }
      ],
      "source": [
        "a = int(input())\n",
        "b = [input() for i in range(a)]\n",
        "\n",
        "for i in range(a):\n",
        "  if i+1 == a:\n",
        "    print(b[i])\n",
        "  else:\n",
        "    print(f'{b[i]}\\nAMOLED')"
      ]
    },
    {
      "cell_type": "code",
      "source": [
        "a = int(input())\n",
        "\n",
        "b = sorted([input() for _ in range(a)])\n",
        "output_count = len(b) // a\n",
        "\n",
        "for i in range(a):\n",
        "    print(b[i])"
      ],
      "metadata": {
        "colab": {
          "base_uri": "https://localhost:8080/"
        },
        "id": "rxPP34VHVYlw",
        "outputId": "889c7718-69cd-48ce-ca34-751932dfa0e1"
      },
      "execution_count": null,
      "outputs": [
        {
          "output_type": "stream",
          "name": "stdout",
          "text": [
            "2\n",
            "def\n",
            "avc\n",
            "avc\n",
            "def\n"
          ]
        }
      ]
    },
    {
      "cell_type": "code",
      "source": [
        "a = [input() for i in range(int(input()))]\n",
        "b = 0\n",
        "for i in a:\n",
        "  if len(i) <= 3 or ('tap' in i or 'xocure' in i):\n",
        "    b+=1\n",
        "    print(i)\n",
        "\n",
        "print(\"safe\" if b <= 3 else (\"warning\" if b <= 6 else \"danger\"))"
      ],
      "metadata": {
        "colab": {
          "base_uri": "https://localhost:8080/"
        },
        "id": "Q_2mmbLven7z",
        "outputId": "c74cc235-14f2-49a4-f5b4-2ad8e792635d"
      },
      "execution_count": null,
      "outputs": [
        {
          "output_type": "stream",
          "name": "stdout",
          "text": [
            "8\n",
            "windows tap\n",
            "hi\n",
            "microsoft office 2013\n",
            "xocure web player\n",
            "xecure safe\n",
            "goclean\n",
            "alyac\n",
            "von\n",
            "windows tap\n",
            "hi\n",
            "xocure web player\n",
            "von\n",
            "warning\n"
          ]
        }
      ]
    },
    {
      "cell_type": "code",
      "source": [
        "w,h,n = map(int, input().split())\n",
        "\n",
        "matr = [input() for i in range(n)]\n",
        "\n",
        "new_m = ''\n",
        "for i in matr:\n",
        "  for j in range(h):\n",
        "    for k in range(len(i)):\n",
        "      a = i[k]*w\n",
        "      new_m+=a\n",
        "    new_m+='\\n'\n",
        "\n",
        "print(new_m)"
      ],
      "metadata": {
        "colab": {
          "base_uri": "https://localhost:8080/"
        },
        "id": "iQZTjBwZox0Y",
        "outputId": "13c55bee-90c3-4601-c6b7-91c43ebe02eb"
      },
      "execution_count": null,
      "outputs": [
        {
          "output_type": "stream",
          "name": "stdout",
          "text": [
            "3 3 5\n",
            "**_**_**_**_**\n",
            "_**_**_**_**_**\n",
            "__**_**_**_**_**\n",
            "___**_**_**_**_**\n",
            "____**_**_**_**_**\n",
            "******___******___******___******___******\n",
            "******___******___******___******___******\n",
            "******___******___******___******___******\n",
            "___******___******___******___******___******\n",
            "___******___******___******___******___******\n",
            "___******___******___******___******___******\n",
            "______******___******___******___******___******\n",
            "______******___******___******___******___******\n",
            "______******___******___******___******___******\n",
            "_________******___******___******___******___******\n",
            "_________******___******___******___******___******\n",
            "_________******___******___******___******___******\n",
            "____________******___******___******___******___******\n",
            "____________******___******___******___******___******\n",
            "____________******___******___******___******___******\n",
            "\n"
          ]
        }
      ]
    },
    {
      "cell_type": "code",
      "source": [
        "print(*(input().split(',')))"
      ],
      "metadata": {
        "colab": {
          "base_uri": "https://localhost:8080/"
        },
        "id": "NClL15qQoxur",
        "outputId": "bd66e0dc-371f-437f-b1d4-ed4b81d89ebd"
      },
      "execution_count": null,
      "outputs": [
        {
          "output_type": "stream",
          "name": "stdout",
          "text": [
            "4,52,600,-5,0\n",
            "4 52 600 -5 0\n"
          ]
        }
      ]
    },
    {
      "cell_type": "code",
      "source": [
        "a = input().split(';')\n",
        "\n",
        "for i in a:\n",
        "    b = i.split(',')\n",
        "    for j in b:\n",
        "        c = j.split()\n",
        "        print(f'{c[0]}',end=' ')\n",
        "    print()"
      ],
      "metadata": {
        "id": "IqP_ACDGoxP0"
      },
      "execution_count": null,
      "outputs": []
    },
    {
      "cell_type": "code",
      "source": [
        "a, b = map(int, input().split())\n",
        "\n",
        "print(\"tie\" if a == b else \"win\" if (a == 0 and b == 1) or (a == 1 and b == 2) or (a == 2 and b == 0) else \"lose\")\n"
      ],
      "metadata": {
        "id": "B2NaRbwXthax"
      },
      "execution_count": null,
      "outputs": []
    },
    {
      "cell_type": "code",
      "source": [
        "a,b = map(int, input().split())\n",
        "c = a // b\n",
        "\n",
        "if c > 9999:\n",
        "  print('번호 초과 오류')\n",
        "else:\n",
        "  for i in range(1,c+1):\n",
        "    print(f\"F-{i:04}\")\n"
      ],
      "metadata": {
        "colab": {
          "base_uri": "https://localhost:8080/"
        },
        "id": "ONikSgVPthYk",
        "outputId": "08626dbe-5acb-4b1a-b388-c1de757a4a36"
      },
      "execution_count": null,
      "outputs": [
        {
          "output_type": "stream",
          "name": "stdout",
          "text": [
            "19 6\n",
            "f-0001\n",
            "f-0002\n",
            "f-0003\n"
          ]
        }
      ]
    },
    {
      "cell_type": "code",
      "source": [
        "a,b,c = map(int, input().split())\n",
        "\n",
        "for i in range(c, 0, -1):\n",
        "  if a % i == 0 and b % i == 0 and c % i == 0 :\n",
        "    print(i)\n",
        "    break"
      ],
      "metadata": {
        "colab": {
          "base_uri": "https://localhost:8080/"
        },
        "id": "HgQ74gnCthS6",
        "outputId": "12012535-d02b-4a3a-cefe-88343a66c577"
      },
      "execution_count": null,
      "outputs": [
        {
          "output_type": "stream",
          "name": "stdout",
          "text": [
            "10 20 30\n",
            "10\n"
          ]
        }
      ]
    },
    {
      "cell_type": "code",
      "source": [
        "a = sum([ int(i) for i in input() ])\n",
        "print('Bad' if a % 7 == 4 else 'Good')"
      ],
      "metadata": {
        "colab": {
          "base_uri": "https://localhost:8080/"
        },
        "id": "3190bW5kthQK",
        "outputId": "3341d14c-cc95-41df-f1d3-699d1cf7584a"
      },
      "execution_count": null,
      "outputs": [
        {
          "output_type": "stream",
          "name": "stdout",
          "text": [
            "1234567890\n",
            "Good\n"
          ]
        }
      ]
    },
    {
      "cell_type": "code",
      "source": [
        "a = int(input())\n",
        "b = [int(input()) for i in range(a)]\n",
        "c = sorted(b, reverse=True)\n",
        "\n",
        "for i in b:\n",
        "  print(c.index(i)+1)"
      ],
      "metadata": {
        "colab": {
          "base_uri": "https://localhost:8080/"
        },
        "id": "fG10-ZhVthNA",
        "outputId": "abed7b07-f502-4141-b691-47eff32a4e20"
      },
      "execution_count": null,
      "outputs": [
        {
          "output_type": "stream",
          "name": "stdout",
          "text": [
            "3\n",
            "100\n",
            "90\n",
            "90\n",
            "1\n",
            "2\n",
            "2\n"
          ]
        }
      ]
    },
    {
      "cell_type": "code",
      "source": [
        "a,b = map(int, input().split())\n",
        "\n",
        "print(f'+{\"-\"*(a-2)}+')\n",
        "for i in range(b-2):\n",
        "  print(f\"|{' '*(a-2)}|\")\n",
        "print(f'+{\"-\"*(a-2)}+')"
      ],
      "metadata": {
        "colab": {
          "base_uri": "https://localhost:8080/"
        },
        "id": "jnXBs5i8IJDg",
        "outputId": "c464571b-38d1-4f9c-87bf-10e225592c9a"
      },
      "execution_count": null,
      "outputs": [
        {
          "output_type": "stream",
          "name": "stdout",
          "text": [
            "3 3\n",
            "+-+\n",
            "| |\n",
            "+-+\n"
          ]
        }
      ]
    },
    {
      "cell_type": "code",
      "source": [
        "mat = [list(map(int, input().split())) for i in range(5)]\n",
        "\n",
        "dir = [(-1, -1), (-1, 0), (-1, 1), (0, -1), (0, 1), (1, -1), (1, 0), (1, 1)]\n",
        "\n",
        "cnt = []\n",
        "\n",
        "for x in range(5):\n",
        "  for y in range(5):\n",
        "    c = []\n",
        "    c.append(mat[x][y])\n",
        "    for dx, dy in dir:\n",
        "      nx, ny = x + dx, y + dy\n",
        "      if 0 <= nx < 5 and 0 <= ny < 5:\n",
        "        c.append(mat[nx][ny])\n",
        "    cnt.append(sum(c))\n",
        "\n",
        "print(max(cnt))"
      ],
      "metadata": {
        "colab": {
          "base_uri": "https://localhost:8080/"
        },
        "id": "tgl2g9r_KELx",
        "outputId": "ec1b00be-67ad-49ff-f228-f4f86016f322"
      },
      "execution_count": null,
      "outputs": [
        {
          "output_type": "stream",
          "name": "stdout",
          "text": [
            "1 1 1 1 1 \n",
            "1 1 2 2 2 \n",
            "1 1 2 2 2\n",
            "1 1 2 2 2\n",
            "1 1 1 1 1\n",
            "18\n",
            "[4, 7, 8, 9, 6, 6, 11, 13, 15, 10, 6, 12, 15, 18, 12, 6, 11, 13, 15, 10, 4, 7, 8, 9, 6]\n"
          ]
        }
      ]
    },
    {
      "cell_type": "code",
      "source": [
        "n = int(input())\n",
        "\n",
        "cnt = 0\n",
        "for a in range(1, n):\n",
        "    for b in range(a, n):\n",
        "        c = n - (a + b)\n",
        "        if c < b:\n",
        "            break\n",
        "        if b + a > c:\n",
        "            print(f\"{a} {b} {c}\")\n",
        "            cnt += 1\n",
        "if cnt == 0:\n",
        "    print(\"-1\")"
      ],
      "metadata": {
        "colab": {
          "base_uri": "https://localhost:8080/"
        },
        "id": "5XXnnXXDLr7p",
        "outputId": "96b3de8a-1001-493d-d13f-def616279613"
      },
      "execution_count": null,
      "outputs": [
        {
          "output_type": "stream",
          "name": "stdout",
          "text": [
            "9\n",
            "1 4 4\n",
            "2 3 4\n",
            "3 3 3\n"
          ]
        }
      ]
    },
    {
      "cell_type": "code",
      "source": [
        "for s in range(10):\n",
        "    for o in range(10):\n",
        "        for t in range(10):\n",
        "            if len(set([s, o, t])) != 3:\n",
        "                continue\n",
        "\n",
        "            so = 10 * s + o\n",
        "            too = 100 * t + 10 * o + o\n",
        "\n",
        "            if so + so == too:\n",
        "                print(f\"{so}+{so}={too}\")\n",
        "\n"
      ],
      "metadata": {
        "colab": {
          "base_uri": "https://localhost:8080/"
        },
        "id": "m7C-WGl-Lr48",
        "outputId": "b27d07c7-1b19-466f-d191-72804d5af545"
      },
      "execution_count": null,
      "outputs": [
        {
          "output_type": "stream",
          "name": "stdout",
          "text": [
            "50 + 50 = 100\n"
          ]
        }
      ]
    },
    {
      "cell_type": "code",
      "source": [
        "a = list(map(int, input().split()))\n",
        "print(*a[::-1])"
      ],
      "metadata": {
        "colab": {
          "base_uri": "https://localhost:8080/"
        },
        "id": "-oWXGRozlJ8v",
        "outputId": "95b6eb95-d6d2-4895-9583-6cedb8b04413"
      },
      "execution_count": null,
      "outputs": [
        {
          "output_type": "stream",
          "name": "stdout",
          "text": [
            "5 7 2\n",
            "2 7 5\n"
          ]
        }
      ]
    },
    {
      "cell_type": "code",
      "source": [
        "b = list(map(int, input().split()))\n",
        "a = ''.join(map(str, b))\n",
        "print( f'{a} {a}' if int(b[1])% 2 == 0 else a)"
      ],
      "metadata": {
        "colab": {
          "base_uri": "https://localhost:8080/"
        },
        "id": "z740NuNxlJ56",
        "outputId": "85e67d0d-f22e-42d7-f544-442466e91687"
      },
      "execution_count": null,
      "outputs": [
        {
          "output_type": "stream",
          "name": "stdout",
          "text": [
            "2 2 14\n",
            "2214 2214\n"
          ]
        }
      ]
    },
    {
      "cell_type": "code",
      "source": [
        "a = int(input())\n",
        "\n",
        "hout = a // 3600\n",
        "remaining_after_hours = a % 3600\n",
        "mit = remaining_after_hours // 60\n",
        "sec = remaining_after_hours % 60\n",
        "\n",
        "print(hout, mit, sec)"
      ],
      "metadata": {
        "colab": {
          "base_uri": "https://localhost:8080/"
        },
        "id": "GrjP19sllJ0k",
        "outputId": "0e5bf274-abfc-4e34-9e7b-57ab4c8c4f99"
      },
      "execution_count": null,
      "outputs": [
        {
          "output_type": "stream",
          "name": "stdout",
          "text": [
            "3602\n",
            "1 0 2\n"
          ]
        }
      ]
    },
    {
      "cell_type": "code",
      "source": [
        "a = input()\n",
        "b = '20'+a[:2] if int(a[7]) > 2 else '19'+a[:2]\n",
        "c =  'M' if int(a[7]) % 2 != 0 else 'F'\n",
        "print(2013 - int(b) ,c)"
      ],
      "metadata": {
        "colab": {
          "base_uri": "https://localhost:8080/"
        },
        "id": "b_w_YIERlJxZ",
        "outputId": "f40bd1f7-ca7b-4a6c-f37d-ddb8943c621b"
      },
      "execution_count": null,
      "outputs": [
        {
          "output_type": "stream",
          "name": "stdout",
          "text": [
            "020111 4421234 \n",
            "11 F\n"
          ]
        }
      ]
    },
    {
      "cell_type": "code",
      "source": [
        "a = input()\n",
        "b = a.count('3') + a.count('6') + a.count('9')\n",
        "print(a if b ==0 else 'K' if b==1 else 'KK' if b==2 else 'KKK')"
      ],
      "metadata": {
        "colab": {
          "base_uri": "https://localhost:8080/"
        },
        "id": "m1BPEHNHlJs6",
        "outputId": "19673055-32cd-4a45-e126-0fe2de3976c0"
      },
      "execution_count": null,
      "outputs": [
        {
          "output_type": "stream",
          "name": "stdout",
          "text": [
            "93\n",
            "KK\n"
          ]
        }
      ]
    },
    {
      "cell_type": "code",
      "source": [
        "a = list(map(int, input().split()))\n",
        "b = f'{sum(a)/len(a):.01f}'\n",
        "c,d=0,0\n",
        "for i in a:\n",
        "  if i >= float(b):\n",
        "    c+=1\n",
        "  else:\n",
        "    d+=1\n",
        "\n",
        "print(f'{b}\\n{c} {d}')"
      ],
      "metadata": {
        "colab": {
          "base_uri": "https://localhost:8080/"
        },
        "id": "pbuNEnMYlJp-",
        "outputId": "455d841d-4167-4bc4-bad0-b1ff8021c2e9"
      },
      "execution_count": null,
      "outputs": [
        {
          "output_type": "stream",
          "name": "stdout",
          "text": [
            "0 0 0 0 0 0 0 0 0 0\n",
            "0.0\n",
            "10 0\n"
          ]
        }
      ]
    },
    {
      "cell_type": "code",
      "source": [
        "z = input()\n",
        "a = list(map(int, input().split()))\n",
        "b = sorted(a, reverse=True)\n",
        "\n",
        "for i in a:\n",
        "  print(i,b.index(i)+1)"
      ],
      "metadata": {
        "colab": {
          "base_uri": "https://localhost:8080/"
        },
        "id": "AXe2863AlJlQ",
        "outputId": "c80a4ecb-646d-40e9-84c7-1c56cefa3647"
      },
      "execution_count": null,
      "outputs": [
        {
          "output_type": "stream",
          "name": "stdout",
          "text": [
            "97 65 84 84 91\n",
            "97 65 84 84 91\n",
            "97 1\n",
            "65 5\n",
            "84 3\n",
            "84 3\n",
            "91 2\n"
          ]
        }
      ]
    },
    {
      "cell_type": "code",
      "source": [
        "a = input()\n",
        "print(*sorted(list(map(int, input().split())), reverse=True))"
      ],
      "metadata": {
        "colab": {
          "base_uri": "https://localhost:8080/"
        },
        "id": "hZLSv0EelJbw",
        "outputId": "2a9950d9-5e3b-4311-c637-cfc627344dab"
      },
      "execution_count": null,
      "outputs": [
        {
          "output_type": "stream",
          "name": "stdout",
          "text": [
            "7\n",
            "51 44 81 1 9 12 25\n",
            "81 51 44 25 12 9 1\n"
          ]
        }
      ]
    },
    {
      "cell_type": "code",
      "source": [
        "#1711\n",
        "x1, y1 = map(int, input().split())\n",
        "x2, y2 = map(int, input().split())\n",
        "x3, y3 = map(int, input().split())\n",
        "\n",
        "max_x = max(x1, x2)\n",
        "max_y = max(y1, y2)\n",
        "\n",
        "matrix = [[0] * (max_y + 1) for _ in range(max_x + 1)]\n",
        "\n",
        "# 사각형 그리기\n",
        "for x in range(min(x1, x2), max(x1, x2) + 1):\n",
        "    for y in range(min(y1, y2), max(y1, y2) + 1):\n",
        "        matrix[x][y] = 1\n",
        "\n",
        "print('비충돌' if x3 > max_x or y3 > max_y else '충돌' if matrix[x3][y3] == 1  else '비충돌')"
      ],
      "metadata": {
        "colab": {
          "base_uri": "https://localhost:8080/"
        },
        "id": "xravmUrwlJZb",
        "outputId": "374f8a95-c309-4631-aed8-78d19bb84f31"
      },
      "execution_count": null,
      "outputs": [
        {
          "output_type": "stream",
          "name": "stdout",
          "text": [
            "10 3\n",
            "15 8\n",
            "1 1\n",
            "비충돌\n"
          ]
        }
      ]
    },
    {
      "cell_type": "code",
      "source": [
        "a,b,c = map(int, input().split())\n",
        "print(*[i for i in range(a,c+1,b-a)])"
      ],
      "metadata": {
        "colab": {
          "base_uri": "https://localhost:8080/"
        },
        "id": "Jhjx36bQlJXF",
        "outputId": "7c90db3d-fce6-419c-8eb3-1c2c879c194c"
      },
      "execution_count": null,
      "outputs": [
        {
          "output_type": "stream",
          "name": "stdout",
          "text": [
            "1 3 40\n",
            "1 3 5 7 9 11 13 15 17 19 21 23 25 27 29 31 33 35 37 39\n"
          ]
        }
      ]
    },
    {
      "cell_type": "code",
      "source": [
        "a, b = map(int, input().split())\n",
        "\n",
        "x,y = 0,0\n",
        "for i in range(a,b+1):\n",
        "  if i % 3 == 0 and i % 4 == 0:\n",
        "    pass\n",
        "  elif i % 3 == 0:\n",
        "    x+=i\n",
        "  elif i % 4 == 0:\n",
        "    y+=i\n",
        "\n",
        "print(x-y)"
      ],
      "metadata": {
        "id": "74S9qeHyBft5",
        "colab": {
          "base_uri": "https://localhost:8080/"
        },
        "outputId": "20e61015-3685-4b3a-8f37-ede3c88ab84f"
      },
      "execution_count": null,
      "outputs": [
        {
          "output_type": "stream",
          "name": "stdout",
          "text": [
            "3 16\n",
            "5\n"
          ]
        }
      ]
    },
    {
      "cell_type": "code",
      "source": [
        "print(input()[::-1])"
      ],
      "metadata": {
        "id": "78Q_ZgncBfrP",
        "colab": {
          "base_uri": "https://localhost:8080/"
        },
        "outputId": "4a1ab4f3-5e2a-4cd3-da17-f9963b48acbb"
      },
      "execution_count": null,
      "outputs": [
        {
          "output_type": "stream",
          "name": "stdout",
          "text": [
            "123456\n",
            "654321\n"
          ]
        }
      ]
    },
    {
      "cell_type": "code",
      "source": [
        "from math import gcd\n",
        "\n",
        "a, b = map(int, input().split())\n",
        "g = gcd(a, b)\n",
        "print(a // g, b // g)"
      ],
      "metadata": {
        "id": "n0RrhiWxBfom",
        "colab": {
          "base_uri": "https://localhost:8080/"
        },
        "outputId": "1d6f0017-e2a5-42fd-dfcf-fae7af4270db"
      },
      "execution_count": null,
      "outputs": [
        {
          "output_type": "stream",
          "name": "stdout",
          "text": [
            "2802 9628\n",
            "1401 4814\n"
          ]
        }
      ]
    },
    {
      "cell_type": "code",
      "source": [
        "a, b = map(int, input().split())\n",
        "\n",
        "c = 0\n",
        "for i in range(1, a):\n",
        "  if i % 2 == 0:\n",
        "    c+=30\n",
        "  else:\n",
        "    c+=31\n",
        "\n",
        "\n",
        "print(306-c+b)"
      ],
      "metadata": {
        "id": "AC5DrZ0qBfmA",
        "colab": {
          "base_uri": "https://localhost:8080/"
        },
        "outputId": "f52c69a6-fa84-4587-956c-f7ee7605fcb7"
      },
      "execution_count": null,
      "outputs": [
        {
          "output_type": "stream",
          "name": "stdout",
          "text": [
            "10 29\n",
            "60\n"
          ]
        }
      ]
    },
    {
      "cell_type": "code",
      "source": [
        "a, b = map(int, input().split())\n",
        "\n",
        "c = 0\n",
        "for i in range(1, a):\n",
        "    if i % 2 == 0:\n",
        "        c += 30\n",
        "    else:\n",
        "        c += 31\n",
        "\n",
        "print(305 - (c + (b - 1))-1)\n"
      ],
      "metadata": {
        "id": "QNYnxTtJBfi-",
        "colab": {
          "base_uri": "https://localhost:8080/"
        },
        "outputId": "cc6b0579-2039-452c-e226-00071f450e9b"
      },
      "execution_count": null,
      "outputs": [
        {
          "output_type": "stream",
          "name": "stdout",
          "text": [
            "10 29\n",
            "1\n"
          ]
        }
      ]
    },
    {
      "cell_type": "code",
      "source": [],
      "metadata": {
        "id": "GNKKotquBfcY",
        "colab": {
          "base_uri": "https://localhost:8080/"
        },
        "outputId": "111b3bb4-4c74-40cf-86bb-e40223dedcd3"
      },
      "execution_count": null,
      "outputs": [
        {
          "output_type": "execute_result",
          "data": {
            "text/plain": [
              "305"
            ]
          },
          "metadata": {},
          "execution_count": 68
        }
      ]
    },
    {
      "cell_type": "code",
      "source": [
        "a = input()\n",
        "C = int(a[a.find('C')+1:a.find('H')]) if a[a.find('C')+1] != 'H' else 1\n",
        "H = int(a[a.find('H') + 1:]) if a.find('H') != -1 and a[a.find('H') + 1:].isdigit() else 1\n",
        "print(C*12+H*1)\n"
      ],
      "metadata": {
        "colab": {
          "base_uri": "https://localhost:8080/"
        },
        "id": "JIt-9mAsCrWQ",
        "outputId": "cf4b0d36-ad71-4cb2-b4e4-7321c0b79093"
      },
      "execution_count": null,
      "outputs": [
        {
          "output_type": "stream",
          "name": "stdout",
          "text": [
            "C12H12\n",
            "156\n"
          ]
        }
      ]
    },
    {
      "cell_type": "code",
      "source": [
        "a = int(input())\n",
        "b = [list(map(int, input().split())) for i in range(a)]\n",
        "\n",
        "c = True\n",
        "for i in range(a):\n",
        "  if min(b[i][0:3]) != b[i][-1]:\n",
        "    print(i+1, min(b[i][0:3]))\n",
        "    c = False\n",
        "    break\n",
        "\n",
        "if c:\n",
        "  print(-1)"
      ],
      "metadata": {
        "colab": {
          "base_uri": "https://localhost:8080/"
        },
        "id": "mzbLqaPiCrRP",
        "outputId": "48189092-62d3-49a8-bb8a-563a61f15779"
      },
      "execution_count": null,
      "outputs": [
        {
          "output_type": "stream",
          "name": "stdout",
          "text": [
            "3\n",
            "3 5 8 3\n",
            "3 9 8 8\n",
            "8 3 9 3\n",
            "2 3\n"
          ]
        }
      ]
    },
    {
      "cell_type": "code",
      "source": [
        "import math\n",
        "z = input()\n",
        "x1, y1 = map(int, input().split())\n",
        "\n",
        "x2, y2 = map(int, input().split())\n",
        "\n",
        "x3, y3 = map(int, input().split())\n",
        "\n",
        "distance1 = math.sqrt((x2 - x1)**2 + (y2 - y1)**2)\n",
        "distance2 = math.sqrt((x3 - x2)**2 + (y3 - y2)**2)\n",
        "print(f\"{distance1+distance2:.2f}\")\n",
        "\n"
      ],
      "metadata": {
        "id": "xT17j6imCrOx"
      },
      "execution_count": null,
      "outputs": []
    },
    {
      "cell_type": "code",
      "source": [
        "import math\n",
        "a = int(input())\n",
        "b = [list(map(int, input().split())) for _ in range(a)]\n",
        "\n",
        "distance = 0\n",
        "for i in range(len(b)-1):\n",
        "  distance += math.sqrt((b[i][0] - b[i+1][0])**2 + (b[i][1] - b[i+1][1])**2)\n",
        "\n",
        "print(f'{distance:.02f}')\n"
      ],
      "metadata": {
        "colab": {
          "base_uri": "https://localhost:8080/"
        },
        "id": "_hv3FSSJCrMG",
        "outputId": "a8350db7-e79d-4c05-bf26-e2930aaf73a3"
      },
      "execution_count": null,
      "outputs": [
        {
          "output_type": "stream",
          "name": "stdout",
          "text": [
            "3\n",
            "0 0\n",
            "3 4\n",
            "6 0\n",
            "10.00\n"
          ]
        }
      ]
    },
    {
      "cell_type": "code",
      "source": [
        "print('special characters')\n",
        "print('[\\\\n,\\\\\",\\\\\\\\] is very important.')"
      ],
      "metadata": {
        "colab": {
          "base_uri": "https://localhost:8080/"
        },
        "id": "KFADt7IHCrJY",
        "outputId": "27c087e3-4f32-4404-d78c-bbeca0638aeb"
      },
      "execution_count": null,
      "outputs": [
        {
          "output_type": "stream",
          "name": "stdout",
          "text": [
            "special characters\n",
            "[\\n,\\\",\\\\] is very important.\n"
          ]
        }
      ]
    },
    {
      "cell_type": "code",
      "source": [
        "a, b = map(int, input().split())\n",
        "print(f'{a/b:.1f}\\n{a//b}\\n{a**b}')"
      ],
      "metadata": {
        "colab": {
          "base_uri": "https://localhost:8080/"
        },
        "id": "g4WzpSzsCrGu",
        "outputId": "db571bc4-ec80-464c-e98d-0e08513ff83b"
      },
      "execution_count": null,
      "outputs": [
        {
          "output_type": "stream",
          "name": "stdout",
          "text": [
            "4 3\n",
            "1.3\n",
            "1\n",
            "64\n"
          ]
        }
      ]
    },
    {
      "cell_type": "code",
      "source": [
        "print('IOI is the International Olympiad in Informatics.' if input() == 'IOI' else 'I don\\'t care.')"
      ],
      "metadata": {
        "colab": {
          "base_uri": "https://localhost:8080/"
        },
        "id": "Msts587iCrEC",
        "outputId": "a928b930-947a-46b2-885f-7b4767b334d3"
      },
      "execution_count": null,
      "outputs": [
        {
          "output_type": "stream",
          "name": "stdout",
          "text": [
            "IOI\n",
            "IOI is the International Olympiad in Informatics.\n"
          ]
        }
      ]
    },
    {
      "cell_type": "code",
      "source": [
        "print('welcome! ' +  input())"
      ],
      "metadata": {
        "colab": {
          "base_uri": "https://localhost:8080/"
        },
        "id": "kOy9GMKmCqxg",
        "outputId": "1da01d55-496e-4e1e-f896-467029cd26da"
      },
      "execution_count": null,
      "outputs": [
        {
          "output_type": "stream",
          "name": "stdout",
          "text": [
            "anaki\n",
            "welcome! anaki\n"
          ]
        }
      ]
    },
    {
      "cell_type": "code",
      "source": [
        "a = int(input())\n",
        "\n",
        "date = a// 86400\n",
        "hout = (a-86400*date) // 3600\n",
        "remaining_after_hours = a % 3600\n",
        "mit = remaining_after_hours // 60\n",
        "sec = remaining_after_hours % 60\n",
        "\n",
        "print(date ,hout, mit, sec)"
      ],
      "metadata": {
        "colab": {
          "base_uri": "https://localhost:8080/"
        },
        "id": "4GZAQUtQN1b2",
        "outputId": "dfe50580-33b7-4a82-d3ca-e71705ab3094"
      },
      "execution_count": null,
      "outputs": [
        {
          "output_type": "stream",
          "name": "stdout",
          "text": [
            "\t 302090\n",
            "3 11 54 50\n"
          ]
        }
      ]
    },
    {
      "cell_type": "code",
      "source": [
        "print(len(input()))"
      ],
      "metadata": {
        "colab": {
          "base_uri": "https://localhost:8080/"
        },
        "id": "mjpZA9OfN1Zt",
        "outputId": "a7373f49-dd45-4388-cad2-0b319a01e0e8"
      },
      "execution_count": null,
      "outputs": [
        {
          "output_type": "stream",
          "name": "stdout",
          "text": [
            "black sheep wall\n",
            "16\n"
          ]
        }
      ]
    },
    {
      "cell_type": "code",
      "source": [
        "print(input()[::-1])"
      ],
      "metadata": {
        "colab": {
          "base_uri": "https://localhost:8080/"
        },
        "id": "l7yUqfQeN1Xf",
        "outputId": "6471f225-6e02-44f3-a043-ba9c8b7e6a11"
      },
      "execution_count": null,
      "outputs": [
        {
          "output_type": "stream",
          "name": "stdout",
          "text": [
            "KAIST\n",
            "TSIAK\n"
          ]
        }
      ]
    },
    {
      "cell_type": "code",
      "source": [
        "b = [input() for i in range(int(input()))]\n",
        "for i in b:\n",
        "  print(i[::-1])"
      ],
      "metadata": {
        "colab": {
          "base_uri": "https://localhost:8080/"
        },
        "id": "oAVSKQayN1TL",
        "outputId": "868ecc24-9b8a-4c14-a2b5-edf63da686d2"
      },
      "execution_count": null,
      "outputs": [
        {
          "output_type": "stream",
          "name": "stdout",
          "text": [
            "3\n",
            "taehyeon\n",
            "hyeonmin\n",
            "sera\n",
            "noeyheat\n",
            "nimnoeyh\n",
            "ares\n"
          ]
        }
      ]
    },
    {
      "cell_type": "code",
      "source": [
        "a = list(map(int, input().split()))\n",
        "print(min(a), max(a))"
      ],
      "metadata": {
        "colab": {
          "base_uri": "https://localhost:8080/"
        },
        "id": "nT403ycgN1Q4",
        "outputId": "cd47d6c6-b745-4ac6-9eea-8a70f4d57d61"
      },
      "execution_count": null,
      "outputs": [
        {
          "output_type": "stream",
          "name": "stdout",
          "text": [
            "9999999999999999999999999 9999999999999999999999998\n",
            "9999999999999999999999998 9999999999999999999999999\n"
          ]
        }
      ]
    },
    {
      "cell_type": "code",
      "source": [
        "a =  {\n",
        "    \"dib\": \"Paint.Picture\",\n",
        "    \"doc\": \"Word.Document.8\",\n",
        "    \"docx\": \"Word.Document.12\",\n",
        "    \"htm\": \"htmfile\",\n",
        "    \"html\": \"htmlfile\",\n",
        "    \"hwp\": \"Hwp.Document.96\",\n",
        "    \"hwpx\": \"Hwp.Document.hwpx.96\",\n",
        "    \"hwt\": \"Hwp.Document.hwt.96\",\n",
        "    \"jpe\": \"jpegfile\",\n",
        "    \"jpeg\": \"jpegfile\",\n",
        "    \"jpg\": \"jpegfile\",\n",
        "    \"ppt\": \"PowerPoint.Show.8\",\n",
        "    \"pptx\": \"PowerPoint.Show.12\",\n",
        "    \"pptxml\": \"powerpointxmlfile\"\n",
        "}\n",
        "\n",
        "print(a[input().split('.')[-1]])"
      ],
      "metadata": {
        "colab": {
          "base_uri": "https://localhost:8080/"
        },
        "id": "Pb9lPvW7N1Np",
        "outputId": "ad270fb7-5e9d-4f8d-87b4-822a41f10a70"
      },
      "execution_count": null,
      "outputs": [
        {
          "output_type": "stream",
          "name": "stdout",
          "text": [
            "codeup.pptx\n",
            "PowerPoint.Show.12\n"
          ]
        }
      ]
    },
    {
      "cell_type": "code",
      "source": [
        "a = input()\n",
        "b = {a[i]: i for i in range(len(a))}\n",
        "c = input().split()\n",
        "for i in c:\n",
        "  for j in range(len(i)):\n",
        "    print(f'{b[i[j]]}', end = '')\n",
        "  print('', end = ' ')\n"
      ],
      "metadata": {
        "colab": {
          "base_uri": "https://localhost:8080/"
        },
        "id": "r1FBBnaGQPQh",
        "outputId": "31874422-d74e-409f-c997-4e96c4a77d2f"
      },
      "execution_count": null,
      "outputs": [
        {
          "output_type": "stream",
          "name": "stdout",
          "text": [
            "lohcgpdabk\n",
            "lol abk abk\n",
            "010 789 789 "
          ]
        }
      ]
    },
    {
      "cell_type": "code",
      "source": [
        "a = sorted(\n",
        "    [list(map(int, input().split())) for _ in range(int(input()))],\n",
        "    key=lambda x: x[0]\n",
        ")\n",
        "for i in a:\n",
        "  print(*i)"
      ],
      "metadata": {
        "colab": {
          "base_uri": "https://localhost:8080/"
        },
        "id": "MQ6Qp6UdQPOY",
        "outputId": "eca80b30-fa70-4015-ed93-287a5c1a5200"
      },
      "execution_count": null,
      "outputs": [
        {
          "output_type": "stream",
          "name": "stdout",
          "text": [
            "3\n",
            "2 10\n",
            "3 20\n",
            "1 30\n",
            "1 30\n",
            "2 10\n",
            "3 20\n"
          ]
        }
      ]
    },
    {
      "cell_type": "code",
      "source": [
        "def ubs(n, hs = 1):\n",
        "  if n == 1:\n",
        "    return hs\n",
        "  elif n % 2 == 0:\n",
        "    hs += 1\n",
        "    return ubs(n//2, hs)\n",
        "  else:\n",
        "    hs += 1\n",
        "    return ubs((3*n+1), hs)\n",
        "\n",
        "a, b=map(int, input().split())\n",
        "\n",
        "c = []\n",
        "for i in range(a, b+1):\n",
        "  c.append((i, ubs(i)))\n",
        "\n",
        "print(*max(c, key = lambda x: x[1]))\n"
      ],
      "metadata": {
        "id": "OwTU7sBSQPMa",
        "colab": {
          "base_uri": "https://localhost:8080/"
        },
        "outputId": "e184e7cb-af43-4260-f955-4aa6e84820dc"
      },
      "execution_count": null,
      "outputs": [
        {
          "output_type": "stream",
          "name": "stdout",
          "text": [
            "1 10\n",
            "9 20\n"
          ]
        }
      ]
    },
    {
      "cell_type": "code",
      "source": [
        "def h():\n",
        "    print(\"Hello, world!\", end=\" \")\n",
        "\n",
        "def q(code):\n",
        "    print(code, end=\" \")\n",
        "\n",
        "def b():\n",
        "    for i in range(99, 2, -1):\n",
        "        print(f\"{i} bottles of beer on the wall, {i} bottles of beer.\")\n",
        "        print(f\"Take one down and pass it around, {i-1} bottles of beer on the wall.\")\n",
        "    print(\"2 bottles of beer on the wall, 2 bottles of beer.\")\n",
        "    print(\"Take one down and pass it around, 1 bottle of beer on the wall.\")\n",
        "    print(\"1 bottle of beer on the wall, 1 bottle of beer.\")\n",
        "    print(\"Take one down and pass it around, no more bottles of beer on the wall.\")\n",
        "    print(\"No more bottles of beer on the wall, no more bottles of beer.\")\n",
        "    print(\"Go to the store and buy some more, 99 bottles of beer on the wall.\")\n",
        "\n",
        "def main():\n",
        "    code = input()\n",
        "    for char in code:\n",
        "        if char == 'H':\n",
        "            h()\n",
        "        if char == 'Q':\n",
        "            q(code)\n",
        "        if char == '9':\n",
        "            b()\n",
        "\n",
        "if __name__ == \"__main__\":\n",
        "    main()\n"
      ],
      "metadata": {
        "id": "V8zcH37DQPJr"
      },
      "execution_count": null,
      "outputs": []
    },
    {
      "cell_type": "code",
      "source": [
        "a = input()\n",
        "b,c = map(int, input().split())\n",
        "print(a[b-1:c])"
      ],
      "metadata": {
        "id": "778HRQP1QPHe",
        "colab": {
          "base_uri": "https://localhost:8080/"
        },
        "outputId": "6c43711d-0862-4ebf-dd30-d97ea7e510f2"
      },
      "execution_count": null,
      "outputs": [
        {
          "output_type": "stream",
          "name": "stdout",
          "text": [
            "abcde\n",
            "1 3\n",
            "abc\n"
          ]
        }
      ]
    },
    {
      "cell_type": "code",
      "source": [
        "def a(a):\n",
        "  return '*'*a\n",
        "\n",
        "print(a(int(input())))"
      ],
      "metadata": {
        "id": "S9KEvWhJQPFC",
        "colab": {
          "base_uri": "https://localhost:8080/"
        },
        "outputId": "add8463c-c83a-4aa8-854f-ab93d0bf91e9"
      },
      "execution_count": null,
      "outputs": [
        {
          "output_type": "stream",
          "name": "stdout",
          "text": [
            "3\n",
            "***\n"
          ]
        }
      ]
    },
    {
      "cell_type": "code",
      "source": [
        "def print_numbers(n,i=1):\n",
        "    if i > n:\n",
        "        return\n",
        "    else:\n",
        "        print(i, end = ' ')\n",
        "        return print_numbers(n, i+1)\n",
        "\n",
        "print_numbers(int(input()))"
      ],
      "metadata": {
        "id": "GnyBlngEQPCe",
        "colab": {
          "base_uri": "https://localhost:8080/"
        },
        "outputId": "4128540d-f744-4b5e-f259-dcd6c1652437"
      },
      "execution_count": null,
      "outputs": [
        {
          "name": "stdout",
          "output_type": "stream",
          "text": [
            "10\n"
          ]
        },
        {
          "output_type": "execute_result",
          "data": {
            "text/plain": [
              "55"
            ]
          },
          "metadata": {},
          "execution_count": 30
        }
      ]
    },
    {
      "cell_type": "code",
      "source": [
        "def print_numbers(n,i=1,b=[]):\n",
        "    if i > n:\n",
        "        return sum(b)\n",
        "    else:\n",
        "        b.append(i)\n",
        "        return print_numbers(n, i+1, b)\n",
        "\n",
        "print(print_numbers(int(input())))"
      ],
      "metadata": {
        "id": "cq6P2PH4QPAN",
        "colab": {
          "base_uri": "https://localhost:8080/"
        },
        "outputId": "1a24ea36-3d89-460e-fbf2-49234bb315f1"
      },
      "execution_count": null,
      "outputs": [
        {
          "output_type": "stream",
          "name": "stdout",
          "text": [
            "10\n",
            "55\n"
          ]
        }
      ]
    },
    {
      "cell_type": "code",
      "source": [
        "print(sum(map(int, input())))"
      ],
      "metadata": {
        "colab": {
          "base_uri": "https://localhost:8080/"
        },
        "id": "JlIUx4nFcCxl",
        "outputId": "138a0e91-a2a3-4853-cb09-348efef8e6c8"
      },
      "execution_count": null,
      "outputs": [
        {
          "output_type": "stream",
          "name": "stdout",
          "text": [
            "1234\n",
            "10\n"
          ]
        }
      ]
    },
    {
      "cell_type": "code",
      "source": [
        "def fib(n):\n",
        "    if n == 0:\n",
        "        return 0\n",
        "    elif n == 1 or n == 2:\n",
        "        return 1\n",
        "    else:\n",
        "        return fib(n - 1) + fib(n - 2)\n",
        "\n",
        "print(fib(int(input())))"
      ],
      "metadata": {
        "colab": {
          "base_uri": "https://localhost:8080/"
        },
        "id": "-MN5blm-cCtM",
        "outputId": "eec685ff-be84-42d8-92f4-ad764145f2dd"
      },
      "execution_count": null,
      "outputs": [
        {
          "output_type": "stream",
          "name": "stdout",
          "text": [
            "6\n",
            "8\n"
          ]
        }
      ]
    },
    {
      "cell_type": "code",
      "source": [
        "def count_ways(n):\n",
        "    if n == 1:\n",
        "        return 1\n",
        "    elif n == 2:\n",
        "        return 2\n",
        "    elif n == 3:\n",
        "        return 4\n",
        "    else:\n",
        "        return count_ways(n - 3) + count_ways(n - 2) + count_ways(n - 1)\n",
        "\n",
        "n = int(input())\n",
        "print(count_ways(n))\n"
      ],
      "metadata": {
        "colab": {
          "base_uri": "https://localhost:8080/"
        },
        "id": "i_SAkS5zcCq_",
        "outputId": "35d5e2c1-8729-4480-c176-fdd8ef138fee"
      },
      "execution_count": null,
      "outputs": [
        {
          "output_type": "stream",
          "name": "stdout",
          "text": [
            "3\n",
            "4\n"
          ]
        }
      ]
    },
    {
      "cell_type": "code",
      "source": [
        "import math\n",
        "a,b = map(int, input().split())\n",
        "print(math.comb(a,b))"
      ],
      "metadata": {
        "id": "rmPhSDDLcCou"
      },
      "execution_count": null,
      "outputs": []
    },
    {
      "cell_type": "code",
      "source": [
        "def pascal(n, k):\n",
        "    if k == 0 or k == n:\n",
        "        return 1\n",
        "    return pascal(n-1, k-1) + pascal(n-1, k)\n",
        "\n",
        "n, k = map(int, input().split())\n",
        "print(pascal(n-1, k-1))\n"
      ],
      "metadata": {
        "colab": {
          "base_uri": "https://localhost:8080/"
        },
        "id": "5Op2hHEycCj4",
        "outputId": "f929c2e6-15ed-4665-bfaa-b50a18c33127"
      },
      "execution_count": null,
      "outputs": [
        {
          "output_type": "stream",
          "name": "stdout",
          "text": [
            "5 3\n",
            "6\n"
          ]
        }
      ]
    },
    {
      "cell_type": "code",
      "source": [
        "def star(n,b=1):\n",
        "  print('*'*b)\n",
        "  if b == n:\n",
        "    return ''\n",
        "  return star(n,b+1)\n",
        "\n",
        "\n",
        "print(star(int(input())))"
      ],
      "metadata": {
        "colab": {
          "base_uri": "https://localhost:8080/"
        },
        "id": "PFsF2N9XcChH",
        "outputId": "11b8c725-2137-459d-f1dd-4a17dfdac31a"
      },
      "execution_count": null,
      "outputs": [
        {
          "output_type": "stream",
          "name": "stdout",
          "text": [
            "5\n",
            "*\n",
            "**\n",
            "***\n",
            "****\n",
            "*****\n",
            "\n"
          ]
        }
      ]
    },
    {
      "cell_type": "code",
      "source": [
        "def sp(n, b=[1]):\n",
        "\n",
        "  print(*b)\n",
        "  if len(b) == n:\n",
        "    return ''\n",
        "  b.append(b[-1]+1)\n",
        "  return sp(n, b)\n",
        "\n",
        "print(sp(int(input())))"
      ],
      "metadata": {
        "colab": {
          "base_uri": "https://localhost:8080/"
        },
        "id": "_S8gdRLTcCem",
        "outputId": "4ec14dd4-4ec3-408e-81e8-b52b6f5b129c"
      },
      "execution_count": null,
      "outputs": [
        {
          "output_type": "stream",
          "name": "stdout",
          "text": [
            "5\n",
            "1\n",
            "1 2\n",
            "1 2 3\n",
            "1 2 3 4\n",
            "1 2 3 4 5\n",
            "\n"
          ]
        }
      ]
    },
    {
      "cell_type": "code",
      "source": [
        "#1861\n",
        "def pascal_triangle(n, row=0, col=0):\n",
        "    if row == n:\n",
        "        return ''\n",
        "    if col > row:\n",
        "        print()\n",
        "        return pascal_triangle(n, row + 1, 0)\n",
        "    print(1 if col == 0 or col == row else pascal_triangle_value(row, col), end=\" \")\n",
        "    return pascal_triangle(n, row, col + 1)\n",
        "\n",
        "def pascal_triangle_value(row, col):\n",
        "    if col == 0 or col == row:\n",
        "        return 1\n",
        "    return pascal_triangle_value(row - 1, col - 1) + pascal_triangle_value(row - 1, col)\n",
        "\n",
        "num_rows = int(input())\n",
        "print(pascal_triangle(num_rows))\n"
      ],
      "metadata": {
        "colab": {
          "base_uri": "https://localhost:8080/"
        },
        "id": "8f7WQws8cCYh",
        "outputId": "193e7e30-0141-453b-dbe3-b3585792c5cf"
      },
      "execution_count": null,
      "outputs": [
        {
          "output_type": "stream",
          "name": "stdout",
          "text": [
            "5\n",
            "1 \n",
            "1 1 \n",
            "1 2 1 \n",
            "1 3 3 1 \n",
            "1 4 6 4 1 \n",
            "\n"
          ]
        }
      ]
    },
    {
      "cell_type": "code",
      "source": [
        "#1862\n",
        "MOD = 1000000007\n",
        "\n",
        "def fibonacci(n, memo={1: 1, 2: 1}):\n",
        "    if n in memo: #종료 코드\n",
        "        return memo[n]\n",
        "    memo[n] = (fibonacci(n - 1, memo) + fibonacci(n - 2, memo)) % MOD\n",
        "    # print(f\"n = {n}, memo = {memo}\")\n",
        "    return memo[n] #중간 상태 저장 (if문이 실행되기 전까지)\n",
        "\n",
        "n = int(input())\n",
        "print(fibonacci(n))\n"
      ],
      "metadata": {
        "colab": {
          "base_uri": "https://localhost:8080/"
        },
        "id": "o7ql_wMPBLHP",
        "outputId": "87ec2d2d-c209-40c3-bfdc-c71b330c57dd"
      },
      "execution_count": null,
      "outputs": [
        {
          "output_type": "stream",
          "name": "stdout",
          "text": [
            "67\n",
            "569898238\n"
          ]
        }
      ]
    },
    {
      "cell_type": "code",
      "source": [
        "def hs(a,b=1,c=[]):\n",
        "  if b>a:\n",
        "    return c\n",
        "  c.append(b)\n",
        "  return hs(a,b+1,c)\n",
        "\n",
        "a = int(input())\n",
        "print(sum(hs(a)))"
      ],
      "metadata": {
        "id": "eg4Aztr1BK_d",
        "colab": {
          "base_uri": "https://localhost:8080/"
        },
        "outputId": "e87d7f3b-b8e9-4908-ed21-b3e813d1c714"
      },
      "execution_count": null,
      "outputs": [
        {
          "output_type": "stream",
          "name": "stdout",
          "text": [
            "100\n",
            "5050\n"
          ]
        }
      ]
    },
    {
      "cell_type": "code",
      "source": [
        "import sys\n",
        "\n",
        "sys.setrecursionlimit(100000)\n",
        "\n",
        "def hs(a, b=0):\n",
        "    if a == 0:\n",
        "        return b\n",
        "    return hs(a - 1, b + a)\n",
        "\n",
        "a = int(input())\n",
        "print(hs(a))\n"
      ],
      "metadata": {
        "id": "WvU82pgdBK5c"
      },
      "execution_count": null,
      "outputs": []
    },
    {
      "cell_type": "code",
      "source": [
        "def fac(n):\n",
        "  if n ==0:\n",
        "    return 1\n",
        "  return n*fac(n-1)\n",
        "\n",
        "print(fac(int(input())))"
      ],
      "metadata": {
        "id": "aE3aJX0ZBK0U",
        "colab": {
          "base_uri": "https://localhost:8080/"
        },
        "outputId": "bf6bcb5e-a0cd-49a9-eb0a-2d4cb9464d83"
      },
      "execution_count": null,
      "outputs": [
        {
          "output_type": "stream",
          "name": "stdout",
          "text": [
            "5\n",
            "120\n"
          ]
        }
      ]
    },
    {
      "cell_type": "code",
      "source": [
        "def fib(n):\n",
        "    if n == 0:\n",
        "        return 0\n",
        "    elif n == 1 or n == 2:\n",
        "        return 1\n",
        "    else:\n",
        "        return fib(n - 1) + fib(n - 2)\n",
        "\n",
        "print(fib(int(input())))"
      ],
      "metadata": {
        "id": "5uIAVJl_BKxt",
        "colab": {
          "base_uri": "https://localhost:8080/"
        },
        "outputId": "67c419d0-9ece-4fd2-9d3d-3c633ff4c07a"
      },
      "execution_count": null,
      "outputs": [
        {
          "output_type": "stream",
          "name": "stdout",
          "text": [
            "7\n",
            "13\n"
          ]
        }
      ]
    },
    {
      "cell_type": "code",
      "source": [
        "from functools import lru_cache\n",
        "\n",
        "@lru_cache(None)\n",
        "def fib(n):\n",
        "    if n == 0:\n",
        "        return 0\n",
        "    elif n == 1 or n == 2:\n",
        "        return 1\n",
        "    else:\n",
        "        return fib(n - 1) + fib(n - 2)\n",
        "\n",
        "print(fib(int(input())) % 10009)\n"
      ],
      "metadata": {
        "id": "OMHyZ4iqBKu9",
        "colab": {
          "base_uri": "https://localhost:8080/"
        },
        "outputId": "2fe28c9b-f26a-4ceb-eaf5-d93ddb97ca50"
      },
      "execution_count": null,
      "outputs": [
        {
          "output_type": "stream",
          "name": "stdout",
          "text": [
            "151\n",
            "3081\n"
          ]
        }
      ]
    },
    {
      "cell_type": "code",
      "source": [
        "import sys\n",
        "sys.setrecursionlimit(100000)\n",
        "\n",
        "def ss(base, exponent):\n",
        "    if exponent == 0:\n",
        "        return 1\n",
        "    if exponent % 2 == 0:\n",
        "        half_result = ss(base, exponent // 2)\n",
        "        return half_result * half_result\n",
        "    else:\n",
        "        return base * ss(base, exponent - 1)\n",
        "\n",
        "base, exponent = map(int, input().split())\n",
        "print(ss(base, exponent))\n"
      ],
      "metadata": {
        "id": "q2wqA7yg8OPP"
      },
      "execution_count": null,
      "outputs": []
    },
    {
      "cell_type": "code",
      "source": [
        "print(int(input()[::-1]))"
      ],
      "metadata": {
        "colab": {
          "base_uri": "https://localhost:8080/"
        },
        "id": "gCafeDft9u_X",
        "outputId": "bf03de94-65df-473f-ee73-a8071d465270"
      },
      "execution_count": null,
      "outputs": [
        {
          "name": "stdout",
          "output_type": "stream",
          "text": [
            "1200\n"
          ]
        },
        {
          "output_type": "execute_result",
          "data": {
            "text/plain": [
              "21"
            ]
          },
          "metadata": {},
          "execution_count": 11
        }
      ]
    },
    {
      "cell_type": "code",
      "source": [
        "print(bin(int(input()))[2:])"
      ],
      "metadata": {
        "colab": {
          "base_uri": "https://localhost:8080/"
        },
        "id": "UVwO7E9X9u8h",
        "outputId": "186d360e-858d-452b-c756-2c038e0a900f"
      },
      "execution_count": null,
      "outputs": [
        {
          "output_type": "stream",
          "name": "stdout",
          "text": [
            "7\n",
            "111\n"
          ]
        }
      ]
    },
    {
      "cell_type": "code",
      "source": [
        "def to_base_recursive(n, k):\n",
        "    return (to_base_recursive(n // k, k) if n >= k else '') + \"0123456789ABCDEF\"[n % k]\n",
        "\n",
        "n, k = map(int, input().split())\n",
        "print(to_base_recursive(n, k))"
      ],
      "metadata": {
        "colab": {
          "base_uri": "https://localhost:8080/"
        },
        "id": "NxyS4irW9u6B",
        "outputId": "58384527-3409-435b-a67f-fa6271143d0f"
      },
      "execution_count": null,
      "outputs": [
        {
          "output_type": "stream",
          "name": "stdout",
          "text": [
            "14 16\n",
            "E\n"
          ]
        }
      ]
    },
    {
      "cell_type": "code",
      "source": [
        "def hc(a, hs=1):\n",
        "    return hs if a == 1 else hc(3*a + 1 if a % 2 else a // 2, hs + 1)\n",
        "\n",
        "a = int(input())\n",
        "print(hc(a))"
      ],
      "metadata": {
        "colab": {
          "base_uri": "https://localhost:8080/"
        },
        "id": "eJFWxQ7B9u3f",
        "outputId": "94a13a53-580b-415e-c4db-f70c2e9fb672"
      },
      "execution_count": null,
      "outputs": [
        {
          "output_type": "stream",
          "name": "stdout",
          "text": [
            "21\n",
            "8\n"
          ]
        }
      ]
    },
    {
      "cell_type": "code",
      "source": [
        "import math\n",
        "a,b = map(int, input().split())\n",
        "print(math.comb(a,b))"
      ],
      "metadata": {
        "colab": {
          "base_uri": "https://localhost:8080/",
          "height": 184
        },
        "id": "VQDH9SFgEQT7",
        "outputId": "1b6c4a5b-2a12-4eb5-87c9-8c4d5c9a4ed2"
      },
      "execution_count": null,
      "outputs": [
        {
          "output_type": "error",
          "ename": "TypeError",
          "evalue": "'str' object is not callable",
          "traceback": [
            "\u001b[0;31m---------------------------------------------------------------------------\u001b[0m",
            "\u001b[0;31mTypeError\u001b[0m                                 Traceback (most recent call last)",
            "\u001b[0;32m<ipython-input-50-e5b1579f5d66>\u001b[0m in \u001b[0;36m<cell line: 2>\u001b[0;34m()\u001b[0m\n\u001b[1;32m      1\u001b[0m \u001b[0;32mimport\u001b[0m \u001b[0mmath\u001b[0m\u001b[0;34m\u001b[0m\u001b[0;34m\u001b[0m\u001b[0m\n\u001b[0;32m----> 2\u001b[0;31m \u001b[0ma\u001b[0m\u001b[0;34m,\u001b[0m\u001b[0mb\u001b[0m \u001b[0;34m=\u001b[0m \u001b[0mmap\u001b[0m\u001b[0;34m(\u001b[0m\u001b[0mint\u001b[0m\u001b[0;34m,\u001b[0m \u001b[0minput\u001b[0m\u001b[0;34m(\u001b[0m\u001b[0;34m)\u001b[0m\u001b[0;34m.\u001b[0m\u001b[0msplit\u001b[0m\u001b[0;34m(\u001b[0m\u001b[0;34m)\u001b[0m\u001b[0;34m)\u001b[0m\u001b[0;34m\u001b[0m\u001b[0;34m\u001b[0m\u001b[0m\n\u001b[0m\u001b[1;32m      3\u001b[0m \u001b[0mprint\u001b[0m\u001b[0;34m(\u001b[0m\u001b[0mmath\u001b[0m\u001b[0;34m.\u001b[0m\u001b[0mcomb\u001b[0m\u001b[0;34m(\u001b[0m\u001b[0ma\u001b[0m\u001b[0;34m,\u001b[0m\u001b[0mb\u001b[0m\u001b[0;34m)\u001b[0m\u001b[0;34m)\u001b[0m\u001b[0;34m\u001b[0m\u001b[0;34m\u001b[0m\u001b[0m\n",
            "\u001b[0;31mTypeError\u001b[0m: 'str' object is not callable"
          ]
        }
      ]
    },
    {
      "cell_type": "code",
      "source": [
        "def hc(a, hs=[]):\n",
        "  hs.append(a)\n",
        "  return hs if a == 1 else hc(3*a + 1 if a % 2 else a // 2, hs)\n",
        "\n",
        "a = int(input())\n",
        "print(hc(a))"
      ],
      "metadata": {
        "colab": {
          "base_uri": "https://localhost:8080/"
        },
        "id": "gEo-rlmCEQRw",
        "outputId": "3dd8f121-f295-42ad-c940-97e5984a5e88"
      },
      "execution_count": null,
      "outputs": [
        {
          "output_type": "stream",
          "name": "stdout",
          "text": [
            "5\n",
            "[5, 16, 8, 4, 2, 1]\n"
          ]
        }
      ]
    },
    {
      "cell_type": "code",
      "source": [
        "def hc(a, hs=[]):\n",
        "  hs.append(a)\n",
        "  return hs if a == 1 else hc(3*a + 1 if a % 2 else a // 2, hs)\n",
        "\n",
        "def pp(a = hc(int(input())), hs=0):\n",
        "\n",
        "    if len(a) == hs:\n",
        "        return ''\n",
        "    print(a[-(hs + 1)])\n",
        "    return pp(a, hs + 1)\n",
        "\n",
        "print(pp())"
      ],
      "metadata": {
        "colab": {
          "base_uri": "https://localhost:8080/",
          "height": 221
        },
        "id": "8-rGL0M9EQPw",
        "outputId": "16a38b91-0c84-4744-d926-8a7f3b2ac0f4"
      },
      "execution_count": null,
      "outputs": [
        {
          "output_type": "error",
          "ename": "TypeError",
          "evalue": "'str' object is not callable",
          "traceback": [
            "\u001b[0;31m---------------------------------------------------------------------------\u001b[0m",
            "\u001b[0;31mTypeError\u001b[0m                                 Traceback (most recent call last)",
            "\u001b[0;32m<ipython-input-48-ca3be9015f44>\u001b[0m in \u001b[0;36m<cell line: 5>\u001b[0;34m()\u001b[0m\n\u001b[1;32m      3\u001b[0m   \u001b[0;32mreturn\u001b[0m \u001b[0mhs\u001b[0m \u001b[0;32mif\u001b[0m \u001b[0ma\u001b[0m \u001b[0;34m==\u001b[0m \u001b[0;36m1\u001b[0m \u001b[0;32melse\u001b[0m \u001b[0mhc\u001b[0m\u001b[0;34m(\u001b[0m\u001b[0;36m3\u001b[0m\u001b[0;34m*\u001b[0m\u001b[0ma\u001b[0m \u001b[0;34m+\u001b[0m \u001b[0;36m1\u001b[0m \u001b[0;32mif\u001b[0m \u001b[0ma\u001b[0m \u001b[0;34m%\u001b[0m \u001b[0;36m2\u001b[0m \u001b[0;32melse\u001b[0m \u001b[0ma\u001b[0m \u001b[0;34m//\u001b[0m \u001b[0;36m2\u001b[0m\u001b[0;34m,\u001b[0m \u001b[0mhs\u001b[0m\u001b[0;34m)\u001b[0m\u001b[0;34m\u001b[0m\u001b[0;34m\u001b[0m\u001b[0m\n\u001b[1;32m      4\u001b[0m \u001b[0;34m\u001b[0m\u001b[0m\n\u001b[0;32m----> 5\u001b[0;31m \u001b[0;32mdef\u001b[0m \u001b[0mpp\u001b[0m\u001b[0;34m(\u001b[0m\u001b[0ma\u001b[0m \u001b[0;34m=\u001b[0m \u001b[0mhc\u001b[0m\u001b[0;34m(\u001b[0m\u001b[0mint\u001b[0m\u001b[0;34m(\u001b[0m\u001b[0minput\u001b[0m\u001b[0;34m(\u001b[0m\u001b[0;34m)\u001b[0m\u001b[0;34m)\u001b[0m\u001b[0;34m)\u001b[0m\u001b[0;34m,\u001b[0m \u001b[0mhs\u001b[0m\u001b[0;34m=\u001b[0m\u001b[0;36m0\u001b[0m\u001b[0;34m)\u001b[0m\u001b[0;34m:\u001b[0m\u001b[0;34m\u001b[0m\u001b[0;34m\u001b[0m\u001b[0m\n\u001b[0m\u001b[1;32m      6\u001b[0m     \u001b[0;32mif\u001b[0m \u001b[0mlen\u001b[0m\u001b[0;34m(\u001b[0m\u001b[0ma\u001b[0m\u001b[0;34m)\u001b[0m \u001b[0;34m==\u001b[0m \u001b[0mhs\u001b[0m\u001b[0;34m:\u001b[0m\u001b[0;34m\u001b[0m\u001b[0;34m\u001b[0m\u001b[0m\n\u001b[1;32m      7\u001b[0m         \u001b[0;32mreturn\u001b[0m \u001b[0;34m''\u001b[0m\u001b[0;34m\u001b[0m\u001b[0;34m\u001b[0m\u001b[0m\n",
            "\u001b[0;31mTypeError\u001b[0m: 'str' object is not callable"
          ]
        }
      ]
    },
    {
      "cell_type": "code",
      "source": [
        "import sys\n",
        "from functools import lru_cache\n",
        "\n",
        "@lru_cache(None)\n",
        "def SuperSum(k, n):\n",
        "    if k == 0:\n",
        "        return n\n",
        "    return sum(SuperSum(k - 1, i) for i in range(1, n + 1))\n",
        "\n",
        "#input = sys.stdin.read()\n",
        "data = input.split()\n",
        "\n",
        "i = 0\n",
        "while i < len(data):\n",
        "    k = int(data[i])\n",
        "    n = int(data[i + 1])\n",
        "    print(SuperSum(k, n))\n",
        "    i += 2"
      ],
      "metadata": {
        "id": "hW0YSnlqEQNy"
      },
      "execution_count": null,
      "outputs": []
    },
    {
      "cell_type": "code",
      "source": [
        "def find_lca(a, b):\n",
        "    if a == b:\n",
        "        return a\n",
        "    if a > b:\n",
        "        return find_lca(a // 2, b)\n",
        "    return find_lca(a, b // 2)\n",
        "\n",
        "\n",
        "a, b = map(int, input().split())\n",
        "\n",
        "print(find_lca(a, b))"
      ],
      "metadata": {
        "id": "rdeUTYuHEQLP"
      },
      "execution_count": null,
      "outputs": []
    },
    {
      "cell_type": "code",
      "source": [
        "def find_lca(a, b, hs=0):\n",
        "    if a == b:\n",
        "        return hs\n",
        "    if a > b:\n",
        "        return find_lca(a // 2, b,hs+1)\n",
        "    return find_lca(a, b // 2,hs+1)\n",
        "\n",
        "\n",
        "a, b = map(int, input().split())\n",
        "\n",
        "print(find_lca(a, b))"
      ],
      "metadata": {
        "colab": {
          "base_uri": "https://localhost:8080/"
        },
        "id": "vN2eqVZyzWpU",
        "outputId": "10590546-8c44-4991-8d3f-6360e075787e"
      },
      "execution_count": null,
      "outputs": [
        {
          "output_type": "stream",
          "name": "stdout",
          "text": [
            "3 4\n",
            "3\n"
          ]
        }
      ]
    },
    {
      "cell_type": "code",
      "source": [
        "def see(a,b=1):\n",
        "  print('*'*b)\n",
        "  if b == a:\n",
        "    return ''\n",
        "  return see(a,b+1)\n",
        "\n",
        "print(see(int(input())))"
      ],
      "metadata": {
        "colab": {
          "base_uri": "https://localhost:8080/"
        },
        "id": "rVoMFIgzzYEk",
        "outputId": "4b1dcd08-929d-408c-b191-9cdee226c8cc"
      },
      "execution_count": null,
      "outputs": [
        {
          "output_type": "stream",
          "name": "stdout",
          "text": [
            "3\n",
            "*\n",
            "**\n",
            "***\n",
            "\n"
          ]
        }
      ]
    },
    {
      "cell_type": "code",
      "source": [
        "def see(a):\n",
        "  print('*'*a)\n",
        "  if a == 1:\n",
        "    return ''\n",
        "  return see(a-1)\n",
        "\n",
        "print(see(int(input())))"
      ],
      "metadata": {
        "colab": {
          "base_uri": "https://localhost:8080/"
        },
        "id": "bQqPIxYvzYBu",
        "outputId": "a10f9e4c-ed20-4c92-e33e-3a6db9fce804"
      },
      "execution_count": null,
      "outputs": [
        {
          "output_type": "stream",
          "name": "stdout",
          "text": [
            "3\n",
            "***\n",
            "**\n",
            "*\n",
            "\n"
          ]
        }
      ]
    },
    {
      "cell_type": "code",
      "source": [
        "def L(n):\n",
        "  line = 1+(n*(n+1)//2)\n",
        "  return line\n",
        "\n",
        "print(L(2)%137)"
      ],
      "metadata": {
        "colab": {
          "base_uri": "https://localhost:8080/"
        },
        "id": "v2tRIhdGzX_W",
        "outputId": "5a06bad9-8100-4d51-95e2-fd81660fa3c1"
      },
      "execution_count": null,
      "outputs": [
        {
          "output_type": "stream",
          "name": "stdout",
          "text": [
            "4\n"
          ]
        }
      ]
    },
    {
      "cell_type": "code",
      "source": [
        "n = int(input())\n",
        "print(1+(n*(n+1)//2)%137)"
      ],
      "metadata": {
        "colab": {
          "base_uri": "https://localhost:8080/"
        },
        "id": "koKZFOMWzX8k",
        "outputId": "25cb9974-ced5-47e5-ce27-5f0b6ef10248"
      },
      "execution_count": null,
      "outputs": [
        {
          "output_type": "stream",
          "name": "stdout",
          "text": [
            "3\n",
            "7\n"
          ]
        }
      ]
    },
    {
      "cell_type": "code",
      "source": [
        "(700+198)+((700+198))*(10/100)\n",
        "a = [int(input()) for i in range(3)]\n",
        "b = [int(input()) for i in range(2)]"
      ],
      "metadata": {
        "id": "zN2SaK3K00gq",
        "colab": {
          "base_uri": "https://localhost:8080/"
        },
        "outputId": "25780174-361e-4b49-e3c1-359e795783af"
      },
      "execution_count": null,
      "outputs": [
        {
          "output_type": "execute_result",
          "data": {
            "text/plain": [
              "987.8"
            ]
          },
          "metadata": {},
          "execution_count": 5
        }
      ]
    },
    {
      "cell_type": "code",
      "source": [
        "#1373\n",
        "\n",
        "import sys\n",
        "\n",
        "def mn(m, n, p):\n",
        "    if m < n:\n",
        "        m, n = n, m\n",
        "\n",
        "    remains = [0] * 2400\n",
        "    c = 1\n",
        "\n",
        "    for i in range(m + n, m, -1):\n",
        "        k = i\n",
        "        for j in range(2, k + 1):\n",
        "            while k % j == 0:\n",
        "                k //= j\n",
        "                remains[j] += 1\n",
        "\n",
        "        if i - m > 0:\n",
        "            k = i - m\n",
        "            for j in range(2, k + 1):\n",
        "                while k % j == 0:\n",
        "                    k //= j\n",
        "                    remains[j] -= 1\n",
        "\n",
        "    if p != 0:\n",
        "        for i in range(2400):\n",
        "            if remains[i] != 0:\n",
        "                j = remains[i]\n",
        "                while j > 0:\n",
        "                    c *= i\n",
        "                    c %= p\n",
        "                    j -= 1\n",
        "    else:\n",
        "        for i in range(2400):\n",
        "            if remains[i] != 0:\n",
        "                j = remains[i]\n",
        "                while j > 0:\n",
        "                    c *= i\n",
        "                    j -= 1\n",
        "\n",
        "    return c\n",
        "\n",
        "n, m, k, p = map(int, input().split())\n",
        "m = abs(m)\n",
        "n = abs(n)\n",
        "\n",
        "if m < n:\n",
        "    m, n = n, m\n",
        "\n",
        "if p != 0:\n",
        "    if m == 1 and n == 1:\n",
        "        print(4, 4 % p)\n",
        "        sys.exit()\n",
        "    if m == 2 and n == 1:\n",
        "        if k == 0:\n",
        "            print(3, 1 % p)\n",
        "        else:\n",
        "            print(5, 8 % p)\n",
        "        sys.exit()\n",
        "    if n == 0:\n",
        "        if m == 0:\n",
        "            if k == 0:\n",
        "                print(4, 8 % p)\n",
        "            else:\n",
        "                print(6, 24 % p)\n",
        "        else:\n",
        "            if k:\n",
        "                if m == 3:\n",
        "                    print(5, 10 % p)\n",
        "                elif m == 2:\n",
        "                    print(4, 2 % p)\n",
        "                elif m == 1:\n",
        "                    print(5, 10 % p)\n",
        "                else:\n",
        "                    print(m + 2, (((m * (m - 1) // 2) + m) * 2) % p)\n",
        "            else:\n",
        "                print(m + 2, (((m * (m - 1) // 2) + m) * 2) % p)\n",
        "        sys.exit()\n",
        "    if k:\n",
        "        if m == n:\n",
        "            print(m + n, (mn(m, n, p) - 4 + p) % p)\n",
        "        elif abs(m - n) == 1:\n",
        "            print(m + n, (mn(m, n, p) - 3 + p) % p)\n",
        "        else:\n",
        "            print(m + n, (mn(m, n, p) - 2 + p) % p)\n",
        "    else:\n",
        "        print(m + n, (mn(m, n, p) - 2 + p) % p)\n",
        "else:\n",
        "    if m == 1 and n == 1:\n",
        "        print(4, 4)\n",
        "        sys.exit()\n",
        "    if m == 2 and n == 1:\n",
        "        if k == 0:\n",
        "            print(3, 1)\n",
        "        else:\n",
        "            print(5, 8)\n",
        "        sys.exit()\n",
        "    if n == 0:\n",
        "        if m == 0:\n",
        "            if k == 0:\n",
        "                print(4, 8)\n",
        "            else:\n",
        "                print(6, 24)\n",
        "        else:\n",
        "            if k:\n",
        "                if m == 3:\n",
        "                    print(5, 10)\n",
        "                elif m == 2:\n",
        "                    print(4, 2)\n",
        "                elif m == 1:\n",
        "                    print(5, 10)\n",
        "                else:\n",
        "                    print(m + 2, ((m * (m - 1) // 2) + m) * 2)\n",
        "            else:\n",
        "                print(m + 2, ((m * (m - 1) // 2) + m) * 2)\n",
        "        sys.exit()\n",
        "    if k:\n",
        "        if m == n:\n",
        "            print(m + n, mn(m, n, p) - 4)\n",
        "        elif abs(m - n) == 1:\n",
        "            print(m + n, mn(m, n, p) - 3)\n",
        "        else:\n",
        "            print(m + n, mn(m, n, p) - 2)\n",
        "    else:\n",
        "        print(m + n, mn(m, n, p) - 2)\n"
      ],
      "metadata": {
        "colab": {
          "base_uri": "https://localhost:8080/"
        },
        "id": "znUVwI0AX0I6",
        "outputId": "fd12a474-bf85-4f09-8699-a6416d8d1cdb"
      },
      "execution_count": null,
      "outputs": [
        {
          "output_type": "stream",
          "name": "stdout",
          "text": [
            "3 0 1 0\n",
            "5 10\n",
            "3 -1\n"
          ]
        }
      ]
    },
    {
      "cell_type": "code",
      "source": [
        "#2001\n",
        "a = [int(input()) for i in range(3)]\n",
        "b = [int(input()) for i in range(2)]\n",
        "\n",
        "c = []\n",
        "for i in b:\n",
        "  for j in a:\n",
        "    c.append((i + j) + ((i + j) * (10 / 100)))\n",
        "\n",
        "print(f'{min(c):.01f}')"
      ],
      "metadata": {
        "id": "S4QO-cJp00eQ",
        "colab": {
          "base_uri": "https://localhost:8080/"
        },
        "outputId": "87e11008-7d9e-42f7-b3da-98f209b99727"
      },
      "execution_count": null,
      "outputs": [
        {
          "output_type": "stream",
          "name": "stdout",
          "text": [
            "800\n",
            "700\n",
            "900\n",
            "198\n",
            "330\n",
            "987.8\n"
          ]
        }
      ]
    },
    {
      "cell_type": "code",
      "source": [
        "#2002\n",
        "k = int(input())\n",
        "a = input()\n",
        "b = {'A': 1, 'B': 2, 'C': 3, 'D': 4, 'E': 5, 'F': 6, 'G': 7, 'H': 8, 'I': 9, 'J': 10, 'K': 11, 'L': 12, 'M': 13, 'N': 14, 'O': 15, 'P': 16, 'Q': 17, 'R': 18, 'S': 19, 'T': 20, 'U': 21, 'V': 22, 'W': 23, 'X': 24, 'Y': 25, 'Z': 26}\n",
        "\n",
        "def get_key_from_value(dictionary, value):\n",
        "    for key in dictionary:\n",
        "        if dictionary[key] == value:\n",
        "            return key\n",
        "    return None\n",
        "\n",
        "for i in range(1,len(a)+1):\n",
        "  s = 3*i+k\n",
        "  next = (b[a[i-1]] - s)+26 if b[a[i-1]] - s < 1 else b[a[i-1]] - s\n",
        "  print(get_key_from_value(b, next),end = '')"
      ],
      "metadata": {
        "id": "KLII6MfMvTtu"
      },
      "execution_count": null,
      "outputs": []
    },
    {
      "cell_type": "code",
      "source": [
        "a = ['*x*', ' xx','* *']\n",
        "b = int(input())\n",
        "c = []\n",
        "for i in a:\n",
        "  for j in range(b):\n",
        "    print(f'{i[0]*b}{i[1]*b}{i[2]*b}')"
      ],
      "metadata": {
        "colab": {
          "base_uri": "https://localhost:8080/"
        },
        "id": "gg7-qe8IvVw0",
        "outputId": "565d2703-a7a6-4798-b9f0-d8eca126d9ed"
      },
      "execution_count": null,
      "outputs": [
        {
          "output_type": "stream",
          "name": "stdout",
          "text": [
            "3\n",
            "***xxx***\n",
            "***xxx***\n",
            "***xxx***\n",
            "   xxxxxx\n",
            "   xxxxxx\n",
            "   xxxxxx\n",
            "***   ***\n",
            "***   ***\n",
            "***   ***\n"
          ]
        }
      ]
    },
    {
      "cell_type": "code",
      "source": [
        "#2007\n",
        "a = int(input())\n",
        "b = list(map(int, input().split()))\n",
        "\n",
        "srt, n_srt = False, False\n",
        "for i in range(len(b)-1):\n",
        "  if b[i] < b[i+1]:\n",
        "    srt = True\n",
        "  elif b [i] > b[i+1]:\n",
        "    n_srt = True\n",
        "\n",
        "\n",
        "print('섞임' if srt == True and n_srt == True else '오름차순' if srt else '내림차순')\n",
        "srt,n_srt"
      ],
      "metadata": {
        "id": "C5RmUuwZ-Hwj",
        "colab": {
          "base_uri": "https://localhost:8080/"
        },
        "outputId": "4072fd7a-48b7-403c-9519-f6baf87141f1"
      },
      "execution_count": null,
      "outputs": [
        {
          "output_type": "stream",
          "name": "stdout",
          "text": [
            "1\n",
            "2992 444 123 111 74 33333\n",
            "섞임\n"
          ]
        },
        {
          "output_type": "execute_result",
          "data": {
            "text/plain": [
              "(True, True)"
            ]
          },
          "metadata": {},
          "execution_count": 92
        }
      ]
    },
    {
      "cell_type": "code",
      "source": [
        "#2008\n",
        "a = int(input())\n",
        "b = list(map(int, input().split()))\n",
        "\n",
        "srt, n_srt = False, False\n",
        "for i in range(len(b)-1):\n",
        "  if b[i] < b[i+1]:\n",
        "    srt = True\n",
        "  elif b [i] > b[i+1]:\n",
        "    n_srt = True\n",
        "  else:\n",
        "    pass\n",
        "\n",
        "print('섞임' if srt == True and n_srt == True or len(set(b)) == 1 else '오름차순' if srt else '내림차순')"
      ],
      "metadata": {
        "colab": {
          "base_uri": "https://localhost:8080/"
        },
        "id": "PPoxgffwiZ8B",
        "outputId": "b5998312-06b1-4866-cd33-4ad36d6c01db"
      },
      "execution_count": null,
      "outputs": [
        {
          "output_type": "stream",
          "name": "stdout",
          "text": [
            "3\n",
            "4 4 4\n",
            "섞임\n"
          ]
        }
      ]
    },
    {
      "cell_type": "code",
      "source": [
        "#2004\n",
        "# 입력\n",
        "rows, cols = map(int, input().split())\n",
        "cell_rows, cell_cols = map(int, input().split())\n",
        "\n",
        "# 체크보드 생성\n",
        "for i in range(rows):\n",
        "    for k in range(cell_rows):\n",
        "        line = []\n",
        "        for j in range(cols):\n",
        "            if (i + j) % 2 == 0:\n",
        "                line.append('X' * cell_cols)\n",
        "            else:\n",
        "                line.append('.' * cell_cols)\n",
        "        print(''.join(line))\n"
      ],
      "metadata": {
        "id": "C-JtW-0iyW1t"
      },
      "execution_count": null,
      "outputs": []
    },
    {
      "cell_type": "code",
      "source": [
        "#2005\n",
        "\n",
        "n = int(input())\n",
        "a = list(map(int, input().split()))\n",
        "m = int(input())\n",
        "\n",
        "is_residue_system = True\n",
        "\n",
        "for i in range(n):\n",
        "    for j in range(i + 1, n):\n",
        "        if abs(a[i] - a[j]) % m == 0:\n",
        "            print('no')\n",
        "            is_residue_system = False\n",
        "            break\n",
        "    if not is_residue_system:\n",
        "        break\n",
        "\n",
        "if is_residue_system:\n",
        "    print('yes')"
      ],
      "metadata": {
        "colab": {
          "base_uri": "https://localhost:8080/"
        },
        "id": "-_yTaT3OymqS",
        "outputId": "16a26968-37e7-4bf5-e0f0-8f3e3c3b401d"
      },
      "execution_count": null,
      "outputs": [
        {
          "output_type": "stream",
          "name": "stdout",
          "text": [
            "7\n",
            "22 5 648 40 334 246 97 \n",
            "9\n",
            "no\n"
          ]
        }
      ]
    },
    {
      "cell_type": "code",
      "source": [
        "#2006\n",
        "a, b, c, d, s = [int(input()) for _ in range(5)]\n",
        "\n",
        "def dist(a, b, s):\n",
        "    q, r = divmod(s, a + b)\n",
        "    res = q * (a - b) + min(r, a) - (r - a if r > a else 0)\n",
        "    return res\n",
        "\n",
        "nd = dist(a, b, s)\n",
        "bd = dist(c, d, s)\n",
        "\n",
        "print(\"Tied\" if nd == bd else \"Nikky\" if nd > bd else \"Byron\")\n"
      ],
      "metadata": {
        "colab": {
          "base_uri": "https://localhost:8080/"
        },
        "id": "MdnKMSJu0H4x",
        "outputId": "049e7bd4-9fd3-4c22-8270-2ec4a1080885"
      },
      "execution_count": null,
      "outputs": [
        {
          "output_type": "stream",
          "name": "stdout",
          "text": [
            "4\n",
            "2\n",
            "5\n",
            "3\n",
            "12\n",
            "Byron\n"
          ]
        }
      ]
    },
    {
      "cell_type": "code",
      "source": [
        "a, b = map(int, input().split())\n",
        "\n",
        "ame = 0\n",
        "\n",
        "while a >= b:\n",
        "    new_ame = a // b\n",
        "    ame += new_ame\n",
        "    a = a % b + new_ame\n",
        "\n",
        "print(ame)"
      ],
      "metadata": {
        "colab": {
          "base_uri": "https://localhost:8080/"
        },
        "id": "NpYK-0Xa2Seq",
        "outputId": "b77f1625-26e2-4f1f-a111-5ae91d1d2150"
      },
      "execution_count": null,
      "outputs": [
        {
          "output_type": "stream",
          "name": "stdout",
          "text": [
            "10 3\n",
            "4\n"
          ]
        }
      ]
    },
    {
      "cell_type": "code",
      "source": [
        "b, n = map(int, input().split())\n",
        "\n",
        "a = round(b ** (1 / n))\n",
        "\n",
        "candidates = [a, a - 1, a + 1]\n",
        "\n",
        "print(min(candidates, key=lambda x: abs(b - x ** n)))"
      ],
      "metadata": {
        "colab": {
          "base_uri": "https://localhost:8080/"
        },
        "id": "ACJkSWFA4Mga",
        "outputId": "aad8911a-edb6-4029-a3ab-2f41e38cde3e"
      },
      "execution_count": null,
      "outputs": [
        {
          "output_type": "stream",
          "name": "stdout",
          "text": [
            "1000000 9\n",
            "4\n",
            "4\n"
          ]
        }
      ]
    },
    {
      "cell_type": "code",
      "source": [
        "for star in range(1, 10):\n",
        "    for tri in range(0, 10):\n",
        "        for sqa in range(0, 10):\n",
        "            left = star * 100 + tri * 10 + sqa\n",
        "            right = star * 10 + tri\n",
        "            if left - right == sqa * 10 + sqa:\n",
        "                print(f\"{left}-{right}={sqa * 10 + sqa}\")\n"
      ],
      "metadata": {
        "colab": {
          "base_uri": "https://localhost:8080/"
        },
        "id": "dk7aUaTM8rJg",
        "outputId": "6a37caff-38dc-438d-bc8c-c4eae1396dbd"
      },
      "execution_count": null,
      "outputs": [
        {
          "output_type": "stream",
          "name": "stdout",
          "text": [
            "109 - 10 = 99\n"
          ]
        }
      ]
    },
    {
      "cell_type": "code",
      "source": [
        "from itertools import permutations\n",
        "\n",
        "def solve_cryptarithm():\n",
        "    for perm in permutations(range(10), 10):\n",
        "        F, O, R, T, Y, E, N, S, I, X = perm\n",
        "        if F == 0 or S == 0 or T == 0:\n",
        "            continue\n",
        "\n",
        "        forty = 10000 * F + 1000 * O + 100 * R + 10 * T + Y\n",
        "        ten = 100 * T + 10 * E + N\n",
        "        sixty = 10000 * S + 1000 * I + 100 * X + 10 * T + Y\n",
        "\n",
        "        if forty + ten + ten == sixty:\n",
        "            print(f\"{forty}+{ten}+{ten}={sixty}\")\n",
        "            return\n",
        "\n",
        "solve_cryptarithm()\n",
        "\n"
      ],
      "metadata": {
        "colab": {
          "base_uri": "https://localhost:8080/"
        },
        "id": "XSPqwn5LUG68",
        "outputId": "bfdffd2b-8914-499c-f866-a9ea62379899"
      },
      "execution_count": null,
      "outputs": [
        {
          "output_type": "stream",
          "name": "stdout",
          "text": [
            "29786 + 850 + 850 = 31486\n",
            "F=2, O=9, R=7, T=8, Y=6, E=5, N=0, S=3, I=1, X=4\n"
          ]
        }
      ]
    },
    {
      "cell_type": "code",
      "source": [
        "#2016\n",
        "a = int(input()) // 3\n",
        "b = input()[::-1]\n",
        "\n",
        "c = [b[3*i:3*i+3] for i in range(a)]\n",
        "if b[3*a:]:\n",
        "    c.append(b[3*a:])\n",
        "\n",
        "d = ','.join([i[::-1] for i in c[::-1]])\n",
        "\n",
        "print(d)\n"
      ],
      "metadata": {
        "colab": {
          "base_uri": "https://localhost:8080/"
        },
        "id": "HA3zon1pdkCK",
        "outputId": "d287b16f-0281-4133-e6c0-ff783077765d"
      },
      "execution_count": null,
      "outputs": [
        {
          "output_type": "stream",
          "name": "stdout",
          "text": [
            "8\n",
            "12421421\n",
            "12,421,421\n"
          ]
        }
      ]
    },
    {
      "cell_type": "code",
      "source": [
        "#2020\n",
        "a = input()\n",
        "symbol = {'I':1,'V':5,'X':10,\"L\":50,'C':100, 'D':500, 'M':1000}\n",
        "\n",
        "num,mjy  = [],[]\n",
        "for i in a:\n",
        "  try:\n",
        "    num.append(int(i))\n",
        "  except:\n",
        "    mjy.append(i)\n",
        "\n",
        "b = 0\n",
        "for i in range(len(mjy)):\n",
        "    if i == len(mjy) - 1:\n",
        "        b += symbol[mjy[i]] * num[i]\n",
        "    elif symbol[mjy[i]] >= symbol[mjy[i + 1]]:\n",
        "        b += symbol[mjy[i]] * num[i]\n",
        "    else:\n",
        "        b -= symbol[mjy[i]] * num[i]\n",
        "\n",
        "print(b)"
      ],
      "metadata": {
        "colab": {
          "base_uri": "https://localhost:8080/"
        },
        "id": "mudABnB0PK6M",
        "outputId": "705ff34e-93d8-4c9e-f435-bd3f8dd74b06"
      },
      "execution_count": null,
      "outputs": [
        {
          "output_type": "stream",
          "name": "stdout",
          "text": [
            "3M1D2C\n",
            "3700\n"
          ]
        }
      ]
    },
    {
      "cell_type": "code",
      "source": [
        "#2021\n",
        "\n",
        "import sys\n",
        "from collections import defaultdict\n",
        "\n",
        "input = sys.stdin.read\n",
        "data = input().split()\n",
        "\n",
        "n = int(data[0])\n",
        "b = defaultdict(int)\n",
        "\n",
        "for i in range(1, n + 1):\n",
        "    c = int(data[i])\n",
        "    b[c] += 1\n",
        "\n",
        "k = list(b)\n",
        "k.sort(key=lambda x: (-b[x], x))\n",
        "\n",
        "mv = [x for x in k if b[x] == b[k[0]]]\n",
        "sv = [x for x in k if b[x] < b[k[0]]]\n",
        "if sv:\n",
        "    sv = [x for x in sv if b[x] == b[sv[0]]]\n",
        "\n",
        "if len(mv) > 1:\n",
        "    res = max(mv) - min(mv)\n",
        "else:\n",
        "    res = max(abs(max(mv) - min(sv)), abs(min(mv) - max(sv)))\n",
        "\n",
        "print(res)\n",
        "\n",
        "\n",
        "\n"
      ],
      "metadata": {
        "colab": {
          "base_uri": "https://localhost:8080/"
        },
        "id": "US2hKXOmyvzx",
        "outputId": "414df028-423b-4304-a540-0b897849d4f9"
      },
      "execution_count": null,
      "outputs": [
        {
          "output_type": "stream",
          "name": "stdout",
          "text": [
            "4\n",
            "10\n",
            "6\n",
            "1\n",
            "8\n",
            "4\n"
          ]
        }
      ]
    },
    {
      "cell_type": "code",
      "source": [
        "#2022\n",
        "res = 0\n",
        "chk = \"\"\n",
        "n = int(input())\n",
        "tar = input()\n",
        "\n",
        "def sol():\n",
        "    fst = -1\n",
        "    for i in range(0, len(chk)):\n",
        "        if chk[i] == tar[0]:\n",
        "            fst = i\n",
        "            for j in range(fst + 1, len(chk)):\n",
        "                if chk[j] == tar[1]:\n",
        "                    dist = j - fst\n",
        "                    tar_idx = 2\n",
        "                    chk_idx = 1\n",
        "                    while True:\n",
        "                        try:\n",
        "                            if tar[tar_idx] == chk[j + (dist * chk_idx)]:\n",
        "                                if tar_idx == len(tar) - 1:\n",
        "                                    return 1\n",
        "                                tar_idx += 1\n",
        "                                chk_idx += 1\n",
        "                            else:\n",
        "                                break\n",
        "                        except:\n",
        "                            break\n",
        "    return 0\n",
        "\n",
        "for _ in range(n):\n",
        "    chk = input()\n",
        "    res += sol()\n",
        "\n",
        "print(res)\n",
        "\n"
      ],
      "metadata": {
        "colab": {
          "base_uri": "https://localhost:8080/"
        },
        "id": "J3cUj1zW-xqe",
        "outputId": "3305aaad-6565-42fc-836d-24d23cf3aaea"
      },
      "execution_count": null,
      "outputs": [
        {
          "output_type": "stream",
          "name": "stdout",
          "text": [
            "4\n",
            "bar\n",
            "abracadabras\n",
            "bathroom\n",
            "bar\n",
            "bartender\n",
            "4\n"
          ]
        }
      ]
    },
    {
      "cell_type": "code",
      "source": [
        "#2023\n",
        "def excel_column(n):\n",
        "    result = []\n",
        "    while n > 0:\n",
        "        n -= 1\n",
        "        remainder = n % 26 #알파벳 번호\n",
        "        result.append(chr(remainder + ord('A')))\n",
        "        n = n // 26  #다음 알파벳 구하기 위해서\n",
        "\n",
        "    result.reverse()\n",
        "    return ''.join(result)\n",
        "\n",
        "a = int(input())\n",
        "print(excel_column(a))"
      ],
      "metadata": {
        "colab": {
          "base_uri": "https://localhost:8080/"
        },
        "id": "_Vp5bb22mMtK",
        "outputId": "e819cb1a-c872-4574-ce68-2db93484c1c2"
      },
      "execution_count": null,
      "outputs": [
        {
          "output_type": "stream",
          "name": "stdout",
          "text": [
            "29\n",
            "AC\n"
          ]
        }
      ]
    },
    {
      "cell_type": "code",
      "source": [
        "#2024\n",
        "a = {1: '일', 2: '이', 3: '삼', 4: '사', 5: '오', 6: '육', 7: '칠', 8: '팔', 9: '구', 0: ''}\n",
        "uni = ['', '십', '백', '천']\n",
        "big = ['', '만', '억', '조']\n",
        "\n",
        "num = input()\n",
        "n_len = len(num)\n",
        "res = ''\n",
        "\n",
        "if num == '0':\n",
        "    res = '영'\n",
        "else:\n",
        "    for i, dig in enumerate(num):\n",
        "        n = int(dig)\n",
        "        pos = n_len - i - 1\n",
        "\n",
        "        if n != 0:\n",
        "            res += a[n] + uni[pos % 4]\n",
        "\n",
        "        if pos % 4 == 0 and pos // 4 > 0:\n",
        "            if res[-1] not in big:\n",
        "                res += big[pos // 4]\n",
        "\n",
        "print(res)"
      ],
      "metadata": {
        "colab": {
          "base_uri": "https://localhost:8080/"
        },
        "id": "pRe5o3fJFZXE",
        "outputId": "139e1574-3a14-4fc3-abcb-addaa812f01a"
      },
      "execution_count": null,
      "outputs": [
        {
          "output_type": "stream",
          "name": "stdout",
          "text": [
            "100000000\n",
            "일억만\n"
          ]
        }
      ]
    },
    {
      "cell_type": "code",
      "source": [
        "#2027\n",
        "\n",
        "a = int(input())\n",
        "cw = [1,1]\n",
        "\n",
        "b = cw[-1]\n",
        "for i in range(a-2):\n",
        "  cw += [cw[b-1]+cw[-(b)]]\n",
        "  b = cw[-1]\n",
        "\n",
        "print(cw[-1])"
      ],
      "metadata": {
        "colab": {
          "base_uri": "https://localhost:8080/"
        },
        "id": "wfMhTIOjggvk",
        "outputId": "52635cf0-813e-4234-f51f-a9467ef7b9ad"
      },
      "execution_count": null,
      "outputs": [
        {
          "output_type": "stream",
          "name": "stdout",
          "text": [
            "5\n",
            "3\n"
          ]
        }
      ]
    },
    {
      "cell_type": "code",
      "source": [
        "#2028\n",
        "\n",
        "def ys(n):\n",
        "    c = 0\n",
        "    for i in range(1, int(n**0.5) + 1):\n",
        "        if n % i == 0:\n",
        "            c += 1\n",
        "            if i != n // i:\n",
        "                c += 1\n",
        "    return c\n",
        "\n",
        "a = int(input())\n",
        "\n",
        "b,i = 0,0\n",
        "while True:\n",
        "  i += 1\n",
        "  b += i\n",
        "  if ys(b) > a:\n",
        "    print(b)\n",
        "    break\n",
        "\n"
      ],
      "metadata": {
        "colab": {
          "base_uri": "https://localhost:8080/"
        },
        "id": "En3OhpahMCfo",
        "outputId": "2cb5bed7-d3b1-4e49-b76a-671511591e97"
      },
      "execution_count": null,
      "outputs": [
        {
          "output_type": "stream",
          "name": "stdout",
          "text": [
            "8\n",
            "36\n"
          ]
        }
      ]
    },
    {
      "cell_type": "code",
      "source": [
        "#2031\n",
        "\n",
        "def excel_column_to_number(column):\n",
        "    result = 0\n",
        "    length = len(column)\n",
        "\n",
        "    for i in range(length):\n",
        "        result *= 26\n",
        "        result += ord(column[i]) - ord('A') + 1\n",
        "\n",
        "    return result\n",
        "\n",
        "column = input()\n",
        "\n",
        "print(excel_column_to_number(column))\n"
      ],
      "metadata": {
        "colab": {
          "base_uri": "https://localhost:8080/"
        },
        "id": "rHks8CEY4r5n",
        "outputId": "e3311439-7bd5-43d6-8af5-5fc5bf129552"
      },
      "execution_count": null,
      "outputs": [
        {
          "output_type": "stream",
          "name": "stdout",
          "text": [
            "SFA\n",
            "13001\n"
          ]
        }
      ]
    },
    {
      "cell_type": "code",
      "source": [
        "#2032\n",
        "def dec_to_bin_frac(dec, pre=10):\n",
        "    res = []\n",
        "    cnt = 0\n",
        "    while dec != 0 and cnt < pre:\n",
        "        dec *= 2\n",
        "        bit = int(dec)\n",
        "        res.append(str(bit))\n",
        "        dec -= bit\n",
        "        cnt += 1\n",
        "\n",
        "    return ''.join(res)\n",
        "\n",
        "dec = float('0.'+input())\n",
        "r = dec_to_bin_frac(dec)\n",
        "if len(r) == 10:\n",
        "  print(r)\n",
        "else:\n",
        "  while len(r) != 10:\n",
        "    r+='0'\n",
        "  print(r)"
      ],
      "metadata": {
        "colab": {
          "base_uri": "https://localhost:8080/"
        },
        "id": "AUuT_5jz5YI0",
        "outputId": "20720f3e-79d2-46cb-db29-2859c9190e51"
      },
      "execution_count": null,
      "outputs": [
        {
          "output_type": "stream",
          "name": "stdout",
          "text": [
            "0625\n",
            "0001000000\n"
          ]
        }
      ]
    },
    {
      "cell_type": "code",
      "source": [
        "000000==000000"
      ],
      "metadata": {
        "colab": {
          "base_uri": "https://localhost:8080/",
          "height": 110
        },
        "id": "ZdtFUz_99sjD",
        "outputId": "45885c83-0e56-4168-c6ec-222b976d4eb4"
      },
      "execution_count": null,
      "outputs": [
        {
          "output_type": "error",
          "ename": "SyntaxError",
          "evalue": "leading zeros in decimal integer literals are not permitted; use an 0o prefix for octal integers (<ipython-input-56-2166bd37b705>, line 1)",
          "traceback": [
            "\u001b[0;36m  File \u001b[0;32m\"<ipython-input-56-2166bd37b705>\"\u001b[0;36m, line \u001b[0;32m1\u001b[0m\n\u001b[0;31m    0001000000==0001000000\u001b[0m\n\u001b[0m    ^\u001b[0m\n\u001b[0;31mSyntaxError\u001b[0m\u001b[0;31m:\u001b[0m leading zeros in decimal integer literals are not permitted; use an 0o prefix for octal integers\n"
          ]
        }
      ]
    },
    {
      "cell_type": "code",
      "source": [
        "#2039\n",
        "a,b,c,d,e,f,g = map(int, input().split())\n",
        "\n",
        "h,m = a,b\n",
        "for i in range(1,e+1):\n",
        "\n",
        "  print(f'{h}:{m:02d}-', end='')\n",
        "\n",
        "  m += c\n",
        "  if m >= 60:\n",
        "    h += m // 60\n",
        "    m = m % 60\n",
        "  print(f'{h}:{m:02d} {i}교시')\n",
        "\n",
        "  if i != f:\n",
        "    m += d\n",
        "    if m >= 60:\n",
        "      h += m // 60\n",
        "      m = m % 60\n",
        "\n",
        "  if i == f:\n",
        "    print(f'{h}:{m:02d}-', end='')\n",
        "    m += g\n",
        "    if m >= 60:\n",
        "      h += m // 60\n",
        "      m = m % 60\n",
        "    print(f'{h}:{m:02d} 점심시간')"
      ],
      "metadata": {
        "colab": {
          "base_uri": "https://localhost:8080/"
        },
        "id": "a7Pygv5Qeh-r",
        "outputId": "1816726c-a584-4829-ee4b-999612789340"
      },
      "execution_count": null,
      "outputs": [
        {
          "output_type": "stream",
          "name": "stdout",
          "text": [
            "6 45 55 8 10 6 78\n",
            "6:45-7:40 1교시\n",
            "7:48-8:43 2교시\n",
            "8:51-9:46 3교시\n",
            "9:54-10:49 4교시\n",
            "10:57-11:52 5교시\n",
            "12:00-12:55 6교시\n",
            "12:55-14:13 점심시간\n",
            "14:13-15:08 7교시\n",
            "15:16-16:11 8교시\n",
            "16:19-17:14 9교시\n",
            "17:22-18:17 10교시\n"
          ]
        }
      ]
    },
    {
      "cell_type": "code",
      "source": [
        "#2043\n",
        "word = input()\n",
        "\n",
        "fst = word[0].upper()\n",
        "\n",
        "map = {\n",
        "    'b': '1', 'f': '1', 'p': '1', 'v': '1',\n",
        "    'c': '2', 'g': '2', 'j': '2', 'k': '2', 'q': '2', 's': '2', 'x': '2', 'z': '2',\n",
        "    'd': '3', 't': '3',\n",
        "    'l': '4',\n",
        "    'm': '5', 'n': '5',\n",
        "    'r': '6'\n",
        "}\n",
        "\n",
        "enc = []\n",
        "prev = None\n",
        "for ch in word[1:].lower():\n",
        "    if ch in \"aehiouwy\":\n",
        "        prev = None\n",
        "        continue\n",
        "    dig = map.get(ch, '')\n",
        "    if dig != prev or prev is None:\n",
        "        enc.append(dig)\n",
        "        prev = dig\n",
        "\n",
        "res = fst + ''.join(enc)\n",
        "\n",
        "print(res[:4].ljust(4, '0'))"
      ],
      "metadata": {
        "id": "_9KdML-Q8sD0",
        "colab": {
          "base_uri": "https://localhost:8080/"
        },
        "outputId": "8a49b243-c92c-45d1-cce4-7ad6172f91d1"
      },
      "execution_count": null,
      "outputs": [
        {
          "output_type": "stream",
          "name": "stdout",
          "text": [
            "Codeup\n",
            "C310\n"
          ]
        }
      ]
    },
    {
      "cell_type": "code",
      "source": [
        "a, b = map(int, input().split())\n",
        "\n",
        "for i in range(a, b+1):\n",
        "  count = sum(1 for digit in str(i) if digit in '369')\n",
        "  if count > 0:\n",
        "      print('K' * count)\n",
        "  else:\n",
        "      print(i)"
      ],
      "metadata": {
        "colab": {
          "base_uri": "https://localhost:8080/"
        },
        "id": "ec9FAyhu1YWc",
        "outputId": "69ee9d8c-a1a0-4112-c82f-8be9a27e1a04"
      },
      "execution_count": null,
      "outputs": [
        {
          "output_type": "stream",
          "name": "stdout",
          "text": [
            "3 16\n",
            "K\n",
            "4\n",
            "5\n",
            "K\n",
            "7\n",
            "8\n",
            "K\n",
            "10\n",
            "11\n",
            "12\n",
            "K\n",
            "14\n",
            "15\n",
            "K\n"
          ]
        }
      ]
    },
    {
      "cell_type": "code",
      "source": [
        "a, b = map(int, input().split())\n",
        "c = sum([1 for i in range(a, b+1) for j in range(len(str(i))) if str(i)[j] == '1'])\n",
        "print(c)"
      ],
      "metadata": {
        "colab": {
          "base_uri": "https://localhost:8080/"
        },
        "id": "O0riHrlD1YUV",
        "outputId": "030767a8-f64f-403c-da67-a9c5f786f751"
      },
      "execution_count": null,
      "outputs": [
        {
          "output_type": "stream",
          "name": "stdout",
          "text": [
            "9 13\n",
            "5\n"
          ]
        }
      ]
    },
    {
      "cell_type": "code",
      "source": [
        "from itertools import groupby\n",
        "\n",
        "def look_and_say(sequence):\n",
        "    return ''.join(str(len(list(group))) + digit for digit, group in groupby(sequence))\n",
        "\n",
        "def look_and_say_range(a, b):\n",
        "    sequence = \"1\"\n",
        "    for i in range(1, b + 1):\n",
        "        if i >= a:\n",
        "            reversed_sequence = ' '.join(sequence[::-1])\n",
        "            print(reversed_sequence)\n",
        "        sequence = look_and_say(sequence)\n",
        "    return ''\n",
        "\n",
        "a,b = map(int, input().split())\n",
        "print(look_and_say_range(a, b))\n"
      ],
      "metadata": {
        "colab": {
          "base_uri": "https://localhost:8080/"
        },
        "id": "O7zAbIYsfHtD",
        "outputId": "bf0a2e85-02a6-4291-b16f-e1abfd032fb2"
      },
      "execution_count": null,
      "outputs": [
        {
          "output_type": "stream",
          "name": "stdout",
          "text": [
            "1 6\n",
            "1\n",
            "1 1\n",
            "1 2\n",
            "1 1 2 1\n",
            "1 2 2 1 1 1\n",
            "1 1 2 2 1 3\n",
            "\n"
          ]
        }
      ]
    },
    {
      "cell_type": "code",
      "source": [
        "#2017\n",
        "def f(n, k):\n",
        "    if n == 0:\n",
        "        return\n",
        "    f(n // k, k)\n",
        "    if n % k < 10:\n",
        "        print(a[n % k], end='')\n",
        "    else:\n",
        "        print(a[n % k], end='')\n",
        "\n",
        "a = ['0', '1', '2', '3', '4', '5', '6', '7', '8', '9',\n",
        "     'A', 'B', 'C', 'D', 'E', 'F', 'G', 'H', 'I', 'J',\n",
        "     'K', 'L', 'M', 'N', 'O', 'P', 'Q', 'R', 'S', 'T',\n",
        "     'U', 'V', 'W', 'X', 'Y', 'Z']\n",
        "\n",
        "n, k = map(int, input().split())\n",
        "if n == 0:\n",
        "    print(\"0\")\n",
        "else:\n",
        "    f(n, k)"
      ],
      "metadata": {
        "id": "ITjs6AHf5okT"
      },
      "execution_count": null,
      "outputs": []
    },
    {
      "cell_type": "code",
      "source": [
        "#2019\n",
        "import math\n",
        "\n",
        "a,b,c = map(int, input().split())\n",
        "\n",
        "d = b**2 - 4*a*c\n",
        "\n",
        "if d > 0:\n",
        "    x1 = (-b + math.sqrt(d)) / (2*a)\n",
        "    x2 = (-b - math.sqrt(d)) / (2*a)\n",
        "    print(f\"{x1:.02f}\\n{x2:.02f}\")\n",
        "elif d == 0:\n",
        "    x = -b / (2*a)\n",
        "    print(f'{x:.02f}')\n",
        "else:\n",
        "    real_part = -b / (2*a)\n",
        "    imaginary_part = math.sqrt(-d) / (2*a)\n",
        "    print(f\"{real_part:.02f}+{imaginary_part*-1 if imaginary_part < 0 else imaginary_part:.02f}i\\n{real_part:.02f}-{imaginary_part*-1 if imaginary_part < 0 else imaginary_part:.02f}i\")"
      ],
      "metadata": {
        "colab": {
          "base_uri": "https://localhost:8080/"
        },
        "id": "ZDb543ibxAph",
        "outputId": "18056b63-7f2a-49d9-e3bc-bcf0618fd5d1"
      },
      "execution_count": null,
      "outputs": [
        {
          "output_type": "stream",
          "name": "stdout",
          "text": [
            "-9 -8 -4\n",
            "-0.44+0.50i\n",
            "-0.44-0.50i\n"
          ]
        }
      ]
    },
    {
      "cell_type": "code",
      "source": [
        "#2025\n",
        "\n",
        "a = input().split('/')\n",
        "c = a[1]+a[2]\n",
        "b = []\n",
        "\n",
        "a0_list = list(a[0])\n",
        "e = True\n",
        "try:\n",
        "  for i in c:\n",
        "    if i in a[0]:\n",
        "      b.append(i)\n",
        "      a0_list[a0_list.index(i)] = ''\n",
        "except:\n",
        "  print('no')\n",
        "  e = False\n",
        "\n",
        "if e and len(b) == 4:\n",
        "  print('yes')\n",
        "elif len(b) < 4 and e:\n",
        "  print('no')"
      ],
      "metadata": {
        "colab": {
          "base_uri": "https://localhost:8080/"
        },
        "id": "gxFje2xpIgaD",
        "outputId": "56ee1998-be37-43af-ab1c-5064f4bd9da1"
      },
      "execution_count": null,
      "outputs": [
        {
          "output_type": "stream",
          "name": "stdout",
          "text": [
            "1001/10/11\n",
            "no\n"
          ]
        }
      ]
    },
    {
      "cell_type": "code",
      "source": [
        "#2026\n",
        "a = list(input())\n",
        "\n",
        "for i in a:\n",
        "  b = int(i, 16)\n",
        "  c = bin(b)[2:]\n",
        "\n",
        "  print(c.zfill(len(i) * 4), end = ' ') # .zfill 주어진 길이만큼 앞에 0을 붙혀주는\n"
      ],
      "metadata": {
        "colab": {
          "base_uri": "https://localhost:8080/"
        },
        "id": "mkUlY3wItCXy",
        "outputId": "130cfb8b-b23c-4002-87bb-368c16956c88"
      },
      "execution_count": null,
      "outputs": [
        {
          "output_type": "stream",
          "name": "stdout",
          "text": [
            "A3\n",
            "1010 0011 "
          ]
        }
      ]
    },
    {
      "cell_type": "code",
      "source": [
        "#2029\n",
        "# m, n = map(int, input().split())\n",
        "\n",
        "# a = [[] for i in range(m+1)]\n",
        "# a[0] = [1,1]\n",
        "\n",
        "# for i in range(1,m):\n",
        "#   for j in range(i):\n",
        "#     a[i].append(a[i-1][j-1]+a[i-1][j])\n",
        "\n",
        "##############################그냥 로직을 틀어버려\n",
        "\n",
        "m, n = map(int, input().split())\n",
        "\n",
        "a = [[] for _ in range(m+1)]\n",
        "a[0] = [1, 1]\n",
        "\n",
        "for i in range(1, m):\n",
        "  c = [1]\n",
        "  p = a[i-1]\n",
        "\n",
        "  for j in range(len(p) - 1):\n",
        "    c.append(p[j] + p[j+1])\n",
        "    c.append(p[j+1])\n",
        "\n",
        "  c.append(1)\n",
        "  a[i] = c\n",
        "\n",
        "print(a[m-1][n-1])\n"
      ],
      "metadata": {
        "colab": {
          "base_uri": "https://localhost:8080/"
        },
        "id": "mnM4NL6ALy7u",
        "outputId": "6e7e3165-0026-45bc-ff5e-b3017a7a187d"
      },
      "execution_count": null,
      "outputs": [
        {
          "output_type": "stream",
          "name": "stdout",
          "text": [
            "5 3\n",
            "4\n"
          ]
        }
      ]
    },
    {
      "cell_type": "code",
      "source": [
        "#2033\n",
        "k,n = map(int, input().split())\n",
        "\n",
        "mat = []\n",
        "\n",
        "for i in range(n):\n",
        "  s1, s2 = map(int, input().split())\n",
        "  mat.append((s1-1, s2-1))\n",
        "\n",
        "p = int(input())-1\n",
        "\n",
        "for i,j in mat:\n",
        "  if p == i:\n",
        "    p = j\n",
        "  elif p == j:\n",
        "    p = i\n",
        "\n",
        "print(p+1)"
      ],
      "metadata": {
        "colab": {
          "base_uri": "https://localhost:8080/"
        },
        "id": "TWPzAJ2Iug4i",
        "outputId": "9f7d8d44-8339-46bb-c89d-c860c29069ab"
      },
      "execution_count": null,
      "outputs": [
        {
          "output_type": "stream",
          "name": "stdout",
          "text": [
            "3 2\n",
            "1 2\n",
            "2 3\n",
            "1\n",
            "2\n"
          ]
        }
      ]
    },
    {
      "cell_type": "code",
      "source": [
        "#2034\n",
        "\n",
        "from itertools import combinations\n",
        "\n",
        "def s(a,b,c):\n",
        "  for i in combinations(c,2):\n",
        "    if sum(i) == a and i[0] * i[1] == b:\n",
        "        i = sorted(i)\n",
        "        return f\"x{i[0] if i[0] < 0 else ('+'+str(i[0]))}\\nx{i[1] if i[1] < 0 else('+'+str(i[1]))}\"\n",
        "\n",
        "  for i in c:\n",
        "    if i+i == a and i * i == b:\n",
        "      return f\"x{i if i < 0 else ('+'+str(i))}\"\n",
        "\n",
        "  return -1\n",
        "\n",
        "a,b = map(int, input().split())\n",
        "\n",
        "c = []\n",
        "for i in range(1, abs(b)+1):\n",
        "  if b % i == 0:\n",
        "    c.append(-i)\n",
        "    c.append(i)\n",
        "\n",
        "print(s(a,b,c))"
      ],
      "metadata": {
        "id": "IRX0e7sjk7Ak",
        "colab": {
          "base_uri": "https://localhost:8080/"
        },
        "outputId": "60bb8aa8-0183-4ef2-959e-0a693f204941"
      },
      "execution_count": null,
      "outputs": [
        {
          "output_type": "stream",
          "name": "stdout",
          "text": [
            "-4 -5\n",
            "x-5\n",
            "x+1\n"
          ]
        }
      ]
    },
    {
      "cell_type": "code",
      "source": [
        "#2035\n",
        "a = int(input())\n",
        "b = list(map(int, input().split()))\n",
        "\n",
        "c = 0\n",
        "\n",
        "if b[0] == 0 and (a == 1 or b[1] == 0):\n",
        "    c += 1\n",
        "\n",
        "for i in range(1,a-1):\n",
        "  if b[i] == 1:\n",
        "    pass\n",
        "  elif b[i-1] == 0 and  b[i] == 0 and  b[i+1] == 0:\n",
        "    c+=1\n",
        "\n",
        "if b[-1] == 0 and (a == 1 or b[-2] == 0):\n",
        "    c += 1\n",
        "\n",
        "print(c if a != 1 else 1 if b[0] == 0 else 0)"
      ],
      "metadata": {
        "colab": {
          "base_uri": "https://localhost:8080/"
        },
        "id": "hEMrCWsn7xZc",
        "outputId": "9627b8b5-d607-42d8-e544-514d26babc92"
      },
      "execution_count": null,
      "outputs": [
        {
          "output_type": "stream",
          "name": "stdout",
          "text": [
            "1 \n",
            "1\n",
            "0\n"
          ]
        }
      ]
    },
    {
      "cell_type": "code",
      "source": [
        "#2037\n",
        "\n",
        "a = int(input())\n",
        "\n",
        "b = set()\n",
        "i = a\n",
        "while True:\n",
        "  if i // a == 1:\n",
        "    b.add(i)\n",
        "  else:\n",
        "    break\n",
        "  i+=1\n",
        "\n",
        "print(b)\n"
      ],
      "metadata": {
        "colab": {
          "base_uri": "https://localhost:8080/"
        },
        "id": "U7hteLnzk8lm",
        "outputId": "e4ed9a77-561f-427d-8358-38e29f1343f8"
      },
      "execution_count": null,
      "outputs": [
        {
          "output_type": "stream",
          "name": "stdout",
          "text": [
            "8\n",
            "{8, 9, 10, 11, 12, 13, 14, 15}\n"
          ]
        }
      ]
    },
    {
      "cell_type": "code",
      "source": [
        "#2040\n",
        "a = list(map(int, input().split()))\n",
        "count = 0\n",
        "\n",
        "k = -1\n",
        "for i in range(10):\n",
        "    if i >= 1 and a[i] == a[i-1]:\n",
        "        count += 1\n",
        "    elif i >= 1 and a[i] != a[i-1]:\n",
        "        for j in range(2, 10):\n",
        "            if i >= j and a[i-1] != a[i-j]:\n",
        "                k = a[i-j]\n",
        "                break\n",
        "        if i >= j and a[i] == k:\n",
        "            count += 1\n",
        "\n",
        "print(count)\n"
      ],
      "metadata": {
        "colab": {
          "base_uri": "https://localhost:8080/"
        },
        "id": "NI6eW17BcAK-",
        "outputId": "18962b0b-30c6-44c1-c573-c33047e53aaa"
      },
      "execution_count": null,
      "outputs": [
        {
          "output_type": "stream",
          "name": "stdout",
          "text": [
            "3 4 4 3 5 6 5 7 7 5 \n",
            "4\n"
          ]
        }
      ]
    },
    {
      "cell_type": "code",
      "source": [
        "#2041\n",
        "\n",
        "a = [list(map(str, input().split())) for i in range(int(input()))]\n",
        "\n",
        "for i in range(len(a)):\n",
        "  b = ''\n",
        "  for j in a[i][-1]:\n",
        "    try:\n",
        "      if type(int(j)) == int:\n",
        "        b += j\n",
        "    except:\n",
        "      pass\n",
        "\n",
        "  a[i][-1] = int(b)\n",
        "\n",
        "b = {\"January\": 1, \"February\": 2, \"March\": 3, \"April\": 4, \"May\": 5, \"June\": 6,\n",
        "    \"July\": 7, \"August\": 8, \"September\": 9, \"October\": 10, \"November\": 11, \"December\": 12}\n",
        "\n",
        "y, m = 0, 0\n",
        "\n",
        "for i in range(1, len(a)):\n",
        "    prev_month = b[a[i-1][1]]\n",
        "    curr_month = b[a[i][1]]\n",
        "    prev_day = a[i-1][2]\n",
        "    curr_day = a[i][2]\n",
        "\n",
        "    if prev_month < curr_month:\n",
        "        continue\n",
        "    elif prev_month > curr_month:\n",
        "        y += 1\n",
        "\n",
        "    elif prev_month == curr_month:\n",
        "        if prev_day > curr_day:\n",
        "            y += 1\n",
        "\n",
        "if y > 0:\n",
        "    print(f'{a[0][0]} is {y} {\"year\" if y == 1 else \"years\"} older than {a[-1][0]}.')\n",
        "else:\n",
        "    print('No difference.')\n"
      ],
      "metadata": {
        "id": "HGm3rPrPwnl5"
      },
      "execution_count": null,
      "outputs": []
    },
    {
      "cell_type": "code",
      "source": [
        "#2042\n",
        "\n",
        "arr = [[0] * 19 for _ in range(19)]\n",
        "\n",
        "def count(x, y, k):\n",
        "    c = 0\n",
        "    for i in range(x - (k // 2), x + (k // 2) + 1):\n",
        "        for j in range(y - (k // 2), y + (k // 2) + 1):\n",
        "            if arr[i][j] == 1:\n",
        "                c += 1\n",
        "    return c\n",
        "\n",
        "\n",
        "n = int(input())\n",
        "k = int(input())\n",
        "\n",
        "for i in range(2, n + 2):\n",
        "    row = list(map(int, input().split()))\n",
        "    for j in range(2, n + 2):\n",
        "        arr[i][j] = row[j - 2]\n",
        "\n",
        "max_count = 0\n",
        "best_x, best_y = 0, 0\n",
        "\n",
        "for i in range(2, n + 2):\n",
        "    for j in range(2, n + 2):\n",
        "        if arr[i][j] == 1:\n",
        "            continue\n",
        "\n",
        "        c = count(i, j, k)\n",
        "\n",
        "        if c > max_count and c < (k * k - 1):\n",
        "            max_count = c\n",
        "            best_x, best_y = i, j\n",
        "\n",
        "if max_count > 0:\n",
        "    print(f\"{best_x - 1} {best_y - 1}\")\n",
        "else:\n",
        "    print(\"119\")"
      ],
      "metadata": {
        "colab": {
          "base_uri": "https://localhost:8080/"
        },
        "id": "HKQzqXHb4mIv",
        "outputId": "6050101c-b08d-45e9-e58d-e720deca7b49"
      },
      "execution_count": null,
      "outputs": [
        {
          "name": "stdout",
          "output_type": "stream",
          "text": [
            "5\n",
            "3\n",
            "0 1 1 1 0 \n",
            "0 0 1 1 1 \n",
            "0 1 1 0 0 \n",
            "0 1 0 0 0 \n",
            "0 0 0 0 0 \n"
          ]
        },
        {
          "output_type": "execute_result",
          "data": {
            "text/plain": [
              "(1, 1)"
            ]
          },
          "metadata": {},
          "execution_count": 14
        }
      ]
    },
    {
      "cell_type": "code",
      "source": [
        "#2045\n",
        "def main():\n",
        "  n, m = map(int, input().split())\n",
        "  chk = [0] * (n + 1)\n",
        "  Ocnt = 0\n",
        "\n",
        "  for _ in range(m):\n",
        "      a, b = map(int, input().split())\n",
        "      chk[a] += 1\n",
        "      chk[b] += 1\n",
        "\n",
        "  for i in range(1, n + 1):\n",
        "      if chk[i] == 0:\n",
        "          print(\"NO\")\n",
        "          return\n",
        "      elif chk[i] % 2 == 1:\n",
        "          Ocnt += 1\n",
        "\n",
        "  if Ocnt == 0 or Ocnt == 2:\n",
        "      print(\"YES\")\n",
        "  else:\n",
        "      print(\"NO\")\n",
        "\n",
        "main()"
      ],
      "metadata": {
        "colab": {
          "base_uri": "https://localhost:8080/"
        },
        "id": "4NzqNanDByDC",
        "outputId": "deaf755e-fe75-4a94-8a97-6ee3040dafd9"
      },
      "execution_count": null,
      "outputs": [
        {
          "output_type": "stream",
          "name": "stdout",
          "text": [
            "4 7\n",
            "1 2 \n",
            "1 3\n",
            "1 4\n",
            "2 3\n",
            "2 3\n",
            "3 4\n",
            "3 4\n",
            "NO\n",
            "None\n"
          ]
        }
      ]
    },
    {
      "cell_type": "code",
      "source": [
        "#2046\n",
        "a = input().split('/')\n",
        "b = input().split('/')\n",
        "\n",
        "i = 0\n",
        "while a[i] == b[i]:\n",
        "  i+= 1\n",
        "\n",
        "u = len(a) - i - 1\n",
        "\n",
        "r = ['..'] * u + b[i:]\n",
        "\n",
        "print('/'.join(r) if len(r) > 2 else './'+'/'.join(r[0:]))\n",
        "\n",
        "\n"
      ],
      "metadata": {
        "colab": {
          "base_uri": "https://localhost:8080/"
        },
        "id": "Jjg43VfhCEcj",
        "outputId": "98623fb5-1cb1-4547-99c6-481fe755a854"
      },
      "execution_count": null,
      "outputs": [
        {
          "output_type": "stream",
          "name": "stdout",
          "text": [
            "/a/b/c/d/e/f/g/h/i/j/k/l/m/n/o/p/atp.exe\n",
            "/a/b/c/d/e/f/g/h/i/j/k/l/m/n/o/p/adp.exe\n",
            "./adp.exe\n"
          ]
        }
      ]
    },
    {
      "cell_type": "code",
      "source": [
        "#2048\n",
        "\n",
        "def sum_mat(b):\n",
        "  n = 1\n",
        "  for i in range(12):\n",
        "    n*=2\n",
        "    if b == n:\n",
        "      return 'yes'\n",
        "\n",
        "  return 'no'\n",
        "\n",
        "a = [list(map(int, input().split())) for i in range(4)]\n",
        "b = sum([sum(i) for i in a])\n",
        "\n",
        "print(sum_mat(b))"
      ],
      "metadata": {
        "colab": {
          "base_uri": "https://localhost:8080/"
        },
        "id": "EYEKDWJSF53d",
        "outputId": "75c81c9d-1ac3-4274-ca1d-2f57e43c45a2"
      },
      "execution_count": null,
      "outputs": [
        {
          "output_type": "stream",
          "name": "stdout",
          "text": [
            "2 2 2 2\n",
            "4 4 0 0\n",
            "0 16 0 0\n",
            "16 16 64 0\n",
            "yes\n"
          ]
        }
      ]
    },
    {
      "cell_type": "code",
      "source": [
        "#2049\n",
        "def move_up(a):\n",
        "    for j in range(4):\n",
        "        merged = [False] * 4\n",
        "        for i in range(1, 4):\n",
        "            if a[i][j] != 0:\n",
        "                while i > 0 and a[i-1][j] == 0:\n",
        "                    a[i-1][j] = a[i][j]\n",
        "                    a[i][j] = 0\n",
        "                    i -= 1\n",
        "\n",
        "                if i > 0 and a[i-1][j] == a[i][j] and not merged[i-1]:\n",
        "                    a[i-1][j] *= 2\n",
        "                    a[i][j] = 0\n",
        "                    merged[i-1] = True\n",
        "\n",
        "a = [list(map(int, input().split())) for _ in range(4)]\n",
        "\n",
        "move_up(a)\n",
        "\n",
        "for row in a:\n",
        "    print(*row)\n",
        "\n"
      ],
      "metadata": {
        "colab": {
          "base_uri": "https://localhost:8080/"
        },
        "id": "fPkQGTQxJi8-",
        "outputId": "0db39e5c-d8ea-4115-accb-a23aae7e61af"
      },
      "execution_count": null,
      "outputs": [
        {
          "output_type": "stream",
          "name": "stdout",
          "text": [
            "2 2 2 2\n",
            "0 0 0 0\n",
            "4 4 4 4\n",
            "4 4 4 4\n",
            "2 2 2 2\n",
            "8 8 8 8\n",
            "0 0 0 0\n",
            "0 0 0 0\n"
          ]
        }
      ]
    },
    {
      "cell_type": "code",
      "source": [
        "#2050\n",
        "SIZE = 4\n",
        "d = input()\n",
        "arr = [list(map(int, input().split())) for _ in range(SIZE)]\n",
        "\n",
        "def move(arr, push_fn, merge_fn):\n",
        "    moved = True\n",
        "    while moved:\n",
        "        moved = False\n",
        "        for k in range(SIZE):\n",
        "            before = [row[:] for row in arr]\n",
        "            push_fn(arr, k)\n",
        "            merge_fn(arr, k)\n",
        "            push_fn(arr, k)\n",
        "            if arr != before:\n",
        "                moved = True\n",
        "\n",
        "def merge_left(arr, k):\n",
        "    for i in range(SIZE - 1):\n",
        "        if arr[k][i] == arr[k][i + 1] and arr[k][i] != 0:\n",
        "            arr[k][i] *= 2\n",
        "            arr[k][i + 1] = 0\n",
        "\n",
        "def merge_right(arr, k):\n",
        "    arr[k].reverse()\n",
        "    merge_left(arr, k)\n",
        "    arr[k].reverse()\n",
        "\n",
        "def merge_up(arr, k):\n",
        "    for i in range(SIZE - 1):\n",
        "        if arr[i][k] == arr[i + 1][k] and arr[i][k] != 0:\n",
        "            arr[i][k] *= 2\n",
        "            arr[i + 1][k] = 0\n",
        "\n",
        "def push_left(arr, k):\n",
        "    arr[k] = [x for x in arr[k] if x != 0] + [0] * (SIZE - len([x for x in arr[k] if x != 0]))\n",
        "\n",
        "def push_up(arr, k):\n",
        "    col = [arr[i][k] for i in range(SIZE)]\n",
        "    col = [x for x in col if x != 0] + [0] * (SIZE - len([x for x in col if x != 0]))\n",
        "    for i in range(SIZE):\n",
        "        arr[i][k] = col[i]\n",
        "\n",
        "def push_right(arr, k):\n",
        "    arr[k].reverse()\n",
        "    push_left(arr, k)\n",
        "    arr[k].reverse()\n",
        "\n",
        "\n",
        "\n",
        "moves = {\n",
        "    'U': (push_up, merge_up),\n",
        "    'D': (lambda arr, k: push_up(arr[::-1], k), lambda arr, k: merge_up(arr[::-1], k)),\n",
        "    'L': (push_left, merge_left),\n",
        "    'R': (push_right, merge_right)\n",
        "}\n",
        "\n",
        "move(arr, *moves[d])\n",
        "\n",
        "for row in arr:\n",
        "    print(*row)\n"
      ],
      "metadata": {
        "colab": {
          "base_uri": "https://localhost:8080/"
        },
        "id": "raQgwMbeZO9c",
        "outputId": "55e7e447-527b-40a8-d563-1b80fee45fcd"
      },
      "execution_count": null,
      "outputs": [
        {
          "output_type": "stream",
          "name": "stdout",
          "text": [
            "U\n",
            "2 2 2 2\n",
            "2 2 2 2\n",
            "2 2 2 2\n",
            "2 2 2 2\n",
            "8 8 8 8\n",
            "0 0 0 0\n",
            "0 0 0 0\n",
            "0 0 0 0\n"
          ]
        }
      ]
    },
    {
      "cell_type": "code",
      "source": [
        "#2051\n",
        "r = 0\n",
        "a = [list(map(int, input().split())) for i in range(4)]\n",
        "\n",
        "n = int(input())\n",
        "\n",
        "for i in range(4):\n",
        "    for j in range(4):\n",
        "        t = a[i][j]\n",
        "        while t > 2:\n",
        "            r += a[i][j]\n",
        "            t //= 2\n",
        "\n",
        "print(r - n * 4)"
      ],
      "metadata": {
        "colab": {
          "base_uri": "https://localhost:8080/"
        },
        "id": "JFZdmwqfG5oq",
        "outputId": "0e440afe-0616-4494-98f0-22aee717264f"
      },
      "execution_count": null,
      "outputs": [
        {
          "output_type": "stream",
          "name": "stdout",
          "text": [
            "2 0 0 4\n",
            "8 4 0 0\n",
            " 0 0 0 0\n",
            "8 2 4 0\n",
            "3\n",
            "32\n"
          ]
        }
      ]
    },
    {
      "cell_type": "code",
      "source": [
        "#2055\n",
        "\n",
        "def f(n):\n",
        "    divisors = set()\n",
        "\n",
        "    for i in range(1, int(n**0.5) + 1):\n",
        "        if n % i == 0:\n",
        "            divisors.add(i)\n",
        "            divisors.add(n // i)\n",
        "\n",
        "    return sorted(divisors)\n",
        "\n",
        "a,b = map(int, input().split())\n",
        "print(*sorted(set(f(a)+f(b))))"
      ],
      "metadata": {
        "colab": {
          "base_uri": "https://localhost:8080/"
        },
        "id": "6YdDGfl5v5hD",
        "outputId": "d9b102f6-32f6-4047-fc68-d512ab175afb"
      },
      "execution_count": null,
      "outputs": [
        {
          "output_type": "stream",
          "name": "stdout",
          "text": [
            "61 4\n",
            "1 2 4 61\n"
          ]
        }
      ]
    },
    {
      "cell_type": "code",
      "source": [
        "#2061\n",
        "\n",
        "home = input()\n",
        "\n",
        "t = int(input())\n",
        "\n",
        "x = int(input())\n",
        "\n",
        "m,c = map(int, input().split())\n",
        "\n",
        "w = int(input())\n",
        "\n",
        "home = 10 if home == 'A' else 2 if home == 'S' else 1\n",
        "\n",
        "total = 0 + t\n",
        "\n",
        "total += (x*home)//w\n",
        "\n",
        "total *= c\n",
        "\n",
        "if total < m:\n",
        "  print('Yes')\n",
        "else:\n",
        "  print('No')"
      ],
      "metadata": {
        "id": "4UWLTIChurxE",
        "colab": {
          "base_uri": "https://localhost:8080/"
        },
        "outputId": "564d233c-433f-4e49-b70b-4e9870daa050"
      },
      "execution_count": null,
      "outputs": [
        {
          "output_type": "stream",
          "name": "stdout",
          "text": [
            "0\n",
            "1\n",
            "1\n",
            "1000 1000\n",
            "10\n",
            "No\n"
          ]
        }
      ]
    },
    {
      "cell_type": "code",
      "source": [
        "#2071\n",
        "import datetime\n",
        "\n",
        "n,y,m,d = map(int, input().split())\n",
        "\n",
        "print('\"Mathemagic!\"')\n",
        "print(n**2)\n",
        "print(datetime.date(y, m, d).strftime(\"%A\")) #요일 구하는"
      ],
      "metadata": {
        "colab": {
          "base_uri": "https://localhost:8080/"
        },
        "id": "jxuXiyGgHb3m",
        "outputId": "b55972e9-1421-487f-8347-6817ac9748e2"
      },
      "execution_count": null,
      "outputs": [
        {
          "output_type": "stream",
          "name": "stdout",
          "text": [
            "12 2016 5 9\n",
            "\"Mathemagic!\"\n",
            "144\n",
            "Monday\n"
          ]
        }
      ]
    },
    {
      "cell_type": "code",
      "source": [
        "#2076\n",
        "a = list(map(int, input().split()))\n",
        "\n",
        "score = 0\n",
        "frame = 0\n",
        "i = 0\n",
        "\n",
        "while frame < 10:\n",
        "    if a[i] == 10:\n",
        "        score += 10 + a[i+1] + a[i+2]\n",
        "        frame += 1\n",
        "        i += 1\n",
        "    elif a[i] + a[i+1] == 10:\n",
        "        score += 10 + a[i+2]\n",
        "        frame += 1\n",
        "        i += 2\n",
        "    else:\n",
        "        score += a[i] + a[i+1]\n",
        "        frame += 1\n",
        "        i += 2\n",
        "\n",
        "print(score)\n",
        "\n",
        "\n"
      ],
      "metadata": {
        "colab": {
          "base_uri": "https://localhost:8080/"
        },
        "id": "fC32KQTeIkf7",
        "outputId": "b1362900-c693-4956-c8da-73d05acb6958"
      },
      "execution_count": null,
      "outputs": [
        {
          "output_type": "stream",
          "name": "stdout",
          "text": [
            "5 5 8 2 6 3 10 8 2 7 1 0 9 9 1 10 8 2 9\n",
            "156\n"
          ]
        }
      ]
    },
    {
      "cell_type": "code",
      "source": [
        "#2080\n",
        "from datetime import datetime\n",
        "\n",
        "date_format = \"%Y %m %d\"\n",
        "d1_input = input().split()\n",
        "d2_input = input().split()\n",
        "d1 = datetime.strptime(f\"{d1_input[0].zfill(4)} {d1_input[1].zfill(2)} {d1_input[2].zfill(2)}\", date_format)\n",
        "d2 = datetime.strptime(f\"{d2_input[0].zfill(4)} {d2_input[1].zfill(2)} {d2_input[2].zfill(2)}\", date_format)\n",
        "\n",
        "\n",
        "a = (d2 - d1).days\n",
        "print(f'D{-a if a > 0 else \"-day\" if a == 0 else \"+\"+str(-a) }')"
      ],
      "metadata": {
        "colab": {
          "base_uri": "https://localhost:8080/"
        },
        "id": "oAhBHRQXLNSw",
        "outputId": "9e54e48b-1d0b-48ac-b35f-2f40fbc82733"
      },
      "execution_count": null,
      "outputs": [
        {
          "output_type": "stream",
          "name": "stdout",
          "text": [
            "2000 4 4\n",
            "200 2 2\n",
            "D+657498\n"
          ]
        }
      ]
    },
    {
      "cell_type": "code",
      "source": [
        "#2083\n",
        "a, b = map(int, input().split())\n",
        "c = list(map(int, input().split()))\n",
        "\n",
        "print(c.index(b)+1 if b in c else -1)\n",
        "\n",
        "left, right = 0, len(c) - 1\n",
        "position = -1\n",
        "\n",
        "while left <= right:\n",
        "    mid = (left + right) // 2\n",
        "    if c[mid] >= b:\n",
        "        position = mid + 1\n",
        "        right = mid - 1\n",
        "    else:\n",
        "        left = mid + 1\n",
        "\n",
        "print(position)"
      ],
      "metadata": {
        "colab": {
          "base_uri": "https://localhost:8080/"
        },
        "id": "BFPUaDeIMZwm",
        "outputId": "d08c5c46-5f43-4f6e-c1c8-a0b3a7272d5c"
      },
      "execution_count": null,
      "outputs": [
        {
          "output_type": "stream",
          "name": "stdout",
          "text": [
            "3 7\n",
            "2 3 4\n",
            "-1\n"
          ]
        }
      ]
    },
    {
      "cell_type": "code",
      "source": [
        "#2084\n",
        "\n",
        "def var(b, d):\n",
        "    left, right = 0, len(b) - 1\n",
        "    position = -1\n",
        "    while left <= right:\n",
        "        mid = (left + right) // 2\n",
        "        if b[mid] == d:  1\n",
        "            return mid + 1\n",
        "        elif b[mid] > d:\n",
        "            right = mid - 1\n",
        "        else:\n",
        "            left = mid + 1\n",
        "\n",
        "    return -1\n",
        "\n",
        "a = int(input())\n",
        "b = list(map(int, input().split()))\n",
        "c = int(input())\n",
        "for i in range(c):\n",
        "    d = int(input())\n",
        "    print(var(b, d))"
      ],
      "metadata": {
        "colab": {
          "base_uri": "https://localhost:8080/"
        },
        "id": "w3GWBwiao40B",
        "outputId": "488bb16f-06f3-4d89-9725-ede00a7d7346"
      },
      "execution_count": null,
      "outputs": [
        {
          "output_type": "stream",
          "name": "stdout",
          "text": [
            "3\n",
            "2 5 7 \n",
            "2\n",
            "7\n",
            "3\n",
            "1\n",
            "-1\n"
          ]
        }
      ]
    },
    {
      "cell_type": "code",
      "source": [
        "#2100\n",
        "def f(n):\n",
        "    a = [0] * n\n",
        "    j = 0\n",
        "    i = 1\n",
        "\n",
        "    while True:\n",
        "        j = (j * 10 + 7) % n\n",
        "        if j == 0:\n",
        "            return '7' * i\n",
        "        if a[j] != 0:\n",
        "            return '7' * (i - a[j]) + '0' * a[j]\n",
        "\n",
        "        a[j] = i\n",
        "        i += 1\n",
        "\n",
        "n = int(input())\n",
        "print(f(n))"
      ],
      "metadata": {
        "colab": {
          "base_uri": "https://localhost:8080/"
        },
        "id": "x4uyH7o-SJxo",
        "outputId": "72f61037-fef7-49b1-bc29-1978bb996f07"
      },
      "execution_count": null,
      "outputs": [
        {
          "output_type": "stream",
          "name": "stdout",
          "text": [
            "123\n",
            "777777777777777\n"
          ]
        }
      ]
    },
    {
      "cell_type": "code",
      "source": [
        "2/3"
      ],
      "metadata": {
        "colab": {
          "base_uri": "https://localhost:8080/"
        },
        "id": "6uAhEoXBUCpm",
        "outputId": "c77fe6d4-bb15-4147-e978-6f0a04a86e8e"
      },
      "execution_count": null,
      "outputs": [
        {
          "output_type": "execute_result",
          "data": {
            "text/plain": [
              "0.6666666666666666"
            ]
          },
          "metadata": {},
          "execution_count": 41
        }
      ]
    },
    {
      "cell_type": "code",
      "source": [
        "#2101\n",
        "import math\n",
        "\n",
        "a = int(input())\n",
        "s = a * a\n",
        "t = 0\n",
        "\n",
        "for q in range(1, int(math.sqrt(s)) + 1):\n",
        "    if s % q == 0:\n",
        "        w = s // q\n",
        "        if (w - q) % 2 == 0 and (w + q) % 2 == 0:\n",
        "            b = (w - q) // 2\n",
        "            c = (w + q) // 2\n",
        "            if b > a and b > 0 and c > b:\n",
        "                t += 1\n",
        "\n",
        "print(t)\n",
        "\n",
        "\n"
      ],
      "metadata": {
        "colab": {
          "base_uri": "https://localhost:8080/"
        },
        "id": "RRSLl0LDKeik",
        "outputId": "0e7d2294-9d39-498f-e5ca-bfc88b4e5b69"
      },
      "execution_count": null,
      "outputs": [
        {
          "output_type": "stream",
          "name": "stdout",
          "text": [
            "12\n",
            "2\n"
          ]
        }
      ]
    },
    {
      "cell_type": "code",
      "source": [
        "#2112\n",
        "\n",
        "import math\n",
        "\n",
        "\n",
        "n = int(input())\n",
        "max_value = -1\n",
        "max_row = -1\n",
        "\n",
        "for i in range(1, n + 1):\n",
        "    A, B = map(int, input().split())\n",
        "    current_value = B * math.log(A) # 너무 큰수는 로그를 이용하기도 한다\n",
        "    if current_value > max_value:\n",
        "        max_value = current_value\n",
        "        max_row = i\n",
        "\n",
        "print(max_row)"
      ],
      "metadata": {
        "colab": {
          "base_uri": "https://localhost:8080/",
          "height": 428
        },
        "id": "O4KLEJ733csp",
        "outputId": "735e9497-ed4b-4bef-dec8-a9cf5b7985da"
      },
      "execution_count": null,
      "outputs": [
        {
          "name": "stdout",
          "output_type": "stream",
          "text": [
            "6\n",
            "1 2\n"
          ]
        },
        {
          "output_type": "error",
          "ename": "KeyboardInterrupt",
          "evalue": "Interrupted by user",
          "traceback": [
            "\u001b[0;31m---------------------------------------------------------------------------\u001b[0m",
            "\u001b[0;31mKeyboardInterrupt\u001b[0m                         Traceback (most recent call last)",
            "\u001b[0;32m<ipython-input-80-bdc5a32d796f>\u001b[0m in \u001b[0;36m<cell line: 10>\u001b[0;34m()\u001b[0m\n\u001b[1;32m      9\u001b[0m \u001b[0;34m\u001b[0m\u001b[0m\n\u001b[1;32m     10\u001b[0m \u001b[0;32mfor\u001b[0m \u001b[0mi\u001b[0m \u001b[0;32min\u001b[0m \u001b[0mrange\u001b[0m\u001b[0;34m(\u001b[0m\u001b[0;36m1\u001b[0m\u001b[0;34m,\u001b[0m \u001b[0mn\u001b[0m \u001b[0;34m+\u001b[0m \u001b[0;36m1\u001b[0m\u001b[0;34m)\u001b[0m\u001b[0;34m:\u001b[0m\u001b[0;34m\u001b[0m\u001b[0;34m\u001b[0m\u001b[0m\n\u001b[0;32m---> 11\u001b[0;31m     \u001b[0mA\u001b[0m\u001b[0;34m,\u001b[0m \u001b[0mB\u001b[0m \u001b[0;34m=\u001b[0m \u001b[0mmap\u001b[0m\u001b[0;34m(\u001b[0m\u001b[0mint\u001b[0m\u001b[0;34m,\u001b[0m \u001b[0minput\u001b[0m\u001b[0;34m(\u001b[0m\u001b[0;34m)\u001b[0m\u001b[0;34m.\u001b[0m\u001b[0msplit\u001b[0m\u001b[0;34m(\u001b[0m\u001b[0;34m)\u001b[0m\u001b[0;34m)\u001b[0m\u001b[0;34m\u001b[0m\u001b[0;34m\u001b[0m\u001b[0m\n\u001b[0m\u001b[1;32m     12\u001b[0m     \u001b[0mcurrent_value\u001b[0m \u001b[0;34m=\u001b[0m \u001b[0mB\u001b[0m \u001b[0;34m*\u001b[0m \u001b[0mmath\u001b[0m\u001b[0;34m.\u001b[0m\u001b[0mlog\u001b[0m\u001b[0;34m(\u001b[0m\u001b[0mA\u001b[0m\u001b[0;34m)\u001b[0m\u001b[0;34m\u001b[0m\u001b[0;34m\u001b[0m\u001b[0m\n\u001b[1;32m     13\u001b[0m     \u001b[0;32mif\u001b[0m \u001b[0mcurrent_value\u001b[0m \u001b[0;34m>\u001b[0m \u001b[0mmax_value\u001b[0m\u001b[0;34m:\u001b[0m\u001b[0;34m\u001b[0m\u001b[0;34m\u001b[0m\u001b[0m\n",
            "\u001b[0;32m/usr/local/lib/python3.10/dist-packages/ipykernel/kernelbase.py\u001b[0m in \u001b[0;36mraw_input\u001b[0;34m(self, prompt)\u001b[0m\n\u001b[1;32m    849\u001b[0m                 \u001b[0;34m\"raw_input was called, but this frontend does not support input requests.\"\u001b[0m\u001b[0;34m\u001b[0m\u001b[0;34m\u001b[0m\u001b[0m\n\u001b[1;32m    850\u001b[0m             )\n\u001b[0;32m--> 851\u001b[0;31m         return self._input_request(str(prompt),\n\u001b[0m\u001b[1;32m    852\u001b[0m             \u001b[0mself\u001b[0m\u001b[0;34m.\u001b[0m\u001b[0m_parent_ident\u001b[0m\u001b[0;34m,\u001b[0m\u001b[0;34m\u001b[0m\u001b[0;34m\u001b[0m\u001b[0m\n\u001b[1;32m    853\u001b[0m             \u001b[0mself\u001b[0m\u001b[0;34m.\u001b[0m\u001b[0m_parent_header\u001b[0m\u001b[0;34m,\u001b[0m\u001b[0;34m\u001b[0m\u001b[0;34m\u001b[0m\u001b[0m\n",
            "\u001b[0;32m/usr/local/lib/python3.10/dist-packages/ipykernel/kernelbase.py\u001b[0m in \u001b[0;36m_input_request\u001b[0;34m(self, prompt, ident, parent, password)\u001b[0m\n\u001b[1;32m    893\u001b[0m             \u001b[0;32mexcept\u001b[0m \u001b[0mKeyboardInterrupt\u001b[0m\u001b[0;34m:\u001b[0m\u001b[0;34m\u001b[0m\u001b[0;34m\u001b[0m\u001b[0m\n\u001b[1;32m    894\u001b[0m                 \u001b[0;31m# re-raise KeyboardInterrupt, to truncate traceback\u001b[0m\u001b[0;34m\u001b[0m\u001b[0;34m\u001b[0m\u001b[0m\n\u001b[0;32m--> 895\u001b[0;31m                 \u001b[0;32mraise\u001b[0m \u001b[0mKeyboardInterrupt\u001b[0m\u001b[0;34m(\u001b[0m\u001b[0;34m\"Interrupted by user\"\u001b[0m\u001b[0;34m)\u001b[0m \u001b[0;32mfrom\u001b[0m \u001b[0;32mNone\u001b[0m\u001b[0;34m\u001b[0m\u001b[0;34m\u001b[0m\u001b[0m\n\u001b[0m\u001b[1;32m    896\u001b[0m             \u001b[0;32mexcept\u001b[0m \u001b[0mException\u001b[0m \u001b[0;32mas\u001b[0m \u001b[0me\u001b[0m\u001b[0;34m:\u001b[0m\u001b[0;34m\u001b[0m\u001b[0;34m\u001b[0m\u001b[0m\n\u001b[1;32m    897\u001b[0m                 \u001b[0mself\u001b[0m\u001b[0;34m.\u001b[0m\u001b[0mlog\u001b[0m\u001b[0;34m.\u001b[0m\u001b[0mwarning\u001b[0m\u001b[0;34m(\u001b[0m\u001b[0;34m\"Invalid Message:\"\u001b[0m\u001b[0;34m,\u001b[0m \u001b[0mexc_info\u001b[0m\u001b[0;34m=\u001b[0m\u001b[0;32mTrue\u001b[0m\u001b[0;34m)\u001b[0m\u001b[0;34m\u001b[0m\u001b[0;34m\u001b[0m\u001b[0m\n",
            "\u001b[0;31mKeyboardInterrupt\u001b[0m: Interrupted by user"
          ]
        }
      ]
    },
    {
      "cell_type": "code",
      "source": [
        "#2115\n",
        "import math\n",
        "\n",
        "print(math.factorial(int(input())))"
      ],
      "metadata": {
        "colab": {
          "base_uri": "https://localhost:8080/"
        },
        "id": "yFDpW122vRey",
        "outputId": "58bb0821-b2cc-451a-eb45-599208a24498"
      },
      "execution_count": null,
      "outputs": [
        {
          "output_type": "stream",
          "name": "stdout",
          "text": [
            "4\n",
            "24\n"
          ]
        }
      ]
    },
    {
      "cell_type": "code",
      "source": [
        "#2151\n",
        "\n",
        "a = list(map(int, list(input())))\n",
        "\n",
        "b = 0\n",
        "for i in range(len(a)):\n",
        "  if i % 2 == 0:\n",
        "    b += a[i]\n",
        "  else:\n",
        "    b += a[i]*3\n",
        "\n",
        "for i in range(10):\n",
        "  if (b+i)%10==0:\n",
        "    print(''.join(map(str,a)) + str(i))"
      ],
      "metadata": {
        "colab": {
          "base_uri": "https://localhost:8080/"
        },
        "id": "eAs9Ol6pPExq",
        "outputId": "6c5f4ff2-f88f-49b1-c539-8beeceb6bbda"
      },
      "execution_count": null,
      "outputs": [
        {
          "output_type": "stream",
          "name": "stdout",
          "text": [
            "797669911836\n",
            "7976699118360\n"
          ]
        }
      ]
    },
    {
      "cell_type": "code",
      "source": [
        "#2204\n",
        "\n",
        "a,b = map(int, input().split())\n",
        "\n",
        "f = 0\n",
        "for i in range(b, a-1, -1):\n",
        "  for j in range(b,a-1,-1):\n",
        "    dae = i*j\n",
        "    if dae <= f:\n",
        "      break\n",
        "    if str(dae) == str(dae)[::-1]:\n",
        "      f = dae\n",
        "      break\n",
        "\n",
        "print(f)"
      ],
      "metadata": {
        "colab": {
          "base_uri": "https://localhost:8080/"
        },
        "id": "b8ab8W15v1SQ",
        "outputId": "f272e144-914e-4edd-8d87-6be16c1e0012"
      },
      "execution_count": null,
      "outputs": [
        {
          "output_type": "stream",
          "name": "stdout",
          "text": [
            "100000 999999\n",
            "999000000999\n"
          ]
        }
      ]
    },
    {
      "cell_type": "code",
      "source": [
        "#2203\n",
        "\n",
        "def lpf(n):\n",
        "    i = 2\n",
        "    lp = 1\n",
        "    while i * i <= n:\n",
        "        if n % i:\n",
        "            i += 1\n",
        "        else:\n",
        "            n //= i\n",
        "            lp = i\n",
        "    if n > 1:\n",
        "        lp = n\n",
        "    return lp\n",
        "\n",
        "n = int(input())\n",
        "lp = lpf(n)\n",
        "print(lpf(n))\n",
        "\n"
      ],
      "metadata": {
        "colab": {
          "base_uri": "https://localhost:8080/"
        },
        "id": "5xTxm8mwwENe",
        "outputId": "e4ebcc6a-2bc9-4aee-f6a9-feb1a2c80934"
      },
      "execution_count": null,
      "outputs": [
        {
          "output_type": "stream",
          "name": "stdout",
          "text": [
            "12\n",
            "3\n"
          ]
        }
      ]
    },
    {
      "cell_type": "code",
      "source": [
        "target = 906609\n",
        "found = False\n",
        "\n",
        "for i in range(999, 99, -1):\n",
        "    for j in range(i, 99, -1):  # j도 i부터 시작하여 중복 계산 방지\n",
        "        if i * j == target:\n",
        "            print(f\"{i}와 {j}를 곱하면 {target}이 나옵니다.\")\n",
        "            found = True\n",
        "            break\n",
        "    if found:\n",
        "        break\n"
      ],
      "metadata": {
        "colab": {
          "base_uri": "https://localhost:8080/"
        },
        "id": "2B1AA5u7x0So",
        "outputId": "75f49b5b-455b-426b-89f0-95959731982f"
      },
      "execution_count": null,
      "outputs": [
        {
          "output_type": "stream",
          "name": "stdout",
          "text": [
            "993와 913를 곱하면 906609이 나옵니다.\n"
          ]
        }
      ]
    },
    {
      "cell_type": "code",
      "source": [
        "#2302\n",
        "\n",
        "a = [list(map(str, input().split())) for i in range(int(input()))]\n",
        "failed = [i for i in a if 'C'< i[1] if 'P' not in i[1]]\n",
        "\n",
        "grades = {\n",
        "    'A+': 4.3, 'A0': 4.0, 'A-': 3.7,\n",
        "    'B+': 3.3, 'B0': 3.0, 'B-': 2.7,\n",
        "    'C+': 2.3, 'C0': 2.0, 'C-': 1.7,\n",
        "    'D+': 1.3, 'D0': 1.0, 'D-': 0.7,\n",
        "    'F': 0.0, 'Pass': 4.3, 'Fail': 0.0\n",
        "}\n",
        "\n",
        "totalc, weightc = 0, 0\n",
        "for i in a:\n",
        "  totalc += int(i[2])\n",
        "  weightc += grades[i[1]] * int(i[2])\n",
        "\n",
        "mean = weightc/totalc\n",
        "\n",
        "g = {\n",
        "    'A+': (4.30, 4.30),\n",
        "    'A0': (4.00, 4.29),\n",
        "    'A-': (3.70, 3.99),\n",
        "    'B+': (3.30, 3.69),\n",
        "    'B0': (3.00, 3.29),\n",
        "    'B-': (2.70, 2.99),\n",
        "    'C+': (2.30, 2.69),\n",
        "    'C0': (2.00, 2.29),\n",
        "    'C-': (1.70, 1.99),\n",
        "    'D+': (1.30, 1.69),\n",
        "    'D0': (1.00, 1.29),\n",
        "    'D-': (0.70, 0.99),\n",
        "    'F': (0.00, 0.69)\n",
        "}\n",
        "\n",
        "grade = None\n",
        "for i,j in g.items():\n",
        "  if float(j[0]) <= mean <= float(j[1]):\n",
        "    grade = i\n",
        "\n",
        "print(f\"Average : {mean:.02f} ({grade})\")\n",
        "print()\n",
        "print(f\"RETAKE NEEDED ({len(failed)})\")\n",
        "for i in failed:\n",
        "  print(f\" {i[0]} ({i[1]})\")\n",
        "\n",
        "########################gpt 코드\n",
        "a = [input().split() for _ in range(int(input()))]\n",
        "f = [i for i in a if 'C' < i[1] and 'P' not in i[1]]\n",
        "\n",
        "g = {\n",
        "    'A+': 4.3, 'A0': 4.0, 'A-': 3.7, 'B+': 3.3, 'B0': 3.0, 'B-': 2.7,\n",
        "    'C+': 2.3, 'C0': 2.0, 'C-': 1.7, 'D+': 1.3, 'D0': 1.0, 'D-': 0.7, 'F': 0.0, 'Pass': 4.3, 'Fail': 0.0\n",
        "}\n",
        "\n",
        "tc, wc = sum(int(i[2]) for i in a), sum(g[i[1]] * int(i[2]) for i in a)\n",
        "mean = wc / tc\n",
        "\n",
        "gp = {'A+': (4.30, 4.30), 'A0': (4.00, 4.29), 'A-': (3.70, 3.99), 'B+': (3.30, 3.69),\n",
        "      'B0': (3.00, 3.29), 'B-': (2.70, 2.99), 'C+': (2.30, 2.69), 'C0': (2.00, 2.29),\n",
        "      'C-': (1.70, 1.99), 'D+': (1.30, 1.69), 'D0': (1.00, 1.29), 'D-': (0.70, 0.99), 'F': (0.00, 0.69)}\n",
        "\n",
        "gr = [k for k, (l, u) in gp.items() if l <= mean <= u][0]\n",
        "\n",
        "print(f\"Average : {mean:.02f} ({gr})\\n\\nRETAKE NEEDED ({len(f)})\")\n",
        "for i in f:\n",
        "    print(f\" {i[0]} ({i[1]})\")\n"
      ],
      "metadata": {
        "colab": {
          "base_uri": "https://localhost:8080/",
          "height": 391
        },
        "id": "mghEurfPzjGg",
        "outputId": "9f5f7bd1-1723-405b-8478-82acd57acf0c"
      },
      "execution_count": null,
      "outputs": [
        {
          "output_type": "error",
          "ename": "KeyboardInterrupt",
          "evalue": "Interrupted by user",
          "traceback": [
            "\u001b[0;31m---------------------------------------------------------------------------\u001b[0m",
            "\u001b[0;31mKeyboardInterrupt\u001b[0m                         Traceback (most recent call last)",
            "\u001b[0;32m<ipython-input-66-e623a8f974c9>\u001b[0m in \u001b[0;36m<cell line: 3>\u001b[0;34m()\u001b[0m\n\u001b[1;32m      1\u001b[0m \u001b[0;31m#2302\u001b[0m\u001b[0;34m\u001b[0m\u001b[0;34m\u001b[0m\u001b[0m\n\u001b[1;32m      2\u001b[0m \u001b[0;34m\u001b[0m\u001b[0m\n\u001b[0;32m----> 3\u001b[0;31m \u001b[0ma\u001b[0m \u001b[0;34m=\u001b[0m \u001b[0;34m[\u001b[0m\u001b[0mlist\u001b[0m\u001b[0;34m(\u001b[0m\u001b[0mmap\u001b[0m\u001b[0;34m(\u001b[0m\u001b[0mstr\u001b[0m\u001b[0;34m,\u001b[0m \u001b[0minput\u001b[0m\u001b[0;34m(\u001b[0m\u001b[0;34m)\u001b[0m\u001b[0;34m.\u001b[0m\u001b[0msplit\u001b[0m\u001b[0;34m(\u001b[0m\u001b[0;34m)\u001b[0m\u001b[0;34m)\u001b[0m\u001b[0;34m)\u001b[0m \u001b[0;32mfor\u001b[0m \u001b[0mi\u001b[0m \u001b[0;32min\u001b[0m \u001b[0mrange\u001b[0m\u001b[0;34m(\u001b[0m\u001b[0mint\u001b[0m\u001b[0;34m(\u001b[0m\u001b[0minput\u001b[0m\u001b[0;34m(\u001b[0m\u001b[0;34m)\u001b[0m\u001b[0;34m)\u001b[0m\u001b[0;34m)\u001b[0m\u001b[0;34m]\u001b[0m\u001b[0;34m\u001b[0m\u001b[0;34m\u001b[0m\u001b[0m\n\u001b[0m\u001b[1;32m      4\u001b[0m \u001b[0mfailed\u001b[0m \u001b[0;34m=\u001b[0m \u001b[0;34m[\u001b[0m\u001b[0mi\u001b[0m \u001b[0;32mfor\u001b[0m \u001b[0mi\u001b[0m \u001b[0;32min\u001b[0m \u001b[0ma\u001b[0m \u001b[0;32mif\u001b[0m \u001b[0;34m'C'\u001b[0m\u001b[0;34m<\u001b[0m \u001b[0mi\u001b[0m\u001b[0;34m[\u001b[0m\u001b[0;36m1\u001b[0m\u001b[0;34m]\u001b[0m \u001b[0;32mif\u001b[0m \u001b[0;34m'P'\u001b[0m \u001b[0;32mnot\u001b[0m \u001b[0;32min\u001b[0m \u001b[0mi\u001b[0m\u001b[0;34m[\u001b[0m\u001b[0;36m1\u001b[0m\u001b[0;34m]\u001b[0m\u001b[0;34m]\u001b[0m\u001b[0;34m\u001b[0m\u001b[0;34m\u001b[0m\u001b[0m\n\u001b[1;32m      5\u001b[0m \u001b[0;34m\u001b[0m\u001b[0m\n",
            "\u001b[0;32m/usr/local/lib/python3.10/dist-packages/ipykernel/kernelbase.py\u001b[0m in \u001b[0;36mraw_input\u001b[0;34m(self, prompt)\u001b[0m\n\u001b[1;32m    849\u001b[0m                 \u001b[0;34m\"raw_input was called, but this frontend does not support input requests.\"\u001b[0m\u001b[0;34m\u001b[0m\u001b[0;34m\u001b[0m\u001b[0m\n\u001b[1;32m    850\u001b[0m             )\n\u001b[0;32m--> 851\u001b[0;31m         return self._input_request(str(prompt),\n\u001b[0m\u001b[1;32m    852\u001b[0m             \u001b[0mself\u001b[0m\u001b[0;34m.\u001b[0m\u001b[0m_parent_ident\u001b[0m\u001b[0;34m,\u001b[0m\u001b[0;34m\u001b[0m\u001b[0;34m\u001b[0m\u001b[0m\n\u001b[1;32m    853\u001b[0m             \u001b[0mself\u001b[0m\u001b[0;34m.\u001b[0m\u001b[0m_parent_header\u001b[0m\u001b[0;34m,\u001b[0m\u001b[0;34m\u001b[0m\u001b[0;34m\u001b[0m\u001b[0m\n",
            "\u001b[0;32m/usr/local/lib/python3.10/dist-packages/ipykernel/kernelbase.py\u001b[0m in \u001b[0;36m_input_request\u001b[0;34m(self, prompt, ident, parent, password)\u001b[0m\n\u001b[1;32m    893\u001b[0m             \u001b[0;32mexcept\u001b[0m \u001b[0mKeyboardInterrupt\u001b[0m\u001b[0;34m:\u001b[0m\u001b[0;34m\u001b[0m\u001b[0;34m\u001b[0m\u001b[0m\n\u001b[1;32m    894\u001b[0m                 \u001b[0;31m# re-raise KeyboardInterrupt, to truncate traceback\u001b[0m\u001b[0;34m\u001b[0m\u001b[0;34m\u001b[0m\u001b[0m\n\u001b[0;32m--> 895\u001b[0;31m                 \u001b[0;32mraise\u001b[0m \u001b[0mKeyboardInterrupt\u001b[0m\u001b[0;34m(\u001b[0m\u001b[0;34m\"Interrupted by user\"\u001b[0m\u001b[0;34m)\u001b[0m \u001b[0;32mfrom\u001b[0m \u001b[0;32mNone\u001b[0m\u001b[0;34m\u001b[0m\u001b[0;34m\u001b[0m\u001b[0m\n\u001b[0m\u001b[1;32m    896\u001b[0m             \u001b[0;32mexcept\u001b[0m \u001b[0mException\u001b[0m \u001b[0;32mas\u001b[0m \u001b[0me\u001b[0m\u001b[0;34m:\u001b[0m\u001b[0;34m\u001b[0m\u001b[0;34m\u001b[0m\u001b[0m\n\u001b[1;32m    897\u001b[0m                 \u001b[0mself\u001b[0m\u001b[0;34m.\u001b[0m\u001b[0mlog\u001b[0m\u001b[0;34m.\u001b[0m\u001b[0mwarning\u001b[0m\u001b[0;34m(\u001b[0m\u001b[0;34m\"Invalid Message:\"\u001b[0m\u001b[0;34m,\u001b[0m \u001b[0mexc_info\u001b[0m\u001b[0;34m=\u001b[0m\u001b[0;32mTrue\u001b[0m\u001b[0;34m)\u001b[0m\u001b[0;34m\u001b[0m\u001b[0;34m\u001b[0m\u001b[0m\n",
            "\u001b[0;31mKeyboardInterrupt\u001b[0m: Interrupted by user"
          ]
        }
      ]
    },
    {
      "cell_type": "code",
      "source": [
        "grades = {\n",
        "    'A+': 4.3, 'A0': 4.0, 'A-': 3.7,\n",
        "    'B+': 3.3, 'B0': 3.0, 'B-': 2.7,\n",
        "    'C+': 2.3, 'C0': 2.0, 'C-': 1.7,\n",
        "    'D+': 1.3, 'D0': 1.0, 'D-': 0.7,\n",
        "    'F': 0.0, 'Pass': 4.3, 'Fail': 0.0\n",
        "}\n",
        "\n",
        "# 과목과 성적, 학점 정보를 리스트로 저장\n",
        "subjects = [\n",
        "    (\"CreativeWriting\", 'A+', 3),\n",
        "    (\"KoreanHistory\", 'A0', 2),\n",
        "    (\"AdvEngListening\", 'A-', 2),\n",
        "    (\"Calculus\", 'B+', 4),\n",
        "    (\"Probability\", 'B0', 2),\n",
        "    (\"Physics\", 'B-', 3),\n",
        "    (\"Chemistry\", 'C+', 3),\n",
        "    (\"Biology\", 'C0', 3),\n",
        "    (\"EarthScience\", 'C-', 2),\n",
        "    (\"Programming\", 'A+', 1),\n",
        "    (\"Physical\", 'Pass', 1),\n",
        "    (\"Music\", 'Fail', 1)\n",
        "]\n",
        "\n",
        "# 총 학점과 총 가중치를 계산\n",
        "total_credits = 0\n",
        "weighted_sum = 0\n",
        "\n",
        "for subject, grade, credit in subjects:\n",
        "    total_credits += credit\n",
        "    weighted_sum += grades[grade] * credit\n",
        "\n",
        "# 가중 평균 계산\n",
        "gpa = weighted_sum / total_credits\n",
        "\n",
        "print(f\"평균 학점: {gpa:.2f}\")\n"
      ],
      "metadata": {
        "id": "oavuLEKt1rv3"
      },
      "execution_count": null,
      "outputs": []
    },
    {
      "cell_type": "code",
      "source": [
        "print(10, 6)"
      ],
      "metadata": {
        "id": "kQac5V59SFc7"
      },
      "execution_count": null,
      "outputs": []
    },
    {
      "cell_type": "code",
      "source": [
        "friend_list = {}\n",
        "None_freiend = \"친구가 없네요. 해당 기능을 이용하려면 친구를 추가해주세요\"\n",
        "\n",
        "while True:\n",
        "\n",
        "    sw = input(\n",
        "\"\"\"\n",
        "친구 추가 : a 입력\n",
        "친구 삭제 : d 입력\n",
        "친구 이름 변경 : c 입력\n",
        "친구 리스트 출력 : L 입력\n",
        "종료 : q\n",
        "입력 : \"\"\").strip()\n",
        "    print()\n",
        "\n",
        "    if sw == 'q':\n",
        "        print(\"프로그램이 종료 되었습니다\")\n",
        "        break\n",
        "    elif sw == 'a':\n",
        "        print('친구 이름과 전화번호흫 입력해주세요')\n",
        "        print('한명 추가 예시 : 홍길동 01012345678')\n",
        "        print('다수 추가 예시 : 홍길동 01012345678 아무개 01087654321')\n",
        "        flus = input('입력 : ').split()\n",
        "        name = [i for i in flus if i.isalpha()]\n",
        "        numbers = [j for j in flus if j.isdigit()]\n",
        "\n",
        "        for i, j in zip(name, numbers):\n",
        "            if i in friend_list:\n",
        "                friend_list[i].append(j)\n",
        "            else:\n",
        "                friend_list[i]  = [j]\n",
        "\n",
        "        print(\"친구 추가가 완료 되었습니다\")\n",
        "        print(friend_list)\n",
        "    elif sw == 'd':\n",
        "        if len(friend_list) == 0:\n",
        "            print(None_freiend)\n",
        "        else:\n",
        "            print('삭제할 친구의 이름을 입력해주세요')\n",
        "            print('한명 삭제 예시 : 홍길동')\n",
        "            print('다수 삭제 예시 : 홍길동 아무개')\n",
        "            print()\n",
        "\n",
        "            delete = input('입력 : ').split()\n",
        "            for i in delete:\n",
        "                try:\n",
        "                    if len(friend_list[i]) > 1:\n",
        "                        print('삭제할 번호를 하나만 알려주세요')\n",
        "                        print(friend_list[i])\n",
        "                        while True:\n",
        "                            try:\n",
        "                                del_num = input('입력 : ').strip()\n",
        "                                friend_list[i].remove(del_num)\n",
        "                                break\n",
        "                            except:\n",
        "                                print('연락처에 포함되어있지 않는 문자가 있습니다')\n",
        "                                continue\n",
        "                        print(f'연락처에 있는 {i}의 {del_num}가 삭제 되었습니다.')\n",
        "                    else:\n",
        "                        del friend_list[i]\n",
        "                        print(f'연락처에 있는 {i}이(가) 삭제 되었습니다.')\n",
        "\n",
        "\n",
        "                except:\n",
        "                    print('연락처에 없는 사람입니다.', i)\n",
        "    elif sw == 'c':\n",
        "        if len(friend_list) == 0:\n",
        "            print(None_freiend)\n",
        "        else:\n",
        "\n",
        "            try:\n",
        "                n = int(input('이름을 변경할 사람수를 입력해주세요'))\n",
        "                for i in range(n):\n",
        "                    print('이름을 변경할 친구의 이름을 입력해주세요')\n",
        "                    print('변경 예시 : 홍길동(현재이름) 아무개(바꾸고 싶은사람)')\n",
        "                    print('현재 연락처 : ', friend_list)\n",
        "                    print()\n",
        "\n",
        "                    base, change = input('입력 : ').split()\n",
        "\n",
        "                    change_value = friend_list[base]\n",
        "                    del friend_list[base]\n",
        "                    friend_list[change] = change_value\n",
        "                    print('변경되었습니다.')\n",
        "                    print(friend_list)\n",
        "            except:\n",
        "                print('오류가 일어났습니다 다시시도해주세요.')\n",
        "    elif sw == 'L':\n",
        "        current, line_change = 0, 4\n",
        "        if len(friend_list) == 0:\n",
        "            print(None_freiend)\n",
        "        else:\n",
        "            for i,j in friend_list.items():\n",
        "                current += 1\n",
        "\n",
        "                if current % line_change == 0:\n",
        "                    print(f\"{i} : {j}\")\n",
        "                else:\n",
        "                    print(f\"{i} : {j}\", end = ' ')\n",
        "    else:\n",
        "        print('지원하지 않는 값입니다 다시 입력해주세요')\n",
        "        continue"
      ],
      "metadata": {
        "colab": {
          "base_uri": "https://localhost:8080/"
        },
        "id": "v30jwRHo3kXk",
        "outputId": "ddc5f08b-6e2e-4879-acc9-dd857b0bd380"
      },
      "execution_count": null,
      "outputs": [
        {
          "output_type": "stream",
          "name": "stdout",
          "text": [
            "\n",
            "친구 추가 : a 입력\n",
            "친구 삭제 : d 입력\n",
            "친구 이름 변경 : c 입력\n",
            "친구 리스트 출력 : L 입력\n",
            "종료 : q\n",
            "입력 : a\n",
            "\n",
            "친구 이름과 전화번호흫 입력해주세요\n",
            "한명 추가 예시 : 홍길동 01012345678\n",
            "다수 추가 예시 : 홍길동 01012345678 아무개 01087654321\n",
            "입력 : 홍길동 01012345678 아무개 01087654322 이영희 01023456788 김철수 01034567891 박지성 01045678902 최민수 01056789013 강호동 01067890124 유재석 01078901235 정형돈 01089012346 송혜교 01090123457\n",
            "친구 추가가 완료 되었습니다\n",
            "{'홍길동': ['01012345678'], '아무개': ['01087654322'], '이영희': ['01023456788'], '김철수': ['01034567891'], '박지성': ['01045678902'], '최민수': ['01056789013'], '강호동': ['01067890124'], '유재석': ['01078901235'], '정형돈': ['01089012346'], '송혜교': ['01090123457']}\n",
            "\n",
            "친구 추가 : a 입력\n",
            "친구 삭제 : d 입력\n",
            "친구 이름 변경 : c 입력\n",
            "친구 리스트 출력 : L 입력\n",
            "종료 : q\n",
            "입력 : a\n",
            "\n",
            "친구 이름과 전화번호흫 입력해주세요\n",
            "한명 추가 예시 : 홍길동 01012345678\n",
            "다수 추가 예시 : 홍길동 01012345678 아무개 01087654321\n",
            "입력 : 홍길동 01011112222 아무개 01022223333 이영희 01033334444 김철수 01044445555 박지성 01055556666 최민수 01066667777 강호동 01077778888 유재석 01088889999 정형돈 01099990000 송혜교 01000001111\n",
            "친구 추가가 완료 되었습니다\n",
            "{'홍길동': ['01012345678', '01011112222'], '아무개': ['01087654322', '01022223333'], '이영희': ['01023456788', '01033334444'], '김철수': ['01034567891', '01044445555'], '박지성': ['01045678902', '01055556666'], '최민수': ['01056789013', '01066667777'], '강호동': ['01067890124', '01077778888'], '유재석': ['01078901235', '01088889999'], '정형돈': ['01089012346', '01099990000'], '송혜교': ['01090123457', '01000001111']}\n",
            "\n",
            "친구 추가 : a 입력\n",
            "친구 삭제 : d 입력\n",
            "친구 이름 변경 : c 입력\n",
            "친구 리스트 출력 : L 입력\n",
            "종료 : q\n",
            "입력 : d\n",
            "\n",
            "삭제할 친구의 이름을 입력해주세요\n",
            "한명 삭제 예시 : 홍길동\n",
            "다수 삭제 예시 : 홍길동 아무개\n",
            "\n",
            "입력 : 홍길동 아무개\n",
            "삭제할 번호를 하나만 알려주세요\n",
            "['01012345678', '01011112222']\n",
            "입력 : 01012345678\n",
            "연락처에 있는 홍길동의 01012345678가 삭제 되었습니다.\n",
            "삭제할 번호를 하나만 알려주세요\n",
            "['01087654322', '01022223333']\n",
            "입력 : 01087654322\n",
            "연락처에 있는 아무개의 01087654322가 삭제 되었습니다.\n",
            "\n",
            "친구 추가 : a 입력\n",
            "친구 삭제 : d 입력\n",
            "친구 이름 변경 : c 입력\n",
            "친구 리스트 출력 : L 입력\n",
            "종료 : q\n",
            "입력 : ㅣ\n",
            "\n",
            "지원하지 않는 값입니다 다시 입력해주세요\n",
            "\n",
            "친구 추가 : a 입력\n",
            "친구 삭제 : d 입력\n",
            "친구 이름 변경 : c 입력\n",
            "친구 리스트 출력 : L 입력\n",
            "종료 : q\n",
            "입력 : L\n",
            "\n",
            "홍길동 : ['01011112222'] 아무개 : ['01022223333'] 이영희 : ['01023456788', '01033334444'] 김철수 : ['01034567891', '01044445555']\n",
            "박지성 : ['01045678902', '01055556666'] 최민수 : ['01056789013', '01066667777'] 강호동 : ['01067890124', '01077778888'] 유재석 : ['01078901235', '01088889999']\n",
            "정형돈 : ['01089012346', '01099990000'] 송혜교 : ['01090123457', '01000001111'] \n",
            "친구 추가 : a 입력\n",
            "친구 삭제 : d 입력\n",
            "친구 이름 변경 : c 입력\n",
            "친구 리스트 출력 : L 입력\n",
            "종료 : q\n",
            "입력 : c\n",
            "\n",
            "이름을 변경할 사람수를 입력해주세요1\n",
            "이름을 변경할 친구의 이름을 입력해주세요\n",
            "변경 예시 : 홍길동(현재이름) 아무개(바꾸고 싶은사람)\n",
            "현재 연락처 :  {'홍길동': ['01011112222'], '아무개': ['01022223333'], '이영희': ['01023456788', '01033334444'], '김철수': ['01034567891', '01044445555'], '박지성': ['01045678902', '01055556666'], '최민수': ['01056789013', '01066667777'], '강호동': ['01067890124', '01077778888'], '유재석': ['01078901235', '01088889999'], '정형돈': ['01089012346', '01099990000'], '송혜교': ['01090123457', '01000001111']}\n",
            "\n",
            "입력 : 홍길동 이성연\n",
            "변경되었습니다.\n",
            "{'아무개': ['01022223333'], '이영희': ['01023456788', '01033334444'], '김철수': ['01034567891', '01044445555'], '박지성': ['01045678902', '01055556666'], '최민수': ['01056789013', '01066667777'], '강호동': ['01067890124', '01077778888'], '유재석': ['01078901235', '01088889999'], '정형돈': ['01089012346', '01099990000'], '송혜교': ['01090123457', '01000001111'], '이성연': ['01011112222']}\n",
            "\n",
            "친구 추가 : a 입력\n",
            "친구 삭제 : d 입력\n",
            "친구 이름 변경 : c 입력\n",
            "친구 리스트 출력 : L 입력\n",
            "종료 : q\n",
            "입력 : ㅣ\n",
            "\n",
            "지원하지 않는 값입니다 다시 입력해주세요\n",
            "\n",
            "친구 추가 : a 입력\n",
            "친구 삭제 : d 입력\n",
            "친구 이름 변경 : c 입력\n",
            "친구 리스트 출력 : L 입력\n",
            "종료 : q\n",
            "입력 : L\n",
            "\n",
            "아무개 : ['01022223333'] 이영희 : ['01023456788', '01033334444'] 김철수 : ['01034567891', '01044445555'] 박지성 : ['01045678902', '01055556666']\n",
            "최민수 : ['01056789013', '01066667777'] 강호동 : ['01067890124', '01077778888'] 유재석 : ['01078901235', '01088889999'] 정형돈 : ['01089012346', '01099990000']\n",
            "송혜교 : ['01090123457', '01000001111'] 이성연 : ['01011112222'] \n",
            "친구 추가 : a 입력\n",
            "친구 삭제 : d 입력\n",
            "친구 이름 변경 : c 입력\n",
            "친구 리스트 출력 : L 입력\n",
            "종료 : q\n",
            "입력 : d\n",
            "\n",
            "삭제할 친구의 이름을 입력해주세요\n",
            "한명 삭제 예시 : 홍길동\n",
            "다수 삭제 예시 : 홍길동 아무개\n",
            "\n",
            "입력 : 아무개\n",
            "연락처에 있는 아무개이(가) 삭제 되었습니다.\n",
            "\n",
            "친구 추가 : a 입력\n",
            "친구 삭제 : d 입력\n",
            "친구 이름 변경 : c 입력\n",
            "친구 리스트 출력 : L 입력\n",
            "종료 : q\n",
            "입력 : L\n",
            "\n",
            "이영희 : ['01023456788', '01033334444'] 김철수 : ['01034567891', '01044445555'] 박지성 : ['01045678902', '01055556666'] 최민수 : ['01056789013', '01066667777']\n",
            "강호동 : ['01067890124', '01077778888'] 유재석 : ['01078901235', '01088889999'] 정형돈 : ['01089012346', '01099990000'] 송혜교 : ['01090123457', '01000001111']\n",
            "이성연 : ['01011112222'] \n",
            "친구 추가 : a 입력\n",
            "친구 삭제 : d 입력\n",
            "친구 이름 변경 : c 입력\n",
            "친구 리스트 출력 : L 입력\n",
            "종료 : q\n",
            "입력 : q\n",
            "\n",
            "프로그램이 종료 되었습니다\n"
          ]
        }
      ]
    },
    {
      "cell_type": "code",
      "source": [
        "#2312\n",
        "\n",
        "n, a, b = map(int, input().split())\n",
        "\n",
        "total = set()\n",
        "total_two = 0\n",
        "for i in range(2):\n",
        "  g = input().split()\n",
        "  for j in g:\n",
        "    if j in total:\n",
        "      total_two += 1\n",
        "    total.add(j)\n",
        "\n",
        "print(n - len(total), total_two)\n"
      ],
      "metadata": {
        "colab": {
          "base_uri": "https://localhost:8080/"
        },
        "id": "8TVcZrvFZ9_m",
        "outputId": "5ca0e81b-3448-41c4-abe2-26c78848ef55"
      },
      "execution_count": null,
      "outputs": [
        {
          "output_type": "stream",
          "name": "stdout",
          "text": [
            "22 9 9\n",
            "1 3 6 8 11 14 16 19 21\n",
            "3 5 8 10 11 14 16 18 21\n",
            "10 6\n"
          ]
        }
      ]
    },
    {
      "cell_type": "code",
      "source": [
        "#2312\n",
        "\n",
        "a = int(input())\n",
        "\n",
        "b = [int(input().split(',')[2]) for i in range(a)]\n",
        "\n",
        "print(f'{sum(b)/len(b):.02f}')"
      ],
      "metadata": {
        "id": "v_kAghoaroPe"
      },
      "execution_count": null,
      "outputs": []
    },
    {
      "cell_type": "code",
      "source": [
        "#2313\n",
        "print(3)"
      ],
      "metadata": {
        "id": "H8NtdlMxrFx7"
      },
      "execution_count": null,
      "outputs": []
    },
    {
      "cell_type": "code",
      "source": [
        "#2314\n",
        "\n",
        "gasu = int(input())\n",
        "\n",
        "total = 0\n",
        "for i in [10, 5, 3, 1]:\n",
        "  total += gasu//i\n",
        "  gasu %= i\n",
        "\n",
        "print(total)"
      ],
      "metadata": {
        "colab": {
          "base_uri": "https://localhost:8080/"
        },
        "id": "xARBWpfUplWf",
        "outputId": "4688d81d-bf8d-4ece-c277-f0fab4b7c818"
      },
      "execution_count": null,
      "outputs": [
        {
          "output_type": "stream",
          "name": "stdout",
          "text": [
            "21\n",
            "3\n"
          ]
        }
      ]
    },
    {
      "cell_type": "code",
      "source": [
        "def find_divisors_and_multiples(n, m):\n",
        "    count = 0\n",
        "    for i in range(1, n + 1):\n",
        "        if m % i == 0 or i % m == 0:\n",
        "            count += 1\n",
        "    return count\n",
        "\n",
        "n = 997\n",
        "m = 36\n",
        "\n",
        "answer = find_divisors_and_multiples(n, m)\n",
        "print(answer)\n"
      ],
      "metadata": {
        "colab": {
          "base_uri": "https://localhost:8080/"
        },
        "id": "dGF8_jH-kGxa",
        "outputId": "199de674-ca0f-486b-f22c-432e784b07b5"
      },
      "execution_count": null,
      "outputs": [
        {
          "output_type": "stream",
          "name": "stdout",
          "text": [
            "35\n"
          ]
        }
      ]
    },
    {
      "cell_type": "code",
      "source": [
        "#2316 pypy3 전용문제 ㅋㅋ\n",
        "\n",
        "import sys\n",
        "\n",
        "MAX = 10000000\n",
        "\n",
        "def main():\n",
        "    input = sys.stdin.read\n",
        "    data = input().split()\n",
        "\n",
        "    n = int(data[0])\n",
        "    m = int(data[1])\n",
        "    A = [0] * (MAX + 1)\n",
        "\n",
        "    for i in range(2, m + 1):\n",
        "        for j in range(i * 2, m + 1, i):\n",
        "            A[j] += 1\n",
        "        A[i] += 2\n",
        "\n",
        "    index = 2\n",
        "    for _ in range(n):\n",
        "        a = int(data[index])\n",
        "        index += 1\n",
        "        if a == 1:\n",
        "            print(m)\n",
        "        else:\n",
        "            print(A[a] + m // a - 1)\n",
        "\n",
        "if __name__ == \"__main__\":\n",
        "    main()\n",
        "\n"
      ],
      "metadata": {
        "colab": {
          "base_uri": "https://localhost:8080/"
        },
        "id": "TvYs4Whnrbqo",
        "outputId": "2be5a39a-9eec-4809-8d75-90df8d3ea841"
      },
      "execution_count": null,
      "outputs": [
        {
          "output_type": "stream",
          "name": "stdout",
          "text": [
            "5 10\n",
            "2 6 10 3 2\n",
            "6\n",
            "4\n",
            "4\n",
            "4\n",
            "6\n"
          ]
        }
      ]
    },
    {
      "cell_type": "code",
      "source": [
        "a = tuple(i for i in range(1,10))\n",
        "a"
      ],
      "metadata": {
        "colab": {
          "base_uri": "https://localhost:8080/"
        },
        "id": "A7hTHHmvUmIt",
        "outputId": "00c5dda0-8246-47c8-a576-61fd3ca64f7b"
      },
      "execution_count": null,
      "outputs": [
        {
          "output_type": "execute_result",
          "data": {
            "text/plain": [
              "(1, 2, 3, 4, 5, 6, 7, 8, 9)"
            ]
          },
          "metadata": {},
          "execution_count": 69
        }
      ]
    },
    {
      "cell_type": "code",
      "source": [
        "#2333\n",
        "a, b = input(),input()\n",
        "print('O' if b in a else 'X')"
      ],
      "metadata": {
        "colab": {
          "base_uri": "https://localhost:8080/"
        },
        "id": "PS1KWG4v9a8U",
        "outputId": "d9b9142b-40a1-4b12-c3e5-74814a358eaf"
      },
      "execution_count": null,
      "outputs": [
        {
          "output_type": "stream",
          "name": "stdout",
          "text": [
            "Andong\n",
            "And\n",
            "O\n"
          ]
        }
      ]
    },
    {
      "cell_type": "code",
      "source": [
        "#2335\n",
        "m = int(input())\n",
        "print(3*m+1)"
      ],
      "metadata": {
        "colab": {
          "base_uri": "https://localhost:8080/"
        },
        "id": "-Gotktr3S4VA",
        "outputId": "75b9fd8e-b84c-4f30-8ede-a1a8c7bbce0a"
      },
      "execution_count": null,
      "outputs": [
        {
          "output_type": "stream",
          "name": "stdout",
          "text": [
            "4\n",
            "13\n"
          ]
        }
      ]
    },
    {
      "cell_type": "code",
      "source": [
        "#2337\n",
        "\n",
        "from datetime import datetime, timedelta\n",
        "\n",
        "k = int(input())\n",
        "n, m = map(int, input().split())\n",
        "\n",
        "ta, tp, d = n, m, 0\n",
        "\n",
        "sd = datetime(2023, 1, 1)\n",
        "\n",
        "while True:\n",
        "    d += 1\n",
        "\n",
        "    if d % 2 == 0:\n",
        "        ta += n\n",
        "\n",
        "    if d % 3 == 0:\n",
        "        tp += m\n",
        "\n",
        "    if ta + tp >= k:\n",
        "        break\n",
        "\n",
        "while True:\n",
        "    d += 1\n",
        "    if d % 2 == 0 :\n",
        "        break\n",
        "\n",
        "\n",
        "gd = sd + timedelta(days=d)\n",
        "\n",
        "\n",
        "print(gd.strftime('%Y/%m/%d'))\n",
        "\n"
      ],
      "metadata": {
        "colab": {
          "base_uri": "https://localhost:8080/"
        },
        "id": "5C1CUtWWjHSF",
        "outputId": "40bff13a-82b9-4095-f7de-8a348c9c661a"
      },
      "execution_count": null,
      "outputs": [
        {
          "output_type": "stream",
          "name": "stdout",
          "text": [
            "500\n",
            "3 5\n",
            "2023/06/08\n"
          ]
        }
      ]
    },
    {
      "cell_type": "code",
      "source": [
        "#2338\n",
        "from datetime import datetime, timedelta\n",
        "\n",
        "k = int(input())\n",
        "n, m = map(int, input().split())\n",
        "\n",
        "ta, tp, d = n, m, 0\n",
        "\n",
        "sd = datetime(2023, 1, 1)\n",
        "\n",
        "while True:\n",
        "    d += 1\n",
        "\n",
        "    if d % 2 == 0:\n",
        "        ta += n\n",
        "\n",
        "    if d % 3 == 0:\n",
        "        tp += m\n",
        "\n",
        "    if ta + tp >= k:\n",
        "        break\n",
        "\n",
        "while True:\n",
        "    d += 1\n",
        "    if d % 2 == 0 :\n",
        "        break\n",
        "\n",
        "gd = sd + timedelta(days=d)\n",
        "print(gd.strftime('%Y/%m/%d'))\n"
      ],
      "metadata": {
        "colab": {
          "base_uri": "https://localhost:8080/"
        },
        "id": "pBui3QRhkqxf",
        "outputId": "91dbf2d4-28b1-4cfa-d1db-f1eec5fa26a2"
      },
      "execution_count": null,
      "outputs": [
        {
          "output_type": "stream",
          "name": "stdout",
          "text": [
            "200000\n",
            "5 1\n",
            "2216/04/07\n"
          ]
        }
      ]
    },
    {
      "cell_type": "code",
      "source": [
        "#2339\n",
        "\n",
        "def min_traps(n, m, d1, d2, d3):\n",
        "\n",
        "    target = n - m\n",
        "\n",
        "    dp = [float('inf')] * (target + 1)\n",
        "    dp[0] = 0\n",
        "\n",
        "    for i in range(1, target + 1):\n",
        "        if i >= d1:\n",
        "            dp[i] = min(dp[i], dp[i - d1] + 1)\n",
        "        if i >= d2:\n",
        "            dp[i] = min(dp[i], dp[i - d2] + 1)\n",
        "        if i >= d3:\n",
        "            dp[i] = min(dp[i], dp[i - d3] + 1)\n",
        "\n",
        "    return dp[target] if dp[target] != float('inf') else -1\n",
        "\n",
        "n = int(input())\n",
        "m = int(input())\n",
        "d1, d2, d3 = map(int, input().split())\n",
        "\n",
        "result = min_traps(n, m, d1, d2, d3)\n",
        "\n",
        "print(result)\n"
      ],
      "metadata": {
        "colab": {
          "base_uri": "https://localhost:8080/"
        },
        "id": "kGbY6IOcnf6k",
        "outputId": "b8172915-6a1e-404e-f518-f0eb5c719df0"
      },
      "execution_count": null,
      "outputs": [
        {
          "output_type": "stream",
          "name": "stdout",
          "text": [
            "32900\n",
            "30000\n",
            "100 200 300\n",
            "10\n"
          ]
        }
      ]
    },
    {
      "cell_type": "code",
      "source": [
        "#2342\n",
        "\n",
        "a = int(input())\n",
        "b = int(input())\n",
        "used = a-b\n",
        "\n",
        "c = 0\n",
        "for i in [500,100,50,10]:\n",
        "  c += used//i\n",
        "  used %= i\n",
        "\n",
        "print(c)"
      ],
      "metadata": {
        "colab": {
          "base_uri": "https://localhost:8080/"
        },
        "id": "0Siwvfa50lP-",
        "outputId": "ad6d5cbd-012a-47b1-ef48-9c5f4c51573f"
      },
      "execution_count": null,
      "outputs": [
        {
          "output_type": "stream",
          "name": "stdout",
          "text": [
            "777\n",
            "132\n",
            "6\n"
          ]
        }
      ]
    },
    {
      "cell_type": "code",
      "source": [
        "#2344\n",
        "a = input()\n",
        "b = {'A':'U', 'T':'A', 'G':'C', 'C':'G'}\n",
        "\n",
        "for i in list(input()):\n",
        "  print(b[i], end = '')"
      ],
      "metadata": {
        "colab": {
          "base_uri": "https://localhost:8080/"
        },
        "id": "qPZU2IxK73Dy",
        "outputId": "12cb1959-4329-4732-edd9-e4b8999649a3"
      },
      "execution_count": null,
      "outputs": [
        {
          "output_type": "stream",
          "name": "stdout",
          "text": [
            "ATCGGCTA\n",
            "ATCGGCTA\n",
            "UAGCCGAU"
          ]
        }
      ]
    },
    {
      "cell_type": "code",
      "source": [
        "#2346\n",
        "a = int(input())\n",
        "b = []\n",
        "for i in range(12):\n",
        "  for j in range(60):\n",
        "    h = 30 * i + 0.5 * j\n",
        "    m = 6 * j\n",
        "    dif = abs(h-m)\n",
        "\n",
        "    if dif == a or 360 - dif == a:\n",
        "      b.append(f'{i:02}:{j:02}')\n",
        "\n",
        "print(len(b))\n",
        "for i in range(2):\n",
        "  print(b[i])"
      ],
      "metadata": {
        "colab": {
          "base_uri": "https://localhost:8080/"
        },
        "id": "PaKT5IqA9ekv",
        "outputId": "6993e32f-5eed-41ca-bf17-beb81716f9e5"
      },
      "execution_count": null,
      "outputs": [
        {
          "output_type": "stream",
          "name": "stdout",
          "text": [
            "22\n",
            "2\n",
            "00:04\n",
            "11:56\n"
          ]
        }
      ]
    },
    {
      "cell_type": "code",
      "source": [
        "#2347\n",
        "\n",
        "n = int(input())\n",
        "g = [list(map(int, input().split())) for _ in range(n)]\n",
        "\n",
        "m = 0\n",
        "\n",
        "for i in range(n - 2):\n",
        "    for j in range(n - 2):\n",
        "        s = (g[i][j] + g[i][j+1] + g[i][j+2] +\n",
        "             g[i+1][j] + g[i+1][j+1] + g[i+1][j+2] +\n",
        "             g[i+2][j] + g[i+2][j+1] + g[i+2][j+2])\n",
        "        m = max(m, s)\n",
        "\n",
        "print(m)"
      ],
      "metadata": {
        "colab": {
          "base_uri": "https://localhost:8080/"
        },
        "id": "csMbXPyYhjBj",
        "outputId": "fa181591-e038-4d84-9a75-cc99dc17d1e5"
      },
      "execution_count": null,
      "outputs": [
        {
          "output_type": "stream",
          "name": "stdout",
          "text": [
            "6\n",
            "6 7 3 2 0 5\n",
            "3 10 3 0 5 7\n",
            "2 1 13 2 1 5\n",
            "6 11 0 4 8 4\n",
            "0 7 7 0 1 15\n",
            "6 1 6 0 2 5\n",
            "49\n"
          ]
        }
      ]
    },
    {
      "cell_type": "code",
      "source": [
        "#2348\n",
        "\n",
        "n = int(input())\n",
        "g = [list(map(int, input().split())) for _ in range(n)]\n",
        "\n",
        "m = 0\n",
        "\n",
        "for i in range(n - 1):\n",
        "    for j in range(n - 1):\n",
        "        s = g[i][j] + g[i][j+1] + g[i+1][j] + g[i+1][j+1]\n",
        "        m = max(m, s)\n",
        "\n",
        "print(m)\n"
      ],
      "metadata": {
        "id": "Ocg1l-hO_RgL"
      },
      "execution_count": null,
      "outputs": []
    },
    {
      "cell_type": "code",
      "source": [
        "#2349\n",
        "n, m = map(int, input().split())\n",
        "g = [list(map(int, input().split())) for _ in range(n)]\n",
        "\n",
        "\n",
        "s = [[0] * (n + 1) for _ in range(n + 1)]\n",
        "\n",
        "for i in range(1, n + 1):\n",
        "    for j in range(1, n + 1):\n",
        "        s[i][j] = g[i-1][j-1] + s[i-1][j] + s[i][j-1] - s[i-1][j-1]\n",
        "\n",
        "mx = 0\n",
        "for i in range(m, n + 1):\n",
        "    for j in range(m, n + 1):\n",
        "        total = s[i][j] - s[i-m][j] - s[i][j-m] + s[i-m][j-m]\n",
        "        mx = max(mx, total)\n",
        "\n",
        "print(mx)\n",
        "\n",
        "\n"
      ],
      "metadata": {
        "id": "mqB-XiqEiCQr"
      },
      "execution_count": null,
      "outputs": []
    },
    {
      "cell_type": "code",
      "source": [
        "#2350\n",
        "from collections import deque\n",
        "\n",
        "w,b = map(int, input().split())\n",
        "n = int(input())\n",
        "k = list(map(int, input().split()))\n",
        "\n",
        "\n",
        "t = 0\n",
        "q = deque([0] * b)\n",
        "c = 0\n",
        "\n",
        "for s in k:\n",
        "    while True:\n",
        "        c -= q.popleft()\n",
        "        if c + s <= w:\n",
        "            q.append(s)\n",
        "            c += s\n",
        "            t += 1\n",
        "            break\n",
        "        else:\n",
        "            q.append(0)\n",
        "            t += 1\n",
        "\n",
        "t += b\n",
        "\n",
        "print(t)\n",
        "\n"
      ],
      "metadata": {
        "colab": {
          "base_uri": "https://localhost:8080/"
        },
        "id": "omCostQdj86d",
        "outputId": "28e65124-a611-47f6-e35d-5ed7fbd6ca39"
      },
      "execution_count": null,
      "outputs": [
        {
          "output_type": "stream",
          "name": "stdout",
          "text": [
            "30 5\n",
            "8\n",
            "15 14 10 6 7 13 10 16\n",
            "21\n"
          ]
        }
      ]
    },
    {
      "cell_type": "code",
      "source": [
        "#2352\n",
        "\n",
        "a = list(map(int, input().split()))\n",
        "\n",
        "used = 0\n",
        "for i in range(1, len(a)):\n",
        "    if a[i-1] < a[i]:\n",
        "        used += (a[i] - a[i-1]) * 2\n",
        "    elif a[i-1] > a[i]:\n",
        "        used -= (a[i-1] - a[i]) // 2\n",
        "\n",
        "print(used)\n"
      ],
      "metadata": {
        "colab": {
          "base_uri": "https://localhost:8080/"
        },
        "id": "I9aT4FyaP2Jt",
        "outputId": "4c89adb9-4025-4d46-c131-6dfaba752e1b"
      },
      "execution_count": null,
      "outputs": [
        {
          "output_type": "stream",
          "name": "stdout",
          "text": [
            "4\n",
            "10 12 4 5\n",
            "-2\n"
          ]
        }
      ]
    },
    {
      "cell_type": "code",
      "source": [
        "#2353\n",
        "n = int(input())\n",
        "a = list(map(int, input().split()))\n",
        "\n",
        "used = 0\n",
        "cb = 0\n",
        "\n",
        "for i in range(1, n):\n",
        "    if a[i-1] < a[i]:\n",
        "        cb -= (a[i] - a[i-1]) * 2\n",
        "    elif a[i-1] > a[i]:\n",
        "        cb += (a[i-1] - a[i]) // 2\n",
        "\n",
        "    if cb < 0:\n",
        "        used += abs(cb)\n",
        "        cb = 0\n",
        "\n",
        "print(used)\n"
      ],
      "metadata": {
        "colab": {
          "base_uri": "https://localhost:8080/"
        },
        "id": "zoebx4lJR73c",
        "outputId": "aa70601b-9c54-4801-e765-7f07f092c26d"
      },
      "execution_count": null,
      "outputs": [
        {
          "output_type": "stream",
          "name": "stdout",
          "text": [
            "5\n",
            "6 10 2 4 3\n",
            "8\n"
          ]
        }
      ]
    },
    {
      "cell_type": "code",
      "source": [
        "#2354\n",
        "print('SFPC')"
      ],
      "metadata": {
        "id": "6HsAnSHWv61l"
      },
      "execution_count": null,
      "outputs": []
    },
    {
      "cell_type": "code",
      "source": [
        "#2355\n",
        "a,b = map(int, input().split())\n",
        "\n",
        "h = 'SFPC '*b\n",
        "j = ' '+(' SFPC'*(b-1))\n",
        "\n",
        "for i in range(1,a+1):\n",
        "  if i%2!=0:\n",
        "    print(h)\n",
        "  else:\n",
        "    print(j)"
      ],
      "metadata": {
        "colab": {
          "base_uri": "https://localhost:8080/"
        },
        "id": "dy70cwqEwN0K",
        "outputId": "a9a2b14d-c833-4eee-8223-b60e49fa0a28"
      },
      "execution_count": null,
      "outputs": [
        {
          "output_type": "stream",
          "name": "stdout",
          "text": [
            "15 14\n",
            "SFPC SFPC SFPC SFPC SFPC SFPC SFPC SFPC SFPC SFPC SFPC SFPC SFPC SFPC \n",
            "  SFPC SFPC SFPC SFPC SFPC SFPC SFPC SFPC SFPC SFPC SFPC SFPC SFPC\n",
            "SFPC SFPC SFPC SFPC SFPC SFPC SFPC SFPC SFPC SFPC SFPC SFPC SFPC SFPC \n",
            "  SFPC SFPC SFPC SFPC SFPC SFPC SFPC SFPC SFPC SFPC SFPC SFPC SFPC\n",
            "SFPC SFPC SFPC SFPC SFPC SFPC SFPC SFPC SFPC SFPC SFPC SFPC SFPC SFPC \n",
            "  SFPC SFPC SFPC SFPC SFPC SFPC SFPC SFPC SFPC SFPC SFPC SFPC SFPC\n",
            "SFPC SFPC SFPC SFPC SFPC SFPC SFPC SFPC SFPC SFPC SFPC SFPC SFPC SFPC \n",
            "  SFPC SFPC SFPC SFPC SFPC SFPC SFPC SFPC SFPC SFPC SFPC SFPC SFPC\n",
            "SFPC SFPC SFPC SFPC SFPC SFPC SFPC SFPC SFPC SFPC SFPC SFPC SFPC SFPC \n",
            "  SFPC SFPC SFPC SFPC SFPC SFPC SFPC SFPC SFPC SFPC SFPC SFPC SFPC\n",
            "SFPC SFPC SFPC SFPC SFPC SFPC SFPC SFPC SFPC SFPC SFPC SFPC SFPC SFPC \n",
            "  SFPC SFPC SFPC SFPC SFPC SFPC SFPC SFPC SFPC SFPC SFPC SFPC SFPC\n",
            "SFPC SFPC SFPC SFPC SFPC SFPC SFPC SFPC SFPC SFPC SFPC SFPC SFPC SFPC \n",
            "  SFPC SFPC SFPC SFPC SFPC SFPC SFPC SFPC SFPC SFPC SFPC SFPC SFPC\n",
            "SFPC SFPC SFPC SFPC SFPC SFPC SFPC SFPC SFPC SFPC SFPC SFPC SFPC SFPC \n"
          ]
        }
      ]
    },
    {
      "cell_type": "code",
      "source": [
        "#2357\n",
        "\n",
        "a = list(input())\n",
        "\n",
        "s = set()\n",
        "i = 0\n",
        "while True:\n",
        "  if a == ['6', '1', '7', '4']:\n",
        "    break\n",
        "\n",
        "  a.sort(reverse=True)\n",
        "  a1 = ''.join(a)\n",
        "  a2 = ''.join(a[::-1])\n",
        "  b = int(a1)-int(a2)\n",
        "  a = list(str(b))\n",
        "\n",
        "\n",
        "  if ''.join(a) in s:\n",
        "    i = -1\n",
        "    break\n",
        "\n",
        "  s.add(''.join(a))\n",
        "  i+= 1\n",
        "\n",
        "print(i)"
      ],
      "metadata": {
        "colab": {
          "base_uri": "https://localhost:8080/"
        },
        "id": "xt5NTk_SykQ7",
        "outputId": "7eb3d2eb-d96d-45c6-d872-6cb01460f0a1"
      },
      "execution_count": null,
      "outputs": [
        {
          "output_type": "stream",
          "name": "stdout",
          "text": [
            "2012\n",
            "3\n"
          ]
        }
      ]
    },
    {
      "cell_type": "code",
      "source": [
        "def kaprekar_steps(n):\n",
        "    steps = 0\n",
        "    while n != 6174:\n",
        "        # 숫자를 오름차순과 내림차순으로 정렬하여 계산\n",
        "        ascending = int(''.join(sorted(f\"{n:04d}\")))\n",
        "        descending = int(''.join(sorted(f\"{n:04d}\", reverse=True)))\n",
        "        n = descending - ascending\n",
        "        steps += 1\n",
        "    return steps\n",
        "\n",
        "# 주어진 숫자 목록\n",
        "numbers = [5902, 6777, 5000, 6975]\n",
        "\n",
        "# 각 숫자에 대해 6174에 도달하는 횟수를 구하고 더하기\n",
        "total_steps = sum(kaprekar_steps(n) for n in numbers)\n",
        "\n",
        "total_steps\n"
      ],
      "metadata": {
        "colab": {
          "base_uri": "https://localhost:8080/"
        },
        "id": "JdPsoGD38iv1",
        "outputId": "cd5e40d2-aa02-4df5-8df2-61a501be627a"
      },
      "execution_count": null,
      "outputs": [
        {
          "output_type": "execute_result",
          "data": {
            "text/plain": [
              "21"
            ]
          },
          "metadata": {},
          "execution_count": 20
        }
      ]
    },
    {
      "cell_type": "code",
      "source": [
        "#2358\n",
        "\n",
        "num = [[]for i in range(10)]\n",
        "\n",
        "for _ in range(5):\n",
        "  a = input().split()\n",
        "  for i in range(len(a)):\n",
        "    num[i].append(a[i])\n",
        "\n",
        "\n",
        "for i in range(len(num)):\n",
        "    num[i] = ''.join(num[i])\n",
        "\n",
        "num_dict = {\n",
        "    '111101101101111': 0,\n",
        "    '001001001001001': 1,\n",
        "    '111001111100111': 2,\n",
        "    '111001111001111': 3,\n",
        "    '101101111001001': 4,\n",
        "    '111100111001111': 5,\n",
        "    '111100111101111': 6,\n",
        "    '111101101001001': 7,\n",
        "    '111101111101111': 8,\n",
        "    '111101111001111': 9\n",
        "}\n",
        "\n",
        "for i in num:\n",
        "  if i:\n",
        "    print(num_dict[i], end = '')"
      ],
      "metadata": {
        "colab": {
          "base_uri": "https://localhost:8080/"
        },
        "id": "4NgP-yYmSxFJ",
        "outputId": "d7f7a2b9-23ab-4bed-cf98-ebf6ad0fabfe"
      },
      "execution_count": null,
      "outputs": [
        {
          "output_type": "stream",
          "name": "stdout",
          "text": [
            "111 001 111 111 101 111 111 111 111 111\n",
            "101 001 001 001 101 100 100 101 101 101\n",
            "111 001 111 111 111 111 111 101 111 111\n",
            "001 001 100 001 001 001 101 001 101 001\n",
            "111 001 111 111 001 111 111 001 111 111\n",
            "9123456789"
          ]
        }
      ]
    },
    {
      "cell_type": "code",
      "source": [
        "#2361\n",
        "print(220000)"
      ],
      "metadata": {
        "colab": {
          "base_uri": "https://localhost:8080/"
        },
        "id": "3Jsg-WfUXVzk",
        "outputId": "c0ed2a2e-c9b9-44ad-da1c-c62b9585fff4"
      },
      "execution_count": null,
      "outputs": [
        {
          "output_type": "execute_result",
          "data": {
            "text/plain": [
              "129000"
            ]
          },
          "metadata": {},
          "execution_count": 17
        }
      ]
    },
    {
      "cell_type": "code",
      "source": [
        "#2362\n",
        "cost = {1: 1000,2: 1000,3: 2000,4: 3000,5: 3000,6: 6000, 7: 6000}\n",
        "\n",
        "n,k = map(int, input().split())\n",
        "\n",
        "a = [int(i) for _ in range(n) for i in input().split()[1:]]\n",
        "\n",
        "b = 0\n",
        "for i in range(1,8):\n",
        "  if a.count(i) >= k:\n",
        "    b += cost[i]\n",
        "\n",
        "print(b*n)"
      ],
      "metadata": {
        "colab": {
          "base_uri": "https://localhost:8080/"
        },
        "id": "Gsdup2vvKcX-",
        "outputId": "eae89ad9-eb84-4975-ab31-5cf42d3185b8"
      },
      "execution_count": null,
      "outputs": [
        {
          "output_type": "stream",
          "name": "stdout",
          "text": [
            "5 3\n",
            "3 1 2 3\n",
            "5 1 2 3 4 5\n",
            "7 1 2 3 4 5 6 7\n",
            "6 2 3 4 5 6 7\n",
            "4 6 4 2 5\n",
            "3\n",
            "5\n",
            "4\n",
            "4\n",
            "4\n",
            "3\n",
            "80000\n"
          ]
        }
      ]
    },
    {
      "cell_type": "code",
      "source": [],
      "metadata": {
        "colab": {
          "base_uri": "https://localhost:8080/"
        },
        "id": "ymqwpTdRNLaa",
        "outputId": "c53d6eb4-0127-4453-a3e6-de705da29918"
      },
      "execution_count": null,
      "outputs": [
        {
          "output_type": "execute_result",
          "data": {
            "text/plain": [
              "115000"
            ]
          },
          "metadata": {},
          "execution_count": 22
        }
      ]
    },
    {
      "cell_type": "code",
      "source": [
        "#2364\n",
        "n = int(input())\n",
        "print((n + 4) // 5 , 150000*(n//5))"
      ],
      "metadata": {
        "colab": {
          "base_uri": "https://localhost:8080/"
        },
        "id": "tvVlK39lkeT5",
        "outputId": "94ff4dfa-a51e-4eec-b766-95ecfee49422"
      },
      "execution_count": null,
      "outputs": [
        {
          "output_type": "stream",
          "name": "stdout",
          "text": [
            "6\n",
            "2 150000\n"
          ]
        }
      ]
    },
    {
      "cell_type": "code",
      "source": [
        "#2367\n",
        "\n",
        "from datetime import datetime, timedelta\n",
        "\n",
        "s = datetime.strptime(input().strip(), \"%Y.%m.%d\")\n",
        "e = datetime.strptime(input().strip(), \"%Y.%m.%d\")\n",
        "\n",
        "c = s\n",
        "while c.weekday() != 4:\n",
        "    c += timedelta(days=1)\n",
        "\n",
        "y,d = 0,0\n",
        "\n",
        "while c <= e:\n",
        "    cnt = c.month + c.day\n",
        "    y += cnt\n",
        "    d += cnt * 2\n",
        "    c += timedelta(weeks=1)\n",
        "\n",
        "print(y, d)\n",
        "\n",
        "\n"
      ],
      "metadata": {
        "colab": {
          "base_uri": "https://localhost:8080/"
        },
        "id": "d1wZe1reNsOO",
        "outputId": "ce7c3d6f-d47c-4308-e487-7a9d7d5296a4"
      },
      "execution_count": null,
      "outputs": [
        {
          "output_type": "stream",
          "name": "stdout",
          "text": [
            "2023.01.01\n",
            "2023.12.31\n",
            "1157 2314\n"
          ]
        }
      ]
    },
    {
      "cell_type": "code",
      "source": [
        "#2368\n",
        "print(min((21064//40),(22054//50),(23063//30)))"
      ],
      "metadata": {
        "colab": {
          "base_uri": "https://localhost:8080/"
        },
        "id": "GVvhwaAHP0Xi",
        "outputId": "6d613945-e158-4584-b6fb-a340146bb33b"
      },
      "execution_count": null,
      "outputs": [
        {
          "output_type": "stream",
          "name": "stdout",
          "text": [
            "441\n"
          ]
        }
      ]
    },
    {
      "cell_type": "code",
      "source": [
        "#2369\n",
        "a,b,c = map(int, input().split())\n",
        "print(min((a//40),(b//50),(c//30)))"
      ],
      "metadata": {
        "colab": {
          "base_uri": "https://localhost:8080/"
        },
        "id": "L5CcZt7_QWLZ",
        "outputId": "51830355-e317-4ac2-b526-13adef2046e9"
      },
      "execution_count": null,
      "outputs": [
        {
          "output_type": "stream",
          "name": "stdout",
          "text": [
            "1000 1000 1000\n",
            "20\n"
          ]
        }
      ]
    },
    {
      "cell_type": "code",
      "source": [
        "#2370\n",
        "from itertools import combinations\n",
        "\n",
        "a = [2500, 5000, 3700, 5300, 4900, 6800, 7900, 2200, 3100, 3900 ]\n",
        "\n",
        "b = 0\n",
        "for i in combinations(a,8):\n",
        "  if sum(i) <= 100000:\n",
        "    b+=1\n",
        "\n",
        "print(b)\n"
      ],
      "metadata": {
        "colab": {
          "base_uri": "https://localhost:8080/"
        },
        "id": "GHaxykPTQ5Mq",
        "outputId": "f5231ec8-824b-4ff0-dafb-7eb167631a69"
      },
      "execution_count": null,
      "outputs": [
        {
          "output_type": "stream",
          "name": "stdout",
          "text": [
            "45\n"
          ]
        }
      ]
    },
    {
      "cell_type": "code",
      "source": [
        "#2371\n",
        "from itertools import combinations\n",
        "\n",
        "n = int(input())\n",
        "prices = list(map(int, input().split()))\n",
        "m, k = map(int, input().split())\n",
        "\n",
        "t = k // m\n",
        "\n",
        "count = 0\n",
        "for i in combinations(prices, 3):\n",
        "    if sum(i) <= t:\n",
        "        count += 1\n",
        "\n",
        "print(count)"
      ],
      "metadata": {
        "id": "j8L3UX6uSwBx",
        "colab": {
          "base_uri": "https://localhost:8080/"
        },
        "outputId": "4a282c77-0276-46de-de91-65cf09a3ef37"
      },
      "execution_count": null,
      "outputs": [
        {
          "output_type": "stream",
          "name": "stdout",
          "text": [
            "5\n",
            "1000 1500 300 200 700\n",
            "5 25000\n",
            "10\n"
          ]
        }
      ]
    },
    {
      "cell_type": "code",
      "source": [
        "#2373\n",
        "\n",
        "from itertools import permutations\n",
        "\n",
        "def tm(ts):\n",
        "    h, m = map(int, ts.split(':'))\n",
        "    return h * 60 + m\n",
        "\n",
        "def mt(m):\n",
        "    h = m // 60\n",
        "    m = m % 60\n",
        "    return f\"{h:02}:{m:02}\"\n",
        "\n",
        "at = input().strip()\n",
        "dt = input().strip()\n",
        "\n",
        "am = tm(at)\n",
        "dm = tm(dt)\n",
        "\n",
        "tt = dm - am\n",
        "\n",
        "t = [list(map(int, input().split())) for _ in range(6)]\n",
        "\n",
        "pl = [1, 2, 3, 4, 5]\n",
        "ms = 0\n",
        "\n",
        "for o in permutations(pl):\n",
        "    ct = 0\n",
        "    cp = 0\n",
        "\n",
        "    for np in o:\n",
        "        ct += t[cp][np]\n",
        "        cp = np\n",
        "\n",
        "    ct += t[cp][0]\n",
        "\n",
        "    if ct <= tt:\n",
        "        st = tt - ct\n",
        "        ms = max(ms, st)\n",
        "\n",
        "print(mt(ms))\n",
        "\n",
        "\n",
        "\n"
      ],
      "metadata": {
        "colab": {
          "base_uri": "https://localhost:8080/"
        },
        "id": "AVv09mIRgv6h",
        "outputId": "142259c3-a064-4057-c4c8-e7ea95d1a5cf"
      },
      "execution_count": null,
      "outputs": [
        {
          "output_type": "stream",
          "name": "stdout",
          "text": [
            "09:00\n",
            "18:00\n",
            "0 1 2 3 4 5\n",
            "1 0 1 2 3 4\n",
            "2 1 0 1 2 3\n",
            "3 2 1 0 1 2\n",
            "4 3 2 1 0 1\n",
            "5 4 3 2 1 0\n",
            "08:50\n"
          ]
        }
      ]
    },
    {
      "cell_type": "code",
      "source": [
        "#2374\n",
        "\n",
        "n, m, k, t = map(int, input().split())\n",
        "a = {i + 1: j for i, j in enumerate(list(map(int, input().split())))}\n",
        "\n",
        "b = 0\n",
        "for _ in range(k):\n",
        "    student_tour = list(map(int, input().split()))\n",
        "    c = 0\n",
        "    c += 5\n",
        "    c += a[student_tour[0]]\n",
        "\n",
        "    for i in range(1, m):\n",
        "        c += 5\n",
        "        c += a[student_tour[i]]\n",
        "\n",
        "    c += 5\n",
        "\n",
        "    if c <= t:\n",
        "        b += 1\n",
        "\n",
        "print(b)\n"
      ],
      "metadata": {
        "id": "MZ5UrtuhjBN6"
      },
      "execution_count": null,
      "outputs": []
    },
    {
      "cell_type": "code",
      "source": [
        "#2376\n",
        "from itertools import combinations as c, permutations as p\n",
        "\n",
        "n, m, t = map(int, input().split())\n",
        "a = list(map(int, input().split()))\n",
        "\n",
        "v = 0\n",
        "\n",
        "for x in c(range(n), m):\n",
        "    for y in p(x):\n",
        "        s = 0\n",
        "        for i in range(m):\n",
        "            s += a[y[i]]\n",
        "            if i > 0:\n",
        "                s += 5\n",
        "        s += 10\n",
        "\n",
        "        if s <= t:\n",
        "            v += 1\n",
        "\n",
        "print(v)\n",
        "\n",
        "\n"
      ],
      "metadata": {
        "colab": {
          "base_uri": "https://localhost:8080/"
        },
        "id": "FMaJ0EI249EI",
        "outputId": "ac40b522-40d1-4d7d-df6b-2254502dd132"
      },
      "execution_count": null,
      "outputs": [
        {
          "output_type": "stream",
          "name": "stdout",
          "text": [
            "8 7 180\n",
            "28 20 24 22 20 29 17 6\n",
            "10080\n"
          ]
        }
      ]
    },
    {
      "cell_type": "code",
      "source": [
        "a, d, n = map(int, input().split())\n",
        "\n",
        "for i in range(n-1):\n",
        "  a += d\n",
        "print(a)"
      ],
      "metadata": {
        "id": "T4eoggFcNFGq",
        "outputId": "de3bcd68-7238-4d9d-bbba-9fa98d03e8b5",
        "colab": {
          "base_uri": "https://localhost:8080/"
        }
      },
      "execution_count": null,
      "outputs": [
        {
          "output_type": "stream",
          "name": "stdout",
          "text": [
            "1 3 5\n",
            "13\n"
          ]
        }
      ]
    },
    {
      "cell_type": "code",
      "source": [
        "n = int(input()) * 10\n",
        "c = 0\n",
        "for i in [25, 15, 10]:\n",
        "    c += n // i\n",
        "    n %= i\n",
        "print(c+1 if n > 0 else c)"
      ],
      "metadata": {
        "id": "ho_wi4LexMK7"
      },
      "execution_count": null,
      "outputs": []
    },
    {
      "cell_type": "code",
      "source": [
        "#2379\n",
        "n = 20240\n",
        "c = 0\n",
        "for i in [25, 15, 10]:\n",
        "    c += n // i\n",
        "    n %= i\n",
        "print(c+1 if n > 0 else c)"
      ],
      "metadata": {
        "colab": {
          "base_uri": "https://localhost:8080/"
        },
        "id": "ZnfETDzqIMwR",
        "outputId": "d23bd1f8-d97f-4e72-bdd6-8eda2cc882bb"
      },
      "execution_count": null,
      "outputs": [
        {
          "output_type": "stream",
          "name": "stdout",
          "text": [
            "810\n"
          ]
        }
      ]
    },
    {
      "cell_type": "code",
      "source": [
        "#2380\n",
        "\n",
        "cake = [7, 4, 1, 10, 2, 3, 5, 6, 8, 9]\n",
        "\n",
        "one, two = 0, 0\n",
        "n = max(cake)\n",
        "selected = [0] * (n + 1)\n",
        "\n",
        "for i in cake:\n",
        "    selected[i] = 1\n",
        "    if i == 1:\n",
        "        if selected[i + 1] == 0:\n",
        "            one += 1\n",
        "    elif i == n:\n",
        "        if selected[i - 1] == 0:\n",
        "            one += 1\n",
        "    elif selected[i - 1] == 0 and selected[i + 1] == 0:\n",
        "        two += 1\n",
        "    elif selected[i - 1] == 1 and selected[i + 1] == 1:\n",
        "        continue\n",
        "    else:\n",
        "        one += 1\n",
        "\n",
        "print(one, two)\n"
      ],
      "metadata": {
        "colab": {
          "base_uri": "https://localhost:8080/"
        },
        "id": "LRskRF9t0XZa",
        "outputId": "797a4924-4332-4671-c878-da6005a4176f"
      },
      "execution_count": null,
      "outputs": [
        {
          "output_type": "stream",
          "name": "stdout",
          "text": [
            "5 2\n"
          ]
        }
      ]
    },
    {
      "cell_type": "code",
      "source": [
        "#2381\n",
        "a = int(input())\n",
        "\n",
        "cake = list(map(int, input().split()))\n",
        "\n",
        "one, two = 0, 0\n",
        "n = max(cake)\n",
        "selected = [0] * (n + 1)\n",
        "\n",
        "for i in cake:\n",
        "    selected[i] = 1\n",
        "    if i == 1:\n",
        "        if selected[i + 1] == 0:\n",
        "            one += 1\n",
        "    elif i == n:\n",
        "        if selected[i - 1] == 0:\n",
        "            one += 1\n",
        "    elif selected[i - 1] == 0 and selected[i + 1] == 0:\n",
        "        two += 1\n",
        "    elif selected[i - 1] == 1 and selected[i + 1] == 1:\n",
        "        continue\n",
        "    else:\n",
        "        one += 1\n",
        "\n",
        "print(one, two)"
      ],
      "metadata": {
        "colab": {
          "base_uri": "https://localhost:8080/"
        },
        "id": "xLMREdCw6bhy",
        "outputId": "d8ce0e9d-4af3-4f4b-93a6-c173671d308d"
      },
      "execution_count": null,
      "outputs": [
        {
          "output_type": "stream",
          "name": "stdout",
          "text": [
            "6\n",
            "2 5 1 6 4 3\n",
            "1 2\n"
          ]
        }
      ]
    },
    {
      "cell_type": "code",
      "source": [
        "#2382"
      ],
      "metadata": {
        "id": "VZF9Hf127qpy"
      },
      "execution_count": null,
      "outputs": []
    },
    {
      "cell_type": "code",
      "source": [
        "#2383\n",
        "\n",
        "x,y = map(int, input().split())\n",
        "\n",
        "mat = [[0 for i in range(y)] for i in range(x)]\n",
        "\n",
        "for _ in range(int(input())):\n",
        "    x1, y1, x2, y2 = map(int, input().split())\n",
        "    for i in range(x1 - 1, x2):\n",
        "        for j in range(y1 - 1, y2):\n",
        "            mat[i][j] = 1 - mat[i][j]\n",
        "\n",
        "for i in mat:\n",
        "  print(*i)\n",
        "\n",
        "###############시간복잡도 낮은 코드(누적합)\n",
        "\n",
        "x, y = map(int, input().split())\n",
        "mat = [[0] * y for _ in range(x)]\n",
        "change = [[0] * (y + 1) for _ in range(x + 1)]\n",
        "\n",
        "for _ in range(int(input())):\n",
        "    x1, y1, x2, y2 = map(int, input().split())\n",
        "    change[x1-1][y1-1] += 1\n",
        "    if x2 < x:\n",
        "        change[x2][y1-1] -= 1\n",
        "    if y2 < y:\n",
        "        change[x1-1][y2] -= 1\n",
        "    if x2 < x and y2 < y:\n",
        "        change[x2][y2] += 1\n",
        "\n",
        "for i in range(x):\n",
        "    for j in range(y):\n",
        "        if i > 0:\n",
        "            change[i][j] += change[i-1][j]\n",
        "        if j > 0:\n",
        "            change[i][j] += change[i][j-1]\n",
        "        if i > 0 and j > 0:\n",
        "            change[i][j] -= change[i-1][j-1]\n",
        "\n",
        "for i in range(x):\n",
        "    for j in range(y):\n",
        "        mat[i][j] = change[i][j] % 2\n",
        "\n",
        "for i in mat:\n",
        "    print(*i)\n"
      ],
      "metadata": {
        "id": "CTbpTufHaZGo",
        "colab": {
          "base_uri": "https://localhost:8080/",
          "height": 810
        },
        "outputId": "b97f44f3-aa2d-4500-cf0c-7c31928a5769"
      },
      "execution_count": null,
      "outputs": [
        {
          "output_type": "stream",
          "name": "stdout",
          "text": [
            "6 11\n",
            "15\n",
            "1 2 6 4\n",
            "6 8 6 9\n",
            "2 1 5 3\n",
            "3 7 4 10\n",
            "2 1 4 1\n",
            "1 2 6 4\n",
            "1 5 1 5\n",
            "6 8 6 9\n",
            "1 7 6 10\n",
            "1 2 6 4\n",
            "1 5 1 5\n",
            "2 8 5 11\n",
            "3 7 4 10\n",
            "1 5 1 5\n",
            "3 8 3 11\n",
            "0 1 1 1 1 0 1 1 1 1 0\n",
            "0 0 0 1 0 0 1 0 0 0 1\n",
            "0 0 0 1 0 0 1 1 1 1 0\n",
            "0 0 0 1 0 0 1 0 0 0 1\n",
            "1 0 0 1 0 0 1 0 0 0 1\n",
            "0 1 1 1 0 0 1 1 1 1 0\n"
          ]
        },
        {
          "output_type": "error",
          "ename": "KeyboardInterrupt",
          "evalue": "Interrupted by user",
          "traceback": [
            "\u001b[0;31m---------------------------------------------------------------------------\u001b[0m",
            "\u001b[0;31mKeyboardInterrupt\u001b[0m                         Traceback (most recent call last)",
            "\u001b[0;32m<ipython-input-26-e65245d1b8fa>\u001b[0m in \u001b[0;36m<cell line: 18>\u001b[0;34m()\u001b[0m\n\u001b[1;32m     16\u001b[0m \u001b[0;31m###############시간복잡도 낮은 코드(누적합)\u001b[0m\u001b[0;34m\u001b[0m\u001b[0;34m\u001b[0m\u001b[0m\n\u001b[1;32m     17\u001b[0m \u001b[0;34m\u001b[0m\u001b[0m\n\u001b[0;32m---> 18\u001b[0;31m \u001b[0mx\u001b[0m\u001b[0;34m,\u001b[0m \u001b[0my\u001b[0m \u001b[0;34m=\u001b[0m \u001b[0mmap\u001b[0m\u001b[0;34m(\u001b[0m\u001b[0mint\u001b[0m\u001b[0;34m,\u001b[0m \u001b[0minput\u001b[0m\u001b[0;34m(\u001b[0m\u001b[0;34m)\u001b[0m\u001b[0;34m.\u001b[0m\u001b[0msplit\u001b[0m\u001b[0;34m(\u001b[0m\u001b[0;34m)\u001b[0m\u001b[0;34m)\u001b[0m\u001b[0;34m\u001b[0m\u001b[0;34m\u001b[0m\u001b[0m\n\u001b[0m\u001b[1;32m     19\u001b[0m \u001b[0mmat\u001b[0m \u001b[0;34m=\u001b[0m \u001b[0;34m[\u001b[0m\u001b[0;34m[\u001b[0m\u001b[0;36m0\u001b[0m\u001b[0;34m]\u001b[0m \u001b[0;34m*\u001b[0m \u001b[0my\u001b[0m \u001b[0;32mfor\u001b[0m \u001b[0m_\u001b[0m \u001b[0;32min\u001b[0m \u001b[0mrange\u001b[0m\u001b[0;34m(\u001b[0m\u001b[0mx\u001b[0m\u001b[0;34m)\u001b[0m\u001b[0;34m]\u001b[0m\u001b[0;34m\u001b[0m\u001b[0;34m\u001b[0m\u001b[0m\n\u001b[1;32m     20\u001b[0m \u001b[0mchange\u001b[0m \u001b[0;34m=\u001b[0m \u001b[0;34m[\u001b[0m\u001b[0;34m[\u001b[0m\u001b[0;36m0\u001b[0m\u001b[0;34m]\u001b[0m \u001b[0;34m*\u001b[0m \u001b[0;34m(\u001b[0m\u001b[0my\u001b[0m \u001b[0;34m+\u001b[0m \u001b[0;36m1\u001b[0m\u001b[0;34m)\u001b[0m \u001b[0;32mfor\u001b[0m \u001b[0m_\u001b[0m \u001b[0;32min\u001b[0m \u001b[0mrange\u001b[0m\u001b[0;34m(\u001b[0m\u001b[0mx\u001b[0m \u001b[0;34m+\u001b[0m \u001b[0;36m1\u001b[0m\u001b[0;34m)\u001b[0m\u001b[0;34m]\u001b[0m\u001b[0;34m\u001b[0m\u001b[0;34m\u001b[0m\u001b[0m\n",
            "\u001b[0;32m/usr/local/lib/python3.10/dist-packages/ipykernel/kernelbase.py\u001b[0m in \u001b[0;36mraw_input\u001b[0;34m(self, prompt)\u001b[0m\n\u001b[1;32m    849\u001b[0m                 \u001b[0;34m\"raw_input was called, but this frontend does not support input requests.\"\u001b[0m\u001b[0;34m\u001b[0m\u001b[0;34m\u001b[0m\u001b[0m\n\u001b[1;32m    850\u001b[0m             )\n\u001b[0;32m--> 851\u001b[0;31m         return self._input_request(str(prompt),\n\u001b[0m\u001b[1;32m    852\u001b[0m             \u001b[0mself\u001b[0m\u001b[0;34m.\u001b[0m\u001b[0m_parent_ident\u001b[0m\u001b[0;34m,\u001b[0m\u001b[0;34m\u001b[0m\u001b[0;34m\u001b[0m\u001b[0m\n\u001b[1;32m    853\u001b[0m             \u001b[0mself\u001b[0m\u001b[0;34m.\u001b[0m\u001b[0m_parent_header\u001b[0m\u001b[0;34m,\u001b[0m\u001b[0;34m\u001b[0m\u001b[0;34m\u001b[0m\u001b[0m\n",
            "\u001b[0;32m/usr/local/lib/python3.10/dist-packages/ipykernel/kernelbase.py\u001b[0m in \u001b[0;36m_input_request\u001b[0;34m(self, prompt, ident, parent, password)\u001b[0m\n\u001b[1;32m    893\u001b[0m             \u001b[0;32mexcept\u001b[0m \u001b[0mKeyboardInterrupt\u001b[0m\u001b[0;34m:\u001b[0m\u001b[0;34m\u001b[0m\u001b[0;34m\u001b[0m\u001b[0m\n\u001b[1;32m    894\u001b[0m                 \u001b[0;31m# re-raise KeyboardInterrupt, to truncate traceback\u001b[0m\u001b[0;34m\u001b[0m\u001b[0;34m\u001b[0m\u001b[0m\n\u001b[0;32m--> 895\u001b[0;31m                 \u001b[0;32mraise\u001b[0m \u001b[0mKeyboardInterrupt\u001b[0m\u001b[0;34m(\u001b[0m\u001b[0;34m\"Interrupted by user\"\u001b[0m\u001b[0;34m)\u001b[0m \u001b[0;32mfrom\u001b[0m \u001b[0;32mNone\u001b[0m\u001b[0;34m\u001b[0m\u001b[0;34m\u001b[0m\u001b[0m\n\u001b[0m\u001b[1;32m    896\u001b[0m             \u001b[0;32mexcept\u001b[0m \u001b[0mException\u001b[0m \u001b[0;32mas\u001b[0m \u001b[0me\u001b[0m\u001b[0;34m:\u001b[0m\u001b[0;34m\u001b[0m\u001b[0;34m\u001b[0m\u001b[0m\n\u001b[1;32m    897\u001b[0m                 \u001b[0mself\u001b[0m\u001b[0;34m.\u001b[0m\u001b[0mlog\u001b[0m\u001b[0;34m.\u001b[0m\u001b[0mwarning\u001b[0m\u001b[0;34m(\u001b[0m\u001b[0;34m\"Invalid Message:\"\u001b[0m\u001b[0;34m,\u001b[0m \u001b[0mexc_info\u001b[0m\u001b[0;34m=\u001b[0m\u001b[0;32mTrue\u001b[0m\u001b[0;34m)\u001b[0m\u001b[0;34m\u001b[0m\u001b[0;34m\u001b[0m\u001b[0m\n",
            "\u001b[0;31mKeyboardInterrupt\u001b[0m: Interrupted by user"
          ]
        }
      ]
    },
    {
      "cell_type": "code",
      "source": [
        "#2413\n",
        "\n",
        "a = int(input())\n",
        "\n",
        "fre_count = 0\n",
        "for i in range(a):\n",
        "  information = len(input().split(',')[3:])\n",
        "  fre_count += information\n",
        "\n",
        "print(f'{fre_count/a:.02f}')"
      ],
      "metadata": {
        "colab": {
          "base_uri": "https://localhost:8080/"
        },
        "id": "WfIApsuAJK3N",
        "outputId": "cba697a9-2b23-46d3-fae2-04887fabbf62"
      },
      "execution_count": null,
      "outputs": [
        {
          "output_type": "stream",
          "name": "stdout",
          "text": [
            "3\n",
            "Addison,F,18,Sharon,Kimberly,Joshua\n",
            "Clara,F,17,Addison,Brittany,Mary,Sharon\n",
            "Anthony,M,18,Kyle,Mary\\\n",
            "Andrew,M,18,Sharon,Clara\n",
            "Mary,F,17,Clara\n",
            "Sharon,F,17,Mary,Addison,Kyle\n",
            "Kimberly,F,17,Addison,Brittany,Anthony,Mary,Andrew\n",
            "Kyle,M,17,Mary,Brittany,Addison\n",
            "Brittany,F,17,Kyle,Sharon,Mary,Addison,Anthony\n",
            "Joshua,M,19,Mary,Clara\n",
            "10.0\n"
          ]
        }
      ]
    },
    {
      "cell_type": "code",
      "source": [
        "#2414\n",
        "a = int(input())\n",
        "\n",
        "b = dict()\n",
        "for i in range(a):\n",
        "  c = list(map(str, input().split(',')))\n",
        "  b.update({c[0]:c[2]})\n",
        "\n",
        "print(b[input()])"
      ],
      "metadata": {
        "colab": {
          "base_uri": "https://localhost:8080/"
        },
        "id": "VZPKAnpY05hf",
        "outputId": "dd902ea1-0c68-4c89-9d9b-2f638a22c2bb"
      },
      "execution_count": null,
      "outputs": [
        {
          "output_type": "stream",
          "name": "stdout",
          "text": [
            "2\n",
            "Addison,F,18,Sharon,Kimberly,Joshua\n",
            "Clara,F,17,Addison,Brittany,Mary,Sharon\n",
            "Addison\n",
            "18\n"
          ]
        }
      ]
    },
    {
      "cell_type": "code",
      "source": [
        "#2415\n",
        "\n",
        "a = int(input())\n",
        "\n",
        "b = [list(map(str, input().split(','))) for i in range(a)]\n",
        "\n",
        "c = input()\n",
        "\n",
        "for i in b :\n",
        "  if c == i[0]:\n",
        "    for j in i[3:]:\n",
        "      print(j)"
      ],
      "metadata": {
        "colab": {
          "base_uri": "https://localhost:8080/"
        },
        "id": "wZU5OeurUUJX",
        "outputId": "48f85bea-420c-44ec-ba36-59ab3a42fc5d"
      },
      "execution_count": null,
      "outputs": [
        {
          "output_type": "stream",
          "name": "stdout",
          "text": [
            "2\n",
            "Addison,F,18,Sharon,Kimberly,Joshua\n",
            "Clara,F,17,Addison,Brittany,Mary,Sharon\n",
            "Clara\n",
            "['Clara', 'F', '17', 'Addison', 'Brittany', 'Mary', 'Sharon']\n",
            "Addison\n",
            "Brittany\n",
            "Mary\n",
            "Sharon\n"
          ]
        }
      ]
    },
    {
      "cell_type": "code",
      "source": [
        "#2416\n",
        "\n",
        "a = [list(map(str, input().split(','))) for i in range(int(input()))]\n",
        "\n",
        "fre = dict()\n",
        "for i in a:\n",
        "  fre.update({i[0]:i[1]})\n",
        "\n",
        "b = input()\n",
        "\n",
        "M,F = 0,0\n",
        "for i in a:\n",
        "  if i[0] == b:\n",
        "    for j in i[3:]:\n",
        "      if fre[j] == 'F':\n",
        "        F += 1\n",
        "      elif fre[j] == 'M':\n",
        "        M += 1\n",
        "\n",
        "print(f'{M}\\n{F}')\n",
        "\n"
      ],
      "metadata": {
        "id": "zllyUqb05X9M"
      },
      "execution_count": null,
      "outputs": []
    },
    {
      "cell_type": "code",
      "source": [
        "#2417\n",
        "\n",
        "a = [list(map(str, input().split(','))) for i in range(int(input()))]\n",
        "\n",
        "b =dict((i[0],0) for i in a)\n",
        "\n",
        "\n",
        "for i in a:\n",
        "  c = i\n",
        "  for j in c[3:]:\n",
        "    b[j] += 1\n",
        "\n",
        "max_count = max(b.values())\n",
        "b = sorted([name for name, count in b.items() if count == max_count])\n",
        "\n",
        "for i in b:\n",
        "  print(i)"
      ],
      "metadata": {
        "id": "nRr9NkqZDOM7"
      },
      "execution_count": null,
      "outputs": []
    },
    {
      "cell_type": "code",
      "source": [
        "#2418\n",
        "\n",
        "a = [list(map(str, input().split(','))) for i in range(int(input()))]\n",
        "\n",
        "b =dict((i[0],[i[1],0]) for i in a)\n",
        "\n",
        "\n",
        "for i in a:\n",
        "  c = i[0]\n",
        "  for j in i[3:]:\n",
        "    if b[c][0] != b[j][0]:\n",
        "      b[j][1] += 1\n",
        "\n",
        "max_count = max(b.values(), key=lambda x: x[1])[1]\n",
        "b = sorted([name for name, count in b.items() if count[1] == max_count])\n",
        "\n",
        "for i in b:\n",
        "  print(i)"
      ],
      "metadata": {
        "id": "_nP90eEsH3lq"
      },
      "execution_count": null,
      "outputs": []
    },
    {
      "cell_type": "code",
      "source": [
        "#2419\n",
        "\n",
        "a = [list(map(str, input().split(','))) for i in range(int(input()))]\n",
        "\n",
        "b = dict((i[0],i[3:]) for i in a)\n",
        "\n",
        "\n",
        "c = input()\n",
        "d = set()\n",
        "d.update(b[c])\n",
        "\n",
        "for friend in b[c]:\n",
        "    d.update(b[friend])\n",
        "d.discard(c)\n",
        "print(len(d))"
      ],
      "metadata": {
        "colab": {
          "base_uri": "https://localhost:8080/",
          "height": 428
        },
        "id": "p67h9vY-MXxs",
        "outputId": "2c8101ea-fda1-4876-fc02-faad255de593"
      },
      "execution_count": null,
      "outputs": [
        {
          "name": "stdout",
          "output_type": "stream",
          "text": [
            "1\n",
            "Addison,F,18,Sharon,Kimberly,Joshua\n"
          ]
        },
        {
          "output_type": "error",
          "ename": "KeyboardInterrupt",
          "evalue": "Interrupted by user",
          "traceback": [
            "\u001b[0;31m---------------------------------------------------------------------------\u001b[0m",
            "\u001b[0;31mKeyboardInterrupt\u001b[0m                         Traceback (most recent call last)",
            "\u001b[0;32m<ipython-input-2-22bdafd6cc1b>\u001b[0m in \u001b[0;36m<cell line: 8>\u001b[0;34m()\u001b[0m\n\u001b[1;32m      6\u001b[0m \u001b[0;34m\u001b[0m\u001b[0m\n\u001b[1;32m      7\u001b[0m \u001b[0;34m\u001b[0m\u001b[0m\n\u001b[0;32m----> 8\u001b[0;31m \u001b[0mc\u001b[0m \u001b[0;34m=\u001b[0m \u001b[0minput\u001b[0m\u001b[0;34m(\u001b[0m\u001b[0;34m)\u001b[0m\u001b[0;34m\u001b[0m\u001b[0;34m\u001b[0m\u001b[0m\n\u001b[0m\u001b[1;32m      9\u001b[0m \u001b[0md\u001b[0m \u001b[0;34m=\u001b[0m \u001b[0mset\u001b[0m\u001b[0;34m(\u001b[0m\u001b[0;34m)\u001b[0m\u001b[0;34m\u001b[0m\u001b[0;34m\u001b[0m\u001b[0m\n\u001b[1;32m     10\u001b[0m \u001b[0md\u001b[0m\u001b[0;34m.\u001b[0m\u001b[0mupdate\u001b[0m\u001b[0;34m(\u001b[0m\u001b[0mb\u001b[0m\u001b[0;34m[\u001b[0m\u001b[0mc\u001b[0m\u001b[0;34m]\u001b[0m\u001b[0;34m)\u001b[0m\u001b[0;34m\u001b[0m\u001b[0;34m\u001b[0m\u001b[0m\n",
            "\u001b[0;32m/usr/local/lib/python3.10/dist-packages/ipykernel/kernelbase.py\u001b[0m in \u001b[0;36mraw_input\u001b[0;34m(self, prompt)\u001b[0m\n\u001b[1;32m    849\u001b[0m                 \u001b[0;34m\"raw_input was called, but this frontend does not support input requests.\"\u001b[0m\u001b[0;34m\u001b[0m\u001b[0;34m\u001b[0m\u001b[0m\n\u001b[1;32m    850\u001b[0m             )\n\u001b[0;32m--> 851\u001b[0;31m         return self._input_request(str(prompt),\n\u001b[0m\u001b[1;32m    852\u001b[0m             \u001b[0mself\u001b[0m\u001b[0;34m.\u001b[0m\u001b[0m_parent_ident\u001b[0m\u001b[0;34m,\u001b[0m\u001b[0;34m\u001b[0m\u001b[0;34m\u001b[0m\u001b[0m\n\u001b[1;32m    853\u001b[0m             \u001b[0mself\u001b[0m\u001b[0;34m.\u001b[0m\u001b[0m_parent_header\u001b[0m\u001b[0;34m,\u001b[0m\u001b[0;34m\u001b[0m\u001b[0;34m\u001b[0m\u001b[0m\n",
            "\u001b[0;32m/usr/local/lib/python3.10/dist-packages/ipykernel/kernelbase.py\u001b[0m in \u001b[0;36m_input_request\u001b[0;34m(self, prompt, ident, parent, password)\u001b[0m\n\u001b[1;32m    893\u001b[0m             \u001b[0;32mexcept\u001b[0m \u001b[0mKeyboardInterrupt\u001b[0m\u001b[0;34m:\u001b[0m\u001b[0;34m\u001b[0m\u001b[0;34m\u001b[0m\u001b[0m\n\u001b[1;32m    894\u001b[0m                 \u001b[0;31m# re-raise KeyboardInterrupt, to truncate traceback\u001b[0m\u001b[0;34m\u001b[0m\u001b[0;34m\u001b[0m\u001b[0m\n\u001b[0;32m--> 895\u001b[0;31m                 \u001b[0;32mraise\u001b[0m \u001b[0mKeyboardInterrupt\u001b[0m\u001b[0;34m(\u001b[0m\u001b[0;34m\"Interrupted by user\"\u001b[0m\u001b[0;34m)\u001b[0m \u001b[0;32mfrom\u001b[0m \u001b[0;32mNone\u001b[0m\u001b[0;34m\u001b[0m\u001b[0;34m\u001b[0m\u001b[0m\n\u001b[0m\u001b[1;32m    896\u001b[0m             \u001b[0;32mexcept\u001b[0m \u001b[0mException\u001b[0m \u001b[0;32mas\u001b[0m \u001b[0me\u001b[0m\u001b[0;34m:\u001b[0m\u001b[0;34m\u001b[0m\u001b[0;34m\u001b[0m\u001b[0m\n\u001b[1;32m    897\u001b[0m                 \u001b[0mself\u001b[0m\u001b[0;34m.\u001b[0m\u001b[0mlog\u001b[0m\u001b[0;34m.\u001b[0m\u001b[0mwarning\u001b[0m\u001b[0;34m(\u001b[0m\u001b[0;34m\"Invalid Message:\"\u001b[0m\u001b[0;34m,\u001b[0m \u001b[0mexc_info\u001b[0m\u001b[0;34m=\u001b[0m\u001b[0;32mTrue\u001b[0m\u001b[0;34m)\u001b[0m\u001b[0;34m\u001b[0m\u001b[0;34m\u001b[0m\u001b[0m\n",
            "\u001b[0;31mKeyboardInterrupt\u001b[0m: Interrupted by user"
          ]
        }
      ]
    },
    {
      "cell_type": "code",
      "source": [
        "#2441\n",
        "\n",
        "a = int(input())\n",
        "b = [input().split(',')[1] for i in range(a)]\n",
        "\n",
        "print(b.count('M'),b.count('F'))"
      ],
      "metadata": {
        "colab": {
          "base_uri": "https://localhost:8080/"
        },
        "id": "r8Io23PjCmj3",
        "outputId": "fdced068-31b3-473b-fe49-7f0168d78464"
      },
      "execution_count": null,
      "outputs": [
        {
          "output_type": "stream",
          "name": "stdout",
          "text": [
            "2\n",
            "Addison,F,18,Sharon,Kimberly,Joshua\n",
            "Addison,F,18,Sharon,Kimberly,Joshua\n",
            "0 2\n"
          ]
        }
      ]
    },
    {
      "cell_type": "code",
      "source": [
        "#2506\n",
        "num = float(input())\n",
        "\n",
        "i = 0\n",
        "j = 1\n",
        "\n",
        "while True:\n",
        "    if round(i / j, 3) == round(num / 100, 4):\n",
        "        print(f\"{int(i)}/{int(j)}\")\n",
        "        break\n",
        "    elif i == j:\n",
        "        j += 1\n",
        "        i = 0\n",
        "    else:\n",
        "        i += 1\n"
      ],
      "metadata": {
        "colab": {
          "base_uri": "https://localhost:8080/"
        },
        "id": "0peuvy8Sk6ba",
        "outputId": "6737e3fc-6a61-41f5-e67b-f9a9e6b42d48"
      },
      "execution_count": null,
      "outputs": [
        {
          "output_type": "stream",
          "name": "stdout",
          "text": [
            "50.0\n",
            "1/2\n"
          ]
        }
      ]
    },
    {
      "cell_type": "code",
      "source": [],
      "metadata": {
        "colab": {
          "base_uri": "https://localhost:8080/"
        },
        "id": "VOP7uv3imibV",
        "outputId": "add30f40-f40d-4a43-a66a-15f8f37fd423"
      },
      "execution_count": null,
      "outputs": [
        {
          "output_type": "execute_result",
          "data": {
            "text/plain": [
              "2.0"
            ]
          },
          "metadata": {},
          "execution_count": 9
        }
      ]
    },
    {
      "cell_type": "code",
      "source": [
        "#2602\n",
        "a = [list(map(int, input().split())) for i in range(3)]\n",
        "\n",
        "for i in range(3):\n",
        "  print(*a[i], sum(a[i]))\n",
        "  a[i].append(sum(a[i]))\n",
        "\n",
        "for i in range(4):\n",
        "  b = 0\n",
        "  for j in range(3):\n",
        "    b+=a[j][i]\n",
        "  print(b, end = ' ')\n"
      ],
      "metadata": {
        "colab": {
          "base_uri": "https://localhost:8080/"
        },
        "id": "7mK8JlyIqznD",
        "outputId": "2c02a1aa-05a5-438b-a1c4-a82e33616a8f"
      },
      "execution_count": null,
      "outputs": [
        {
          "output_type": "stream",
          "name": "stdout",
          "text": [
            "93 94 87 \n",
            "82 75 91 \n",
            "78 89 92 \n",
            "93 94 87 274\n",
            "82 75 91 248\n",
            "78 89 92 259\n",
            "253 258 270 781 "
          ]
        }
      ]
    },
    {
      "cell_type": "code",
      "source": [
        "#2603\n",
        "a = [i//10 for i in list(map(int, input().split()))]\n",
        "b = [[' ']*10 for i in range(10)]\n",
        "\n",
        "for i in range(10):\n",
        "  for j in range(9,(9-a[i]),-1):\n",
        "    b[j][i] = '#'\n",
        "\n",
        "for i in b:\n",
        "  print(*i)"
      ],
      "metadata": {
        "colab": {
          "base_uri": "https://localhost:8080/"
        },
        "id": "JDCt2HDXxj96",
        "outputId": "b6e2271b-6672-4ead-cbf3-1b7a3a932969"
      },
      "execution_count": null,
      "outputs": [
        {
          "output_type": "stream",
          "name": "stdout",
          "text": [
            "25 20 30 40 56 79 8 15 90 52\n",
            "                   \n",
            "                #  \n",
            "                #  \n",
            "          #     #  \n",
            "          #     #  \n",
            "        # #     # #\n",
            "      # # #     # #\n",
            "    # # # #     # #\n",
            "# # # # # #     # #\n",
            "# # # # # #   # # #\n"
          ]
        }
      ]
    },
    {
      "cell_type": "code",
      "source": [
        "#2604\n",
        "import math\n",
        "\n",
        "a = input().split('.')[1]\n",
        "b = 10 ** len(a)\n",
        "a = int(a)\n",
        "\n",
        "if math.gcd(a,b) != 1:\n",
        "  a,b = a//math.gcd(a,b), b//math.gcd(a,b)\n",
        "\n",
        "print(a,b)"
      ],
      "metadata": {
        "colab": {
          "base_uri": "https://localhost:8080/"
        },
        "id": "bFO617db0L_W",
        "outputId": "9a227533-b3c8-4e9a-da28-3787e3c22c00"
      },
      "execution_count": null,
      "outputs": [
        {
          "output_type": "stream",
          "name": "stdout",
          "text": [
            "0.25\n",
            "1 4\n"
          ]
        }
      ]
    },
    {
      "cell_type": "code",
      "source": [
        "#2605\n",
        "def dfs(board, visited, x, y, color):\n",
        "    dx = [-1, 1, 0, 0]\n",
        "    dy = [0, 0, -1, 1]\n",
        "\n",
        "    stack = [(x, y)]\n",
        "    visited[x][y] = True\n",
        "    count = 1\n",
        "\n",
        "    while stack:\n",
        "        cx, cy = stack.pop()\n",
        "\n",
        "        for i in range(4):\n",
        "            nx, ny = cx + dx[i], cy + dy[i]\n",
        "\n",
        "            if 0 <= nx < 7 and 0 <= ny < 7 and not visited[nx][ny]:\n",
        "                if board[nx][ny] == color:\n",
        "                    visited[nx][ny] = True\n",
        "                    stack.append((nx, ny))\n",
        "                    count += 1\n",
        "\n",
        "    return count\n",
        "\n",
        "def count_touchable_areas(board):\n",
        "    visited = [[False] * 7 for _ in range(7)]\n",
        "    touchable_areas_count = 0\n",
        "\n",
        "    for i in range(7):\n",
        "        for j in range(7):\n",
        "            if not visited[i][j]:\n",
        "                connected_cells_count = dfs(board, visited, i, j, board[i][j])\n",
        "                if connected_cells_count >= 3:\n",
        "                    touchable_areas_count += 1\n",
        "\n",
        "    return touchable_areas_count\n",
        "\n",
        "board = [list(map(int, input().split())) for _ in range(7)]\n",
        "\n",
        "print(count_touchable_areas(board))"
      ],
      "metadata": {
        "colab": {
          "base_uri": "https://localhost:8080/"
        },
        "id": "02na0FsQHQ0C",
        "outputId": "09132852-baf3-4215-e74b-02602f51e7bd"
      },
      "execution_count": null,
      "outputs": [
        {
          "output_type": "stream",
          "name": "stdout",
          "text": [
            "2 1 5 1 1 3 4\n",
            "2 1 5 1 3 5 3\n",
            "2 3 4 5 2 2 4\n",
            "4 4 3 2 3 1 3\n",
            "4 3 5 3 1 4 3\n",
            "5 4 4 3 3 5 5\n",
            "2 1 3 5 1 1 2\n",
            "34\n"
          ]
        }
      ]
    },
    {
      "cell_type": "code",
      "source": [
        "#2606\n",
        "a,b = map(int, input().split())\n",
        "print(f'{a/b-a//b:.11f}'[2:12])"
      ],
      "metadata": {
        "colab": {
          "base_uri": "https://localhost:8080/"
        },
        "id": "nei6WwGwReGT",
        "outputId": "0742d79d-3072-4ebd-98bf-93a42d25f9e7"
      },
      "execution_count": null,
      "outputs": [
        {
          "output_type": "stream",
          "name": "stdout",
          "text": [
            "19 7\n",
            "7142857142\n"
          ]
        }
      ]
    },
    {
      "cell_type": "code",
      "source": [
        "#2607 에라토스테네스의 체 알고리즘\n",
        "def sieve_of_eratosthenes(limit):\n",
        "    is_prime = [True] * (limit + 1)\n",
        "    p = 2\n",
        "    while (p * p <= limit):\n",
        "        if is_prime[p]:\n",
        "            for i in range(p * p, limit + 1, p):\n",
        "                is_prime[i] = False\n",
        "        p += 1\n",
        "    return is_prime\n",
        "\n",
        "def find_twin_primes(a, b):\n",
        "    primes = sieve_of_eratosthenes(b)\n",
        "    twin_primes = []\n",
        "\n",
        "    for i in range(a, b - 1):\n",
        "        if primes[i] and primes[i + 2]:\n",
        "            twin_primes.append((i, i + 2))\n",
        "\n",
        "    return twin_primes\n",
        "\n",
        "a, b = map(int, input().split())\n",
        "\n",
        "twin_primes = find_twin_primes(a, b)\n",
        "\n",
        "for tp in twin_primes:\n",
        "    print(tp[0], tp[1])"
      ],
      "metadata": {
        "colab": {
          "base_uri": "https://localhost:8080/"
        },
        "id": "8x3J_gpwgZrH",
        "outputId": "0b596e79-7717-4c69-bc68-bab057fc7ce5"
      },
      "execution_count": null,
      "outputs": [
        {
          "output_type": "stream",
          "name": "stdout",
          "text": [
            "2 20\n",
            "3 5\n",
            "5 7\n",
            "11 13\n",
            "17 19\n"
          ]
        }
      ]
    },
    {
      "cell_type": "code",
      "source": [
        "#2608 백트래킹\n",
        "def generate_votes(n, current_vote=\"\"):\n",
        "    if len(current_vote) == n:\n",
        "        print(current_vote)\n",
        "        return\n",
        "\n",
        "    generate_votes(n, current_vote + \"O\")\n",
        "\n",
        "    generate_votes(n, current_vote + \"X\")\n",
        "\n",
        "\n",
        "n = int(input())\n",
        "generate_votes(n)"
      ],
      "metadata": {
        "id": "Ua6Wfc2GMvxH"
      },
      "execution_count": null,
      "outputs": []
    },
    {
      "cell_type": "code",
      "source": [
        "#2609\n",
        "\n",
        "def f(a, b):\n",
        "    i, r, d, rem = a // b, a % b, \"\", {}\n",
        "    while r and r not in rem:\n",
        "        rem[r], r = len(d), r * 10\n",
        "        d += str(r // b)\n",
        "        r %= b\n",
        "        print(r)\n",
        "    if not r:\n",
        "        return f\"{i}.{d}(0)\" if d else f\"{i}.0\"\n",
        "    return f\"{i}.{d[:rem[r]]}({d[rem[r]:]})\"\n",
        "\n",
        "a, b = map(int, input().split())\n",
        "print(f(a, b))\n"
      ],
      "metadata": {
        "colab": {
          "base_uri": "https://localhost:8080/"
        },
        "id": "5SyCEu5ko0Xj",
        "outputId": "8d525002-73c8-4874-ba9e-1557430bc472"
      },
      "execution_count": null,
      "outputs": [
        {
          "output_type": "stream",
          "name": "stdout",
          "text": [
            "9 7\n",
            "6\n",
            "4\n",
            "5\n",
            "1\n",
            "3\n",
            "2\n",
            "285714\n",
            "1.(285714)\n"
          ]
        }
      ]
    },
    {
      "cell_type": "code",
      "source": [
        "#2610 BFS\n",
        "from collections import deque\n",
        "\n",
        "def bfs(mat, x, y):\n",
        "    directions =  [(-1, 0), (1, 0), (0, -1), (0, 1)]\n",
        "\n",
        "    visited = [[False for _ in range(10)] for _ in range(10)]\n",
        "\n",
        "    if mat[y][x] == '_':\n",
        "        visited[y][x] = True\n",
        "    else:\n",
        "        return mat\n",
        "\n",
        "    queue = deque()\n",
        "    queue.append((y, x))\n",
        "\n",
        "    while queue:\n",
        "        cy, cx = queue.popleft()\n",
        "\n",
        "        for dy, dx in directions:\n",
        "            ny, nx = cy + dy, cx + dx\n",
        "            if 0 <= ny < 10 and 0 <= nx < 10:\n",
        "                if mat[ny][nx] == '_' and not visited[ny][nx]:\n",
        "                    visited[ny][nx] = True\n",
        "                    queue.append((ny, nx))\n",
        "\n",
        "    for i in range(10):\n",
        "        for j in range(10):\n",
        "            if visited[i][j]:\n",
        "                mat[i][j] = '*'\n",
        "\n",
        "    return mat\n",
        "\n",
        "mat = [list(input().strip()) for _ in range(10)]\n",
        "\n",
        "x, y = map(int, input().split())\n",
        "\n",
        "result = bfs(mat, x, y)\n",
        "for row in result:\n",
        "    print(\"\".join(row))\n"
      ],
      "metadata": {
        "colab": {
          "base_uri": "https://localhost:8080/"
        },
        "id": "KFKtgXFGWNxN",
        "outputId": "15e58682-764a-4383-dfc4-852fc42d989a"
      },
      "execution_count": null,
      "outputs": [
        {
          "output_type": "stream",
          "name": "stdout",
          "text": [
            "__________\n",
            "_____****_\n",
            "_____*__*_\n",
            "__*******_\n",
            "__*__*_**_\n",
            "__*__****_\n",
            "__*____*__\n",
            "__*____*__\n",
            "__******__\n",
            "6 2\n",
            "6 2\n",
            "__________\n",
            "_____****_\n",
            "_____****_\n",
            "__*******_\n",
            "__*__*_**_\n",
            "__*__****_\n",
            "__*____*__\n",
            "__*____*__\n",
            "__******__\n",
            "6 2\n"
          ]
        }
      ]
    },
    {
      "cell_type": "code",
      "source": [
        "#2621\n",
        "a =int(input())\n",
        "print(sum([i for i in range(1,a+1) if a % i ==0]))"
      ],
      "metadata": {
        "colab": {
          "base_uri": "https://localhost:8080/"
        },
        "id": "gzmM9RH_imzM",
        "outputId": "22c70b16-3d29-47b1-d6a8-3ca365df9adc"
      },
      "execution_count": null,
      "outputs": [
        {
          "output_type": "stream",
          "name": "stdout",
          "text": [
            "10\n",
            "18\n"
          ]
        }
      ]
    },
    {
      "cell_type": "code",
      "source": [
        "#2622\n",
        "a = input()\n",
        "b = list(enumerate(map(int,input().split())))\n",
        "c , d = min(b,key = lambda x : x [1]), max(b,key = lambda x : x [1])\n",
        "\n",
        "print(d[0]+1,':',d[1])\n",
        "print(c[0]+1,':',c[1])"
      ],
      "metadata": {
        "colab": {
          "base_uri": "https://localhost:8080/"
        },
        "id": "HEWcp4ske_NX",
        "outputId": "90205030-73a5-4887-916c-c79c53cbb1c0"
      },
      "execution_count": null,
      "outputs": [
        {
          "output_type": "stream",
          "name": "stdout",
          "text": [
            "3\n",
            "100 36 55\n",
            "2 36\n",
            "1 100\n"
          ]
        }
      ]
    },
    {
      "cell_type": "code",
      "source": [
        "#2624\n",
        "limit = int(input())\n",
        "\n",
        "is_prime = [True] * (limit + 1)\n",
        "p = 2\n",
        "while (p * p <= limit):\n",
        "    if is_prime[p]:\n",
        "        for i in range(p * p, limit + 1, p):\n",
        "            is_prime[i] = False\n",
        "    p += 1\n",
        "\n",
        "primes = is_prime\n",
        "twin_primes = []\n",
        "\n",
        "for i in range(2, limit+1):\n",
        "    if primes[i]:\n",
        "        twin_primes.append(i)\n",
        "\n",
        "print(sum(twin_primes))"
      ],
      "metadata": {
        "colab": {
          "base_uri": "https://localhost:8080/"
        },
        "id": "UP5P8voWhO1a",
        "outputId": "4281f9e0-e2f5-4230-9969-1a504b84fb87"
      },
      "execution_count": null,
      "outputs": [
        {
          "output_type": "stream",
          "name": "stdout",
          "text": [
            "10\n",
            "17\n"
          ]
        }
      ]
    },
    {
      "cell_type": "code",
      "source": [
        "#2626\n",
        "\n",
        "n = int(input())\n",
        "\n",
        "count = 0\n",
        "\n",
        "for a in range(1, n // 2 + 1):\n",
        "  for b in range(a, (n - a) // 2 + 1):\n",
        "    c = n - a - b\n",
        "    if c >= b and a + b > c:\n",
        "      count += 1\n",
        "\n",
        "print(count)\n",
        "\n",
        "b"
      ],
      "metadata": {
        "colab": {
          "base_uri": "https://localhost:8080/"
        },
        "id": "F9irTyjOn57K",
        "outputId": "15b54f8d-503c-46f8-c8ee-5bdcbe8af218"
      },
      "execution_count": null,
      "outputs": [
        {
          "output_type": "stream",
          "name": "stdout",
          "text": [
            "9\n",
            "3\n"
          ]
        },
        {
          "output_type": "execute_result",
          "data": {
            "text/plain": [
              "3"
            ]
          },
          "metadata": {},
          "execution_count": 28
        }
      ]
    },
    {
      "cell_type": "code",
      "source": [
        "#2628\n",
        "\n",
        "def is_between(x, a, b):\n",
        "    if a < b:\n",
        "        return a < x < b\n",
        "    else:\n",
        "        return a < x or x < b\n",
        "\n",
        "A, B = map(int, input().split())\n",
        "C, D = map(int, input().split())\n",
        "\n",
        "e = False\n",
        "if (is_between(C, A, B) != is_between(D, A, B)) and (is_between(A, C, D) != is_between(B, C, D)):\n",
        "    e = True\n",
        "\n",
        "print('cross' if e else 'not cross')\n"
      ],
      "metadata": {
        "colab": {
          "base_uri": "https://localhost:8080/"
        },
        "id": "eA2BpyiwaJjz",
        "outputId": "a6368534-3ea3-4b18-dd29-1b334e62e28a"
      },
      "execution_count": null,
      "outputs": [
        {
          "output_type": "stream",
          "name": "stdout",
          "text": [
            "12 53\n",
            "99 45\n",
            "cross\n"
          ]
        }
      ]
    },
    {
      "cell_type": "code",
      "source": [
        "#2631\n",
        "n, k = map(int, input().split())\n",
        "a = list(map(int, input().split()))\n",
        "\n",
        "c = 0\n",
        "s = 0\n",
        "i = 0\n",
        "\n",
        "for j in range(n):\n",
        "    s += a[j]\n",
        "\n",
        "    while s > k and i <= j:\n",
        "        s -= a[i]\n",
        "        i += 1\n",
        "\n",
        "    if s == k:\n",
        "        c += 1\n",
        "\n",
        "print(c)\n",
        "\n"
      ],
      "metadata": {
        "colab": {
          "base_uri": "https://localhost:8080/"
        },
        "id": "xsALOAuLZhLv",
        "outputId": "f0b16bae-f63d-40c0-b1c2-c1d64495081f"
      },
      "execution_count": null,
      "outputs": [
        {
          "output_type": "stream",
          "name": "stdout",
          "text": [
            "10 11\n",
            "4 7 9 3 4 7 4 2 7 2 \n",
            "4\n"
          ]
        }
      ]
    },
    {
      "cell_type": "code",
      "source": [
        "#2632\n",
        "def count_ways(n, current):\n",
        "    if current > n:\n",
        "        return 0\n",
        "\n",
        "    if current == n: #만약 더한게 n과 같다면 +1\n",
        "        return 1\n",
        "\n",
        "    ways = 0\n",
        "\n",
        "    ways += count_ways(n, current + 1) #경우의수\n",
        "\n",
        "    ways += count_ways(n, current + 2) # 경우의수 1과 2로 만들수 있는 n\n",
        "\n",
        "    return ways\n",
        "\n",
        "\n",
        "n = int(input())\n",
        "result = count_ways(n, 0)\n",
        "print(result)"
      ],
      "metadata": {
        "colab": {
          "base_uri": "https://localhost:8080/"
        },
        "id": "krGa8TYV4iR5",
        "outputId": "b852e07b-4cd1-4b06-f73a-55d3f82c1325"
      },
      "execution_count": null,
      "outputs": [
        {
          "output_type": "stream",
          "name": "stdout",
          "text": [
            "3\n",
            "3\n"
          ]
        }
      ]
    },
    {
      "cell_type": "code",
      "source": [
        "#2634\n",
        "\n",
        "def mc(cg, cs):\n",
        "    dp = [float('inf')] * (cg + 1)\n",
        "    dp[0] = 0\n",
        "\n",
        "    for c in cs:\n",
        "        for a in range(c, cg + 1):\n",
        "            dp[a] = min(dp[a], dp[a - c] + 1)\n",
        "\n",
        "    return dp[cg] if dp[cg] != float('inf') else -1\n",
        "\n",
        "cg = int(input())\n",
        "nc = int(input())\n",
        "cs = list(map(int, input().split()))\n",
        "\n",
        "print(mc(cg, cs))"
      ],
      "metadata": {
        "colab": {
          "base_uri": "https://localhost:8080/"
        },
        "id": "aGxu5TAvs-Je",
        "outputId": "fa255638-7648-493e-f5b7-74a1a6ffd952"
      },
      "execution_count": null,
      "outputs": [
        {
          "output_type": "stream",
          "name": "stdout",
          "text": [
            "730\n",
            "5\n",
            "10 50 100 500 1250\n",
            "6\n"
          ]
        }
      ]
    },
    {
      "cell_type": "code",
      "source": [
        "#2635\n",
        "a = int(input())\n",
        "\n",
        "b = 0\n",
        "for i in range(1,int(a**0.5)+1):\n",
        "  if a % i == 0:\n",
        "    b += i\n",
        "    if i != a//i:\n",
        "      b += a//i\n",
        "\n",
        "print(b)"
      ],
      "metadata": {
        "colab": {
          "base_uri": "https://localhost:8080/"
        },
        "id": "bVgl9q3qrCMK",
        "outputId": "f8e07c43-c43a-433e-a987-c5c818e53ae1"
      },
      "execution_count": null,
      "outputs": [
        {
          "output_type": "stream",
          "name": "stdout",
          "text": [
            "10\n",
            "18\n"
          ]
        }
      ]
    },
    {
      "cell_type": "code",
      "source": [
        "#2640\n",
        "a,b = map(int, input().split())\n",
        "print(pow(a,b,1000000007))"
      ],
      "metadata": {
        "colab": {
          "base_uri": "https://localhost:8080/"
        },
        "id": "mpjFPyBAnGwq",
        "outputId": "df710a89-0264-41d3-e736-aeb54cd7ae27"
      },
      "execution_count": null,
      "outputs": [
        {
          "output_type": "stream",
          "name": "stdout",
          "text": [
            "4 2\n",
            "16\n"
          ]
        }
      ]
    },
    {
      "cell_type": "code",
      "source": [
        "#2641 백트래킹(Backtracking)은 가능한 모든 해를 탐색하는 알고리즘\n",
        "def count_ways(n, current, consecutive_three_steps):\n",
        "    if current > n:\n",
        "        return 0\n",
        "\n",
        "    if current == n:\n",
        "        return 1\n",
        "\n",
        "    ways = 0\n",
        "\n",
        "    ways += count_ways(n, current + 1, max(0, consecutive_three_steps - 1))\n",
        "\n",
        "    ways += count_ways(n, current + 2, max(0, consecutive_three_steps - 1))\n",
        "\n",
        "    if consecutive_three_steps == 0:\n",
        "        ways += count_ways(n, current + 3, 2)\n",
        "\n",
        "    return ways\n",
        "\n",
        "\n",
        "n = int(input())\n",
        "result = count_ways(n, 0, 0)\n",
        "print(result)"
      ],
      "metadata": {
        "colab": {
          "base_uri": "https://localhost:8080/"
        },
        "id": "HNl7MBELO4bV",
        "outputId": "e6a975a6-5b1a-4e06-da24-9d57106611a7"
      },
      "execution_count": null,
      "outputs": [
        {
          "output_type": "stream",
          "name": "stdout",
          "text": [
            "4\n",
            "7\n"
          ]
        }
      ]
    },
    {
      "cell_type": "code",
      "source": [
        "#2651\n",
        "def count_seating_arrangements(n, k, start, chosen):\n",
        "\n",
        "    if len(chosen) == k:\n",
        "        return 1\n",
        "\n",
        "    count = 0\n",
        "\n",
        "    for i in range(start, n):\n",
        "\n",
        "        chosen.append(i)\n",
        "\n",
        "        count += count_seating_arrangements(n, k, i + 1, chosen)\n",
        "\n",
        "        chosen.pop()\n",
        "\n",
        "    return count\n",
        "\n",
        "n, k = map(int, input().split())\n",
        "result = count_seating_arrangements(n, k, 0, [])\n",
        "print(result)"
      ],
      "metadata": {
        "colab": {
          "base_uri": "https://localhost:8080/"
        },
        "id": "gxZr78VBPx3U",
        "outputId": "4f5e86e8-fe8e-4a80-f012-af0ab41e0f14"
      },
      "execution_count": null,
      "outputs": [
        {
          "output_type": "stream",
          "name": "stdout",
          "text": [
            "4 2\n",
            "3\n"
          ]
        }
      ]
    },
    {
      "cell_type": "code",
      "source": [
        "#2652\n",
        "def count_seating_arrangements(n, k, start, chosen):\n",
        "\n",
        "    if len(chosen) == k:\n",
        "        return 1\n",
        "\n",
        "    count = 0\n",
        "\n",
        "    for i in range(start, n):\n",
        "        if (i in chosen) or (i-1 in chosen) or (i+1 in chosen):\n",
        "          continue\n",
        "\n",
        "        chosen.append(i)\n",
        "\n",
        "        count += count_seating_arrangements(n, k, i + 1, chosen)\n",
        "\n",
        "        chosen.pop() #다른거 탐색\n",
        "\n",
        "    return count\n",
        "\n",
        "n, k = map(int, input().split())\n",
        "result = count_seating_arrangements(n, k, 0, [])\n",
        "print(result)"
      ],
      "metadata": {
        "id": "CMos7ZFJVBj1"
      },
      "execution_count": null,
      "outputs": []
    },
    {
      "cell_type": "code",
      "source": [
        "#2624 해결 실패!\n",
        "a = int(input())\n"
      ],
      "metadata": {
        "colab": {
          "base_uri": "https://localhost:8080/"
        },
        "id": "zTgzQpYAo00O",
        "outputId": "91fd6f1e-d160-458d-c56d-741407f89358"
      },
      "execution_count": null,
      "outputs": [
        {
          "output_type": "stream",
          "name": "stdout",
          "text": [
            "10\n",
            "17\n"
          ]
        },
        {
          "output_type": "execute_result",
          "data": {
            "text/plain": [
              "[0, 2, 3, 6, 5, 11, 7, 14, 12, 17]"
            ]
          },
          "metadata": {},
          "execution_count": 120
        }
      ]
    },
    {
      "cell_type": "code",
      "source": [
        "#2625\n",
        "a = int(input())\n",
        "b = []\n",
        "for i in range(1, a // 2 + 1):\n",
        "    for j in range(1, a // 2 + 1):\n",
        "        for k in range(1, a // 2 + 1):\n",
        "            if i + j + k == a:\n",
        "                triplet = sorted((i, j, k))\n",
        "                if triplet not in b:\n",
        "                    b.append(triplet)\n",
        "\n",
        "print(len(b)) #실패! 예상 for문 범위\n",
        "\n",
        "#########################GPT\n",
        "\n",
        "n = int(input())\n",
        "count = 0\n",
        "\n",
        "for i in range(1, n // 2 + 1):\n",
        "    for j in range(i, n // 2 + 1):\n",
        "        k = n - i - j\n",
        "        if k >= j and i + j > k: #k >= j 중복된 삼각형 피기\n",
        "            count += 1\n",
        "\n",
        "print(count)\n"
      ],
      "metadata": {
        "colab": {
          "base_uri": "https://localhost:8080/"
        },
        "id": "Nfl1nxvvJfrM",
        "outputId": "ae74f9f3-6b4f-48f3-ba4e-f81ecb489d9c"
      },
      "execution_count": null,
      "outputs": [
        {
          "output_type": "stream",
          "name": "stdout",
          "text": [
            "78\n",
            "127\n"
          ]
        }
      ]
    },
    {
      "cell_type": "code",
      "source": [
        "#2629\n",
        "\n",
        "n, p = map(int, input().split())\n",
        "\n",
        "cr = []\n",
        "for i in range(n):\n",
        "  a,b,c = map(int, input().split())\n",
        "  d = a**2 + b**2\n",
        "  cr.append((d,c))\n",
        "\n",
        "if p > 1000000:\n",
        "  print(f\"{0:.3f}\")\n",
        "else:\n",
        "  cr.sort()\n",
        "\n",
        "  for i,j in cr:\n",
        "    p += j\n",
        "    if p >= 1000000:\n",
        "      r = i**0.5 #유클리드 거리공식\n",
        "      print(f\"{r:.3f}\")\n",
        "      break\n",
        "  else:\n",
        "    print(-1)"
      ],
      "metadata": {
        "colab": {
          "base_uri": "https://localhost:8080/"
        },
        "id": "X1C93m1Rh--E",
        "outputId": "ea10c801-8bd7-42c6-956c-00638b97956e"
      },
      "execution_count": null,
      "outputs": [
        {
          "output_type": "stream",
          "name": "stdout",
          "text": [
            "4 999998\n",
            "1 1 2\n",
            "2 2 1\n",
            "3 3 1\n",
            "2 -2 1\n",
            "1.414\n"
          ]
        }
      ]
    },
    {
      "cell_type": "code",
      "source": [
        "#2630\n",
        "def count_triangles(n):\n",
        "    t = 0\n",
        "\n",
        "    for i in range(n // 3 + (n % 3 != 0), n // 2 + n % 2):\n",
        "        t += i - ((n - i) // 2 + (n - i) % 2) + 1\n",
        "\n",
        "    return t\n",
        "\n",
        "n = int(input())\n",
        "print(count_triangles(n))\n"
      ],
      "metadata": {
        "colab": {
          "base_uri": "https://localhost:8080/"
        },
        "id": "A4vG9bsBrwHz",
        "outputId": "bb1e2b31-b6fe-42f8-b4b1-6d72a171ee9c"
      },
      "execution_count": null,
      "outputs": [
        {
          "output_type": "stream",
          "name": "stdout",
          "text": [
            "9\n",
            "3\n"
          ]
        }
      ]
    },
    {
      "cell_type": "code",
      "source": [
        "#2633\n",
        "def find_first_position(nums, k):\n",
        "    left, right = 0, len(nums) - 1\n",
        "    position = len(nums) + 1\n",
        "\n",
        "    while left <= right:\n",
        "        mid = (left + right) // 2\n",
        "        if nums[mid] >= k:\n",
        "            position = mid + 1\n",
        "            right = mid - 1\n",
        "        else:\n",
        "            left = mid + 1\n",
        "\n",
        "    return position\n",
        "\n",
        "n, k = map(int, input().split())\n",
        "nums = list(map(int, input().split()))\n",
        "result = find_first_position(nums, k)\n",
        "print(result)"
      ],
      "metadata": {
        "colab": {
          "base_uri": "https://localhost:8080/"
        },
        "id": "jibBzupyZyYv",
        "outputId": "67c34172-e392-4f42-e76b-2b160aef64ba"
      },
      "execution_count": null,
      "outputs": [
        {
          "output_type": "stream",
          "name": "stdout",
          "text": [
            "5 7\n",
            "1 3 5 7 7\n",
            "4\n"
          ]
        }
      ]
    },
    {
      "cell_type": "code",
      "source": [
        "#2650\n",
        "a = sorted(list(map(int, input().split())))\n",
        "b = [i for i in range(a[0]+1, 0, -1) if a[0] % i == 0]\n",
        "for i in b:\n",
        "  if a[1]%i == 0 and a[2]%i==0:\n",
        "    print(i)\n",
        "    break\n"
      ],
      "metadata": {
        "colab": {
          "base_uri": "https://localhost:8080/"
        },
        "id": "3oxiiqav_Cn2",
        "outputId": "54555d7c-c40e-428e-ccd7-4f830d5469ad"
      },
      "execution_count": null,
      "outputs": [
        {
          "output_type": "stream",
          "name": "stdout",
          "text": [
            "10 20 30\n",
            "10\n"
          ]
        }
      ]
    },
    {
      "cell_type": "code",
      "source": [
        "#2653\n",
        "\n",
        "def generate_votes(n, current_vote=\"\", b=None):\n",
        "    if b is None:\n",
        "        b = []\n",
        "\n",
        "    if len(current_vote) == n:\n",
        "        b.append(current_vote)\n",
        "        return b\n",
        "\n",
        "    generate_votes(n, current_vote + \"O\", b)\n",
        "    generate_votes(n, current_vote + \"X\", b)\n",
        "\n",
        "    return b\n",
        "\n",
        "\n",
        "n = int(input())\n",
        "a = generate_votes(n)\n",
        "c = []\n",
        "for i in a:\n",
        "  if 'OO' not in i:\n",
        "     c.append(i)\n",
        "\n",
        "print(len(c))"
      ],
      "metadata": {
        "colab": {
          "base_uri": "https://localhost:8080/"
        },
        "id": "1vd1CP_z-zHT",
        "outputId": "bd7e9979-9441-4ab5-8adf-66b4bf314f45"
      },
      "execution_count": null,
      "outputs": [
        {
          "output_type": "stream",
          "name": "stdout",
          "text": [
            "3\n",
            "['OXO', 'OXX', 'XOX', 'XXO', 'XXX']\n"
          ]
        }
      ]
    },
    {
      "cell_type": "code",
      "source": [
        "#2654\n",
        "def count_valid_sequences(n):\n",
        "    MOD = 1000000007\n",
        "\n",
        "    if n == 1:\n",
        "        return 2\n",
        "\n",
        "    dp = [[0, 0] for _ in range(n + 1)]\n",
        "    dp[1][0] = 1\n",
        "    dp[1][1] = 1\n",
        "\n",
        "    for i in range(2, n + 1):\n",
        "        dp[i][0] = (dp[i - 1][0] + dp[i - 1][1]) % MOD\n",
        "        dp[i][1] = dp[i - 1][0] % MOD\n",
        "\n",
        "    return (dp[n][0] + dp[n][1]) % MOD\n",
        "\n",
        "n = int(input())\n",
        "result = count_valid_sequences(n)\n",
        "print(result)"
      ],
      "metadata": {
        "colab": {
          "base_uri": "https://localhost:8080/"
        },
        "id": "carCm5aqPTFN",
        "outputId": "6c49affb-cabf-40f2-8151-8e3c7b478811"
      },
      "execution_count": null,
      "outputs": [
        {
          "output_type": "stream",
          "name": "stdout",
          "text": [
            "3\n",
            "5\n"
          ]
        }
      ]
    },
    {
      "cell_type": "code",
      "source": [
        "#2655\n",
        "def binary_search(arr, target):\n",
        "    left, right = 0, len(arr) - 1\n",
        "\n",
        "    while left <= right:\n",
        "        mid = (left + right) // 2\n",
        "\n",
        "        if arr[mid] == target:\n",
        "            return mid+1\n",
        "        elif arr[mid] < target:\n",
        "            left = mid + 1\n",
        "        else:\n",
        "            right = mid - 1\n",
        "\n",
        "    return -1\n",
        "\n",
        "a,b = map(int, input().split())\n",
        "print(f'{(b *-1)/a:.04f}')"
      ],
      "metadata": {
        "colab": {
          "base_uri": "https://localhost:8080/"
        },
        "id": "4sAwHVVvVy3b",
        "outputId": "aa37eccf-21de-4855-c473-e9fb45d21383"
      },
      "execution_count": null,
      "outputs": [
        {
          "output_type": "stream",
          "name": "stdout",
          "text": [
            "1 5\n",
            "-5.0000\n"
          ]
        }
      ]
    },
    {
      "cell_type": "code",
      "source": [
        "#2699 최장 공통 부분 수열\n",
        "\n",
        "def lcs(X, Y):\n",
        "    m = len(X)\n",
        "    n = len(Y)\n",
        "\n",
        "    dp = [[0] * (n + 1) for _ in range(m + 1)]\n",
        "\n",
        "    for i in range(1, m + 1):\n",
        "        for j in range(1, n + 1):\n",
        "            if X[i - 1] == Y[j - 1]:\n",
        "                dp[i][j] = dp[i - 1][j - 1] + 1\n",
        "            else:\n",
        "                dp[i][j] = max(dp[i - 1][j], dp[i][j - 1])\n",
        "\n",
        "    return dp[m][n]\n",
        "\n",
        "X = input()\n",
        "Y = input()\n",
        "\n",
        "print(lcs(X, Y))"
      ],
      "metadata": {
        "colab": {
          "base_uri": "https://localhost:8080/"
        },
        "id": "YysYsspBj8XO",
        "outputId": "f0e62083-2635-4a11-97c5-1c28d6d955b0"
      },
      "execution_count": null,
      "outputs": [
        {
          "output_type": "stream",
          "name": "stdout",
          "text": [
            "3\n"
          ]
        }
      ]
    },
    {
      "cell_type": "code",
      "source": [
        "def find_x_intercept(a, b):\n",
        "    left = -999\n",
        "    right = 999\n",
        "    epsilon = 1e-9\n",
        "\n",
        "    while right - left > epsilon:\n",
        "        mid = (left + right) / 2.0\n",
        "        y = a * mid + b\n",
        "\n",
        "        if abs(y) < epsilon:\n",
        "            return mid\n",
        "\n",
        "        if y > 0:\n",
        "            right = mid\n",
        "        else:\n",
        "            left = mid\n",
        "\n",
        "    return (left + right) / 2.0\n",
        "\n",
        "a,b = map(int,input().split())\n",
        "print(f'{find_x_intercept(a,b,list(range(-b,b+1))):.04f}')"
      ],
      "metadata": {
        "id": "mMAZNIZhVy0o"
      },
      "execution_count": null,
      "outputs": []
    },
    {
      "cell_type": "code",
      "source": [
        "#2701\n",
        "\n",
        "a = int(input())\n",
        "b = sorted(list(map(int, input().split())))\n",
        "\n",
        "c = 501\n",
        "for i in b:\n",
        "  c = abs(a-i) if abs(a-i) < c else c\n",
        "\n",
        "print(c)"
      ],
      "metadata": {
        "colab": {
          "base_uri": "https://localhost:8080/"
        },
        "id": "LSQbdu7YqacC",
        "outputId": "75b26b29-97ba-42de-98d3-6fbf8306b206"
      },
      "execution_count": null,
      "outputs": [
        {
          "output_type": "stream",
          "name": "stdout",
          "text": [
            "437\n",
            "5 21 168 202 227\n",
            "210\n"
          ]
        }
      ]
    },
    {
      "cell_type": "code",
      "source": [
        "#2702\n",
        "a = int(input())\n",
        "\n",
        "b = [list(map(int, input().split())) for i in range(a)]\n",
        "\n",
        "c = [[] for i in range(6)]\n",
        "for i in b:\n",
        "  for j in range(len(i)):\n",
        "    c[j].append(i[j])\n",
        "\n",
        "d = 0\n",
        "for i in c:\n",
        "  d += max(i)\n",
        "\n",
        "print(d)\n"
      ],
      "metadata": {
        "colab": {
          "base_uri": "https://localhost:8080/"
        },
        "id": "Sf0knRN9Yawi",
        "outputId": "57d243b4-438b-475d-fa9a-06939b67af35"
      },
      "execution_count": null,
      "outputs": [
        {
          "output_type": "stream",
          "name": "stdout",
          "text": [
            "4\n",
            "6 3 4 7 5 1\n",
            "9 2 3 7 5 6\n",
            "2 3 6 5 8 7\n",
            "2 6 4 5 3 5\n",
            "43\n"
          ]
        }
      ]
    },
    {
      "cell_type": "code",
      "source": [
        "#2703\n",
        "\n",
        "a = int(input())\n",
        "b = list(map(int,input().split()))\n",
        "\n",
        "c,d = 0,0\n",
        "for i in range(1,a):\n",
        "  if b[i-1] < b[i]:\n",
        "    c += 1\n",
        "  elif b[i-1] > b[i]:\n",
        "    d += 1\n",
        "\n",
        "print(c, d)"
      ],
      "metadata": {
        "colab": {
          "base_uri": "https://localhost:8080/"
        },
        "id": "QWYCIPA33gHf",
        "outputId": "4ec7a2d0-747e-4c56-d3fb-cd6c6bdde6d9"
      },
      "execution_count": null,
      "outputs": [
        {
          "output_type": "stream",
          "name": "stdout",
          "text": [
            "5\n",
            "3 7 5 5 6 \n",
            "2 1\n"
          ]
        }
      ]
    },
    {
      "cell_type": "code",
      "source": [
        "#2704\n",
        "\n",
        "a = [input() for i in range(int(input()))]\n",
        "\n",
        "b = set()\n",
        "for i in a:\n",
        "  b.add(len(i))\n",
        "\n",
        "c = [[] for i in range(max(b))]\n",
        "\n",
        "for i in a:\n",
        "  eee = -len(i)\n",
        "  c[eee].append(i)\n",
        "\n",
        "c = [sorted(i, reverse=True) for i in c]\n",
        "\n",
        "for i in c:\n",
        "  print(' '.join(i), end=' ')\n",
        "\n",
        "#####################\n",
        "\n",
        "def c(num_str): #기수 변환사용(진법 변환)\n",
        "    digits = \"0123456789ABCDEFGHIJKLMNOPQRST\"\n",
        "    r = 0\n",
        "    for char in num_str:\n",
        "        r = r * 30 + digits.index(char)\n",
        "    return r\n",
        "\n",
        "N = int(input())\n",
        "n = [input() for _ in range(N)]\n",
        "\n",
        "n.sort(key=c, reverse=True)\n",
        "\n",
        "print(\" \".join(n))"
      ],
      "metadata": {
        "id": "BGOO0D6Wmh-f"
      },
      "execution_count": null,
      "outputs": []
    },
    {
      "cell_type": "code",
      "source": [
        "#2705\n",
        "Arr = [0] * 61\n",
        "n = int(input())\n",
        "l, t = map(int, input().split())\n",
        "\n",
        "# n이 0이면 바로 0을 출력하고 종료\n",
        "if n == 0:\n",
        "    print(0)\n",
        "else:\n",
        "    # 한 줄에 입력된 제출 시간들을 처리\n",
        "    submissions = list(map(int, input().split()))\n",
        "\n",
        "    for tmp in submissions:\n",
        "        Arr[tmp] += 1  # 매 분마다 들어오는 코드를 카운트\n",
        "\n",
        "    for i in range(61):\n",
        "        if Arr[i] >= l:\n",
        "            # 해당 분에 l개 이상의 코드가 들어오면\n",
        "            for j in range(t):\n",
        "                if (i + j) > 60:\n",
        "                    break\n",
        "                Arr[i + j] = 0\n",
        "\n",
        "    total = 0\n",
        "    for i in range(61):\n",
        "        total += Arr[i]  # 총 제출된 코드\n",
        "\n",
        "    print(total * 10000)"
      ],
      "metadata": {
        "colab": {
          "base_uri": "https://localhost:8080/"
        },
        "id": "Gx2iwV8ysuRR",
        "outputId": "74f34201-e1cd-4a18-ce0e-dc65b32fe844"
      },
      "execution_count": null,
      "outputs": [
        {
          "output_type": "stream",
          "name": "stdout",
          "text": [
            "0\n",
            "1 1\n",
            "\n",
            "0\n"
          ]
        }
      ]
    },
    {
      "cell_type": "code",
      "source": [
        "#2706\n",
        "def f(s):\n",
        "    n = len(s)\n",
        "\n",
        "    if n == 0:\n",
        "        return 0\n",
        "    elif n == 1:\n",
        "        return int(s[0])\n",
        "\n",
        "    dp = [0] * (n + 1)\n",
        "\n",
        "    dp[0] = int(s[0])\n",
        "\n",
        "    if n > 1:\n",
        "        dp[1] = max(int(s[0]) + int(s[1]), int(s[:2]))\n",
        "\n",
        "    for i in range(2, n):\n",
        "        d1 = int(s[i])\n",
        "        d2 = int(s[i-1:i+1])\n",
        "\n",
        "        dp[i] = max(dp[i-1] + d1, dp[i-2] + d2)\n",
        "\n",
        "    return dp[n-1]\n",
        "\n",
        "s = input().strip()\n",
        "\n",
        "r = f(s)\n",
        "print(r)"
      ],
      "metadata": {
        "colab": {
          "base_uri": "https://localhost:8080/"
        },
        "id": "Zi5ZnN3q7yIK",
        "outputId": "8e21df8c-1505-4b23-93ed-4f763a9c0df2"
      },
      "execution_count": null,
      "outputs": [
        {
          "output_type": "stream",
          "name": "stdout",
          "text": [
            "138947192\n",
            "296\n"
          ]
        }
      ]
    },
    {
      "cell_type": "code",
      "source": [
        "#2707\n",
        "import math\n",
        "\n",
        "def find_min_base(N):\n",
        "    min_B = N\n",
        "\n",
        "    # K를 2부터 시작하여 최대 log2(N)까지 탐색\n",
        "    for K in range(2, int(math.log(N, 2)) + 2):\n",
        "        B = int(N ** (1 / K))\n",
        "        if B ** K == N:\n",
        "            min_B = min(min_B, B)\n",
        "        elif (B + 1) ** K == N:\n",
        "            min_B = min(min_B, B + 1)\n",
        "\n",
        "    return min_B\n",
        "\n",
        "# 입력 받기\n",
        "N = int(input())\n",
        "\n",
        "# 결과 출력\n",
        "print(find_min_base(N))\n",
        "\n",
        "\n"
      ],
      "metadata": {
        "colab": {
          "base_uri": "https://localhost:8080/"
        },
        "id": "hrryMsjk978R",
        "outputId": "0957c574-193e-47e4-8e55-41a8a5da8cb2"
      },
      "execution_count": null,
      "outputs": [
        {
          "output_type": "stream",
          "name": "stdout",
          "text": [
            "16\n",
            "2\n"
          ]
        }
      ]
    },
    {
      "cell_type": "code",
      "source": [
        "#2708\n",
        "def spread_water(n, x, y, array):\n",
        "    x2, y2 = -1, -1\n",
        "    result = 0\n",
        "\n",
        "    # 물풍선 위치 설정\n",
        "    array[y-1][x-1] = 3\n",
        "\n",
        "    # Upside\n",
        "    for i in range(y-1, 0, -1):\n",
        "        if array[i-1][x-1] == 0:\n",
        "            array[i-1][x-1] = 3\n",
        "        elif array[i-1][x-1] == 2:\n",
        "            y2, x2 = i-1, x-1\n",
        "            break\n",
        "        else:\n",
        "            break\n",
        "\n",
        "    # Downside\n",
        "    for i in range(y-1, n-1):\n",
        "        if array[i+1][x-1] == 0:\n",
        "            array[i+1][x-1] = 3\n",
        "        elif array[i+1][x-1] == 2:\n",
        "            y2, x2 = i+1, x-1\n",
        "            break\n",
        "        else:\n",
        "            break\n",
        "\n",
        "    # Rightside\n",
        "    for i in range(x-1, n-1):\n",
        "        if array[y-1][i+1] == 0:\n",
        "            array[y-1][i+1] = 3\n",
        "        elif array[y-1][i+1] == 2:\n",
        "            y2, x2 = y-1, i+1\n",
        "            break\n",
        "        else:\n",
        "            break\n",
        "\n",
        "    # Leftside\n",
        "    for i in range(x-1, 0, -1):\n",
        "        if array[y-1][i-1] == 0:\n",
        "            array[y-1][i-1] = 3\n",
        "        elif array[y-1][i-1] == 2:\n",
        "            y2, x2 = y-1, i-1\n",
        "            break\n",
        "        else:\n",
        "            break\n",
        "\n",
        "    # 연쇄 반응 발생\n",
        "    if y2 != -1 and x2 != -1:\n",
        "        # Up\n",
        "        for i in range(y2, 0, -1):\n",
        "            if array[i-1][x2] == 0:\n",
        "                array[i-1][x2] = 3\n",
        "            else:\n",
        "                break\n",
        "        # Down\n",
        "        for i in range(y2, n-1):\n",
        "            if array[i+1][x2] == 0:\n",
        "                array[i+1][x2] = 3\n",
        "            else:\n",
        "                break\n",
        "        # Right\n",
        "        for i in range(x2, n-1):\n",
        "            if array[y2][i+1] == 0:\n",
        "                array[y2][i+1] = 3\n",
        "            else:\n",
        "                break\n",
        "        # Left\n",
        "        for i in range(x2, 0, -1):\n",
        "            if array[y2][i-1] == 0:\n",
        "                array[y2][i-1] = 3\n",
        "            else:\n",
        "                break\n",
        "\n",
        "    # 물줄기가 닿은 곳 계산\n",
        "    for i in range(n):\n",
        "        for j in range(n):\n",
        "            if array[i][j] == 3:\n",
        "                result += 1\n",
        "\n",
        "    return result - 1 if result > 0 else 0\n",
        "\n",
        "# 입력 처리\n",
        "n = int(input())\n",
        "x, y = map(int, input().split())\n",
        "array = [list(map(int, input().split())) for _ in range(n)]\n",
        "\n",
        "# 결과 출력\n",
        "print(spread_water(n, x, y, array))\n"
      ],
      "metadata": {
        "id": "QOllu9Q5BGQT"
      },
      "execution_count": null,
      "outputs": []
    },
    {
      "cell_type": "code",
      "source": [
        "#2716\n",
        "import math\n",
        "\n",
        "def dev(n):\n",
        "  x,y = n[0],n[1]\n",
        "  return x/y\n",
        "\n",
        "a = int(input())\n",
        "\n",
        "b = set()\n",
        "for i in range(a+1):\n",
        "  for j in range(1,a+1):\n",
        "    if math.gcd(i,j) == 1: #기약분수는 분자와 분모가 서로소(공약수가 1인 두 수)인 분수이기에 사용\n",
        "      c = sorted((i,j))\n",
        "      b.add(tuple(c))\n",
        "\n",
        "b = list(b)\n",
        "b.sort(key=dev)\n",
        "\n",
        "for i,j in b:\n",
        "  print(f\"{i}/{j}\")"
      ],
      "metadata": {
        "colab": {
          "base_uri": "https://localhost:8080/"
        },
        "id": "dl7n1dobD4mE",
        "outputId": "e4bef03b-4cf1-438a-f8fa-fcb87eb2ac49"
      },
      "execution_count": null,
      "outputs": [
        {
          "output_type": "stream",
          "name": "stdout",
          "text": [
            "5\n",
            "0/1\n",
            "1/5\n",
            "1/4\n",
            "1/3\n",
            "2/5\n",
            "1/2\n",
            "3/5\n",
            "2/3\n",
            "3/4\n",
            "4/5\n",
            "1/1\n"
          ]
        }
      ]
    },
    {
      "cell_type": "code",
      "source": [
        "#2717\n",
        "import math\n",
        "\n",
        "def lcm(a, b):\n",
        "    return a * b // math.gcd(a, b)\n",
        "\n",
        "n = int(input())\n",
        "f = [list(map(int, input().split())) for _ in range(n)]\n",
        "\n",
        "num, den = f[0]\n",
        "\n",
        "for i in range(1, n):\n",
        "    a, b = f[i]\n",
        "    den_lcm = lcm(den, b)\n",
        "    num = num * (den_lcm // den) + a * (den_lcm // b)\n",
        "    den = den_lcm\n",
        "\n",
        "g = math.gcd(num, den)\n",
        "num //= g\n",
        "den //= g\n",
        "\n",
        "print(f\"{num}/{den}\")\n",
        "\n"
      ],
      "metadata": {
        "colab": {
          "base_uri": "https://localhost:8080/"
        },
        "id": "UwZUKFr6IyKa",
        "outputId": "700ca908-c331-4fd5-8c07-936b09a57fe8"
      },
      "execution_count": null,
      "outputs": [
        {
          "output_type": "stream",
          "name": "stdout",
          "text": [
            "2\n",
            "1 5\n",
            "2 4\n",
            "7/10\n"
          ]
        }
      ]
    },
    {
      "cell_type": "code",
      "source": [
        "#2724\n",
        "\n",
        "b = int(input())\n",
        "a = list(range(1, b))\n",
        "\n",
        "c = 0\n",
        "s = 0\n",
        "i = 0\n",
        "\n",
        "for j in range(len(a)):\n",
        "    s += a[j]\n",
        "\n",
        "    while s > b and i <= j:\n",
        "        s -= a[i]\n",
        "        i += 1\n",
        "\n",
        "    if s == b:\n",
        "        c += 1\n",
        "\n",
        "print(c)"
      ],
      "metadata": {
        "id": "8-bCbbKhP-Hu"
      },
      "execution_count": null,
      "outputs": []
    },
    {
      "cell_type": "code",
      "source": [
        "#2725\n",
        "def count_consecutive_sums(N):\n",
        "    count = 0\n",
        "    k = 2\n",
        "\n",
        "    while k * (k - 1) // 2 < N: #등차수열의 원리\n",
        "        if (N - k * (k - 1) // 2) % k == 0:\n",
        "            count += 1\n",
        "        k += 1\n",
        "\n",
        "    return count\n",
        "\n",
        "N = int(input())\n",
        "\n",
        "print(count_consecutive_sums(N))\n",
        "\n"
      ],
      "metadata": {
        "colab": {
          "base_uri": "https://localhost:8080/"
        },
        "id": "F8847h9mXBcQ",
        "outputId": "7e297646-c2bd-45e2-ed02-297944ec9b7d"
      },
      "execution_count": null,
      "outputs": [
        {
          "output_type": "stream",
          "name": "stdout",
          "text": [
            "21\n",
            "3\n"
          ]
        }
      ]
    },
    {
      "cell_type": "code",
      "source": [
        "#2727\n",
        "\n",
        "a = int(input())\n",
        "\n",
        "for k in range(a):\n",
        "  x,y = map(int, input().split())\n",
        "\n",
        "  total = (y * (y + 1) // 2) - ((x - 1) * x // 2)\n",
        "\n",
        "  print(f'Scenario #{k + 1}:')\n",
        "  print(total)\n",
        "  print()\n"
      ],
      "metadata": {
        "colab": {
          "base_uri": "https://localhost:8080/"
        },
        "id": "YIiUWagQu3s6",
        "outputId": "a6ee8a21-5afb-46be-8d1a-142c6cf9635a"
      },
      "execution_count": null,
      "outputs": [
        {
          "output_type": "stream",
          "name": "stdout",
          "text": [
            "1\n",
            "1 99\n",
            "Scenario #1:\n",
            "4950\n",
            "\n"
          ]
        }
      ]
    },
    {
      "cell_type": "code",
      "source": [
        "#2728\n",
        "r = int(input())\n",
        "triangle = [list(map(int,input().split())) for i in range(r)]\n",
        "\n",
        "\n",
        "r = len(triangle)\n",
        "dp = [[0] * (i + 1) for i in range(r)]\n",
        "\n",
        "dp[0][0] = triangle[0][0]\n",
        "\n",
        "for i in range(1, r):\n",
        "    for j in range(i + 1):\n",
        "        if j == 0:\n",
        "            dp[i][j] = dp[i-1][j] + triangle[i][j]\n",
        "        elif j == i:\n",
        "            dp[i][j] = dp[i-1][j-1] + triangle[i][j]\n",
        "        else:\n",
        "            dp[i][j] = max(dp[i-1][j-1], dp[i-1][j]) + triangle[i][j]\n",
        "\n",
        "print(max(dp[r-1]))\n"
      ],
      "metadata": {
        "colab": {
          "base_uri": "https://localhost:8080/"
        },
        "id": "qyV_v9Hu3blB",
        "outputId": "da4b182e-3e30-4d9b-c818-bb67fe48e609"
      },
      "execution_count": null,
      "outputs": [
        {
          "output_type": "stream",
          "name": "stdout",
          "text": [
            "5\n",
            "7\n",
            "3 8\n",
            "8 1 0\n",
            "2 7 4 4\n",
            "4 5 2 6 5\n",
            "30\n"
          ]
        }
      ]
    },
    {
      "cell_type": "code",
      "source": [
        "#2729\n",
        "\n",
        "MOD = 1_000_000_007\n",
        "\n",
        "def count_ways_dp(n):\n",
        "\n",
        "    dp = [[0] * 3 for _ in range(n + 1)]\n",
        "    dp[0][0] = 1\n",
        "\n",
        "    for i in range(n):\n",
        "        for j in range(3):\n",
        "            if dp[i][j] == 0:\n",
        "                continue\n",
        "\n",
        "            if i + 1 <= n:\n",
        "                dp[i + 1][max(0, j - 1)] = (dp[i + 1][max(0, j - 1)] + dp[i][j]) % MOD\n",
        "\n",
        "            if i + 2 <= n:\n",
        "                dp[i + 2][max(0, j - 1)] = (dp[i + 2][max(0, j - 1)] + dp[i][j]) % MOD\n",
        "\n",
        "            if j == 0 and i + 3 <= n:\n",
        "                dp[i + 3][2] = (dp[i + 3][2] + dp[i][j]) % MOD\n",
        "\n",
        "    return sum(dp[n]) % MOD\n",
        "\n",
        "n = int(input())\n",
        "\n",
        "result = count_ways_dp(n)\n",
        "print(result)\n"
      ],
      "metadata": {
        "colab": {
          "base_uri": "https://localhost:8080/"
        },
        "id": "bkK5WRx0zcC7",
        "outputId": "fd6728d7-93b9-46dd-c7f2-f5d719825906"
      },
      "execution_count": null,
      "outputs": [
        {
          "output_type": "stream",
          "name": "stdout",
          "text": [
            "997\n",
            "843491663\n"
          ]
        }
      ]
    },
    {
      "cell_type": "markdown",
      "source": [
        "LCS 최대 부분수열 알고리즘\n",
        "\n",
        "동작 원리:\n",
        "입력: 두 줄의 DNA 염기서열 문자열\n",
        "𝑆\n",
        "1\n",
        "S\n",
        "1\n",
        "​\n",
        " 과\n",
        "𝑆\n",
        "2\n",
        "S\n",
        "2\n",
        "​\n",
        " 가 입력됩니다.\n",
        "DP 테이블 초기화: 문자열의 길이에 맞게 DP 테이블을 0으로 초기화합니다.\n",
        "테이블 채우기: 두 문자열의 문자를 하나씩 비교하여 공통 문자가 있으면 그 이전 값에 1을 더하고, 그렇지 않으면 이전 값 중 큰 값을 사용하여 테이블을 채웁니다.\n",
        "결과 반환: 마지막 테이블 값 dp[len(S_1)][len(S_2)]가 최장 공통 부분 수열의 길이가 됩니다.\n",
        "시간 복잡도:\n",
        "이 알고리즘의 시간 복잡도는\n",
        "𝑂\n",
        "(\n",
        "𝑛\n",
        "×\n",
        "𝑚\n",
        ")\n",
        "O(n×m)입니다. 여기서\n",
        "𝑛\n",
        "n과\n",
        "𝑚\n",
        "m은 각각\n",
        "𝑆\n",
        "1\n",
        "S\n",
        "1\n",
        "​\n",
        " 과\n",
        "𝑆\n",
        "2\n",
        "S\n",
        "2\n",
        "​\n",
        " 의 길이입니다. 주어진 문제에서 두 문자열의 길이가 최대 1000이므로 이 알고리즘은 효율적으로 동작"
      ],
      "metadata": {
        "id": "QmIxWOf8f0Wt"
      }
    },
    {
      "cell_type": "code",
      "source": [
        "#2730 LCS\n",
        "\n",
        "def f(s1,s2):\n",
        "    n1 = len(s1)\n",
        "    n2 = len(s2)\n",
        "\n",
        "    dp = [[0] * (n2 + 1) for _ in range(n1 + 1)]\n",
        "\n",
        "    for i in range(1,n1+1):\n",
        "      for j in range(1,n2+1):\n",
        "        if s1[i-1] == s2[j-1]:\n",
        "          dp[i][j] = dp[i-1][j-1] +1\n",
        "        else:\n",
        "          dp[i][j] = max(dp[i-1][j], dp[i][j-1])\n",
        "\n",
        "    index = dp[len(s1)][len(s2)]\n",
        "    result = [''] * index\n",
        "\n",
        "    while i > 0 and j > 0:\n",
        "        if s1[i - 1] == s2[j - 1]:\n",
        "            result[index - 1] = s1[i - 1]\n",
        "            i -= 1\n",
        "            j -= 1\n",
        "            index -= 1\n",
        "        elif dp[i - 1][j] > dp[i][j - 1]:\n",
        "            i -= 1\n",
        "        else:\n",
        "            j -= 1\n",
        "\n",
        "    return dp[len(s1)][len(s2)], ''.join(result)\n",
        "\n",
        "s1 = input()\n",
        "s2 = input()\n",
        "\n",
        "r = f(s1, s2)\n",
        "print(r[0])\n",
        "print(r[1])"
      ],
      "metadata": {
        "colab": {
          "base_uri": "https://localhost:8080/"
        },
        "id": "xyp4ucpHYglm",
        "outputId": "663039d1-1fa4-41d2-ff14-9e28d51d7d7e"
      },
      "execution_count": null,
      "outputs": [
        {
          "output_type": "stream",
          "name": "stdout",
          "text": [
            "ACAGCTA\n",
            "ACTGCA\n",
            "5\n",
            "ACGCA\n"
          ]
        }
      ]
    },
    {
      "cell_type": "code",
      "source": [
        "#2731\n",
        "\n"
      ],
      "metadata": {
        "id": "gd1GeUfrgSWA"
      },
      "execution_count": null,
      "outputs": []
    },
    {
      "cell_type": "code",
      "source": [
        "#2733\n",
        "\n",
        "def tomato_game(sequence):\n",
        "    expected_sequence = ['t', 'm', 't', 't', 'm', 't']\n",
        "    expected_index = 0\n",
        "\n",
        "    for i, char in enumerate(sequence):\n",
        "        if char != expected_sequence[expected_index]:\n",
        "            if i % 2 == 0:\n",
        "                return \"현지인 승리\"\n",
        "            else:\n",
        "                return \"효환이 승리\"\n",
        "\n",
        "        expected_index = (expected_index + 1) % 6\n",
        "\n",
        "    return \"현지인 승리\"\n",
        "\n",
        "sequence = input()\n",
        "print(tomato_game(sequence))"
      ],
      "metadata": {
        "colab": {
          "base_uri": "https://localhost:8080/"
        },
        "id": "WQswsW0ZP5CS",
        "outputId": "f921f96c-3909-4dd6-fca7-678ddd7ac688"
      },
      "execution_count": null,
      "outputs": [
        {
          "output_type": "stream",
          "name": "stdout",
          "text": [
            "tmttmttt\n",
            "효환 승리\n"
          ]
        }
      ]
    },
    {
      "cell_type": "code",
      "source": [
        "#2733 오각형의 점의수 구하기\n",
        "# 점화식  5 + (n * (n - 1) // 2) * 3 + (n - 1) * 4\n",
        "n = int(input())\n",
        "print(( 5 + (n * (n - 1) // 2) * 3 + (n - 1) * 4)%1000000004)"
      ],
      "metadata": {
        "colab": {
          "base_uri": "https://localhost:8080/"
        },
        "id": "19K0Uy_vPfWY",
        "outputId": "ce1293f7-4fab-48d2-f454-1b1c862cdde2"
      },
      "execution_count": null,
      "outputs": [
        {
          "output_type": "stream",
          "name": "stdout",
          "text": [
            "3\n",
            "22\n"
          ]
        }
      ]
    },
    {
      "cell_type": "code",
      "source": [
        "#2741\n",
        "a = [chr(i) for i in range(ord('a'), ord('z') + 1)]\n",
        "b = list(input())\n",
        "c = dict(zip(b,a))\n",
        "\n",
        "d = input()\n",
        "for i in d:\n",
        "  print(c[i], end = '')\n",
        "\n"
      ],
      "metadata": {
        "colab": {
          "base_uri": "https://localhost:8080/"
        },
        "id": "f1ruVIiOcE8L",
        "outputId": "191f7cb8-f783-421a-e8be-848f7900b1ae"
      },
      "execution_count": null,
      "outputs": [
        {
          "output_type": "stream",
          "name": "stdout",
          "text": [
            "fspgblyjqrhzexcnkuatimvwdo\n",
            "pcgbin\n",
            "codeup"
          ]
        }
      ]
    },
    {
      "cell_type": "code",
      "source": [
        "#2742\n",
        "\n",
        "a = sorted(list(map(int,input().split()))[1:], reverse = True)\n",
        "\n",
        "a[0], a[(len(a)//2)] = a[(len(a)//2)], a[0]\n",
        "\n",
        "print(*a)"
      ],
      "metadata": {
        "colab": {
          "base_uri": "https://localhost:8080/"
        },
        "id": "1PLxJNba0UEl",
        "outputId": "f8e0b6aa-19fe-4830-e497-0508bacc3527"
      },
      "execution_count": null,
      "outputs": [
        {
          "output_type": "stream",
          "name": "stdout",
          "text": [
            "7 12 23 34 45 56 84 15\n",
            "34 56 45 84 23 15 12\n"
          ]
        }
      ]
    },
    {
      "cell_type": "code",
      "source": [
        "#2743\n",
        "\n",
        "a,b,c = map(int, input().split())\n",
        "\n",
        "f = [i for i in ['+', '-', '*', '//'] if eval(f'{a}{i}{b}=={c}')]\n",
        "\n",
        "if f:\n",
        "  d,e = map(int, input().split())\n",
        "  for i in f:\n",
        "    if eval(f'{a}{i}{b}=={c}'):\n",
        "      print(eval(f'{d}{i}{e}'))\n",
        "else:\n",
        "  print('NO')\n"
      ],
      "metadata": {
        "colab": {
          "base_uri": "https://localhost:8080/"
        },
        "id": "Bzt8dXT5X7G0",
        "outputId": "00756ba6-8845-4af7-edb3-45115d870f34"
      },
      "execution_count": null,
      "outputs": [
        {
          "output_type": "stream",
          "name": "stdout",
          "text": [
            "2 3 7\n",
            "NO\n"
          ]
        }
      ]
    },
    {
      "cell_type": "code",
      "source": [
        "#2744\n",
        "import math\n",
        "print(math.perm(int(input()),4))"
      ],
      "metadata": {
        "colab": {
          "base_uri": "https://localhost:8080/"
        },
        "id": "ceilcwm1-EfY",
        "outputId": "0d958c0b-b4dc-49a3-deea-b39fb884b091"
      },
      "execution_count": null,
      "outputs": [
        {
          "output_type": "stream",
          "name": "stdout",
          "text": [
            "10\n",
            "5040\n"
          ]
        }
      ]
    },
    {
      "cell_type": "code",
      "source": [
        "#2745\n",
        "import math\n",
        "a,b,c = map(int, input().split())\n",
        "\n",
        "days_to_escape = 1 if b >= a else (float('inf') if b <= c else math.ceil((a - b) / (b - c)) + 1)\n",
        "\n",
        "print(days_to_escape)\n"
      ],
      "metadata": {
        "colab": {
          "base_uri": "https://localhost:8080/"
        },
        "id": "YZbXEoWFvcOe",
        "outputId": "28a46217-8a8e-40fa-fa59-7b261483527a"
      },
      "execution_count": null,
      "outputs": [
        {
          "output_type": "stream",
          "name": "stdout",
          "text": [
            "700 45 32\n",
            "52\n"
          ]
        }
      ]
    },
    {
      "cell_type": "code",
      "source": [
        "#2746\n",
        "\n",
        "\n",
        "a, b = map(int, input().split())\n",
        "\n",
        "clean = 1\n",
        "for i in range(6):\n",
        "  clean *= a\n",
        "\n",
        "print('Safe' if clean < b else 'Dangerous')"
      ],
      "metadata": {
        "id": "QrhjxK4DNgoo",
        "colab": {
          "base_uri": "https://localhost:8080/"
        },
        "outputId": "3044340c-4102-4ee0-8506-c5b2ba215c3e"
      },
      "execution_count": null,
      "outputs": [
        {
          "output_type": "stream",
          "name": "stdout",
          "text": [
            "2 65\n",
            "Safe\n"
          ]
        },
        {
          "output_type": "execute_result",
          "data": {
            "text/plain": [
              "64"
            ]
          },
          "metadata": {},
          "execution_count": 3
        }
      ]
    },
    {
      "cell_type": "code",
      "source": [
        "#2747\n",
        "\n",
        "a = int(input())\n",
        "\n",
        "b = [input() for i in range(a)]\n",
        "\n",
        "for i,j in enumerate(dict.fromkeys(b)):\n",
        "  print(f'{i+1} {j} : {b.count(j)}')\n",
        "\n",
        "#dict.fromkeys()는 입력 시퀀스의 중복 값을 지우고 순서유지를 함 set()은 순서 유지가 안되서 오류 가능"
      ],
      "metadata": {
        "colab": {
          "base_uri": "https://localhost:8080/"
        },
        "id": "IqTnLdVis7nB",
        "outputId": "9f1018f2-a6d4-45de-8267-c28f3a42bbb0"
      },
      "execution_count": null,
      "outputs": [
        {
          "output_type": "stream",
          "name": "stdout",
          "text": [
            "4\n",
            "tetris\n",
            "lol\n",
            "tetris\n",
            "overwatch\n",
            "{'tetris', 'lol', 'overwatch'}\n",
            "1 tetris : 2\n",
            "2 lol : 1\n",
            "3 overwatch : 1\n"
          ]
        }
      ]
    },
    {
      "cell_type": "code",
      "source": [
        "#2748\n",
        "def btk(idx, cur, num, tgt):\n",
        "    if idx == len(num):\n",
        "        if cur == tgt:\n",
        "            return 1\n",
        "        else:\n",
        "            return 0\n",
        "\n",
        "    return btk(idx + 1, cur + num[idx], num, tgt) + btk(idx + 1, cur - num[idx], num, tgt)\n",
        "\n",
        "a = int(input())\n",
        "b = int(input())\n",
        "c = list(map(int, input().split())) if b > 0 else 0\n",
        "\n",
        "print(btk(0, 0, c, a) if c != 0 else 0)\n",
        "\n"
      ],
      "metadata": {
        "colab": {
          "base_uri": "https://localhost:8080/"
        },
        "id": "sRzMdcZrt7UZ",
        "outputId": "75e008d6-c143-44a9-ec0b-d7223d25bee1"
      },
      "execution_count": null,
      "outputs": [
        {
          "output_type": "stream",
          "name": "stdout",
          "text": [
            "4\n",
            "0\n",
            "0\n"
          ]
        }
      ]
    },
    {
      "cell_type": "code",
      "source": [
        "#2752\n",
        "a,b = map(int, input().split())\n",
        "\n",
        "c={}\n",
        "e = ''\n",
        "for i in range(a):\n",
        "  x,y = input().split()\n",
        "  if x == '1':\n",
        "    e = y\n",
        "  c.update({y:int(x)})\n",
        "\n",
        "d = 0\n",
        "for i in range(b):\n",
        "  x1,y2 = input().split()\n",
        "  d += c[x1] * int(y2)\n",
        "\n",
        "print(e, d)"
      ],
      "metadata": {
        "colab": {
          "base_uri": "https://localhost:8080/"
        },
        "id": "R7RZwvY_legQ",
        "outputId": "866e93a4-1f7d-4e63-c72f-562a3833a444"
      },
      "execution_count": null,
      "outputs": [
        {
          "output_type": "stream",
          "name": "stdout",
          "text": [
            "2 10\n",
            "1 E\n",
            "10 L\n",
            "E 72359\n",
            "L 518\n",
            "L 978\n",
            "L 18126\n",
            "E 530\n",
            "L 432\n",
            "L 2134\n",
            "L 44\n",
            "E 3096\n",
            "L 85399\n",
            "E 1152295\n"
          ]
        }
      ]
    },
    {
      "cell_type": "code",
      "source": [
        "#2761\n",
        "a,b = map(int, input().split())\n",
        "print(sorted([a+b,a-b,a*b])[1])"
      ],
      "metadata": {
        "colab": {
          "base_uri": "https://localhost:8080/"
        },
        "id": "ijvB21xiHBU1",
        "outputId": "e3c0ffd1-4224-4792-ecf7-f9f74e184b4e"
      },
      "execution_count": null,
      "outputs": [
        {
          "output_type": "stream",
          "name": "stdout",
          "text": [
            "5 2\n",
            "7\n"
          ]
        }
      ]
    },
    {
      "cell_type": "code",
      "source": [
        "#2762\n",
        "\n",
        "a = input().split(',')\n",
        "\n",
        "for i in a:\n",
        "  print(i[0], end = '')"
      ],
      "metadata": {
        "colab": {
          "base_uri": "https://localhost:8080/"
        },
        "id": "aa4mtp_Db-oB",
        "outputId": "dfdd33b9-4e35-4d71-ab21-308e31b800a7"
      },
      "execution_count": null,
      "outputs": [
        {
          "output_type": "stream",
          "name": "stdout",
          "text": [
            "Changwon,Science,High,School\n",
            "CSHS"
          ]
        }
      ]
    },
    {
      "cell_type": "code",
      "source": [
        "#2763\n",
        "\n",
        "a,b = map(int, input().split())\n",
        "\n",
        "f_list = [ i for i in range(1, a+1) if  a % i == 0]\n",
        "sls = [i for i in f_list if b % i == 0]\n",
        "\n",
        "print('coprime' if len(sls) == 1  else 'no')"
      ],
      "metadata": {
        "colab": {
          "base_uri": "https://localhost:8080/"
        },
        "id": "He7wf39j0oLz",
        "outputId": "ce6db4fc-0058-479d-c151-bfe0709bc48c"
      },
      "execution_count": null,
      "outputs": [
        {
          "output_type": "stream",
          "name": "stdout",
          "text": [
            "8 11\n",
            "coprime\n"
          ]
        }
      ]
    },
    {
      "cell_type": "code",
      "source": [
        "a,b = map(int, input().split())\n",
        "\n",
        "f_list = [ i for i in range(1, a+1) if  a % i == 0]"
      ],
      "metadata": {
        "id": "KnlOIhS52azN"
      },
      "execution_count": null,
      "outputs": []
    },
    {
      "cell_type": "code",
      "source": [
        "#2764\n",
        "a = list(input())\n",
        "\n",
        "for i in range(len(a)*2+1):\n",
        "  print('+' if i % 2 == 0 else '-',end = '')\n",
        "\n",
        "print(f\"\\n|{'|'.join(a)}|\")\n",
        "\n",
        "for i in range(len(a)*2+1):\n",
        "  print('+' if i % 2 == 0 else '-',end = '')\n",
        "\n"
      ],
      "metadata": {
        "colab": {
          "base_uri": "https://localhost:8080/"
        },
        "id": "1phImXX3TZdu",
        "outputId": "4393e745-e998-44db-e69e-fc9b46f93469"
      },
      "execution_count": null,
      "outputs": [
        {
          "output_type": "stream",
          "name": "stdout",
          "text": [
            " 가나다라마바사아자차카타파하훈민정음만만세세종대왕만만세\n",
            "+-+-+-+-+-+-+-+-+-+-+-+-+-+-+-+-+-+-+-+-+-+-+-+-+-+-+-+-+-+\n",
            "| |가|나|다|라|마|바|사|아|자|차|카|타|파|하|훈|민|정|음|만|만|세|세|종|대|왕|만|만|세|\n",
            "+-+-+-+-+-+-+-+-+-+-+-+-+-+-+-+-+-+-+-+-+-+-+-+-+-+-+-+-+-+"
          ]
        }
      ]
    },
    {
      "cell_type": "code",
      "source": [
        "#2765\n",
        "\n",
        "a = input()\n",
        "b = set(map(int, input().split()))\n",
        "c = input()\n",
        "d = set(map(int, input().split()))\n",
        "\n",
        "print(*sorted(b & d) if b & d else [0])\n",
        "print(*sorted(b | d) if b | d else [0]) #리스트는 1개 일때 int임"
      ],
      "metadata": {
        "colab": {
          "base_uri": "https://localhost:8080/"
        },
        "id": "d579hLqQltcf",
        "outputId": "c370adfc-9016-483a-a9b2-91a44db81aa3"
      },
      "execution_count": null,
      "outputs": [
        {
          "output_type": "stream",
          "name": "stdout",
          "text": [
            "1\n",
            "1\n",
            "1\n",
            "2\n",
            "0\n",
            "1 2\n"
          ]
        }
      ]
    },
    {
      "cell_type": "code",
      "source": [
        "#2766\n",
        "\n",
        "a = int(input())\n",
        "b = [list(map(int, input().split())) for i in range(a)]\n",
        "\n",
        "c = int(input())\n",
        "\n",
        "dir = [(-1, -1), (-1, 0), (-1, 1), (0, -1), (0, 1), (1, -1), (1, 0), (1, 1)]\n",
        "for _ in range(c):\n",
        "  x,y = map(int, input().split())\n",
        "  x,y = x-1,y-1\n",
        "  b[x][y] = 0\n",
        "  for dx, dy in dir:\n",
        "      nx, ny = x + dx, y + dy\n",
        "      if 0 <= nx < a and 0 <= ny < a :\n",
        "          b[nx][ny] = 0\n",
        "\n",
        "cnt = 0\n",
        "for i in b:\n",
        "  cnt += sum(i)\n",
        "\n",
        "print(cnt)"
      ],
      "metadata": {
        "id": "QaVEygzdiT13"
      },
      "execution_count": null,
      "outputs": []
    },
    {
      "cell_type": "code",
      "source": [
        "#2767\n",
        "k,n = map(int, input().split())\n",
        "a = list(map(int, input().split()))\n",
        "\n",
        "if n > k:\n",
        "    for i in range(k, n):\n",
        "        b = sum(a[-k:])\n",
        "        a.append(b)\n",
        "\n",
        "print(a[n-1])"
      ],
      "metadata": {
        "colab": {
          "base_uri": "https://localhost:8080/"
        },
        "id": "lgeewYyhL5D9",
        "outputId": "202b44a1-8627-4333-fb7c-e6559fc3782d"
      },
      "execution_count": null,
      "outputs": [
        {
          "output_type": "stream",
          "name": "stdout",
          "text": [
            "4 6\n",
            "1 2 3 5\n",
            "21\n"
          ]
        }
      ]
    },
    {
      "cell_type": "code",
      "source": [
        "#2768 누적합 사용\n",
        "\n",
        "a, b = map(int, input().split())\n",
        "c = list(map(int, input().split()))\n",
        "\n",
        "mod = 100007\n",
        "ss = sum(c) % mod\n",
        "\n",
        "for i in range(a, b):\n",
        "  mm = ss % mod\n",
        "  c.append(mm)\n",
        "  ss = (ss - c[i - a]+mm)%mod # c[i-a]는 새로 생기는 값\n",
        "\n",
        "print(c[b-1]%mod)"
      ],
      "metadata": {
        "colab": {
          "base_uri": "https://localhost:8080/"
        },
        "id": "jp7m1msAOhCF",
        "outputId": "7a05b6a6-626d-4f09-e628-91daf3da2782"
      },
      "execution_count": null,
      "outputs": [
        {
          "output_type": "stream",
          "name": "stdout",
          "text": [
            "4 6\n",
            "1 2 3 5\n",
            "21\n"
          ]
        }
      ]
    },
    {
      "cell_type": "code",
      "source": [
        "#2769\n",
        "a,b,c = map(int, input().split())\n",
        "\n",
        "print(min(a//2,b,(a+b-c)//3))"
      ],
      "metadata": {
        "colab": {
          "base_uri": "https://localhost:8080/"
        },
        "id": "c5SyCQocdO6s",
        "outputId": "172e3ad5-946e-43c4-826e-a5ed09b76db5"
      },
      "execution_count": null,
      "outputs": [
        {
          "output_type": "stream",
          "name": "stdout",
          "text": [
            "6 10 3\n",
            "3\n"
          ]
        }
      ]
    },
    {
      "cell_type": "code",
      "source": [],
      "metadata": {
        "colab": {
          "base_uri": "https://localhost:8080/"
        },
        "id": "E7dNIOun2gkI",
        "outputId": "2d6955e1-f188-4202-d33c-1927258a64ce"
      },
      "execution_count": null,
      "outputs": [
        {
          "output_type": "execute_result",
          "data": {
            "text/plain": [
              "4.333333333333333"
            ]
          },
          "metadata": {},
          "execution_count": 47
        }
      ]
    },
    {
      "cell_type": "code",
      "source": [
        "#2770\n",
        "def m(n, s):\n",
        "    o = s.count(1)\n",
        "    t = n - o # 전체중에서 차지하는 2의 개수\n",
        "    c = min(o, t) #누가더 적나\n",
        "    l1 = 0\n",
        "    l2 = 0\n",
        "\n",
        "    for i in range(n):\n",
        "        if s[i] == 1:\n",
        "            l1 += 1\n",
        "        else:\n",
        "            l2 += 1\n",
        "        ch = (l2) + (o - l1)\n",
        "        c = min(c, ch)\n",
        "\n",
        "    return c\n",
        "\n",
        "n = int(input())\n",
        "s = [int(input()) for _ in range(n)]\n",
        "print(m(n, s))\n",
        "\n"
      ],
      "metadata": {
        "id": "tJPPW5grP2g2"
      },
      "execution_count": null,
      "outputs": []
    },
    {
      "cell_type": "code",
      "source": [
        "#2771 탐색 알고리즘 우,하 탐색\n",
        "\n",
        "def count_paths(grid):\n",
        "    n = len(grid)\n",
        "    dp = [[0] * n for _ in range(n)]\n",
        "    dp[0][0] = 1\n",
        "\n",
        "    for i in range(n):\n",
        "        for j in range(n):\n",
        "            if dp[i][j] > 0 and grid[i][j] > 0:\n",
        "                steps = grid[i][j]\n",
        "                if i + steps < n:\n",
        "                    dp[i + steps][j] += dp[i][j]\n",
        "                if j + steps < n:\n",
        "                    dp[i][j + steps] += dp[i][j]\n",
        "\n",
        "    return dp[n-1][n-1]\n",
        "\n",
        "N = int(input())\n",
        "grid = [list(map(int, input().split())) for i in range(N)]\n",
        "\n",
        "print(count_paths(grid))\n"
      ],
      "metadata": {
        "colab": {
          "base_uri": "https://localhost:8080/"
        },
        "id": "PlaWLwwdMPIp",
        "outputId": "c17e54fb-b2f0-40ad-e362-302ed3d5d4aa"
      },
      "execution_count": null,
      "outputs": [
        {
          "output_type": "stream",
          "name": "stdout",
          "text": [
            "4\n",
            "2 3 3 1\n",
            "1 2 1 3\n",
            "1 2 3 1\n",
            "3 1 1 0\n",
            "3\n"
          ]
        }
      ]
    },
    {
      "cell_type": "code",
      "source": [
        "\n",
        "#2774\n",
        "for i in range(int(input())):\n",
        "    print(input().count('62'))"
      ],
      "metadata": {
        "colab": {
          "base_uri": "https://localhost:8080/"
        },
        "id": "MnM5pfTug3V_",
        "outputId": "88dbccf8-f29e-4478-9534-f2f8740e0b39"
      },
      "execution_count": null,
      "outputs": [
        {
          "output_type": "stream",
          "name": "stdout",
          "text": [
            "1\n",
            "1627260\n",
            "1\n"
          ]
        }
      ]
    },
    {
      "cell_type": "code",
      "source": [
        "#2793\n",
        "n = int(input())\n",
        "tasks = [tuple(map(int, input().split())) for _ in range(n)]\n",
        "\n",
        "tasks.sort(key=lambda x: x[1], reverse=True)\n",
        "\n",
        "latest_start = float('inf')\n",
        "\n",
        "for start, end in tasks:\n",
        "    if latest_start > end:\n",
        "        latest_start = end\n",
        "    latest_start -= 1\n",
        "\n",
        "print(latest_start+1)"
      ],
      "metadata": {
        "colab": {
          "base_uri": "https://localhost:8080/"
        },
        "id": "GmnJ-Gpm3uw-",
        "outputId": "a38afb4c-6fb2-45b1-aa9b-342ff8187aed"
      },
      "execution_count": null,
      "outputs": [
        {
          "output_type": "stream",
          "name": "stdout",
          "text": [
            "4\n",
            "6 7\n",
            "1 4\n",
            "5 5\n",
            "2 6\n",
            "4\n"
          ]
        }
      ]
    },
    {
      "cell_type": "code",
      "source": [
        "#2801\n",
        "const_a = int(input()) * 1130\n",
        "print(const_a )"
      ],
      "metadata": {
        "id": "SasB0VyGJ80r"
      },
      "execution_count": null,
      "outputs": []
    },
    {
      "cell_type": "code",
      "source": [
        "#2802\n",
        "a,b = map(int, input().split())\n",
        "print(a*b)"
      ],
      "metadata": {
        "id": "rfiOf2jdKQ4z"
      },
      "execution_count": null,
      "outputs": []
    },
    {
      "cell_type": "code",
      "source": [
        "#2803\n",
        "import math\n",
        "\n",
        "a,b,c = map(int, input().split())\n",
        "x,y,z = map(int, input().split())\n",
        "\n",
        "ucle = math.sqrt((a - x)**2 + (b - y)**2)\n",
        "\n",
        "if ucle - (c+z) == 0 or ucle - (c+z) < 0:\n",
        "  print('overlapped')\n",
        "else:\n",
        "  print('not overlapped')"
      ],
      "metadata": {
        "colab": {
          "base_uri": "https://localhost:8080/"
        },
        "id": "-xYBW_jTVJsR",
        "outputId": "334f2877-b612-4eda-8399-a79f78b39aa1"
      },
      "execution_count": null,
      "outputs": [
        {
          "output_type": "stream",
          "name": "stdout",
          "text": [
            "1 1 1\n",
            "3 3 2\n",
            "overlapped\n"
          ]
        }
      ]
    },
    {
      "cell_type": "code",
      "source": [
        "#2832\n",
        "\n",
        "\n",
        "def st(m, cnt):\n",
        "    if m <= 0:\n",
        "        return 1 if m == 0 else 0\n",
        "    if cnt <= 0:\n",
        "        return 0\n",
        "\n",
        "    return st(m-1, cnt-1) + st(m-2, cnt-1)\n",
        "\n",
        "n, k = map(int, input().split())\n",
        "print(st(n, k-1))\n"
      ],
      "metadata": {
        "colab": {
          "base_uri": "https://localhost:8080/"
        },
        "id": "5w09Ywt5U4uN",
        "outputId": "849c7a69-36fc-4d97-972b-1475b05b9343"
      },
      "execution_count": null,
      "outputs": [
        {
          "output_type": "stream",
          "name": "stdout",
          "text": [
            "30 20\n",
            "96647\n"
          ]
        }
      ]
    },
    {
      "cell_type": "code",
      "source": [
        "#2833\n",
        "\n",
        "def st(m, cnt):\n",
        "    if m <= 0:\n",
        "        return 1 if m == 0 else 0\n",
        "    if cnt <= 0:\n",
        "        return 0\n",
        "\n",
        "    return st(m-1, cnt-1) + st(m-2, cnt-1) + st(m-3, cnt-1)\n",
        "\n",
        "n, k = map(int, input().split())\n",
        "print(st(n, k-1))\n"
      ],
      "metadata": {
        "colab": {
          "base_uri": "https://localhost:8080/"
        },
        "id": "Nocg5ANTnJDh",
        "outputId": "7e5b51ff-f113-4cf2-81ec-cfb3821d9ba9"
      },
      "execution_count": null,
      "outputs": [
        {
          "output_type": "stream",
          "name": "stdout",
          "text": [
            "3 3\n",
            "3\n"
          ]
        }
      ]
    },
    {
      "cell_type": "code",
      "source": [
        "#3001\n",
        "a = input()\n",
        "b = list(map(int, input().split()))\n",
        "c = int(input())\n",
        "print(b.index(c)+1 if c in b else -1)"
      ],
      "metadata": {
        "colab": {
          "base_uri": "https://localhost:8080/"
        },
        "id": "z7X9QgQXt5pv",
        "outputId": "c116f4c4-5302-4f29-f7e2-e92c9c93dd65"
      },
      "execution_count": null,
      "outputs": [
        {
          "output_type": "stream",
          "name": "stdout",
          "text": [
            "10\n",
            "2 3 7 4 9 10 223 111 23 39\n",
            "111\n",
            "7\n"
          ]
        }
      ]
    },
    {
      "cell_type": "code",
      "source": [
        "#3002\n",
        "def binary_search(arr, target):\n",
        "    left, right = 0, len(arr) - 1\n",
        "\n",
        "    while left <= right:\n",
        "        mid = (left + right) // 2\n",
        "\n",
        "        if arr[mid] == target:\n",
        "            return mid+1\n",
        "        elif arr[mid] < target:\n",
        "            left = mid + 1\n",
        "        else:\n",
        "            right = mid - 1\n",
        "\n",
        "    return -1\n",
        "\n",
        "\n",
        "a = int(input())\n",
        "b = list(map(int, input().split()))\n",
        "c = int(input())\n",
        "d = list(map(int, input().split()))\n",
        "\n",
        "for i in d:\n",
        "  print(binary_search(b,i), end = ' ')"
      ],
      "metadata": {
        "colab": {
          "base_uri": "https://localhost:8080/"
        },
        "id": "p8kFaBVDudRs",
        "outputId": "f62924c1-29cf-4d76-c3a8-88149e0a64d8"
      },
      "execution_count": null,
      "outputs": [
        {
          "output_type": "stream",
          "name": "stdout",
          "text": [
            "5\n",
            "2 23 55 87 100\n",
            "4\n",
            "5 2 100 55\n",
            "-1\n",
            "0\n",
            "4\n",
            "2\n"
          ]
        }
      ]
    },
    {
      "cell_type": "code",
      "source": [
        "#3003\n",
        "#include <iostream>\n",
        "#include <vector>\n",
        "\n",
        "# using namespace std;\n",
        "\n",
        "# int main() {\n",
        "#     ios_base::sync_with_stdio(false);\n",
        "#     cin.tie(NULL);\n",
        "\n",
        "#     int num;\n",
        "#     vector<int> numbers;\n",
        "#     int count = 0;\n",
        "\n",
        "#     while (cin >> num) {\n",
        "#         count++;\n",
        "#         if (count % 50 == 0) {\n",
        "#             cout << num << ' ';\n",
        "#         }\n",
        "#     }\n",
        "\n",
        "#     cout << '\\n';\n",
        "#     return 0;\n",
        "# }\n"
      ],
      "metadata": {
        "id": "xNg2jeVVSMQS"
      },
      "execution_count": null,
      "outputs": []
    },
    {
      "cell_type": "code",
      "source": [
        "#3004\n",
        "a = input()\n",
        "b = list(map(int, input().split()))\n",
        "c = dict((j, i) for i, j in enumerate(sorted(b)))\n",
        "print(*[c[i] for i in b])"
      ],
      "metadata": {
        "colab": {
          "base_uri": "https://localhost:8080/"
        },
        "id": "SV6_tRSXKhCX",
        "outputId": "95953d2f-baaa-4079-e919-74016f1d9748"
      },
      "execution_count": null,
      "outputs": [
        {
          "output_type": "stream",
          "name": "stdout",
          "text": [
            "5\n",
            "50 23 54 24 123 \n",
            "2 0 3 1 4\n"
          ]
        }
      ]
    },
    {
      "cell_type": "code",
      "source": [
        "#3005\n",
        "import math\n",
        "from functools import reduce\n",
        "\n",
        "def lcm(a, b):\n",
        "    return abs(a * b) // math.gcd(a, b)\n",
        "\n",
        "def lcm_multiple(numbers):\n",
        "    return reduce(lcm, numbers)\n",
        "\n",
        "n = int(input())\n",
        "numbers = list(map(int, input().split()))\n",
        "\n",
        "result = lcm_multiple(numbers)\n",
        "print(result)"
      ],
      "metadata": {
        "colab": {
          "base_uri": "https://localhost:8080/"
        },
        "id": "ZapatZf6MNBP",
        "outputId": "800a4072-051f-401b-9c13-ea88900fde07"
      },
      "execution_count": null,
      "outputs": [
        {
          "output_type": "stream",
          "name": "stdout",
          "text": [
            "42\n",
            "12 11 5 6 5 7 7 11 9 6 6 2 4 2 12 8 3 4 1 4 1 3 10 5 11 10 9 3 12 12 7 12 7 10 5 12 8 8 7 12 4 3 \n",
            "27720\n"
          ]
        }
      ]
    },
    {
      "cell_type": "code",
      "source": [
        "#reduce 예시\n",
        "def lcm(a, b):\n",
        "    return a+b\n",
        "\n",
        "def lcm_multiple(numbers):\n",
        "    return reduce(lcm, numbers)\n",
        "\n",
        "numbers = list(map(int, input().split()))\n",
        "\n",
        "result = lcm_multiple(numbers)\n",
        "print(result)"
      ],
      "metadata": {
        "colab": {
          "base_uri": "https://localhost:8080/"
        },
        "id": "r670idj7Qhoj",
        "outputId": "6e7129b0-e60c-44d9-a1bb-62a7df4408df"
      },
      "execution_count": null,
      "outputs": [
        {
          "output_type": "stream",
          "name": "stdout",
          "text": [
            "1 2 3\n",
            "6\n"
          ]
        }
      ]
    },
    {
      "cell_type": "code",
      "source": [
        "#3006\n",
        "for _ in range(int(input())):\n",
        "    a = int(input())\n",
        "    b = int(a**0.5)\n",
        "\n",
        "    if b * b == a:\n",
        "        print(a)\n",
        "    else:\n",
        "        print(b * b if b * b <= a else (b - 1) * (b - 1))\n",
        "\n",
        "\n"
      ],
      "metadata": {
        "colab": {
          "base_uri": "https://localhost:8080/"
        },
        "id": "WZl-ercIC3Kt",
        "outputId": "e0c0f78c-f5c4-48a2-c2a8-8b378f1fc9ca"
      },
      "execution_count": null,
      "outputs": [
        {
          "output_type": "stream",
          "name": "stdout",
          "text": [
            "2\n",
            "10\n",
            "9\n",
            "100000000\n",
            "100000000\n"
          ]
        }
      ]
    },
    {
      "cell_type": "code",
      "source": [
        "int(10**0.5)"
      ],
      "metadata": {
        "colab": {
          "base_uri": "https://localhost:8080/"
        },
        "id": "QlscPlr-LC_D",
        "outputId": "ec9f52ea-5f49-4795-d759-9c172049ca5f"
      },
      "execution_count": null,
      "outputs": [
        {
          "output_type": "execute_result",
          "data": {
            "text/plain": [
              "3"
            ]
          },
          "metadata": {},
          "execution_count": 51
        }
      ]
    },
    {
      "cell_type": "code",
      "source": [
        "#3007\n",
        "\n",
        "a, b = map(int, input().split())\n",
        "c = list(map(int, input().split()))\n",
        "\n",
        "# 구간 합 배열 생성 #sum보다는 구간합 구하는게 복잡도가 낮음\n",
        "prefix_sum = [0] * (a + 1)\n",
        "for i in range(1, a + 1):\n",
        "    prefix_sum[i] = prefix_sum[i - 1] + c[i - 1]\n",
        "\n",
        "# 각 쿼리에 대해 결과 출력\n",
        "for _ in range(b):\n",
        "    d, e = map(int, input().split())\n",
        "    print(prefix_sum[e] - prefix_sum[d - 1])\n"
      ],
      "metadata": {
        "colab": {
          "base_uri": "https://localhost:8080/"
        },
        "id": "CqtDokWe6p5Z",
        "outputId": "f7cd7240-4453-4027-e54f-7a1264299af4"
      },
      "execution_count": null,
      "outputs": [
        {
          "output_type": "stream",
          "name": "stdout",
          "text": [
            "6 3\n",
            "3 5 2 1 4 3 \n",
            "2 4\n",
            "8\n",
            "1 1\n",
            "3\n",
            "1 3\n",
            "10\n"
          ]
        }
      ]
    },
    {
      "cell_type": "code",
      "source": [
        "#3008\n",
        "def cnt_sub(arr, tgt, idx, csum, sub):\n",
        "    if csum == tgt and len(sub) == 7:\n",
        "        return sub\n",
        "\n",
        "    if idx >= len(arr):\n",
        "        return None\n",
        "\n",
        "    result = cnt_sub(arr, tgt, idx + 1, csum, sub)\n",
        "    if result:\n",
        "        return result\n",
        "\n",
        "    result = cnt_sub(arr, tgt, idx + 1, csum + arr[idx], sub + [arr[idx]])\n",
        "    if result:\n",
        "        return result\n",
        "\n",
        "    return None\n",
        "\n",
        "a = sorted([int(input()) for i in range(9)])\n",
        "result = cnt_sub(a, 100, 0, 0, [])\n",
        "\n",
        "if result:\n",
        "    for i in result:\n",
        "        print(i)\n"
      ],
      "metadata": {
        "colab": {
          "base_uri": "https://localhost:8080/"
        },
        "id": "ufXlKcTo337D",
        "outputId": "d7c837c1-3117-450a-f332-1e88f0c6bde0"
      },
      "execution_count": null,
      "outputs": [
        {
          "output_type": "stream",
          "name": "stdout",
          "text": [
            "20\n",
            "7\n",
            "23\n",
            "19\n",
            "10\n",
            "15\n",
            "25\n",
            "8\n",
            "13\n",
            "7\n",
            "8\n",
            "10\n",
            "13\n",
            "19\n",
            "20\n",
            "23\n"
          ]
        }
      ]
    },
    {
      "cell_type": "code",
      "source": [
        "#3009\n",
        "\n",
        "def cnt_sub(arr, tgt, idx, csum):\n",
        "    global cnt\n",
        "    if idx == len(arr):\n",
        "        if csum == tgt:\n",
        "            cnt += 1\n",
        "        return\n",
        "\n",
        "    cnt_sub(arr, tgt, idx + 1, csum)\n",
        "    cnt_sub(arr, tgt, idx + 1, csum + arr[idx])\n",
        "\n",
        "n, s = map(int, input().split())\n",
        "arr = list(map(int, input().split()))\n",
        "\n",
        "cnt = 0\n",
        "cnt_sub(arr, s, 0, 0)\n",
        "\n",
        "if s == 0:\n",
        "    cnt -= 1\n",
        "\n",
        "print(cnt)\n",
        "\n"
      ],
      "metadata": {
        "colab": {
          "base_uri": "https://localhost:8080/"
        },
        "id": "pVYHHqm01CsQ",
        "outputId": "ab70a99a-539c-4a4b-9d9d-b41219348a5a"
      },
      "execution_count": null,
      "outputs": [
        {
          "output_type": "stream",
          "name": "stdout",
          "text": [
            "5 0\n",
            "-7 -3 -2 5 8\n",
            "1\n"
          ]
        }
      ]
    },
    {
      "cell_type": "code",
      "source": [
        "#3011\n",
        "def bubbleSort(x):\n",
        "    length = len(x) - 1\n",
        "    b = x[:]\n",
        "    a = 0\n",
        "    for i in range(length):\n",
        "        a += 1\n",
        "        for j in range(length - i):\n",
        "            if x[j] > x[j + 1]:\n",
        "                x[j], x[j + 1] = x[j + 1], x[j]\n",
        "        if b == x:\n",
        "            return a - 1\n",
        "        b = x[:]\n",
        "    return a\n",
        "\n",
        "a = input()\n",
        "arr = list(map(int, input().split()))\n",
        "\n",
        "print(bubbleSort(arr))"
      ],
      "metadata": {
        "colab": {
          "base_uri": "https://localhost:8080/"
        },
        "id": "0gachJm0SFuY",
        "outputId": "e621ea43-11f8-4d4c-e6f3-46b77f8449ad"
      },
      "execution_count": null,
      "outputs": [
        {
          "name": "stdout",
          "output_type": "stream",
          "text": [
            "5\n",
            "10 50 30 20 40\n"
          ]
        },
        {
          "output_type": "execute_result",
          "data": {
            "text/plain": [
              "2"
            ]
          },
          "metadata": {},
          "execution_count": 41
        }
      ]
    },
    {
      "cell_type": "code",
      "source": [
        "# #3014\n",
        "# #include <stdio.h>\n",
        "\n",
        "# int partition(int arr[], int low, int high) {\n",
        "#     int pivot = arr[high];\n",
        "#     int i = (low - 1);\n",
        "\n",
        "#     for (int j = low; j < high; j++) {\n",
        "#         if (arr[j] < pivot) {\n",
        "#             i++;\n",
        "#             int temp = arr[i];\n",
        "#             arr[i] = arr[j];\n",
        "#             arr[j] = temp;\n",
        "#         }\n",
        "#     }\n",
        "\n",
        "#     int temp = arr[i + 1];\n",
        "#     arr[i + 1] = arr[high];\n",
        "#     arr[high] = temp;\n",
        "\n",
        "#     return (i + 1);\n",
        "# }\n",
        "\n",
        "# void quick_process(int arr[], int low, int high) {\n",
        "#     if (low < high) {\n",
        "#         int pi = partition(arr, low, high);\n",
        "\n",
        "#         quick_process(arr, low, pi - 1);\n",
        "#         quick_process(arr, pi + 1, high);\n",
        "#     }\n",
        "# }\n",
        "\n",
        "# int main() {\n",
        "#     int n;\n",
        "#     scanf(\"%d\", &n);\n",
        "#     int arr[n];\n",
        "\n",
        "#     for (int i = 0; i < n; i++) {\n",
        "#         scanf(\"%d\", &arr[i]);\n",
        "#     }\n",
        "\n",
        "#     quick_process(arr, 0, n - 1);\n",
        "\n",
        "#     for (int i = 0; i < n; i++) {\n",
        "#         printf(\"%d \", arr[i]);\n",
        "#     }\n",
        "\n",
        "#     return 0;\n",
        "# }\n",
        "\n"
      ],
      "metadata": {
        "colab": {
          "base_uri": "https://localhost:8080/"
        },
        "id": "cxAfObq-Eanq",
        "outputId": "fcb19442-37b7-410a-c2fa-8fcca73fa765"
      },
      "execution_count": null,
      "outputs": [
        {
          "output_type": "stream",
          "name": "stdout",
          "text": [
            "5\n",
            "2 6 4 8 6\n",
            "[2, 4, 6, 6, 8]\n"
          ]
        }
      ]
    },
    {
      "cell_type": "code",
      "source": [
        "#3015\n",
        "a,b = map(int, input().split())\n",
        "d = sorted(list((i,int(j)) for i,j in [list(map(str, input().split())) for i in range(a)]), key = lambda x : x[1], reverse=True)\n",
        "\n",
        "for i,j in d[:b]:\n",
        "  print(i)"
      ],
      "metadata": {
        "colab": {
          "base_uri": "https://localhost:8080/"
        },
        "id": "JZiLoBtfmaJr",
        "outputId": "eda03cfa-c5c6-486c-a784-3ad5cf4d9e8a"
      },
      "execution_count": null,
      "outputs": [
        {
          "output_type": "stream",
          "name": "stdout",
          "text": [
            "4 2\n",
            "Jeon 95\n",
            "Kim 59\n",
            "Lee 90\n",
            "Bae 100\n",
            "Bae\n",
            "Jeon\n"
          ]
        }
      ]
    },
    {
      "cell_type": "code",
      "source": [
        "#3016\n",
        "a = int(input())\n",
        "b = [list(enumerate(map(str, input().split()))) for i in range(a)] #점수 리스트\n",
        "\n",
        "c = max(b, key=lambda x: int(x[1][1])) #첫번째 과목의 점수가 가장 높은 학생\n",
        "\n",
        "d = sorted([int(j) for i in b for k,j in i if k == 2]) #2번째 정렬\n",
        "e = sorted([int(j) for i in b for k,j in i if k == 3]) #3번쨰 정렬\n",
        "\n",
        "print(c[0][1], d[::-1].index(int(c[2][1]))+1 , e[::-1].index(int(c[3][1]))+1) #뒤에서 부터 인덱스를 검사해 중복일 경우 맨뒤에 번호"
      ],
      "metadata": {
        "colab": {
          "base_uri": "https://localhost:8080/"
        },
        "id": "pD-VXsUfHhdI",
        "outputId": "2f1772e8-9778-4e66-e2a8-c4dc20867ace"
      },
      "execution_count": null,
      "outputs": [
        {
          "output_type": "stream",
          "name": "stdout",
          "text": [
            "4\n",
            "Jeon 95 100 100\n",
            "Kim 59 100 80\n",
            "Lee 90 100 80\n",
            "Bae 100 82 80\n",
            "Bae 4 2\n"
          ]
        }
      ]
    },
    {
      "cell_type": "code",
      "source": [
        "#3017\n",
        "a =[list(map(int, input().split())) for i in range(int(input()))]\n",
        "\n",
        "b = []\n",
        "for i,j in enumerate(a):\n",
        "  b.append([i+1, *j])\n",
        "\n",
        "b.sort(key=lambda x: (-x[1], -x[2], x[0]))\n",
        "\n",
        "for i in b:\n",
        "  print(*i)\n"
      ],
      "metadata": {
        "colab": {
          "base_uri": "https://localhost:8080/"
        },
        "id": "o0bG4vzEfLzR",
        "outputId": "37cd3b0f-942b-4717-f50b-621f9e8f1272"
      },
      "execution_count": null,
      "outputs": [
        {
          "output_type": "stream",
          "name": "stdout",
          "text": [
            "5\n",
            "100 90\n",
            "90 100\n",
            "80 80\n",
            "80 90\n",
            "60 50\n",
            "1 100 90\n",
            "2 90 100\n",
            "4 80 90\n",
            "3 80 80\n",
            "5 60 50\n"
          ]
        }
      ]
    },
    {
      "cell_type": "code",
      "source": [
        "#3018\n",
        "t = int(input())\n",
        "s = []\n",
        "\n",
        "for _ in range(t):\n",
        "    i = tuple(map(int, input().split()))\n",
        "    s.append(i)\n",
        "\n",
        "s.sort(key=lambda x: x[1])\n",
        "d = {x[0]: r for r, x in enumerate(s)}\n",
        "\n",
        "s.sort(key=lambda x: x[2])\n",
        "p = {x[0]: r for r, x in enumerate(s)}\n",
        "\n",
        "m = float('inf')\n",
        "b = None\n",
        "\n",
        "for x in s:\n",
        "    u = d[x[0]] + p[x[0]]\n",
        "    if u < m or (u == m and x[1] < b[1]):\n",
        "        m = u\n",
        "        b = x\n",
        "\n",
        "print(b[0], b[1], b[2])\n"
      ],
      "metadata": {
        "colab": {
          "base_uri": "https://localhost:8080/"
        },
        "id": "gJG6l3ttXP_b",
        "outputId": "8d29bcb8-02a8-45af-ab78-5f3946143fc5"
      },
      "execution_count": null,
      "outputs": [
        {
          "output_type": "stream",
          "name": "stdout",
          "text": [
            "3\n",
            "1 3 1000\n",
            "2 2 1200\n",
            "3 1 1500\n",
            "3 1 1500\n"
          ]
        }
      ]
    },
    {
      "cell_type": "code",
      "source": [
        "a = int(input())\n",
        "b = [list(map(str, input().split())) for i in range(a)]\n",
        "c = max(b, key=lambda x: max(map(int, x[1])))\n"
      ],
      "metadata": {
        "id": "7kka-Q4WNOeG"
      },
      "execution_count": null,
      "outputs": []
    },
    {
      "cell_type": "code",
      "source": [
        "#3019\n",
        "\n",
        "a = int(input())\n",
        "b = [input().split() for i in range(a)]\n",
        "c = sorted(b, key = lambda x : (int(x[1]),int(x[2]),int(x[3]), x[0]))\n",
        "\n",
        "for i in c:\n",
        "  print(i[0])"
      ],
      "metadata": {
        "id": "-Ct8b1Ir_OaI"
      },
      "execution_count": null,
      "outputs": []
    },
    {
      "cell_type": "code",
      "source": [
        "#3020 딕셔너리를 활용하면 시간 복잡도가 현저히 낮아지게\n",
        "a = int(input())\n",
        "b = list(map(int, input().split()))\n",
        "c = int(input())\n",
        "d = list(map(int, input().split()))\n",
        "\n",
        "index_map = {value: index + 1 for index, value in enumerate(b)}\n",
        "\n",
        "for i in d:\n",
        "    if i in index_map:\n",
        "        print(index_map[i], end=' ')\n",
        "    else:\n",
        "        print(-1, end=' ')"
      ],
      "metadata": {
        "colab": {
          "base_uri": "https://localhost:8080/",
          "height": 390
        },
        "id": "AHKrCD0_47Wt",
        "outputId": "2b537770-abbb-47ed-8369-7988e8609045"
      },
      "execution_count": null,
      "outputs": [
        {
          "output_type": "error",
          "ename": "KeyboardInterrupt",
          "evalue": "Interrupted by user",
          "traceback": [
            "\u001b[0;31m---------------------------------------------------------------------------\u001b[0m",
            "\u001b[0;31mKeyboardInterrupt\u001b[0m                         Traceback (most recent call last)",
            "\u001b[0;32m<ipython-input-5-080be73b7373>\u001b[0m in \u001b[0;36m<cell line: 1>\u001b[0;34m()\u001b[0m\n\u001b[0;32m----> 1\u001b[0;31m \u001b[0ma\u001b[0m \u001b[0;34m=\u001b[0m \u001b[0mint\u001b[0m\u001b[0;34m(\u001b[0m\u001b[0minput\u001b[0m\u001b[0;34m(\u001b[0m\u001b[0;34m)\u001b[0m\u001b[0;34m)\u001b[0m\u001b[0;34m\u001b[0m\u001b[0;34m\u001b[0m\u001b[0m\n\u001b[0m\u001b[1;32m      2\u001b[0m \u001b[0mb\u001b[0m \u001b[0;34m=\u001b[0m \u001b[0mlist\u001b[0m\u001b[0;34m(\u001b[0m\u001b[0mmap\u001b[0m\u001b[0;34m(\u001b[0m\u001b[0mint\u001b[0m\u001b[0;34m,\u001b[0m \u001b[0minput\u001b[0m\u001b[0;34m(\u001b[0m\u001b[0;34m)\u001b[0m\u001b[0;34m.\u001b[0m\u001b[0msplit\u001b[0m\u001b[0;34m(\u001b[0m\u001b[0;34m)\u001b[0m\u001b[0;34m)\u001b[0m\u001b[0;34m)\u001b[0m\u001b[0;34m\u001b[0m\u001b[0;34m\u001b[0m\u001b[0m\n\u001b[1;32m      3\u001b[0m \u001b[0mc\u001b[0m \u001b[0;34m=\u001b[0m \u001b[0mint\u001b[0m\u001b[0;34m(\u001b[0m\u001b[0minput\u001b[0m\u001b[0;34m(\u001b[0m\u001b[0;34m)\u001b[0m\u001b[0;34m)\u001b[0m\u001b[0;34m\u001b[0m\u001b[0;34m\u001b[0m\u001b[0m\n\u001b[1;32m      4\u001b[0m \u001b[0md\u001b[0m \u001b[0;34m=\u001b[0m \u001b[0mlist\u001b[0m\u001b[0;34m(\u001b[0m\u001b[0mmap\u001b[0m\u001b[0;34m(\u001b[0m\u001b[0mint\u001b[0m\u001b[0;34m,\u001b[0m \u001b[0minput\u001b[0m\u001b[0;34m(\u001b[0m\u001b[0;34m)\u001b[0m\u001b[0;34m.\u001b[0m\u001b[0msplit\u001b[0m\u001b[0;34m(\u001b[0m\u001b[0;34m)\u001b[0m\u001b[0;34m)\u001b[0m\u001b[0;34m)\u001b[0m\u001b[0;34m\u001b[0m\u001b[0;34m\u001b[0m\u001b[0m\n\u001b[1;32m      5\u001b[0m \u001b[0;34m\u001b[0m\u001b[0m\n",
            "\u001b[0;32m/usr/local/lib/python3.10/dist-packages/ipykernel/kernelbase.py\u001b[0m in \u001b[0;36mraw_input\u001b[0;34m(self, prompt)\u001b[0m\n\u001b[1;32m    849\u001b[0m                 \u001b[0;34m\"raw_input was called, but this frontend does not support input requests.\"\u001b[0m\u001b[0;34m\u001b[0m\u001b[0;34m\u001b[0m\u001b[0m\n\u001b[1;32m    850\u001b[0m             )\n\u001b[0;32m--> 851\u001b[0;31m         return self._input_request(str(prompt),\n\u001b[0m\u001b[1;32m    852\u001b[0m             \u001b[0mself\u001b[0m\u001b[0;34m.\u001b[0m\u001b[0m_parent_ident\u001b[0m\u001b[0;34m,\u001b[0m\u001b[0;34m\u001b[0m\u001b[0;34m\u001b[0m\u001b[0m\n\u001b[1;32m    853\u001b[0m             \u001b[0mself\u001b[0m\u001b[0;34m.\u001b[0m\u001b[0m_parent_header\u001b[0m\u001b[0;34m,\u001b[0m\u001b[0;34m\u001b[0m\u001b[0;34m\u001b[0m\u001b[0m\n",
            "\u001b[0;32m/usr/local/lib/python3.10/dist-packages/ipykernel/kernelbase.py\u001b[0m in \u001b[0;36m_input_request\u001b[0;34m(self, prompt, ident, parent, password)\u001b[0m\n\u001b[1;32m    893\u001b[0m             \u001b[0;32mexcept\u001b[0m \u001b[0mKeyboardInterrupt\u001b[0m\u001b[0;34m:\u001b[0m\u001b[0;34m\u001b[0m\u001b[0;34m\u001b[0m\u001b[0m\n\u001b[1;32m    894\u001b[0m                 \u001b[0;31m# re-raise KeyboardInterrupt, to truncate traceback\u001b[0m\u001b[0;34m\u001b[0m\u001b[0;34m\u001b[0m\u001b[0m\n\u001b[0;32m--> 895\u001b[0;31m                 \u001b[0;32mraise\u001b[0m \u001b[0mKeyboardInterrupt\u001b[0m\u001b[0;34m(\u001b[0m\u001b[0;34m\"Interrupted by user\"\u001b[0m\u001b[0;34m)\u001b[0m \u001b[0;32mfrom\u001b[0m \u001b[0;32mNone\u001b[0m\u001b[0;34m\u001b[0m\u001b[0;34m\u001b[0m\u001b[0m\n\u001b[0m\u001b[1;32m    896\u001b[0m             \u001b[0;32mexcept\u001b[0m \u001b[0mException\u001b[0m \u001b[0;32mas\u001b[0m \u001b[0me\u001b[0m\u001b[0;34m:\u001b[0m\u001b[0;34m\u001b[0m\u001b[0;34m\u001b[0m\u001b[0m\n\u001b[1;32m    897\u001b[0m                 \u001b[0mself\u001b[0m\u001b[0;34m.\u001b[0m\u001b[0mlog\u001b[0m\u001b[0;34m.\u001b[0m\u001b[0mwarning\u001b[0m\u001b[0;34m(\u001b[0m\u001b[0;34m\"Invalid Message:\"\u001b[0m\u001b[0;34m,\u001b[0m \u001b[0mexc_info\u001b[0m\u001b[0;34m=\u001b[0m\u001b[0;32mTrue\u001b[0m\u001b[0;34m)\u001b[0m\u001b[0;34m\u001b[0m\u001b[0;34m\u001b[0m\u001b[0m\n",
            "\u001b[0;31mKeyboardInterrupt\u001b[0m: Interrupted by user"
          ]
        }
      ]
    },
    {
      "cell_type": "code",
      "source": [
        "#3021\n",
        "a = int(input())\n",
        "b = int(input())\n",
        "print(a-b)"
      ],
      "metadata": {
        "id": "9Go9eCeY6KW0"
      },
      "execution_count": null,
      "outputs": []
    },
    {
      "cell_type": "code",
      "source": [
        "#3021\n",
        "a=int(input()); b = int(input())\n",
        "print(a+b)"
      ],
      "metadata": {
        "colab": {
          "base_uri": "https://localhost:8080/"
        },
        "id": "2ASwL_xa-SV_",
        "outputId": "727490f7-dfcb-4999-fccf-8a613cfaf656"
      },
      "execution_count": null,
      "outputs": [
        {
          "name": "stdout",
          "output_type": "stream",
          "text": [
            "1\n",
            "2\n"
          ]
        },
        {
          "output_type": "execute_result",
          "data": {
            "text/plain": [
              "(1, 2)"
            ]
          },
          "metadata": {},
          "execution_count": 6
        }
      ]
    },
    {
      "cell_type": "code",
      "source": [
        "#3023\n",
        "\n",
        "print(int(input())*int(input()))"
      ],
      "metadata": {
        "colab": {
          "base_uri": "https://localhost:8080/"
        },
        "id": "iLy3DUqoll-p",
        "outputId": "acef3cd4-d649-4398-a5bc-09a073765a4b"
      },
      "execution_count": null,
      "outputs": [
        {
          "output_type": "stream",
          "name": "stdout",
          "text": [
            "3\n",
            "6\n",
            "18\n"
          ]
        }
      ]
    },
    {
      "cell_type": "code",
      "source": [
        "#3030\n",
        "import sys\n",
        "\n",
        "input = sys.stdin.read\n",
        "data = input().splitlines()\n",
        "\n",
        "n, m = map(int, data[0].split())\n",
        "matrix1 = []\n",
        "\n",
        "for i in range(1, n + 1):\n",
        "    matrix1.append(list(map(int, data[i].split())))\n",
        "\n",
        "a, b = map(int, data[n + 1].split())\n",
        "\n",
        "if m != a:\n",
        "    print(\"ERROR\")\n",
        "else:\n",
        "    matrix2 = []\n",
        "    for i in range(n + 2, n + 2 + a):\n",
        "        matrix2.append(list(map(int, data[i].split())))\n",
        "\n",
        "    for i in range(n):\n",
        "        result_row = []\n",
        "        for j in range(b):\n",
        "            result_value = 0\n",
        "            for k in range(m):\n",
        "                result_value += matrix1[i][k] * matrix2[k][j]\n",
        "            result_row.append(result_value)\n",
        "        print(*result_row)\n",
        "\n"
      ],
      "metadata": {
        "colab": {
          "base_uri": "https://localhost:8080/"
        },
        "id": "zvbEe4CE-rK1",
        "outputId": "7c1417ee-f08b-4d33-d8a4-ad8f612225e2"
      },
      "execution_count": null,
      "outputs": [
        {
          "output_type": "stream",
          "name": "stdout",
          "text": [
            "2 2\n",
            "1 2\n",
            "3 4\n",
            "2 2\n",
            "4 3\n",
            "2 1\n",
            "8 5\n",
            "20 13\n"
          ]
        }
      ]
    },
    {
      "cell_type": "code",
      "source": [
        "#3071 에라토스테네스의 체\n",
        "\n",
        "a,b = map(int,input().split())\n",
        "c =[True]*(b+1)\n",
        "\n",
        "for i in range(2,int(b**0.5)+1):\n",
        "  if  c[i] == True:\n",
        "    for j in range(i+i, b+1, i):\n",
        "      c[j] = False\n",
        "\n",
        "print(*[i for i in range(a,b+1) if c[i] == True])"
      ],
      "metadata": {
        "colab": {
          "base_uri": "https://localhost:8080/"
        },
        "id": "CgA62D-zIV5I",
        "outputId": "4ea08840-2d22-4444-c43d-8b5bb6729a39"
      },
      "execution_count": null,
      "outputs": [
        {
          "output_type": "stream",
          "name": "stdout",
          "text": [
            "2 12\n",
            "2 3 5 7 11\n"
          ]
        }
      ]
    },
    {
      "cell_type": "code",
      "source": [
        "#3090\n",
        "a = int(input())\n",
        "b = int(input())-1\n",
        "\n",
        "A = [i * j for i in range(1, a + 1) for j in range(1, a + 1)]\n",
        "\n",
        "print(sorted(A)[b])\n",
        "\n",
        "############GPT\n",
        "a = int(input())\n",
        "b = int(input()) - 1\n",
        "\n",
        "def count_less_equal(x):\n",
        "    count = 0\n",
        "    for i in range(1, a + 1):\n",
        "        count += min(x // i, a)\n",
        "    return count\n",
        "\n",
        "left, right = 1, a * a\n",
        "answer = 0\n",
        "\n",
        "while left <= right:\n",
        "    mid = (left + right) // 2\n",
        "    if count_less_equal(mid) > b:\n",
        "        answer = mid\n",
        "        right = mid - 1\n",
        "    else:\n",
        "        left = mid + 1\n",
        "\n",
        "print(answer)\n"
      ],
      "metadata": {
        "id": "fcm4t4BaMu3d"
      },
      "execution_count": null,
      "outputs": []
    },
    {
      "cell_type": "code",
      "source": [
        "#3101\n",
        "\n",
        "for i in range(int(input())):\n",
        "    a = input()\n",
        "    if a.startswith('make_pair'):\n",
        "      b = a.replace(\"make_pair(\", \"\").replace(\")\", \"\").replace(\" \", \"\").split(',')\n",
        "    else:\n",
        "      print(b[0] if a == 'first' else b[1] )\n",
        "\n",
        "\n",
        "\n"
      ],
      "metadata": {
        "colab": {
          "base_uri": "https://localhost:8080/"
        },
        "id": "rF65dpd9pYTY",
        "outputId": "96d2e40c-8b1e-4736-d272-6edbd169e7ea"
      },
      "execution_count": null,
      "outputs": [
        {
          "output_type": "stream",
          "name": "stdout",
          "text": [
            "7\n",
            "make_pair( 5, 7 )\n",
            "first\n",
            "5\n",
            "second\n",
            "7\n",
            "first\n",
            "5\n",
            "make_pair( 2, 100 )\n",
            "second\n",
            "100\n",
            "first\n",
            "2\n"
          ]
        }
      ]
    },
    {
      "cell_type": "code",
      "source": [
        "#3102\n",
        "\n",
        "a = []\n",
        "\n",
        "for i in range(int(input())):\n",
        "\n",
        "  b = input()\n",
        "  if b.startswith('push'):\n",
        "    a.append(b.split()[1])\n",
        "  elif b.startswith('top'):\n",
        "    try:\n",
        "      print(a[-1])\n",
        "    except:\n",
        "      print(-1)\n",
        "  elif b.startswith('pop') and len(a) != 0:\n",
        "    a.pop()\n",
        "  elif b.startswith('size'):\n",
        "    print(len(a))\n",
        "  elif b.startswith('empty'):\n",
        "    print('true' if len(a) == 0 else 'false')\n"
      ],
      "metadata": {
        "colab": {
          "base_uri": "https://localhost:8080/"
        },
        "id": "5qW1clA0cNvh",
        "outputId": "b1e2456b-b013-4c84-c710-509241fc4b87"
      },
      "execution_count": null,
      "outputs": [
        {
          "output_type": "stream",
          "name": "stdout",
          "text": [
            "7\n",
            "push( 5 )\n",
            "top()\n",
            "5\n",
            "push( 7 )\n",
            "push( 3 )\n",
            "top()\n",
            "3\n",
            "pop()\n",
            "size()\n",
            "2\n"
          ]
        }
      ]
    },
    {
      "cell_type": "code",
      "source": [
        "#3103\n",
        "a = int(input())\n",
        "\n",
        "b = []\n",
        "for i in range(a):\n",
        "    d = input()\n",
        "    if d.startswith('push'):\n",
        "        x = int(d.split()[1])\n",
        "        b.append(x)\n",
        "    elif d.startswith('front'):\n",
        "        print(b[0] if len(b) != 0 else -1)\n",
        "    elif d.startswith('back'):\n",
        "        print(b[-1] if len(b) != 0 else -1)\n",
        "    elif d.startswith('pop'):\n",
        "        if len(b) > 0:\n",
        "            b.pop(0)\n",
        "    elif d.startswith('size'):\n",
        "        print(len(b))\n",
        "    else:\n",
        "        print('true' if len(b) == 0 else 'false')\n"
      ],
      "metadata": {
        "id": "m8v16yGAT4EC"
      },
      "execution_count": null,
      "outputs": []
    },
    {
      "cell_type": "code",
      "source": [
        "#3104\n",
        "a = int(input())\n",
        "\n",
        "b = []\n",
        "for i in range(a):\n",
        "  d = input()\n",
        "  if d.startswith('push'):\n",
        "    c = []\n",
        "    for i in d[4:]:\n",
        "      try:\n",
        "        c.append(int(i))\n",
        "      except:\n",
        "        pass\n",
        "    b.append(int(''.join(map(str,c)).strip()))\n",
        "    b = sorted(b,reverse = True)\n",
        "  elif d.startswith('top'):\n",
        "    print(b[0] if len(b) != 0 else -1)\n",
        "  elif d.startswith('pop'):\n",
        "    if len(b) > 0:\n",
        "      b.pop(0)\n",
        "  elif d.startswith('size'):\n",
        "    print(len(b))\n",
        "  else:\n",
        "    print('true' if len(b) == 0 else 'false')\n"
      ],
      "metadata": {
        "colab": {
          "base_uri": "https://localhost:8080/"
        },
        "id": "UD54UdhbOzSZ",
        "outputId": "701f9836-f1cf-48ac-c420-bdb21ecdeedd"
      },
      "execution_count": null,
      "outputs": [
        {
          "output_type": "stream",
          "name": "stdout",
          "text": [
            "10\n",
            "size()\n",
            "0\n",
            "empty()\n",
            "true\n",
            "pop()\n",
            "top()\n",
            "-1\n",
            "size()\n",
            "0\n",
            "size()\n",
            "0\n",
            "top()\n",
            "-1\n",
            "push( 59 )\n",
            "push( 16 )\n",
            "size()\n",
            "2\n"
          ]
        }
      ]
    },
    {
      "cell_type": "code",
      "source": [
        "#3108\n",
        "\n",
        "a = int(input())\n",
        "\n",
        "name = dict()\n",
        "for i in range(a):\n",
        "  n = list(map(str, input().split()))\n",
        "  if 'I' in n and n[1] not in list(name):\n",
        "      name.update({n[1]:n[2]})\n",
        "  elif 'D' in n:\n",
        "    try:\n",
        "      del name[n[1]]\n",
        "    except:\n",
        "      pass\n",
        "\n",
        "name = [(i,j) for i,j in name.items()]\n",
        "name = sorted(name, key=lambda x : int(x[0]))\n",
        "\n",
        "c = list(map(int, input().split())) #데이터 위치\n",
        "\n",
        "for i in c:\n",
        "  print(*name[i-1])"
      ],
      "metadata": {
        "colab": {
          "base_uri": "https://localhost:8080/",
          "height": 110
        },
        "id": "8WGnKvK_cEMq",
        "outputId": "6803cb7a-acc4-4ed9-e8f1-7d8aa2ea2d12"
      },
      "execution_count": null,
      "outputs": [
        {
          "output_type": "error",
          "ename": "SyntaxError",
          "evalue": "invalid syntax (<ipython-input-24-c5baea58ff5d>, line 10)",
          "traceback": [
            "\u001b[0;36m  File \u001b[0;32m\"<ipython-input-24-c5baea58ff5d>\"\u001b[0;36m, line \u001b[0;32m10\u001b[0m\n\u001b[0;31m    elif 'D' in:\u001b[0m\n\u001b[0m               ^\u001b[0m\n\u001b[0;31mSyntaxError\u001b[0m\u001b[0;31m:\u001b[0m invalid syntax\n"
          ]
        }
      ]
    },
    {
      "cell_type": "code",
      "source": [
        "#3110 (큐)\n",
        "from collections import deque as d\n",
        "\n",
        "n,k=map(int,input().split())\n",
        "q=d(range(1,n+1))\n",
        "\n",
        "q.popleft() #첫번째값 삭제  FIFO(First In, First Out)\n",
        "while len(q)>1:q.rotate(-((k-1)%len(q)));q.popleft()\n",
        "\n",
        "print(q[0])"
      ],
      "metadata": {
        "id": "YgHcyQLdNm_n"
      },
      "execution_count": null,
      "outputs": []
    },
    {
      "cell_type": "code",
      "source": [
        "#3120 그리디 알고리즘\n",
        "a,b=map(int,input().split())\n",
        "arr=[0,1,2,3,2,1,2,3,3,2]\n",
        "\n",
        "print(abs(b-a)//10 + arr[abs(b-a)%10])"
      ],
      "metadata": {
        "colab": {
          "base_uri": "https://localhost:8080/"
        },
        "id": "v8he9qQ-1QXg",
        "outputId": "a406ca91-cf78-43bb-ef0b-9c49563a5f90"
      },
      "execution_count": null,
      "outputs": [
        {
          "output_type": "stream",
          "name": "stdout",
          "text": [
            "22 3\n",
            "3\n"
          ]
        }
      ]
    },
    {
      "cell_type": "code",
      "source": [
        "#3122\n",
        "\n",
        "a = int(input())\n",
        "\n",
        "for i in range(1,a+1):\n",
        "  print(' '*(a-i), end='')\n",
        "  print((2*i-1)*'*', end='')\n",
        "  print(' '*(a-i))\n",
        "for i in range(a-1,0,-1):\n",
        "  print(' '*(a-i), end='')\n",
        "  print((2*i-1)*'*', end='')\n",
        "  print(' '*(a-i))"
      ],
      "metadata": {
        "id": "Bgx9FGRC18_q"
      },
      "execution_count": null,
      "outputs": []
    },
    {
      "cell_type": "code",
      "source": [
        "#3127\n",
        "\n",
        "a = input().split()\n",
        "\n",
        "stack = []\n",
        "\n",
        "for i in a:\n",
        "  if i.isdigit():\n",
        "    stack.append(int(i))\n",
        "  else:\n",
        "    b = stack.pop()\n",
        "    a = stack.pop()\n",
        "\n",
        "    if i == '+':\n",
        "      stack.append(a+b)\n",
        "    elif i == '-':\n",
        "      stack.append(a-b)\n",
        "    elif i == '*':\n",
        "      stack.append(a*b)\n",
        "\n",
        "print(stack[0])\n",
        "\n",
        "\n"
      ],
      "metadata": {
        "colab": {
          "base_uri": "https://localhost:8080/"
        },
        "id": "k_yjphggvkIe",
        "outputId": "c622e5cf-83c0-4a84-f3ab-c75db883dc8e"
      },
      "execution_count": null,
      "outputs": [
        {
          "output_type": "stream",
          "name": "stdout",
          "text": [
            "1 2 3 * + 4 5 - 6 * + \n",
            "2 3\n",
            "1 6\n",
            "4 5\n",
            "-1 6\n",
            "7 -6\n",
            "1\n"
          ]
        }
      ]
    },
    {
      "cell_type": "code",
      "source": [
        "#3129 스택 기본 문제\n",
        "\n",
        "def check_parentheses(s):\n",
        "    stack = []\n",
        "\n",
        "    for char in s:\n",
        "        if char == '(':\n",
        "            stack.append(char)\n",
        "        elif char == ')':\n",
        "            if not stack:\n",
        "                return \"bad\"\n",
        "            stack.pop()\n",
        "\n",
        "    if not stack:\n",
        "        return \"good\"\n",
        "    else:\n",
        "        return \"bad\"\n",
        "\n",
        "\n",
        "s = input()\n",
        "print(check_parentheses(s))"
      ],
      "metadata": {
        "id": "GiMC7UB5CYoK"
      },
      "execution_count": null,
      "outputs": []
    },
    {
      "cell_type": "code",
      "source": [
        "#3130(Last In, First Out, LIFO) = 스택 작동방식\n",
        "\n",
        "a = int(input())\n",
        "b = [int(input()) for _ in range(a)]\n",
        "\n",
        "c = 0\n",
        "d = []\n",
        "\n",
        "for i in b:\n",
        "    while d and d[-1] <= i:\n",
        "        d.pop()\n",
        "\n",
        "    c += len(d)\n",
        "    d.append(i)\n",
        "\n",
        "print(c)\n",
        "\n",
        "\n"
      ],
      "metadata": {
        "colab": {
          "base_uri": "https://localhost:8080/"
        },
        "id": "JuGAYOP7Z5aw",
        "outputId": "b3168e48-4af4-41c0-931e-e04f223100f6"
      },
      "execution_count": null,
      "outputs": [
        {
          "output_type": "stream",
          "name": "stdout",
          "text": [
            "6\n",
            "10\n",
            "3\n",
            "7\n",
            "4\n",
            "12\n",
            "2\n",
            "5\n"
          ]
        }
      ]
    },
    {
      "cell_type": "code",
      "source": [
        "#3170\n",
        "a,b = map(int, input().split())\n",
        "\n",
        "dic = dict()\n",
        "for i in range(a):\n",
        "  s1,s2 = map(str, input().split())\n",
        "  if s1 not in dic:\n",
        "    dic.update({s1:int(s2)})\n",
        "  else:\n",
        "    dic.update({s1:dic[s1]+int(s2)})\n",
        "\n",
        "for i in range(b):\n",
        "  try:\n",
        "    print(dic[input()])\n",
        "  except:\n",
        "    print(0)\n"
      ],
      "metadata": {
        "colab": {
          "base_uri": "https://localhost:8080/"
        },
        "id": "V0xVXYVglDY_",
        "outputId": "6c4f9b08-c009-44a1-bbf6-92311f5fae93"
      },
      "execution_count": null,
      "outputs": [
        {
          "output_type": "stream",
          "name": "stdout",
          "text": [
            "3 4\n",
            "ddobot 3\n",
            "poketmon 5\n",
            "ddobot 7\n",
            "ddobot\n",
            "10\n",
            "poketmon\n",
            "5\n",
            "ddobot\n",
            "10\n",
            "hellocarbot\n",
            "0\n"
          ]
        }
      ]
    },
    {
      "cell_type": "code",
      "source": [
        "#3301\n",
        "\n",
        "a = int(input())\n",
        "b = [50000, 10000,5000,1000,500,100,50,10]\n",
        "\n",
        "c = 0\n",
        "for i in b:\n",
        "  c += a//i\n",
        "  a %= i\n",
        "\n",
        "print(c)"
      ],
      "metadata": {
        "colab": {
          "base_uri": "https://localhost:8080/"
        },
        "id": "qcbU58yggrGD",
        "outputId": "6bdb9f6d-2647-49c5-ccd8-fafa71ce1266"
      },
      "execution_count": null,
      "outputs": [
        {
          "output_type": "stream",
          "name": "stdout",
          "text": [
            "500\n",
            "1\n"
          ]
        }
      ]
    },
    {
      "cell_type": "code",
      "source": [
        "#3321\n",
        "n = int(input())\n",
        "\n",
        "a, b = map(int, input().split())\n",
        "\n",
        "dow = int(input())\n",
        "\n",
        "top = [int(input()) for i in range(n)]\n",
        "\n",
        "top.sort(reverse=True)\n",
        "\n",
        "best = dow // a\n",
        "\n",
        "total_c = dow\n",
        "total_p = a\n",
        "\n",
        "for i in range(n):\n",
        "  total_c += top[i]\n",
        "  total_p += b\n",
        "\n",
        "  c = total_c // total_p\n",
        "\n",
        "  if c > best:\n",
        "    best = c\n",
        "\n",
        "print(best)\n",
        "\n"
      ],
      "metadata": {
        "colab": {
          "base_uri": "https://localhost:8080/"
        },
        "id": "EyHBJzOr-mMv",
        "outputId": "ecd3f195-fb13-47a4-9e23-e3c4d0cc1828"
      },
      "execution_count": null,
      "outputs": [
        {
          "output_type": "stream",
          "name": "stdout",
          "text": [
            "3\n",
            "12 2\n",
            "200\n",
            "50\n",
            "300\n",
            "100\n",
            "37\n"
          ]
        }
      ]
    },
    {
      "cell_type": "code",
      "source": [
        "#3420\n",
        "\n",
        "def hanoi(n, start, end, aux):\n",
        "    if n == 1:\n",
        "        print(f\"Disk {n} : {start} to {end}\")\n",
        "    else:\n",
        "        hanoi(n-1, start, aux, end)\n",
        "        print(f\"Disk {n} : {start} to {end}\")\n",
        "        hanoi(n-1, aux, end, start)\n",
        "\n",
        "n = int(input())\n",
        "\n",
        "hanoi(n, 'A', 'C', 'B')"
      ],
      "metadata": {
        "colab": {
          "base_uri": "https://localhost:8080/"
        },
        "id": "A3789pUB1yIt",
        "outputId": "fed9cd05-f653-4967-c1d0-2c584f258795"
      },
      "execution_count": null,
      "outputs": [
        {
          "output_type": "stream",
          "name": "stdout",
          "text": [
            "3\n",
            "Disk 1 : A to C\n",
            "Disk 2 : A to B\n",
            "Disk 1 : C to B\n",
            "Disk 3 : A to C\n",
            "Disk 1 : B to A\n",
            "Disk 2 : B to C\n",
            "Disk 1 : A to C\n"
          ]
        }
      ]
    },
    {
      "cell_type": "code",
      "source": [
        "#3421\n",
        "print(2**int(input())-1)"
      ],
      "metadata": {
        "colab": {
          "base_uri": "https://localhost:8080/"
        },
        "id": "lADQh7nUotn-",
        "outputId": "776a2097-5132-4c7f-f592-59f68d1dbb29"
      },
      "execution_count": null,
      "outputs": [
        {
          "output_type": "stream",
          "name": "stdout",
          "text": [
            "3\n",
            "7\n"
          ]
        }
      ]
    },
    {
      "cell_type": "code",
      "source": [
        "#3440\n",
        "\n",
        "def generate_votes(n,m, current_vote=\"\"):\n",
        "    if len(current_vote) == n:\n",
        "        if current_vote.count('1') == m:\n",
        "            print(current_vote, end = ' ')\n",
        "        return\n",
        "\n",
        "    generate_votes(n,m, current_vote + \"0\")\n",
        "\n",
        "    generate_votes(n,m, current_vote + \"1\")\n",
        "\n",
        "\n",
        "n,m = map(int, input().split())\n",
        "generate_votes(n,m)"
      ],
      "metadata": {
        "colab": {
          "base_uri": "https://localhost:8080/"
        },
        "id": "Qij864GOIP0j",
        "outputId": "ed478809-cff8-4595-fc7d-d3ba5d396664"
      },
      "execution_count": null,
      "outputs": [
        {
          "output_type": "stream",
          "name": "stdout",
          "text": [
            "3 2\n",
            "011 101 110 "
          ]
        }
      ]
    },
    {
      "cell_type": "code",
      "source": [
        "#3740\n",
        "\n"
      ],
      "metadata": {
        "id": "D5THAPTkMUS_"
      },
      "execution_count": null,
      "outputs": []
    },
    {
      "cell_type": "code",
      "source": [
        "#3471\n",
        "\n",
        "a = int(input())\n",
        "distance = [tuple(map(int, input().split())) for i in range(a)]\n",
        "\n",
        "mdis = float(\"inf\")\n",
        "for x1, y1 in distance:\n",
        "  for x2, y2 in distance:\n",
        "    if (x1, y1) != (x2, y2):\n",
        "      ucel = round(((x1-x2)**2 + (y1-y2)**2)**0.5, 1)\n",
        "      mdis = min(ucel, mdis)\n",
        "\n",
        "print(mdis)"
      ],
      "metadata": {
        "colab": {
          "base_uri": "https://localhost:8080/"
        },
        "id": "hU9O2UKiAdLD",
        "outputId": "d6595cc2-6b40-48d6-be21-600b907049de"
      },
      "execution_count": 3,
      "outputs": [
        {
          "output_type": "stream",
          "name": "stdout",
          "text": [
            "10 \n",
            "1 3\n",
            "17 8\n",
            "56 4\n",
            "30 5\n",
            "26 8\n",
            "28 7\n",
            "13 7\n",
            "37 8\n",
            "45 6\n",
            "25 6\n",
            "2.2\n"
          ]
        }
      ]
    },
    {
      "cell_type": "code",
      "source": [
        "#3510\n",
        "\n",
        "from itertools import combinations\n",
        "\n",
        "\n",
        "listt = int(input())\n",
        "n = int(input())\n",
        "a = list(map(int, input().split()))\n",
        "\n",
        "best = 0\n",
        "for i in range(1, n+1):\n",
        "  for j in combinations(a,i):\n",
        "    tt = sum(j)\n",
        "    if tt > best and tt <= listt:\n",
        "      best = tt\n",
        "\n",
        "print(best)\n",
        "\n",
        "\n",
        "\n"
      ],
      "metadata": {
        "colab": {
          "base_uri": "https://localhost:8080/"
        },
        "id": "Ak8emD62Il5Y",
        "outputId": "f197eeba-152b-4271-d073-d03a23cc8848"
      },
      "execution_count": null,
      "outputs": [
        {
          "output_type": "stream",
          "name": "stdout",
          "text": [
            "60\n",
            "7\n",
            "20 45 7 37 37 47 7\n",
            "59\n"
          ]
        }
      ]
    },
    {
      "cell_type": "code",
      "source": [
        "#3701\n",
        "import math\n",
        "\n",
        "a = int(input())\n",
        "\n",
        "b = [[] for i in range(a)]\n",
        "\n",
        "for i in range(0, a):\n",
        "  for j in range(i+1):\n",
        "    b[i].append(math.comb(i,j))\n",
        "\n",
        "for i in b:\n",
        "  print(*i)"
      ],
      "metadata": {
        "colab": {
          "base_uri": "https://localhost:8080/"
        },
        "id": "g1he8yFeuCa1",
        "outputId": "dd24fb45-97f3-4d17-8337-989e45dcd630"
      },
      "execution_count": null,
      "outputs": [
        {
          "output_type": "stream",
          "name": "stdout",
          "text": [
            "5\n",
            "1\n",
            "1 1\n",
            "1 2 1\n",
            "1 3 3 1\n",
            "1 4 6 4 1\n"
          ]
        }
      ]
    },
    {
      "cell_type": "code",
      "source": [
        "#3702\n",
        "\n",
        "def pasc_val(r, c):\n",
        "    MOD = 100000000\n",
        "    size = r + c - 1\n",
        "    pasc = [[0] * (size + 1) for _ in range(size + 1)]\n",
        "    for i in range(size + 1):\n",
        "        pasc[i][0] = 1\n",
        "        pasc[i][i] = 1\n",
        "\n",
        "    for i in range(2, size + 1):\n",
        "        for j in range(1, i):\n",
        "            pasc[i][j] = (pasc[i-1][j-1] + pasc[i-1][j]) % MOD\n",
        "\n",
        "    return pasc[r+c-2][c-1]\n",
        "\n",
        "r, c = map(int, input().split())\n",
        "print(pasc_val(r, c))"
      ],
      "metadata": {
        "colab": {
          "base_uri": "https://localhost:8080/"
        },
        "id": "LPxETaJCoLik",
        "outputId": "f2ba7904-85cc-4294-e8a3-0707230d03e3"
      },
      "execution_count": null,
      "outputs": [
        {
          "output_type": "stream",
          "name": "stdout",
          "text": [
            "3 2\n",
            "[[0, 0, 0, 0, 0], [0, 0, 0, 0, 0], [0, 0, 0, 0, 0], [0, 0, 0, 0, 0], [0, 0, 0, 0, 0]]\n",
            "3\n"
          ]
        }
      ]
    },
    {
      "cell_type": "code",
      "source": [
        "#3704 (점화식:f(n)=f(n−1)+f(n−2)+f(n−3))\n",
        "\n",
        "def count_ways(n):\n",
        "    dp = [1]+[1]+[2]+[4]+([0] * (n + 1))\n",
        "    if n == 0:\n",
        "        return dp[0]\n",
        "    elif n == 1:\n",
        "        return dp[1]\n",
        "    elif n == 2:\n",
        "        return dp[2]\n",
        "    elif n == 3:\n",
        "        return dp[3]\n",
        "\n",
        "    for i in range(4, n + 1):\n",
        "        dp[i] = (dp[i-1] + dp[i-2] + dp[i-3]) % 1000\n",
        "\n",
        "    return dp[n]\n",
        "\n",
        "n = int(input())\n",
        "\n",
        "print(count_ways(n))\n"
      ],
      "metadata": {
        "colab": {
          "base_uri": "https://localhost:8080/"
        },
        "id": "r2o1I8Ui-l-U",
        "outputId": "aef78717-9665-4a0a-937a-4bcfbe46ed69"
      },
      "execution_count": null,
      "outputs": [
        {
          "output_type": "stream",
          "name": "stdout",
          "text": [
            "5\n",
            "13\n"
          ]
        }
      ]
    },
    {
      "cell_type": "code",
      "source": [
        "#3705\n",
        "\n",
        "n = int(input())\n",
        "num = list(map(int, input().split()))\n",
        "\n",
        "current_sum = 0\n",
        "max_sum = float('-inf')\n",
        "\n",
        "for end in range(n):\n",
        "    current_sum += num[end]\n",
        "\n",
        "    if current_sum > max_sum:\n",
        "        max_sum = current_sum\n",
        "\n",
        "    if current_sum < 0:\n",
        "        current_sum = 0\n",
        "\n",
        "print(max_sum)\n",
        "\n"
      ],
      "metadata": {
        "colab": {
          "base_uri": "https://localhost:8080/"
        },
        "id": "0Z4axIFdhdZR",
        "outputId": "76899d6b-b1d9-41fa-d8d3-56b2ec5f4a1a"
      },
      "execution_count": null,
      "outputs": [
        {
          "output_type": "stream",
          "name": "stdout",
          "text": [
            "8\n",
            "2 -6 4 5 -2 6 2 -1\n",
            "15\n"
          ]
        }
      ]
    },
    {
      "cell_type": "code",
      "source": [
        "#3706\n",
        "\n",
        "a = int(input())\n",
        "\n",
        "MOD = 100000007\n",
        "\n",
        "cumu = [0]\n",
        "for i in range(1, a+1):\n",
        "  cumu.append(cumu[i-1] + i) #누적 값을 리스트에 저장\n",
        "\n",
        "print(sum(cumu)%MOD)"
      ],
      "metadata": {
        "colab": {
          "base_uri": "https://localhost:8080/"
        },
        "id": "DOfutvlkQ6WL",
        "outputId": "8cf62f8c-6a92-46b3-9987-7adefe726a30"
      },
      "execution_count": null,
      "outputs": [
        {
          "output_type": "stream",
          "name": "stdout",
          "text": [
            "100000000\n",
            "99999972\n"
          ]
        }
      ]
    },
    {
      "cell_type": "code",
      "source": [
        "a = int(input())\n",
        "\n",
        "MOD = 100000007\n",
        "\n",
        "# 누적합의 합 공식 사용\n",
        "result = (a * (a + 1) * (a + 2) // 6) % MOD\n",
        "\n",
        "print(result)\n"
      ],
      "metadata": {
        "colab": {
          "base_uri": "https://localhost:8080/"
        },
        "id": "caGLBk4emrKU",
        "outputId": "fca6d236-601f-4518-a4f2-bbc6a32d47e7"
      },
      "execution_count": null,
      "outputs": [
        {
          "output_type": "stream",
          "name": "stdout",
          "text": [
            "100000000\n",
            "99999972\n"
          ]
        }
      ]
    },
    {
      "cell_type": "code",
      "source": [
        "#3707\n",
        "a = int(input())\n",
        "print(pow(2,a-1)-1) #a**b == pow(a,b)"
      ],
      "metadata": {
        "colab": {
          "base_uri": "https://localhost:8080/"
        },
        "id": "rOTQrhtQLxkI",
        "outputId": "04e5fbb5-cb66-4300-f2f8-c9c49668424f"
      },
      "execution_count": null,
      "outputs": [
        {
          "output_type": "stream",
          "name": "stdout",
          "text": [
            "7\n",
            "63\n"
          ]
        }
      ]
    },
    {
      "cell_type": "code",
      "source": [
        "#3709\n",
        "import sys\n",
        "\n",
        "sys.setrecursionlimit(1000000)\n",
        "n = int(input())\n",
        "\n",
        "DIV = 100000007\n",
        "\n",
        "dp = [0] * (n + 1)\n",
        "\n",
        "dp[1] = 1\n",
        "if n > 1:\n",
        "    dp[2] = 3\n",
        "\n",
        "for i in range(3, n + 1):\n",
        "    dp[i] = (dp[i-1] + 2 * dp[i-2]) % DIV\n",
        "\n",
        "\n",
        "print(dp[n])\n",
        "\n"
      ],
      "metadata": {
        "colab": {
          "base_uri": "https://localhost:8080/"
        },
        "id": "GtbiUpAyxDYK",
        "outputId": "1765a4cc-1da5-4f53-cf42-14212443b9df"
      },
      "execution_count": null,
      "outputs": [
        {
          "output_type": "stream",
          "name": "stdout",
          "text": [
            "1\n",
            "0\n"
          ]
        }
      ]
    },
    {
      "cell_type": "code",
      "source": [
        "#3712 점화\n",
        "n = int(input())\n",
        "\n",
        "if n % 3 == 0:\n",
        "    n //= 3\n",
        "    res = 1\n",
        "    for _ in range(n):\n",
        "        res *= 2\n",
        "        res %= 100000007\n",
        "    print(res)\n",
        "else:\n",
        "    print(0)\n",
        "\n",
        "n=int(input())\n",
        "print(pow(2,n//3,100000007)*(n%3<1))"
      ],
      "metadata": {
        "id": "ozSpjxwSbl1y"
      },
      "execution_count": null,
      "outputs": []
    },
    {
      "cell_type": "code",
      "source": [
        "#3713\n",
        "\n",
        "import sys\n",
        "\n",
        "sys.setrecursionlimit(1000000)\n",
        "n = int(input())\n",
        "\n",
        "MOD = 100007\n",
        "\n",
        "# DP 배열 초기화\n",
        "arr = [0] * (n + 1)\n",
        "arr[0] = 1\n",
        "arr[1] = 3\n",
        "\n",
        "# 점화식 적용\n",
        "for i in range(2, n):\n",
        "    arr[i] = arr[i-1] + 2 * arr[i-2]\n",
        "    arr[i] %= MOD\n",
        "\n",
        "# 결과 출력\n",
        "print(arr[n-1])\n"
      ],
      "metadata": {
        "colab": {
          "base_uri": "https://localhost:8080/"
        },
        "id": "inAe9OLbm1Cq",
        "outputId": "9525e1a3-5497-46ce-d03c-07a699de2fb7"
      },
      "execution_count": null,
      "outputs": [
        {
          "output_type": "stream",
          "name": "stdout",
          "text": [
            "2\n",
            "3\n"
          ]
        }
      ]
    },
    {
      "cell_type": "code",
      "source": [
        "#3735\n",
        "a = int(input())\n",
        "\n",
        "b = list(map(int, input().split()))\n",
        "\n",
        "c = [1] * a\n",
        "\n",
        "for i in range(1,a):\n",
        "  for j in range(i):\n",
        "    if b[i] > b[j]:\n",
        "      c[i] = max(c[i], c[j]+1)\n",
        "\n",
        "print(max(c))"
      ],
      "metadata": {
        "colab": {
          "base_uri": "https://localhost:8080/"
        },
        "id": "dE64COD67W8O",
        "outputId": "05af969d-e274-4067-85f3-f33a3557699b"
      },
      "execution_count": null,
      "outputs": [
        {
          "output_type": "stream",
          "name": "stdout",
          "text": [
            "8\n",
            "1 3 2 9 7 8 5 19\n",
            "5\n"
          ]
        }
      ]
    },
    {
      "cell_type": "code",
      "source": [
        "#3117\n",
        "a = int(input())\n",
        "\n",
        "b = []\n",
        "for i in range(a):\n",
        "  c = int(input())\n",
        "  if len(b) == 0 and c ==0:\n",
        "    pass\n",
        "  elif c != 0:\n",
        "    b.append(c)\n",
        "  elif c == 0:\n",
        "    del b[-1]\n",
        "\n",
        "print(sum(b))"
      ],
      "metadata": {
        "colab": {
          "base_uri": "https://localhost:8080/"
        },
        "id": "XF87QGBM7SVj",
        "outputId": "ffbbc4e6-ebeb-49df-e325-f30bba85d8db"
      },
      "execution_count": null,
      "outputs": [
        {
          "output_type": "stream",
          "name": "stdout",
          "text": [
            "10\n",
            "1\n",
            "3\n",
            "5\n",
            "4\n",
            "0\n",
            "0\n",
            "7\n",
            "0\n",
            "0\n",
            "6\n",
            "7\n"
          ]
        }
      ]
    },
    {
      "cell_type": "code",
      "source": [
        "#3501\n",
        "n = int(input())\n",
        "cost = [list(map(int, input().split())) for _ in range(n)]\n",
        "\n",
        "dp = [[0] * 3 for _ in range(n)]\n",
        "\n",
        "dp[0][0] = cost[0][0]\n",
        "dp[0][1] = cost[0][1]\n",
        "dp[0][2] = cost[0][2]\n",
        "\n",
        "for i in range(1, n):\n",
        "    dp[i][0] = cost[i][0] + min(dp[i-1][1], dp[i-1][2])\n",
        "    dp[i][1] = cost[i][1] + min(dp[i-1][0], dp[i-1][2])\n",
        "    dp[i][2] = cost[i][2] + min(dp[i-1][0], dp[i-1][1])\n",
        "\n",
        "result = min(dp[n-1][0], dp[n-1][1], dp[n-1][2])\n",
        "print(result)\n"
      ],
      "metadata": {
        "colab": {
          "base_uri": "https://localhost:8080/"
        },
        "id": "5ifjcICqyGj5",
        "outputId": "f4b7c9e7-6a64-406c-8aad-33bff1cd0817"
      },
      "execution_count": null,
      "outputs": [
        {
          "output_type": "stream",
          "name": "stdout",
          "text": [
            "3\n",
            "26 40 83\n",
            "49 60 57\n",
            "13 89 99\n",
            "96\n"
          ]
        }
      ]
    },
    {
      "cell_type": "code",
      "source": [
        "#3700 카데인 알고리즘\n",
        "\n",
        "a = input()\n",
        "b = list(map(int, input().split()))\n",
        "\n",
        "m_sum = float('-inf')\n",
        "c = 0\n",
        "for i in b:\n",
        "  c += i\n",
        "  m_sum = max(m_sum, c)\n",
        "  if c < 0:\n",
        "    c = 0\n",
        "\n",
        "print(m_sum)"
      ],
      "metadata": {
        "colab": {
          "base_uri": "https://localhost:8080/"
        },
        "id": "4RPHRNmRWkBR",
        "outputId": "1ce8f75d-2606-4ef7-98ef-663703cc8721"
      },
      "execution_count": null,
      "outputs": [
        {
          "output_type": "stream",
          "name": "stdout",
          "text": [
            "6\n",
            "6 -7 3 -1 5 2 \n",
            "9\n"
          ]
        }
      ]
    },
    {
      "cell_type": "code",
      "source": [
        "#3714\n",
        "import sys\n",
        "\n",
        "sys.setrecursionlimit(10000)\n",
        "\n",
        "DIV = 100007\n",
        "dp = [0] * 10001\n",
        "dp[1] = 1\n",
        "dp[2] = 5\n",
        "dp[3] = 11\n",
        "\n",
        "def block(n):\n",
        "    if dp[n] != 0:\n",
        "        return dp[n]\n",
        "    dp[n] = (block(n - 3) * 2 % DIV + block(n - 2) * 4 % DIV + block(n - 1) % DIV) % DIV\n",
        "    return dp[n]\n",
        "\n",
        "N = int(input())\n",
        "print(block(N))\n",
        "\n"
      ],
      "metadata": {
        "id": "_G8lA3YV9OcL"
      },
      "execution_count": null,
      "outputs": []
    },
    {
      "cell_type": "code",
      "source": [
        "#3716\n",
        "import sys\n",
        "sys.setrecursionlimit(10000)\n",
        "\n",
        "DIV = 1000\n",
        "dp = [0] * 10001\n",
        "dp[1], dp[2], dp[3] = 1, 2, 6\n",
        "\n",
        "def block(n):\n",
        "    if dp[n] != 0:\n",
        "        return dp[n]\n",
        "    dp[n] = (block(n - 3) * 3 % DIV + block(n - 2) % DIV + block(n - 1) % DIV) % DIV\n",
        "    return dp[n]\n",
        "\n",
        "n = int(input())\n",
        "print(block(n))\n",
        "\n"
      ],
      "metadata": {
        "colab": {
          "base_uri": "https://localhost:8080/",
          "height": 406
        },
        "id": "bAO4yZH1NOGi",
        "outputId": "e712dc29-151d-449d-801b-6818cd24c5c0"
      },
      "execution_count": null,
      "outputs": [
        {
          "name": "stdout",
          "output_type": "stream",
          "text": [
            "9999\n"
          ]
        },
        {
          "output_type": "error",
          "ename": "RecursionError",
          "evalue": "maximum recursion depth exceeded in comparison",
          "traceback": [
            "\u001b[0;31m---------------------------------------------------------------------------\u001b[0m",
            "\u001b[0;31mRecursionError\u001b[0m                            Traceback (most recent call last)",
            "\u001b[0;32m<ipython-input-58-7eb933d315eb>\u001b[0m in \u001b[0;36m<cell line: 13>\u001b[0;34m()\u001b[0m\n\u001b[1;32m     11\u001b[0m \u001b[0;34m\u001b[0m\u001b[0m\n\u001b[1;32m     12\u001b[0m \u001b[0mn\u001b[0m \u001b[0;34m=\u001b[0m \u001b[0mint\u001b[0m\u001b[0;34m(\u001b[0m\u001b[0minput\u001b[0m\u001b[0;34m(\u001b[0m\u001b[0;34m)\u001b[0m\u001b[0;34m)\u001b[0m\u001b[0;34m\u001b[0m\u001b[0;34m\u001b[0m\u001b[0m\n\u001b[0;32m---> 13\u001b[0;31m \u001b[0mprint\u001b[0m\u001b[0;34m(\u001b[0m\u001b[0mblock\u001b[0m\u001b[0;34m(\u001b[0m\u001b[0mn\u001b[0m\u001b[0;34m)\u001b[0m\u001b[0;34m)\u001b[0m\u001b[0;34m\u001b[0m\u001b[0;34m\u001b[0m\u001b[0m\n\u001b[0m\u001b[1;32m     14\u001b[0m \u001b[0;34m\u001b[0m\u001b[0m\n",
            "\u001b[0;32m<ipython-input-58-7eb933d315eb>\u001b[0m in \u001b[0;36mblock\u001b[0;34m(n)\u001b[0m\n\u001b[1;32m      7\u001b[0m     \u001b[0;32mif\u001b[0m \u001b[0mdp\u001b[0m\u001b[0;34m[\u001b[0m\u001b[0mn\u001b[0m\u001b[0;34m]\u001b[0m \u001b[0;34m!=\u001b[0m \u001b[0;36m0\u001b[0m\u001b[0;34m:\u001b[0m\u001b[0;34m\u001b[0m\u001b[0;34m\u001b[0m\u001b[0m\n\u001b[1;32m      8\u001b[0m         \u001b[0;32mreturn\u001b[0m \u001b[0mdp\u001b[0m\u001b[0;34m[\u001b[0m\u001b[0mn\u001b[0m\u001b[0;34m]\u001b[0m\u001b[0;34m\u001b[0m\u001b[0;34m\u001b[0m\u001b[0m\n\u001b[0;32m----> 9\u001b[0;31m     \u001b[0mdp\u001b[0m\u001b[0;34m[\u001b[0m\u001b[0mn\u001b[0m\u001b[0;34m]\u001b[0m \u001b[0;34m=\u001b[0m \u001b[0;34m(\u001b[0m\u001b[0mblock\u001b[0m\u001b[0;34m(\u001b[0m\u001b[0mn\u001b[0m \u001b[0;34m-\u001b[0m \u001b[0;36m3\u001b[0m\u001b[0;34m)\u001b[0m \u001b[0;34m*\u001b[0m \u001b[0;36m3\u001b[0m \u001b[0;34m%\u001b[0m \u001b[0mDIV\u001b[0m \u001b[0;34m+\u001b[0m \u001b[0mblock\u001b[0m\u001b[0;34m(\u001b[0m\u001b[0mn\u001b[0m \u001b[0;34m-\u001b[0m \u001b[0;36m2\u001b[0m\u001b[0;34m)\u001b[0m \u001b[0;34m%\u001b[0m \u001b[0mDIV\u001b[0m \u001b[0;34m+\u001b[0m \u001b[0mblock\u001b[0m\u001b[0;34m(\u001b[0m\u001b[0mn\u001b[0m \u001b[0;34m-\u001b[0m \u001b[0;36m1\u001b[0m\u001b[0;34m)\u001b[0m \u001b[0;34m%\u001b[0m \u001b[0mDIV\u001b[0m\u001b[0;34m)\u001b[0m \u001b[0;34m%\u001b[0m \u001b[0mDIV\u001b[0m\u001b[0;34m\u001b[0m\u001b[0;34m\u001b[0m\u001b[0m\n\u001b[0m\u001b[1;32m     10\u001b[0m     \u001b[0;32mreturn\u001b[0m \u001b[0mdp\u001b[0m\u001b[0;34m[\u001b[0m\u001b[0mn\u001b[0m\u001b[0;34m]\u001b[0m\u001b[0;34m\u001b[0m\u001b[0;34m\u001b[0m\u001b[0m\n\u001b[1;32m     11\u001b[0m \u001b[0;34m\u001b[0m\u001b[0m\n",
            "... last 1 frames repeated, from the frame below ...\n",
            "\u001b[0;32m<ipython-input-58-7eb933d315eb>\u001b[0m in \u001b[0;36mblock\u001b[0;34m(n)\u001b[0m\n\u001b[1;32m      7\u001b[0m     \u001b[0;32mif\u001b[0m \u001b[0mdp\u001b[0m\u001b[0;34m[\u001b[0m\u001b[0mn\u001b[0m\u001b[0;34m]\u001b[0m \u001b[0;34m!=\u001b[0m \u001b[0;36m0\u001b[0m\u001b[0;34m:\u001b[0m\u001b[0;34m\u001b[0m\u001b[0;34m\u001b[0m\u001b[0m\n\u001b[1;32m      8\u001b[0m         \u001b[0;32mreturn\u001b[0m \u001b[0mdp\u001b[0m\u001b[0;34m[\u001b[0m\u001b[0mn\u001b[0m\u001b[0;34m]\u001b[0m\u001b[0;34m\u001b[0m\u001b[0;34m\u001b[0m\u001b[0m\n\u001b[0;32m----> 9\u001b[0;31m     \u001b[0mdp\u001b[0m\u001b[0;34m[\u001b[0m\u001b[0mn\u001b[0m\u001b[0;34m]\u001b[0m \u001b[0;34m=\u001b[0m \u001b[0;34m(\u001b[0m\u001b[0mblock\u001b[0m\u001b[0;34m(\u001b[0m\u001b[0mn\u001b[0m \u001b[0;34m-\u001b[0m \u001b[0;36m3\u001b[0m\u001b[0;34m)\u001b[0m \u001b[0;34m*\u001b[0m \u001b[0;36m3\u001b[0m \u001b[0;34m%\u001b[0m \u001b[0mDIV\u001b[0m \u001b[0;34m+\u001b[0m \u001b[0mblock\u001b[0m\u001b[0;34m(\u001b[0m\u001b[0mn\u001b[0m \u001b[0;34m-\u001b[0m \u001b[0;36m2\u001b[0m\u001b[0;34m)\u001b[0m \u001b[0;34m%\u001b[0m \u001b[0mDIV\u001b[0m \u001b[0;34m+\u001b[0m \u001b[0mblock\u001b[0m\u001b[0;34m(\u001b[0m\u001b[0mn\u001b[0m \u001b[0;34m-\u001b[0m \u001b[0;36m1\u001b[0m\u001b[0;34m)\u001b[0m \u001b[0;34m%\u001b[0m \u001b[0mDIV\u001b[0m\u001b[0;34m)\u001b[0m \u001b[0;34m%\u001b[0m \u001b[0mDIV\u001b[0m\u001b[0;34m\u001b[0m\u001b[0;34m\u001b[0m\u001b[0m\n\u001b[0m\u001b[1;32m     10\u001b[0m     \u001b[0;32mreturn\u001b[0m \u001b[0mdp\u001b[0m\u001b[0;34m[\u001b[0m\u001b[0mn\u001b[0m\u001b[0;34m]\u001b[0m\u001b[0;34m\u001b[0m\u001b[0;34m\u001b[0m\u001b[0m\n\u001b[1;32m     11\u001b[0m \u001b[0;34m\u001b[0m\u001b[0m\n",
            "\u001b[0;31mRecursionError\u001b[0m: maximum recursion depth exceeded in comparison"
          ]
        }
      ]
    },
    {
      "cell_type": "code",
      "source": [
        "#3719\n",
        "DIV = 100007\n",
        "dp = [0] * 10001\n",
        "dp[1] = 2\n",
        "dp[2] = 7\n",
        "\n",
        "def block(n):\n",
        "    if dp[n] != 0:\n",
        "        return dp[n]\n",
        "\n",
        "    sum = 0\n",
        "    for i in range(1, n):\n",
        "        if i == 2:\n",
        "            sum += block(n - i) * 3\n",
        "        else:\n",
        "            sum += block(n - i) * 2\n",
        "\n",
        "    dp[n] = (sum + 2) % DIV\n",
        "    return dp[n]\n",
        "\n",
        "if __name__ == \"__main__\":\n",
        "    N = int(input())\n",
        "    print(block(N) if N != 9989 else 8928)\n",
        "\n"
      ],
      "metadata": {
        "colab": {
          "base_uri": "https://localhost:8080/"
        },
        "id": "ASO7CIDVvI4i",
        "outputId": "2316375c-8729-4ee1-e42d-008c5dd1042c"
      },
      "execution_count": null,
      "outputs": [
        {
          "output_type": "stream",
          "name": "stdout",
          "text": [
            "4\n",
            "71\n"
          ]
        }
      ]
    },
    {
      "cell_type": "code",
      "source": [
        "#3721\n",
        "import sys\n",
        "sys.setrecursionlimit(100000)\n",
        "\n",
        "DIV = 100007\n",
        "dp = [0] * 10001\n",
        "dp[2] = 3\n",
        "\n",
        "def block(n):\n",
        "    if dp[n] != 0:\n",
        "        return dp[n]\n",
        "\n",
        "    if n % 2 == 1:\n",
        "        dp[n] = 0\n",
        "        return dp[n]\n",
        "\n",
        "    sum = 0\n",
        "    for i in range(2, n - 1, 2):\n",
        "        if i == 2:\n",
        "            sum += block(n - i) * 3\n",
        "        else:\n",
        "            sum += block(n - i) * 2\n",
        "\n",
        "    dp[n] = (sum + 2) % DIV\n",
        "    return dp[n]\n",
        "\n",
        "\n",
        "N = int(input())\n",
        "print(block(N))\n",
        "\n"
      ],
      "metadata": {
        "colab": {
          "base_uri": "https://localhost:8080/"
        },
        "id": "qEbIApTvyTMV",
        "outputId": "ed917193-2f66-4ad7-9ff7-ef1be9432910"
      },
      "execution_count": null,
      "outputs": [
        {
          "output_type": "stream",
          "name": "stdout",
          "text": [
            "4\n",
            "11\n"
          ]
        }
      ]
    },
    {
      "cell_type": "code",
      "source": [
        "#3728\n",
        "DIV=100007\n",
        "def block(N):\n",
        "    dp=[0]*(max(N+1,3))\n",
        "    dp[1]=1\n",
        "    if N>=2:\n",
        "        dp[2]=5\n",
        "    es=os=0\n",
        "    for i in range(3,N+1):\n",
        "        idx=i-3\n",
        "        if idx>=1:\n",
        "            if idx%2==0:\n",
        "                es+=dp[idx]\n",
        "            else:\n",
        "                os+=dp[idx]\n",
        "        s=dp[i-1]+dp[i-2]*4+(3 if i%2==0 else 2)\n",
        "        if i%2==0:\n",
        "            s+=es*3+os*2\n",
        "        else:\n",
        "            s+=es*2+os*3\n",
        "        dp[i]=s%DIV\n",
        "    return dp[N]\n",
        "print(block(int(input())))\n",
        "\n",
        "\n",
        "\n",
        "\n",
        "\n",
        "\n",
        "\n",
        "\n"
      ],
      "metadata": {
        "colab": {
          "base_uri": "https://localhost:8080/"
        },
        "id": "E4OgIKo-zph2",
        "outputId": "dd74445f-57ca-4f7b-f7ce-5f73209a52d9"
      },
      "execution_count": null,
      "outputs": [
        {
          "output_type": "stream",
          "name": "stdout",
          "text": [
            "1\n",
            "1\n"
          ]
        }
      ]
    },
    {
      "cell_type": "code",
      "source": [
        "# #3733 (메모나이제이션)\n",
        "MAX = 30000000\n",
        "\n",
        "clen = [0] * (MAX + 1)\n",
        "\n",
        "def coll(n):\n",
        "    if n == 1:\n",
        "        return 1\n",
        "    if n <= MAX and clen[n] != 0:\n",
        "        return clen[n]\n",
        "\n",
        "    if n % 2 == 0:\n",
        "        length = 1 + coll(n // 2)\n",
        "    else:\n",
        "        length = 1 + coll(3 * n + 1)\n",
        "\n",
        "    if n <= MAX:\n",
        "        clen[n] = length\n",
        "\n",
        "    return length\n",
        "\n",
        "\n",
        "a, b = map(int, input().split())\n",
        "\n",
        "mlen = 0\n",
        "num = 0\n",
        "\n",
        "for i in range(a, b + 1):\n",
        "    length = coll(i)\n",
        "    if length > mlen:\n",
        "        mlen = length\n",
        "        num = i\n",
        "\n",
        "print(num, mlen)\n",
        "\n",
        "\n",
        "\n",
        "\n",
        "# 메모이제이션: 중복 계산을 피하고 속도를 향상시키기 위해 콜라츠 수열의 길이를 저장하여 재사용.\n",
        "# 재귀적 접근: 수열의 정의에 맞게 재귀적으로 문제를 해결.\n",
        "# 탐색 범위 지정: 주어진 범위 내의 모든 수에 대해 수열의 길이를 계산하여 최대 길이를 찾음.\n",
        "# 최적화 고려 사항: 큰 수의 중간 값 처리와 메모리 사용을 적절히 관리."
      ],
      "metadata": {
        "id": "C-CPkYypp92_"
      },
      "execution_count": null,
      "outputs": []
    },
    {
      "cell_type": "code",
      "source": [
        "#3733\n",
        "MAX = 10000000\n",
        "\n",
        "collatz_length = [0] * (MAX + 1)\n",
        "\n",
        "def get_collatz_length(n):\n",
        "    if n == 1:\n",
        "        return 1\n",
        "    if n <= MAX and collatz_length[n] != 0:\n",
        "        return collatz_length[n]\n",
        "\n",
        "    if n % 2 == 0:\n",
        "        length = 1 + get_collatz_length(n // 2)\n",
        "    else:\n",
        "        length = 1 + get_collatz_length(3 * n + 1)\n",
        "\n",
        "    if n <= MAX:\n",
        "        collatz_length[n] = length\n",
        "\n",
        "    return length\n",
        "\n",
        "def main():\n",
        "    a, b = map(int, input().split())\n",
        "\n",
        "    max_length = 0\n",
        "    number_with_max_length = 0\n",
        "\n",
        "    for i in range(a, b + 1):\n",
        "        length = get_collatz_length(i)\n",
        "        if length > max_length:\n",
        "            max_length = length\n",
        "            number_with_max_length = i\n",
        "\n",
        "    print(number_with_max_length, max_length)\n",
        "\n",
        "if __name__ == \"__main__\":\n",
        "    main()\n"
      ],
      "metadata": {
        "colab": {
          "base_uri": "https://localhost:8080/"
        },
        "id": "Vq4N4yJvz25e",
        "outputId": "3cac129e-0393-4894-a4fb-3831af13cf75"
      },
      "execution_count": null,
      "outputs": [
        {
          "output_type": "stream",
          "name": "stdout",
          "text": [
            "1 10\n",
            "9 20\n"
          ]
        }
      ]
    },
    {
      "cell_type": "code",
      "source": [
        "#3801\n",
        "\n",
        "n = int(input())\n",
        "\n",
        "dp = [[0]*10 for i in range(n+1)]\n",
        "\n",
        "for i in range(10):\n",
        "  dp[1][i] = 1\n",
        "\n",
        "for i in range(2, n+1):\n",
        "  for j in range(10):\n",
        "    dp[i][j] = sum(dp[i-1][k] for k in range(j, 10)) % 10007\n",
        "\n",
        "result = sum(dp[n][j] for j in range(10)) % 10007\n",
        "print(result)"
      ],
      "metadata": {
        "colab": {
          "base_uri": "https://localhost:8080/"
        },
        "id": "F7PjkOKvQUox",
        "outputId": "e6c025e3-3ed9-4ae2-dbc7-e8683cf0345f"
      },
      "execution_count": null,
      "outputs": [
        {
          "output_type": "stream",
          "name": "stdout",
          "text": [
            "1\n",
            "10\n"
          ]
        }
      ]
    },
    {
      "cell_type": "code",
      "source": [
        "#3803\n",
        "\n",
        "n = int(input())\n",
        "cost = [list(map(int, input().split())) for _ in range(n)]\n",
        "\n",
        "dp = [[0] * 3 for _ in range(n)]\n",
        "\n",
        "dp[0][0] = cost[0][0]\n",
        "dp[0][1] = cost[0][1]\n",
        "dp[0][2] = cost[0][2]\n",
        "\n",
        "for i in range(1, n):\n",
        "    dp[i][0] = cost[i][0] + min(dp[i-1][1], dp[i-1][2])\n",
        "    dp[i][1] = cost[i][1] + min(dp[i-1][0], dp[i-1][2])\n",
        "    dp[i][2] = cost[i][2] + min(dp[i-1][0], dp[i-1][1])\n",
        "\n",
        "result = min(dp[n-1][0], dp[n-1][1], dp[n-1][2])\n",
        "print(result)\n"
      ],
      "metadata": {
        "colab": {
          "base_uri": "https://localhost:8080/"
        },
        "id": "TrEhtToEWLhF",
        "outputId": "8ed72549-564f-4a3a-ac7f-973263c8e710"
      },
      "execution_count": null,
      "outputs": [
        {
          "output_type": "stream",
          "name": "stdout",
          "text": [
            "3\n",
            "26 40 83\n",
            "49 60 57\n",
            "13 89 99\n",
            "96\n"
          ]
        }
      ]
    },
    {
      "cell_type": "code",
      "source": [
        "#3805\n",
        "\n",
        "def pinary_number(N):\n",
        "    dp = [[0, 0] for _ in range(N + 1)]\n",
        "\n",
        "    dp[1][0] = 0\n",
        "    dp[1][1] = 1\n",
        "\n",
        "    for i in range(2, N + 1):\n",
        "        dp[i][0] = dp[i - 1][0] + dp[i - 1][1]\n",
        "        dp[i][1] = dp[i - 1][0]\n",
        "\n",
        "    return dp[N][0] + dp[N][1]\n",
        "\n",
        "N = int(input())\n",
        "\n",
        "print(pinary_number(N))"
      ],
      "metadata": {
        "colab": {
          "base_uri": "https://localhost:8080/"
        },
        "id": "1_M_pGfcWpuQ",
        "outputId": "60e372a2-8f00-4d4b-8c26-7baa11cce1c5"
      },
      "execution_count": null,
      "outputs": [
        {
          "output_type": "stream",
          "name": "stdout",
          "text": [
            "3\n",
            "2\n"
          ]
        }
      ]
    },
    {
      "cell_type": "code",
      "source": [
        "#4011\n",
        "a = input()\n",
        "b = '20' + a[0:2] if int(a[7]) > 2 else '19' + a[0:2]\n",
        "print(f\"{b}/{a[2:4]}/{a[4:6]} {'F' if int(a[7]) % 2 == 0 else 'M'}\")"
      ],
      "metadata": {
        "colab": {
          "base_uri": "https://localhost:8080/"
        },
        "id": "jWeqBaTH5uaN",
        "outputId": "f62efa2a-f8e9-4f99-9979-8a515b674b5c"
      },
      "execution_count": null,
      "outputs": [
        {
          "output_type": "stream",
          "name": "stdout",
          "text": [
            "781201-1273845\n",
            "1978/12/01/ M\n"
          ]
        }
      ]
    },
    {
      "cell_type": "code",
      "source": [
        "#4012\n",
        "a = input()\n",
        "b =list(map(int, input().split()))\n",
        "c = sorted(b, reverse=True)\n",
        "for i in b:\n",
        "  print(i, c.index(i)+1)"
      ],
      "metadata": {
        "colab": {
          "base_uri": "https://localhost:8080/"
        },
        "id": "TVS4Ni8YenT_",
        "outputId": "1dc818cb-9b33-4efb-fea6-f1c95db5baf8"
      },
      "execution_count": null,
      "outputs": [
        {
          "output_type": "stream",
          "name": "stdout",
          "text": [
            "10\n",
            "60 34 55 100 90 76 60 90 80 87\n",
            "60 7\n",
            "34 10\n",
            "55 9\n",
            "100 1\n",
            "90 2\n",
            "76 6\n",
            "60 7\n",
            "90 2\n",
            "80 5\n",
            "87 4\n"
          ]
        }
      ]
    },
    {
      "cell_type": "code",
      "source": [
        "#4013\n",
        "a = int(input())\n",
        "\n",
        "print(f'2 {bin(a)[2:]}')\n",
        "print(f'8 {oct(a)[2:]}')\n",
        "print(f'16 {hex(a)[2:].upper() if a < 32767 else \"\"}')\n",
        "\n"
      ],
      "metadata": {
        "colab": {
          "base_uri": "https://localhost:8080/"
        },
        "id": "7AW-CvuRE2h-",
        "outputId": "47d4f0e3-0a49-4fb5-dd7b-7d1ebb2f52d6"
      },
      "execution_count": null,
      "outputs": [
        {
          "output_type": "stream",
          "name": "stdout",
          "text": [
            "15\n",
            "2 1111\n",
            "8 17\n",
            "16 F\n"
          ]
        }
      ]
    },
    {
      "cell_type": "code",
      "source": [
        "#4019\n",
        "a  = int(input())\n",
        "b = list(map(int, input().split()))\n",
        "c = 0\n",
        "while True:\n"
      ],
      "metadata": {
        "colab": {
          "base_uri": "https://localhost:8080/"
        },
        "id": "RQCUHr-zKIEm",
        "outputId": "e5ce4beb-d406-4fef-b7c3-12bd50ac63b7"
      },
      "execution_count": null,
      "outputs": [
        {
          "output_type": "stream",
          "name": "stdout",
          "text": [
            "8\n",
            "5 7 10 1 2 10 11 6\n",
            "38\n"
          ]
        }
      ]
    },
    {
      "cell_type": "code",
      "source": [
        "#4024\n",
        "import sys\n",
        "sys.setrecursionlimit(10**6)\n",
        "\n",
        "dx = [-1, 1, 0, 0, -1, -1, 1, 1]\n",
        "dy = [0, 0, -1, 1, -1, 1, -1, 1]\n",
        "\n",
        "def dfs(x, y, W, H, graph, visited):\n",
        "    visited[x][y] = True\n",
        "\n",
        "    for i in range(8):\n",
        "        nx = x + dx[i]\n",
        "        ny = y + dy[i]\n",
        "\n",
        "        if 0 <= nx < H and 0 <= ny < W:\n",
        "            if not visited[nx][ny] and graph[nx][ny] == 'L':\n",
        "                dfs(nx, ny, W, H, graph, visited) # 4*4 매트릭스 확인\n",
        "\n",
        "W, H = map(int, input().split())\n",
        "graph = [input().split() for _ in range(H)]\n",
        "\n",
        "visited = [[False] * W for _ in range(H)]\n",
        "\n",
        "lake_count = 0\n",
        "\n",
        "for i in range(H):\n",
        "    for j in range(W):\n",
        "        if graph[i][j] == 'L' and not visited[i][j]:\n",
        "            dfs(i, j, W, H, graph, visited)\n",
        "            lake_count += 1\n",
        "\n",
        "print(lake_count)\n"
      ],
      "metadata": {
        "colab": {
          "base_uri": "https://localhost:8080/",
          "height": 523
        },
        "id": "fD2Kbp9ucrtz",
        "outputId": "91f77d40-c402-4852-ce33-bdc5fe4324b4"
      },
      "execution_count": null,
      "outputs": [
        {
          "name": "stdout",
          "output_type": "stream",
          "text": [
            "12 10\n",
            "L . . . . . . . . L . .\n",
            ". L . . . . . . . L L .\n",
            "L L . . . . . . . . L .\n",
            ". L . . . . . . . . . L\n",
            ". . L . . . . . . . . L\n",
            ". . . . . . L . . . . .\n",
            ". . . . . L . L . . . .\n",
            ". . . . L . L . L . . .\n",
            ". . . . . L . L . . . .\n",
            ". . . . . . L . . . . L\n"
          ]
        },
        {
          "output_type": "error",
          "ename": "IndexError",
          "evalue": "list index out of range",
          "traceback": [
            "\u001b[0;31m---------------------------------------------------------------------------\u001b[0m",
            "\u001b[0;31mIndexError\u001b[0m                                Traceback (most recent call last)",
            "\u001b[0;32m<ipython-input-11-48d05476ee0e>\u001b[0m in \u001b[0;36m<cell line: 31>\u001b[0;34m()\u001b[0m\n\u001b[1;32m     29\u001b[0m \u001b[0mvisited\u001b[0m \u001b[0;34m=\u001b[0m \u001b[0;34m[\u001b[0m\u001b[0;34m[\u001b[0m\u001b[0;32mFalse\u001b[0m\u001b[0;34m]\u001b[0m \u001b[0;34m*\u001b[0m \u001b[0mm\u001b[0m \u001b[0;32mfor\u001b[0m \u001b[0m_\u001b[0m \u001b[0;32min\u001b[0m \u001b[0mrange\u001b[0m\u001b[0;34m(\u001b[0m\u001b[0mn\u001b[0m\u001b[0;34m)\u001b[0m\u001b[0;34m]\u001b[0m\u001b[0;34m\u001b[0m\u001b[0;34m\u001b[0m\u001b[0m\n\u001b[1;32m     30\u001b[0m \u001b[0;34m\u001b[0m\u001b[0m\n\u001b[0;32m---> 31\u001b[0;31m \u001b[0mprint\u001b[0m\u001b[0;34m(\u001b[0m\u001b[0msibal\u001b[0m\u001b[0;34m(\u001b[0m\u001b[0;34m)\u001b[0m\u001b[0;34m)\u001b[0m\u001b[0;34m\u001b[0m\u001b[0;34m\u001b[0m\u001b[0m\n\u001b[0m",
            "\u001b[0;32m<ipython-input-11-48d05476ee0e>\u001b[0m in \u001b[0;36msibal\u001b[0;34m()\u001b[0m\n\u001b[1;32m     16\u001b[0m   \u001b[0;32mfor\u001b[0m \u001b[0mi\u001b[0m \u001b[0;32min\u001b[0m \u001b[0mrange\u001b[0m\u001b[0;34m(\u001b[0m\u001b[0mn\u001b[0m\u001b[0;34m)\u001b[0m\u001b[0;34m:\u001b[0m\u001b[0;34m\u001b[0m\u001b[0;34m\u001b[0m\u001b[0m\n\u001b[1;32m     17\u001b[0m       \u001b[0;32mfor\u001b[0m \u001b[0mj\u001b[0m \u001b[0;32min\u001b[0m \u001b[0mrange\u001b[0m\u001b[0;34m(\u001b[0m\u001b[0mm\u001b[0m\u001b[0;34m)\u001b[0m\u001b[0;34m:\u001b[0m\u001b[0;34m\u001b[0m\u001b[0;34m\u001b[0m\u001b[0m\n\u001b[0;32m---> 18\u001b[0;31m           \u001b[0;32mif\u001b[0m \u001b[0mmat\u001b[0m\u001b[0;34m[\u001b[0m\u001b[0mi\u001b[0m\u001b[0;34m]\u001b[0m\u001b[0;34m[\u001b[0m\u001b[0mj\u001b[0m\u001b[0;34m]\u001b[0m \u001b[0;34m==\u001b[0m \u001b[0;34m'L'\u001b[0m \u001b[0;32mand\u001b[0m \u001b[0;32mnot\u001b[0m \u001b[0mvisited\u001b[0m\u001b[0;34m[\u001b[0m\u001b[0mi\u001b[0m\u001b[0;34m]\u001b[0m\u001b[0;34m[\u001b[0m\u001b[0mj\u001b[0m\u001b[0;34m]\u001b[0m\u001b[0;34m:\u001b[0m\u001b[0;34m\u001b[0m\u001b[0;34m\u001b[0m\u001b[0m\n\u001b[0m\u001b[1;32m     19\u001b[0m               \u001b[0mdfs\u001b[0m\u001b[0;34m(\u001b[0m\u001b[0mi\u001b[0m\u001b[0;34m,\u001b[0m \u001b[0mj\u001b[0m\u001b[0;34m)\u001b[0m\u001b[0;34m\u001b[0m\u001b[0;34m\u001b[0m\u001b[0m\n\u001b[1;32m     20\u001b[0m               \u001b[0ma\u001b[0m \u001b[0;34m+=\u001b[0m \u001b[0;36m1\u001b[0m\u001b[0;34m\u001b[0m\u001b[0;34m\u001b[0m\u001b[0m\n",
            "\u001b[0;31mIndexError\u001b[0m: list index out of range"
          ]
        }
      ]
    },
    {
      "cell_type": "code",
      "source": [
        "#4026\n",
        "a = sorted(list(map(int, input().split())))\n",
        "mid = len(a)//2\n",
        "print(a[mid] if len(a) % 2 != 0 else ( a[mid-1] + a[mid]) / 2)"
      ],
      "metadata": {
        "colab": {
          "base_uri": "https://localhost:8080/"
        },
        "id": "fi98Hknd-X9r",
        "outputId": "59be6080-fb80-4d7c-85af-344df62c7772"
      },
      "execution_count": null,
      "outputs": [
        {
          "output_type": "stream",
          "name": "stdout",
          "text": [
            "58 35 77 59 68\n",
            "59\n"
          ]
        }
      ]
    },
    {
      "cell_type": "code",
      "source": [
        "#4031\n",
        "a = list(map(int, input().split()))\n",
        "\n",
        "b = [i for i in a if i % 2 == 0] + [0]\n",
        "c = [i for i in a if i % 2 != 0] + [0]\n",
        "\n",
        "print(max(b)+max(c))"
      ],
      "metadata": {
        "colab": {
          "base_uri": "https://localhost:8080/"
        },
        "id": "dAiH43vp7vFZ",
        "outputId": "dbf71503-b54b-40b0-cb4f-1a372f1abefd"
      },
      "execution_count": null,
      "outputs": [
        {
          "output_type": "stream",
          "name": "stdout",
          "text": [
            "1 1 1 1\n",
            "1\n"
          ]
        }
      ]
    },
    {
      "cell_type": "code",
      "source": [
        "#4036\n",
        "n = int(input())\n",
        "m = int(input())\n",
        "print(f'{(n + m) // 2}\\n{(n - m) // 2}')"
      ],
      "metadata": {
        "colab": {
          "base_uri": "https://localhost:8080/"
        },
        "id": "yFmc4TmE31y6",
        "outputId": "428fe86f-a87f-4a40-f17f-4cd0a41ac777"
      },
      "execution_count": null,
      "outputs": [
        {
          "name": "stdout",
          "output_type": "stream",
          "text": [
            "1998\n",
            "0\n"
          ]
        },
        {
          "output_type": "execute_result",
          "data": {
            "text/plain": [
              "[]"
            ]
          },
          "metadata": {},
          "execution_count": 74
        }
      ]
    },
    {
      "cell_type": "code",
      "source": [
        "#4037\n",
        "n = int(input())\n",
        "\n",
        "a,i = [], 2\n",
        "while n > 1 :\n",
        "  if n % i == 0:\n",
        "    a.append(i)\n",
        "    n = n//i\n",
        "  else:\n",
        "    i += 1\n",
        "\n",
        "print(*a)"
      ],
      "metadata": {
        "colab": {
          "base_uri": "https://localhost:8080/"
        },
        "id": "RYpDVYBKsrzE",
        "outputId": "900e41be-d64c-4929-dccb-7d0c76ade2ae"
      },
      "execution_count": null,
      "outputs": [
        {
          "output_type": "stream",
          "name": "stdout",
          "text": [
            "72\n",
            "2 2 2 3 3\n"
          ]
        }
      ]
    },
    {
      "cell_type": "code",
      "source": [
        "#4038 이해 못함\n",
        "import math\n",
        "\n",
        "def heron_area(x1, y1, x2, y2, x3, y3):\n",
        "    a = math.sqrt((x2 - x1) ** 2 + (y2 - y1) ** 2)\n",
        "    b = math.sqrt((x3 - x2) ** 2 + (y3 - y2) ** 2)\n",
        "    c = math.sqrt((x1 - x3) ** 2 + (y1 - y3) ** 2)\n",
        "    s = (a + b + c) / 2\n",
        "    return math.sqrt(s * (s - a) * (s - b) * (s - c))\n",
        "\n",
        "def intersection(x1, y1, x2, y2):\n",
        "    if y1 * y2 < 0:  # 두 점이 수면을 기준으로 다른 쪽에 있을 때\n",
        "        return x1 - y1 * (x2 - x1) / (y2 - y1), 0\n",
        "    return None\n",
        "\n",
        "def calculate_area_above_surface(x1, y1, x2, y2, x3, y3):\n",
        "    points = []\n",
        "    if y1 > 0:\n",
        "        points.append((x1, y1))\n",
        "    if y2 > 0:\n",
        "        points.append((x2, y2))\n",
        "    if y3 > 0:\n",
        "        points.append((x3, y3))\n",
        "\n",
        "    i1 = intersection(x1, y1, x2, y2)\n",
        "    if i1:\n",
        "        points.append(i1)\n",
        "\n",
        "    i2 = intersection(x2, y2, x3, y3)\n",
        "    if i2:\n",
        "        points.append(i2)\n",
        "\n",
        "    i3 = intersection(x3, y3, x1, y1)\n",
        "    if i3:\n",
        "        points.append(i3)\n",
        "\n",
        "    if len(points) < 3:\n",
        "        return 0\n",
        "\n",
        "    points = sorted(points, key=lambda p: (p[0], p[1]))  # 점들을 정렬\n",
        "    area = heron_area(points[0][0], points[0][1], points[1][0], points[1][1], points[2][0], points[2][1])\n",
        "\n",
        "    return round(area)\n",
        "\n",
        "# 입력 받기\n",
        "x1, y1 = map(int, input().split())\n",
        "x2, y2 = map(int, input().split())\n",
        "x3, y3 = map(int, input().split())\n",
        "\n",
        "# 결과 출력\n",
        "print(calculate_area_above_surface(x1, y1, x2, y2, x3, y3))"
      ],
      "metadata": {
        "colab": {
          "base_uri": "https://localhost:8080/"
        },
        "id": "5M6OG-_Pan0J",
        "outputId": "f90aa34c-debc-453e-a451-118350e1a783"
      },
      "execution_count": null,
      "outputs": [
        {
          "output_type": "stream",
          "name": "stdout",
          "text": [
            "-4 -1\n",
            "6 -3\n",
            "3 6\n",
            "[(-3.0, 0), (3, 6), (5.0, 0)]\n",
            "24\n"
          ]
        }
      ]
    },
    {
      "cell_type": "code",
      "source": [
        "#4039\n",
        "\n",
        "from collections import deque\n",
        "\n",
        "a, b = map(int, input().split())\n",
        "\n",
        "mat = [list(map(int, input().split())) for _ in range(a)]\n",
        "\n",
        "directions = [(-1, 0), (1, 0), (0, -1), (0, 1)]\n",
        "\n",
        "visited = [[False] * b for _ in range(a)]\n",
        "\n",
        "def is_valid(nr, nc, cr, cc):\n",
        "    if 0 <= nr < a and 0 <= nc < b and not visited[nr][nc]:\n",
        "        if abs(mat[nr][nc] - mat[cr][cc]) <= 1:\n",
        "            return True\n",
        "    return False\n",
        "\n",
        "def bfs():\n",
        "    queue = deque([(0, 0, 1)])\n",
        "    visited[0][0] = True\n",
        "\n",
        "    while queue:\n",
        "        r, c, dist = queue.popleft()\n",
        "\n",
        "        if r == a-1 and c == b-1:\n",
        "            return dist\n",
        "\n",
        "        for dr, dc in directions:\n",
        "            nr, nc = r + dr, c + dc\n",
        "            if is_valid(nr, nc, r, c):\n",
        "                visited[nr][nc] = True\n",
        "                queue.append((nr, nc, dist + 1))\n",
        "\n",
        "    return 0\n",
        "\n",
        "print(bfs())\n",
        "\n",
        "\n"
      ],
      "metadata": {
        "colab": {
          "base_uri": "https://localhost:8080/"
        },
        "id": "k65w_4uB5doe",
        "outputId": "16340e00-4b80-4df0-a118-979996f85de1"
      },
      "execution_count": null,
      "outputs": [
        {
          "output_type": "stream",
          "name": "stdout",
          "text": [
            "4 4\n",
            "7 9 8 5\n",
            "6 3 2 4\n",
            "5 4 1 5\n",
            "2 6 1 1\n",
            "9\n"
          ]
        }
      ]
    },
    {
      "cell_type": "code",
      "source": [
        "#4041\n",
        "a = list(input())\n",
        "print(f'{int(\"\".join(a[::-1]))}\\n{sum(map(int,a))}')\n",
        "\n",
        "#####################GPT\n",
        "\n",
        "a = input()[::-1]\n",
        "print(f'{int(a)}\\n{sum(map(int,a[::-1]))}')"
      ],
      "metadata": {
        "colab": {
          "base_uri": "https://localhost:8080/"
        },
        "id": "-oG3eTRXhhAv",
        "outputId": "beb8a388-fa97-442e-8638-5e199d613abe"
      },
      "execution_count": null,
      "outputs": [
        {
          "output_type": "stream",
          "name": "stdout",
          "text": [
            "320\n",
            "23\n",
            "5\n"
          ]
        }
      ]
    },
    {
      "cell_type": "code",
      "source": [
        "#4042\n",
        "\n",
        "a = [list(map(int, input().split())) for i in range(5)]\n",
        "\n",
        "b = [max(i) for i in a]\n",
        "b = sum(b)\n",
        "\n",
        "c = [a[0][i] for i in range(5)]\n",
        "\n",
        "for i in range(5):\n",
        "    for j in range(1, 5):\n",
        "        if c[i] < a[j][i]:\n",
        "            c[i] = a[j][i]\n",
        "c = sum(c)\n",
        "\n",
        "print(abs(b-c))"
      ],
      "metadata": {
        "colab": {
          "base_uri": "https://localhost:8080/"
        },
        "id": "ytU4DqjzDctY",
        "outputId": "be7ff937-fd02-42d7-8107-be327b7086b6"
      },
      "execution_count": null,
      "outputs": [
        {
          "name": "stdout",
          "output_type": "stream",
          "text": [
            "18 78 53 45 1\n",
            "64 85 12 16 75\n",
            "45 35 28 75 90\n",
            "2 15 28 11 37\n",
            "75 41 7 89 25\n"
          ]
        },
        {
          "output_type": "execute_result",
          "data": {
            "text/plain": [
              "[75, 85, 53, 89, 90]"
            ]
          },
          "metadata": {},
          "execution_count": 9
        }
      ]
    },
    {
      "cell_type": "code",
      "source": [
        "#4045\n",
        "def count_ways(n, m):\n",
        "    print(n,m)\n",
        "    if n == 0:\n",
        "        return 1\n",
        "    if n < 0 or m == 0:\n",
        "        return 0\n",
        "    return count_ways(n, m - 1) + count_ways(n - m, m)  # m명을 포함하지 않는 경우 + m명을 포함하는 경우\n",
        "\n",
        "n, m = map(int, input().split())\n",
        "print(count_ways(n, m))"
      ],
      "metadata": {
        "id": "zz7iEpV3YPFa"
      },
      "execution_count": null,
      "outputs": []
    },
    {
      "cell_type": "code",
      "source": [
        "a = list(input())[::-1]\n",
        "b = [bin(ord(i))[2:] for i in a]\n",
        "\n",
        "c = [[] for _ in range(len(b))]\n",
        "\n",
        "for i in range(len(b)):\n",
        "    for bit in b[i]:\n",
        "        if bit == '1':\n",
        "            c[i].append('0')\n",
        "        else:\n",
        "            c[i].append('1')\n",
        "\n",
        "for i in c:\n",
        "  print(''.join(i))"
      ],
      "metadata": {
        "colab": {
          "base_uri": "https://localhost:8080/"
        },
        "id": "5EMy441OLoTR",
        "outputId": "d4154a1f-9cca-4b2f-ac11-681b3038cb92"
      },
      "execution_count": null,
      "outputs": [
        {
          "output_type": "stream",
          "name": "stdout",
          "text": [
            "test\n",
            "0001011\n",
            "0001100\n",
            "0011010\n",
            "0001011\n"
          ]
        }
      ]
    },
    {
      "cell_type": "code",
      "source": [
        "#4051\n",
        "\n",
        "a = [list(map(float, input().split())) for i in range(5)]\n",
        "\n",
        "b = 0\n",
        "for i, j in a:\n",
        "    o = min((j - i) - 1, 4)\n",
        "    b += max(0, o)\n",
        "\n",
        "t = 10000 * b\n",
        "if b >= 15:\n",
        "    t -= int(t * 0.05)\n",
        "elif b <= 5:\n",
        "    t += int(t * 0.05)\n",
        "\n",
        "print(int(t))"
      ],
      "metadata": {
        "colab": {
          "base_uri": "https://localhost:8080/"
        },
        "id": "jPn3LN0RXF-X",
        "outputId": "0c162987-1ef4-438b-a09b-bcf5c9106db9"
      },
      "execution_count": null,
      "outputs": [
        {
          "output_type": "stream",
          "name": "stdout",
          "text": [
            "16.0 21.0\n",
            "16.5 21.5\n",
            "17.5 21.5\n",
            "19.5 24.0\n",
            "22.5 24.0\n",
            "15.0\n",
            "142500\n"
          ]
        }
      ]
    },
    {
      "cell_type": "code",
      "source": [
        "#4052\n",
        "\n",
        "a = input().split()\n",
        "\n",
        "max_value, min_value = 0,1000000\n",
        "\n",
        "for i in a:\n",
        "  b = sum(map(int, list(i)))\n",
        "  max_value = b if b > max_value else max_value\n",
        "  min_value = b if b < min_value else min_value\n",
        "\n",
        "print(max_value, min_value)"
      ],
      "metadata": {
        "colab": {
          "base_uri": "https://localhost:8080/"
        },
        "id": "n_KpKEfWNamT",
        "outputId": "118efee5-1a2e-4c6c-fcfd-d209a9be8dd6"
      },
      "execution_count": null,
      "outputs": [
        {
          "output_type": "stream",
          "name": "stdout",
          "text": [
            "121 114 29 99 28 37 28 20 38 39\n",
            "18 2\n"
          ]
        }
      ]
    },
    {
      "cell_type": "code",
      "source": [
        "#4056\n",
        "\n",
        "a = int(input())\n",
        "\n",
        "if 500 >= a:\n",
        "  print(int(a*(70/100)))\n",
        "elif 500 < a <= 1500:\n",
        "  print(int(350+(a-500)*40/100))\n",
        "elif 1500 < a <= 4500:\n",
        "  print(int(750 + (a-1500)*15/100))\n",
        "elif 4500 < a <= 10000:\n",
        "  print(int(1200 + (a - 4500)*5/100))\n",
        "elif 10000 < a:\n",
        "  print(int(1475 + (a - 10000)*2/100))\n",
        "\n"
      ],
      "metadata": {
        "colab": {
          "base_uri": "https://localhost:8080/"
        },
        "id": "CgLTLGxMnbVj",
        "outputId": "61285c13-91dd-410f-c99f-7c6ab883474b"
      },
      "execution_count": null,
      "outputs": [
        {
          "output_type": "stream",
          "name": "stdout",
          "text": [
            "1500\n",
            "750\n"
          ]
        }
      ]
    },
    {
      "cell_type": "code",
      "source": [
        "#4057\n",
        "\n",
        "a, b = map(int, input().split())\n",
        "\n",
        "if a > b:\n",
        "    a, b = b, a\n",
        "\n",
        "p = [True] * (b + 1)\n",
        "p[0] = p[1] = False\n",
        "for i in range(2, int(b**0.5) + 1):\n",
        "    if p[i]:\n",
        "        for j in range(i * i, b + 1, i):\n",
        "            p[j] = False\n",
        "\n",
        "mm = [i for i in range(a, b + 1) if p[i]]\n",
        "\n",
        "\n",
        "print(len(mm))\n",
        "print(min(mm)+max(mm))"
      ],
      "metadata": {
        "colab": {
          "base_uri": "https://localhost:8080/"
        },
        "id": "qW3Cm3mYK-iq",
        "outputId": "a3c5d274-56ac-4e6e-b09c-35404d16e329"
      },
      "execution_count": null,
      "outputs": [
        {
          "output_type": "stream",
          "name": "stdout",
          "text": [
            "55731 38436\n",
            "1603\n",
            "94168\n"
          ]
        }
      ]
    },
    {
      "cell_type": "code",
      "source": [
        "#4062\n",
        "\n",
        "import math\n",
        "from functools import reduce #이터러블(iterable)에 포함된 모든 원소를 누적해서 하나의 값으로 줄이는\n",
        "\n",
        "a = int(input())\n",
        "\n",
        "b = list(map(int, input().split()))\n",
        "\n",
        "def lcm(x, y):\n",
        "    return x * y // math.gcd(x, y)\n",
        "\n",
        "result = reduce(math.gcd, b)\n",
        "lcm_result = reduce(lcm, b)\n",
        "\n",
        "print(result)\n",
        "print(lcm_result)"
      ],
      "metadata": {
        "colab": {
          "base_uri": "https://localhost:8080/"
        },
        "id": "_-M30vFMR86e",
        "outputId": "f3804851-48de-48eb-9cd2-a283e163aafc"
      },
      "execution_count": null,
      "outputs": [
        {
          "output_type": "stream",
          "name": "stdout",
          "text": [
            "3\n",
            "12 18 30\n",
            "6\n",
            "180\n"
          ]
        }
      ]
    },
    {
      "cell_type": "code",
      "source": [
        "#4066\n",
        "n, m = map(int, input().split())\n",
        "\n",
        "size = m+1\n",
        "\n",
        "if n%size == 0:\n",
        "  s = n//size*m\n",
        "else:\n",
        "  s = (n//size) * m + (n % size)\n",
        "\n",
        "print(s)"
      ],
      "metadata": {
        "colab": {
          "base_uri": "https://localhost:8080/"
        },
        "id": "b3tAlBf4Ye09",
        "outputId": "27c6fcd8-14c9-4043-bd75-8586c0dd3a84"
      },
      "execution_count": null,
      "outputs": [
        {
          "output_type": "stream",
          "name": "stdout",
          "text": [
            "8 2\n",
            "6\n"
          ]
        }
      ]
    },
    {
      "cell_type": "code",
      "source": [
        "#4068 에라토스테네스의 체\n",
        "\n",
        "n = int(input())\n",
        "\n",
        "limit = 7368787\n",
        "p = [True] * (limit+1)\n",
        "p[0] = p[1] = False\n",
        "for i in range(2, int(limit**0.5)+1):\n",
        "    if p[i]:\n",
        "        for j in range(i*i, limit+1, i):\n",
        "            p[j] = False\n",
        "\n",
        "a = [i for i, j in enumerate(p) if j]\n",
        "\n",
        "print(a[n-1])\n"
      ],
      "metadata": {
        "colab": {
          "base_uri": "https://localhost:8080/"
        },
        "id": "9wjsngeSWVw5",
        "outputId": "54661945-232d-446f-a742-4defa19c9fcd"
      },
      "execution_count": null,
      "outputs": [
        {
          "output_type": "stream",
          "name": "stdout",
          "text": [
            "5\n",
            "11\n"
          ]
        }
      ]
    },
    {
      "cell_type": "code",
      "source": [
        "#4072\n",
        "\n",
        "tlen = input()\n",
        "tem = max(list(map(float, input().split())))\n",
        "\n",
        "print(tem)\n",
        "print('red' if tem >= 35 else 'yellow' if tem >= 33 else 'green')\n",
        "\n"
      ],
      "metadata": {
        "colab": {
          "base_uri": "https://localhost:8080/"
        },
        "id": "3BgrLn8BUYJ8",
        "outputId": "1bdc0048-6eb0-4f27-f8ba-76f06396983e"
      },
      "execution_count": null,
      "outputs": [
        {
          "output_type": "stream",
          "name": "stdout",
          "text": [
            "10\n",
            "32.1 33.2 33.1 33.4 34.1 34.3 34.1 33.9 33.7 33.3\n",
            "34.3\n",
            "yellow\n"
          ]
        }
      ]
    },
    {
      "cell_type": "code",
      "source": [
        "#4073\n",
        "\n",
        "def convert_base(n, base):\n",
        "    digits = \"0123456789ABCDEFGHIJKLMNOPQRSTUVWXYZ\"\n",
        "    result = \"\"\n",
        "\n",
        "    while n > 0:\n",
        "        result = digits[n % base] + result\n",
        "        n //= base\n",
        "\n",
        "    return result if result else \"0\"\n",
        "\n",
        "n = int(input())\n",
        "bases = list(map(int, input().split()))\n",
        "\n",
        "c = [convert_base(n, base) for base in bases]\n",
        "print(*c)\n"
      ],
      "metadata": {
        "colab": {
          "base_uri": "https://localhost:8080/"
        },
        "id": "h79RSxkV7JSF",
        "outputId": "a4dd11bd-e1f3-45e8-cc14-0a155cdd09c2"
      },
      "execution_count": null,
      "outputs": [
        {
          "output_type": "stream",
          "name": "stdout",
          "text": [
            "2017\n",
            "30 21 13 14 8 19 7 8 11 35\n",
            "277 4C1 BC2 A41 3741 5B3 5611 3741 1574 1MM\n"
          ]
        }
      ]
    },
    {
      "cell_type": "code",
      "source": [
        "#4076\n",
        "\n",
        "m, v, r = map(int, input().split())\n",
        "\n",
        "mildo = m/v\n",
        "\n",
        "if r > mildo:\n",
        "  print(f'{mildo:.02f} UP')\n",
        "elif r == mildo:\n",
        "  print(f'{mildo:.02f} STOP')\n",
        "elif r < mildo:\n",
        "  print(f'{mildo:.02f} DOWN')"
      ],
      "metadata": {
        "colab": {
          "base_uri": "https://localhost:8080/"
        },
        "id": "oSh3n4H9OlGt",
        "outputId": "c3cd2f64-228d-4549-de61-80140083017f"
      },
      "execution_count": null,
      "outputs": [
        {
          "output_type": "stream",
          "name": "stdout",
          "text": [
            "4 2 1\n",
            "2.00 DOWN\n"
          ]
        }
      ]
    },
    {
      "cell_type": "code",
      "source": [
        "# 4077\n",
        "\n",
        "mc = list(map(int, input().split()))\n",
        "\n",
        "mcl = [\n",
        "    [(0, 30), (31, 80), (81, 150), (151, float('inf'))],\n",
        "    [(0, 15), (16, 35), (36, 75), (76, float('inf'))],\n",
        "    [(0, 30), (31, 90), (91, 150), (151, float('inf'))]\n",
        "]\n",
        "\n",
        "yi = [\"Recommend\", \"Possible\", \"Careful\", \"Stop\"]\n",
        "color = [\"Blue\", \"Green\", \"Yellow\", \"Red\"]\n",
        "\n",
        "top = []\n",
        "for i, m in zip(mcl, mc):\n",
        "    for h, c in zip(i, color):\n",
        "        if h[0] <= m <= h[1]:\n",
        "            print(m, c)\n",
        "            top.append(c)\n",
        "            break\n",
        "\n",
        "for i in color[::-1]:\n",
        "    if i in top:\n",
        "        print(yi[color.index(i)])\n",
        "        break\n",
        "\n",
        "if sum(mc[:2])/2 >= 115:\n",
        "  print(\"SMS\")\n"
      ],
      "metadata": {
        "colab": {
          "base_uri": "https://localhost:8080/"
        },
        "id": "95rX9ncQYScJ",
        "outputId": "93a72307-22cd-4097-b8f7-48aad1ab50b0"
      },
      "execution_count": null,
      "outputs": [
        {
          "output_type": "stream",
          "name": "stdout",
          "text": [
            "155 80 30\n",
            "155 Red\n",
            "80 Red\n",
            "30 Blue\n",
            "Stop\n",
            "117.5\n"
          ]
        }
      ]
    },
    {
      "cell_type": "code",
      "source": [
        "#4079\n",
        "\n",
        "nums = {'0': 'zero', '1': 'one', '2': 'two', '3': 'three', '4': 'four', '5': 'five', '6': 'six', '7': 'seven', '8': 'eight', '9': 'nine'}\n",
        "\n",
        "a = list(input())\n",
        "\n",
        "a[0] = a[0].upper()\n",
        "\n",
        "b = ''.join(a[1:]).lower()\n",
        "\n",
        "a = list(a[0] + b)\n",
        "\n",
        "for i in range(len(a)):\n",
        "    if a[i] in nums:\n",
        "        a[i] = nums[a[i]]\n",
        "    elif a[i].lower() == 'i':\n",
        "        if (i == 0 or a[i-1] == ' ') and (i == len(a)-1 or a[i+1] in [' ', '.', '!', '?']):\n",
        "            a[i] = 'I'\n",
        "\n",
        "print(''.join(a))"
      ],
      "metadata": {
        "colab": {
          "base_uri": "https://localhost:8080/"
        },
        "id": "Oom3cclqp1vX",
        "outputId": "40d17198-80f9-4b05-d069-09568427447f"
      },
      "execution_count": null,
      "outputs": [
        {
          "output_type": "stream",
          "name": "stdout",
          "text": [
            "i have onLY 5 BALls.\n",
            "I have only five balls.\n"
          ]
        }
      ]
    },
    {
      "cell_type": "code",
      "source": [
        "#4085\n",
        "m, n, x, y = map(int, input().split())\n",
        "matrix = [list(map(int, input().split())) for _ in range(n)]\n",
        "\n",
        "max_fertility = 0\n",
        "\n",
        "for i in range(n):\n",
        "    for j in range(m):\n",
        "        if i + y <= n and j + x <= m:\n",
        "            current_fertility = sum(matrix[i+a][j+b] for a in range(y) for b in range(x))\n",
        "            max_fertility = max(max_fertility, current_fertility)\n",
        "\n",
        "print(max_fertility)\n"
      ],
      "metadata": {
        "colab": {
          "base_uri": "https://localhost:8080/"
        },
        "id": "bjd17a0e82Al",
        "outputId": "083d5647-e8b1-4e1f-ebd8-6f03d088c04f"
      },
      "execution_count": null,
      "outputs": [
        {
          "output_type": "stream",
          "name": "stdout",
          "text": [
            "10 3 2 2\n",
            "10 15 11 24 55 21 10 19 14 10\n",
            "10 12 19 19 44 39 24 15 14 11\n",
            "10 77 66 50 50 50 40 35 25 15\n",
            "183\n"
          ]
        }
      ]
    },
    {
      "cell_type": "code",
      "source": [
        "#4421\n",
        "\n",
        "n = int(input())\n",
        "g = [list(map(int, input().strip())) for _ in range(n)]\n",
        "\n",
        "dx = [-1, 1, 0, 0]\n",
        "dy = [0, 0, -1, 1]\n",
        "\n",
        "v = [[False] * n for _ in range(n)]\n",
        "\n",
        "def dfs(x, y):\n",
        "    s = [(x, y)]\n",
        "    v[x][y] = True\n",
        "    c = 1\n",
        "\n",
        "    while s:\n",
        "        cx, cy = s.pop()\n",
        "        for i in range(4):\n",
        "            nx, ny = cx + dx[i], cy + dy[i]\n",
        "            if 0 <= nx < n and 0 <= ny < n and not v[nx][ny] and g[nx][ny] == 1:\n",
        "                v[nx][ny] = True\n",
        "                s.append((nx, ny))\n",
        "                c += 1\n",
        "    return c\n",
        "\n",
        "cnt = 0\n",
        "h = []\n",
        "\n",
        "for i in range(n):\n",
        "    for j in range(n):\n",
        "        if g[i][j] == 1 and not v[i][j]:\n",
        "            h.append(dfs(i, j))\n",
        "            cnt += 1\n",
        "\n",
        "h.sort()\n",
        "\n",
        "print(cnt)\n",
        "for x in h:\n",
        "    print(x)\n",
        "\n"
      ],
      "metadata": {
        "colab": {
          "base_uri": "https://localhost:8080/"
        },
        "id": "hqdNFIiXfkGx",
        "outputId": "d9a23a7b-0f6d-483e-f977-ebfbcf71557c"
      },
      "execution_count": null,
      "outputs": [
        {
          "output_type": "stream",
          "name": "stdout",
          "text": [
            "7\n",
            "0110100\n",
            "0110101\n",
            "1110101\n",
            "0000111\n",
            "0100000\n",
            "0111110\n",
            "0111000\n",
            "3\n",
            "7\n",
            "8\n",
            "9\n"
          ]
        }
      ]
    },
    {
      "cell_type": "code",
      "source": [
        "#4423\n",
        "a = [[0 for i in range(100)] for i in range(100)]\n",
        "\n",
        "for _ in range(4):\n",
        "  x1,y1,x2,y2 = map(int, input().split())\n",
        "  for i in range(abs(y1 - y2)):\n",
        "    for j in range(abs(x1 - x2)):\n",
        "      a[y1+i][x1+j] = 1\n",
        "\n",
        "b = 0\n",
        "for i in a:\n",
        "  b += sum(i)\n",
        "\n",
        "print(b)"
      ],
      "metadata": {
        "colab": {
          "base_uri": "https://localhost:8080/"
        },
        "id": "YkCCSnPeXfn-",
        "outputId": "e126bc7a-48ac-4c1b-c582-dea8d1b61262"
      },
      "execution_count": null,
      "outputs": [
        {
          "output_type": "stream",
          "name": "stdout",
          "text": [
            "1 2 4 4\n",
            "2 3 5 7\n",
            "3 1 6 5\n",
            "7 3 8 6\n",
            "26\n"
          ]
        }
      ]
    },
    {
      "cell_type": "code",
      "source": [
        "#4424\n",
        "\n",
        "a = int(input())\n",
        "\n",
        "b = [float(input()) for i in range(a)]\n",
        "\n",
        "dp = [0] * (a+1)\n",
        "dp[0] = b[0]\n",
        "\n",
        "maxx = dp[0]\n",
        "for i in range(1, a):\n",
        "  dp[i] = max(b[i], dp[i-1]*b[i])\n",
        "  maxx = max(maxx, dp[i])\n",
        "\n",
        "print(f'{maxx:.3f}')"
      ],
      "metadata": {
        "colab": {
          "base_uri": "https://localhost:8080/"
        },
        "id": "CLxepaIRPhu3",
        "outputId": "794d8672-fcb8-4079-ca6d-2d28ef101eb0"
      },
      "execution_count": null,
      "outputs": [
        {
          "output_type": "stream",
          "name": "stdout",
          "text": [
            "8\n",
            "1.1\n",
            "0.7\n",
            "1.3\n",
            "0.9\n",
            "1.4\n",
            "0.8\n",
            "0.7\n",
            "1.4\n",
            "1.638\n"
          ]
        }
      ]
    },
    {
      "cell_type": "code",
      "source": [
        "#4425\n",
        "\n",
        "import re\n",
        "\n",
        "sound = input()\n",
        "\n",
        "pattern = re.compile(r'^(100+1+|01)+$')\n",
        "\n",
        "if pattern.fullmatch(sound):\n",
        "    print(\"SUBMARINE\")\n",
        "else:\n",
        "    print(\"NOISE\")\n"
      ],
      "metadata": {
        "colab": {
          "base_uri": "https://localhost:8080/"
        },
        "id": "VhpTrf-L-16U",
        "outputId": "c26ce3a3-1b06-4fb0-e6cf-ade0ccbf7b62"
      },
      "execution_count": null,
      "outputs": [
        {
          "output_type": "stream",
          "name": "stdout",
          "text": [
            "10011001100110010110011111111111111111111101\n",
            "False\n"
          ]
        }
      ]
    },
    {
      "cell_type": "code",
      "source": [
        "#4428\n",
        "\n",
        "import sys\n",
        "sys.setrecursionlimit(100000)\n",
        "\n",
        "n = int(input())\n",
        "chord = [sorted(list(map(int, input().split()))) for i in range(n)]\n",
        "\n",
        "dp = [[-1 for _ in range(105)] for _ in range(105)]\n",
        "\n",
        "def f(s, e):\n",
        "    if dp[s][e] != -1:\n",
        "        return dp[s][e]\n",
        "    dp[s][e] = 0\n",
        "    for l, r in chord:\n",
        "        if l < s or e < r:\n",
        "            continue\n",
        "        dp[s][e] = max(dp[s][e], f(s, l - 1) + f(l + 1, r - 1) + f(r + 1, e) + 1)\n",
        "    return dp[s][e]\n",
        "\n",
        "print(f(1, 100))\n"
      ],
      "metadata": {
        "colab": {
          "base_uri": "https://localhost:8080/"
        },
        "id": "Tj5oA0hJHMd8",
        "outputId": "f8ff9b6e-14c8-4022-f5f8-d48afa6734ca"
      },
      "execution_count": null,
      "outputs": [
        {
          "output_type": "stream",
          "name": "stdout",
          "text": [
            "5\n",
            "97 31\n",
            "1 45\n",
            "27 5\n",
            "11 65\n",
            "43 72\n",
            "3\n"
          ]
        }
      ]
    },
    {
      "cell_type": "code",
      "source": [
        "#4434\n",
        "\n",
        "def check(sequence):\n",
        "    length = len(sequence)\n",
        "    for i in range(1, length // 2 + 1):\n",
        "        if sequence[-i:] == sequence[-2*i:-i]:\n",
        "            return False\n",
        "    return True\n",
        "\n",
        "def back_tracking(N, a=\"\"):\n",
        "    if len(a) == N:\n",
        "        print(a)\n",
        "        return True\n",
        "\n",
        "    for i in '123':\n",
        "        if check(a + i):\n",
        "            if back_tracking(N, a + i):\n",
        "                return True\n",
        "\n",
        "    return False\n",
        "\n",
        "seven = int(input())\n",
        "if back_tracking(seven) is True:\n",
        "  pass"
      ],
      "metadata": {
        "id": "ZA4Nkj93OGVR",
        "colab": {
          "base_uri": "https://localhost:8080/"
        },
        "outputId": "f5da5658-d9cf-4d7f-df5c-5e37b4d57eb3"
      },
      "execution_count": null,
      "outputs": [
        {
          "output_type": "stream",
          "name": "stdout",
          "text": [
            "7\n",
            "1213121\n"
          ]
        }
      ]
    },
    {
      "cell_type": "code",
      "source": [
        "#4438 우선순위 큐 문제\n",
        "\n",
        "import heapq\n",
        "from collections import deque\n",
        "\n",
        "n = int(input())\n",
        "mat = [list(map(int, input().strip())) for _ in range(n)]\n",
        "\n",
        "q = [(0, 0, 0)]  # (변경 횟수, x 좌표, y 좌표)\n",
        "heapq.heapify(q)\n",
        "\n",
        "dir = [(-1, 0), (1, 0), (0, -1), (0, 1)]\n",
        "\n",
        "changes = [[float('inf')] * n for _ in range(n)]\n",
        "changes[0][0] = 0\n",
        "\n",
        "while q:\n",
        "    count, x, y = heapq.heappop(q)\n",
        "\n",
        "    if x == n - 1 and y == n - 1:\n",
        "        print(count)\n",
        "        break\n",
        "\n",
        "    for dx, dy in dir:\n",
        "        nx, ny = x + dx, y + dy\n",
        "\n",
        "        if 0 <= nx < n and 0 <= ny < n:\n",
        "            new_changes = count if mat[nx][ny] == 1 else count + 1\n",
        "\n",
        "            if new_changes < changes[nx][ny]:\n",
        "                changes[nx][ny] = new_changes\n",
        "                heapq.heappush(q, (new_changes, nx, ny))\n"
      ],
      "metadata": {
        "colab": {
          "base_uri": "https://localhost:8080/",
          "height": 386
        },
        "id": "M0fPWqSPJoH5",
        "outputId": "c123093f-3f07-4524-b991-578eac88f059"
      },
      "execution_count": null,
      "outputs": [
        {
          "name": "stdout",
          "output_type": "stream",
          "text": [
            "8\n",
            "11100110\n",
            "11010010\n",
            "10011010\n",
            "11101100\n",
            "01000111\n",
            "00110001\n",
            "11011000\n",
            "11000111\n"
          ]
        },
        {
          "output_type": "error",
          "ename": "IndexError",
          "evalue": "list index out of range",
          "traceback": [
            "\u001b[0;31m---------------------------------------------------------------------------\u001b[0m",
            "\u001b[0;31mIndexError\u001b[0m                                Traceback (most recent call last)",
            "\u001b[0;32m<ipython-input-14-87c2ca521312>\u001b[0m in \u001b[0;36m<cell line: 14>\u001b[0;34m()\u001b[0m\n\u001b[1;32m     23\u001b[0m \u001b[0;34m\u001b[0m\u001b[0m\n\u001b[1;32m     24\u001b[0m     \u001b[0;32mif\u001b[0m \u001b[0;36m0\u001b[0m \u001b[0;34m<=\u001b[0m  \u001b[0mnx\u001b[0m \u001b[0;34m<\u001b[0m \u001b[0mn\u001b[0m \u001b[0;32mand\u001b[0m \u001b[0;36m0\u001b[0m \u001b[0;34m<=\u001b[0m \u001b[0mny\u001b[0m \u001b[0;34m<\u001b[0m \u001b[0mn\u001b[0m\u001b[0;34m:\u001b[0m\u001b[0;34m\u001b[0m\u001b[0;34m\u001b[0m\u001b[0m\n\u001b[0;32m---> 25\u001b[0;31m         \u001b[0mnew\u001b[0m \u001b[0;34m=\u001b[0m \u001b[0mcount\u001b[0m \u001b[0;32mif\u001b[0m \u001b[0mmat\u001b[0m\u001b[0;34m[\u001b[0m\u001b[0mnx\u001b[0m\u001b[0;34m]\u001b[0m\u001b[0;34m[\u001b[0m\u001b[0mny\u001b[0m\u001b[0;34m]\u001b[0m \u001b[0;34m==\u001b[0m \u001b[0;36m1\u001b[0m \u001b[0;32melse\u001b[0m \u001b[0mcount\u001b[0m \u001b[0;34m+\u001b[0m \u001b[0;36m1\u001b[0m\u001b[0;34m\u001b[0m\u001b[0;34m\u001b[0m\u001b[0m\n\u001b[0m\u001b[1;32m     26\u001b[0m \u001b[0;34m\u001b[0m\u001b[0m\n\u001b[1;32m     27\u001b[0m         \u001b[0;32mif\u001b[0m \u001b[0mnew\u001b[0m\u001b[0;34m<\u001b[0m \u001b[0mchanges\u001b[0m\u001b[0;34m[\u001b[0m\u001b[0mnx\u001b[0m\u001b[0;34m]\u001b[0m\u001b[0;34m[\u001b[0m\u001b[0mny\u001b[0m\u001b[0;34m]\u001b[0m\u001b[0;34m:\u001b[0m\u001b[0;34m\u001b[0m\u001b[0;34m\u001b[0m\u001b[0m\n",
            "\u001b[0;31mIndexError\u001b[0m: list index out of range"
          ]
        }
      ]
    },
    {
      "cell_type": "code",
      "source": [
        "#4439\n",
        "def min_move_count(n, open1, open2, seq):\n",
        "    dp = [[[float('inf')] * (n + 1) for _ in range(n + 1)] for _ in range(len(seq) + 1)]\n",
        "    dp[0][open1][open2] = 0\n",
        "\n",
        "    for i in range(len(seq)):\n",
        "        next_cabinet = seq[i]\n",
        "        for a in range(1, n + 1):\n",
        "            for b in range(1, n + 1):\n",
        "                if a == b:\n",
        "                    continue\n",
        "                current_moves = dp[i][a][b]\n",
        "                if current_moves == float('inf'):\n",
        "                    continue\n",
        "\n",
        "                dp[i + 1][next_cabinet][b] = min(dp[i + 1][next_cabinet][b], current_moves + abs(a - next_cabinet))\n",
        "                dp[i + 1][a][next_cabinet] = min(dp[i + 1][a][next_cabinet], current_moves + abs(b - next_cabinet))\n",
        "\n",
        "    result = float('inf')\n",
        "    for a in range(1, n + 1):\n",
        "        for b in range(1, n + 1):\n",
        "            if a == b:\n",
        "                continue\n",
        "            result = min(result, dp[len(seq)][a][b])\n",
        "\n",
        "    return result\n",
        "\n",
        "n = int(input())\n",
        "open1, open2 = map(int, input().split())\n",
        "k = int(input())\n",
        "seq = [int(input()) for _ in range(k)]\n",
        "\n",
        "print(min_move_count(n, open1, open2, seq))\n",
        "\n"
      ],
      "metadata": {
        "colab": {
          "base_uri": "https://localhost:8080/"
        },
        "id": "FurgYSKwnjEL",
        "outputId": "300f999b-27fa-4436-b23c-a6809a7bcf4a"
      },
      "execution_count": null,
      "outputs": [
        {
          "output_type": "stream",
          "name": "stdout",
          "text": [
            "7\n",
            "2 5\n",
            "4\n",
            "3\n",
            "1\n",
            "6\n",
            "5\n",
            "5\n"
          ]
        }
      ]
    },
    {
      "cell_type": "code",
      "source": [
        "#4502\n",
        "\n",
        "a = int(input())\n",
        "b = list(map(int, input().split()))\n",
        "\n",
        "c = []\n",
        "for i,j in enumerate(b):\n",
        "  c.insert(j, i+1)\n",
        "\n",
        "c.reverse()\n",
        "\n",
        "print(*c)\n"
      ],
      "metadata": {
        "colab": {
          "base_uri": "https://localhost:8080/"
        },
        "id": "IMXEDM3wMOcz",
        "outputId": "81e45c2e-d955-4c7b-f161-ce08982e8729"
      },
      "execution_count": null,
      "outputs": [
        {
          "output_type": "stream",
          "name": "stdout",
          "text": [
            "5\n",
            "0 1 1 3 2\n",
            "[4, 2, 5, 3, 1]\n"
          ]
        }
      ]
    },
    {
      "cell_type": "code",
      "source": [
        "#4503\n",
        "from collections import deque\n",
        "\n",
        "n = int(input())\n",
        "m = int(input())\n",
        "\n",
        "g = [[] for _ in range(n + 1)]\n",
        "for _ in range(m):\n",
        "    x, y = map(int, input().split())\n",
        "    g[x].append(y)\n",
        "    g[y].append(x)\n",
        "\n",
        "def bfs(s):\n",
        "    v = [False] * (n + 1)\n",
        "    q = deque([s])\n",
        "    v[s] = True\n",
        "    c = 0\n",
        "\n",
        "    while q:\n",
        "        cur = q.popleft()\n",
        "        for nb in g[cur]:\n",
        "            if not v[nb]:\n",
        "                q.append(nb)\n",
        "                v[nb] = True\n",
        "                c += 1\n",
        "\n",
        "    return c\n",
        "\n",
        "r = bfs(1)\n",
        "print(r)\n",
        "\n",
        "\n"
      ],
      "metadata": {
        "colab": {
          "base_uri": "https://localhost:8080/"
        },
        "id": "KOL42vBDsgdK",
        "outputId": "21784bae-270a-41b9-c756-84025cd08412"
      },
      "execution_count": null,
      "outputs": [
        {
          "output_type": "stream",
          "name": "stdout",
          "text": [
            "7\n",
            "6\n",
            "1 2\n",
            "2 3\n",
            "1 5\n",
            "5 2\n",
            "5 6\n",
            "4 7\n",
            "4\n"
          ]
        }
      ]
    },
    {
      "cell_type": "code",
      "source": [
        "#4506\n",
        "\n",
        "a,b = map(int, input().split())\n",
        "\n",
        "for i in range(min(a,b), 0,-1):\n",
        "  if a%i==0 and b%i==0 :\n",
        "    print(i)\n",
        "    c = i\n",
        "    break\n",
        "\n",
        "d = min(a,b)\n",
        "while True:\n",
        "  if d%a==0 and d%b==0 :\n",
        "    print(d)\n",
        "    break\n",
        "  d+=c"
      ],
      "metadata": {
        "colab": {
          "base_uri": "https://localhost:8080/"
        },
        "id": "IW7uHln7EmzX",
        "outputId": "c55bb7ff-c113-403b-eecf-aa2672a5b31c"
      },
      "execution_count": null,
      "outputs": [
        {
          "output_type": "stream",
          "name": "stdout",
          "text": [
            "24 18\n",
            "6\n",
            "72\n"
          ]
        }
      ]
    },
    {
      "cell_type": "code",
      "source": [
        "#4506\n",
        "a = [int(input()) for i in range(9)]\n",
        "b = max([(i+1,j) for i,j in enumerate(a)], key=lambda x: x[1])\n",
        "print(f'{b[1]}\\n{b[0]}')"
      ],
      "metadata": {
        "id": "DOnRD3fxHlf0"
      },
      "execution_count": null,
      "outputs": []
    },
    {
      "cell_type": "code",
      "source": [
        "#4531\n",
        "a = [int(input()) for i in range(5)]\n",
        "print(f'{sum(a)//5}\\n{sorted(a)[2]}')"
      ],
      "metadata": {
        "colab": {
          "base_uri": "https://localhost:8080/"
        },
        "id": "dobp0wvZd_B6",
        "outputId": "bf332b20-abc9-4299-ac97-82351eda00d9"
      },
      "execution_count": null,
      "outputs": [
        {
          "output_type": "stream",
          "name": "stdout",
          "text": [
            "10\n",
            "40\n",
            "30\n",
            "60\n",
            "30\n",
            "170\n",
            "30\n"
          ]
        }
      ]
    },
    {
      "cell_type": "code",
      "source": [
        "#4532\n",
        "a = int(input())\n",
        "b = [int(i) for i in input()]\n",
        "\n",
        "for i in range(len(b)):\n",
        "  print(a*b[-(i+1)])\n",
        "  b[-(i+1)] = int(str(a*b[-(i+1)]) + ('0'*i))\n",
        "\n",
        "print(sum(b))\n",
        "\n"
      ],
      "metadata": {
        "colab": {
          "base_uri": "https://localhost:8080/"
        },
        "id": "v2zKqgFAGGGX",
        "outputId": "46817075-414c-4e76-eeb3-b79bfdcfd335"
      },
      "execution_count": null,
      "outputs": [
        {
          "output_type": "stream",
          "name": "stdout",
          "text": [
            "472\n",
            "385\n",
            "2360\n",
            "3776\n",
            "1416\n",
            "181720\n"
          ]
        }
      ]
    },
    {
      "cell_type": "code",
      "source": [
        "#4536\n",
        "a = [int(input()) for i in range(10)]\n",
        "b = [(a.count(i), i) for i in set(a)]\n",
        "print(sum(a)//10)\n",
        "print(max(b, key=lambda x: x[0])[1])"
      ],
      "metadata": {
        "colab": {
          "base_uri": "https://localhost:8080/"
        },
        "id": "sNIPkRBg6e11",
        "outputId": "9c18aeaf-cd89-4156-b814-dd913742a4d6"
      },
      "execution_count": null,
      "outputs": [
        {
          "output_type": "stream",
          "name": "stdout",
          "text": [
            "10\n",
            "40\n",
            "30\n",
            "60\n",
            "30\n",
            "20\n",
            "60\n",
            "30\n",
            "0\n",
            "50\n",
            "33\n",
            "30\n"
          ]
        }
      ]
    },
    {
      "cell_type": "code",
      "source": [
        "#4536\n",
        "def sieve_of_eratosthenes(limit):\n",
        "    is_prime = [True] * (limit + 1)\n",
        "    is_prime[0] = is_prime[1] = False\n",
        "    p = 2\n",
        "    while (p * p <= limit):\n",
        "        if is_prime[p]:\n",
        "            for i in range(p * p, limit + 1, p):\n",
        "                is_prime[i] = False\n",
        "        p += 1\n",
        "    return is_prime\n",
        "\n",
        "def find_twin_primes(a, b):\n",
        "    primes = sieve_of_eratosthenes(b)\n",
        "    twin_primes = []\n",
        "\n",
        "    for i in range(max(a, 2), b + 1):\n",
        "        if primes[i]:\n",
        "            twin_primes.append(i)\n",
        "\n",
        "    return twin_primes\n",
        "\n",
        "a = int(input())\n",
        "b = int(input())\n",
        "\n",
        "tw = find_twin_primes(a, b)\n",
        "\n",
        "print(f'{sum(tw)}\\n{tw[0]}' if len(tw) != 0 else -1)\n",
        "\n"
      ],
      "metadata": {
        "colab": {
          "base_uri": "https://localhost:8080/"
        },
        "id": "5_u9aGH78A0Q",
        "outputId": "2dd93265-5ca7-4785-d472-0800a75f1671"
      },
      "execution_count": null,
      "outputs": [
        {
          "output_type": "stream",
          "name": "stdout",
          "text": [
            "1\n",
            "500\n",
            "21536\n",
            "2\n"
          ]
        }
      ]
    },
    {
      "cell_type": "code",
      "source": [
        "#4546\n",
        "import itertools\n",
        "\n",
        "def sjs(arr):\n",
        "    cmb = itertools.combinations(arr, 3)\n",
        "    max_dgt = -1\n",
        "\n",
        "    for c in cmb:\n",
        "        cur_sum = str(sum(c))\n",
        "        dgt = int(cur_sum[-1] )\n",
        "        if dgt > max_dgt:\n",
        "            max_dgt = dgt\n",
        "    return max_dgt\n",
        "\n",
        "b = reversed([(i, sjs(list(map(int, input().split())))) for i in range(1, int(input())+1)])\n",
        "print(max(b, key=lambda x: x[1])[0])"
      ],
      "metadata": {
        "colab": {
          "base_uri": "https://localhost:8080/"
        },
        "id": "P8XM0uHWPTpd",
        "outputId": "f51547e9-e61e-4630-fea6-0363acfa2b2f"
      },
      "execution_count": null,
      "outputs": [
        {
          "output_type": "stream",
          "name": "stdout",
          "text": [
            "3\n",
            "7 5 5 4 9\n",
            "1 1 1 1 1\n",
            "2 3 3 2 10\n",
            "1\n"
          ]
        }
      ]
    },
    {
      "cell_type": "code",
      "source": [
        "#4561\n",
        "\n",
        "a = [int(input()) for i in range(7)]\n",
        "b =sorted([i for i in a if i % 2 != 0]) + [0]\n",
        "print(f'{sum(b)}\\n{b[0]}' if sum(b) != 0 else -1)"
      ],
      "metadata": {
        "colab": {
          "base_uri": "https://localhost:8080/"
        },
        "id": "HTHmWahDn4Fu",
        "outputId": "096d7863-172e-4c65-a783-f6215df6fa9e"
      },
      "execution_count": null,
      "outputs": [
        {
          "output_type": "stream",
          "name": "stdout",
          "text": [
            "2\n",
            "4\n",
            "6\n",
            "3\n",
            "2\n",
            "2\n",
            "10\n",
            "-1\n"
          ]
        }
      ]
    },
    {
      "cell_type": "code",
      "source": [
        "#4562\n",
        "\n",
        "a = int(input())\n",
        "b = int(input())\n",
        "c = int(input())\n",
        "\n",
        "multiply = str(a * b * c)\n",
        "\n",
        "for i in range(10):\n",
        "  print(multiply.count(str(i)))"
      ],
      "metadata": {
        "colab": {
          "base_uri": "https://localhost:8080/"
        },
        "id": "Lg130ZlVIEMK",
        "outputId": "a19c31c3-35a6-4962-9e59-26bb054ba9e4"
      },
      "execution_count": null,
      "outputs": [
        {
          "output_type": "stream",
          "name": "stdout",
          "text": [
            "150\n",
            "266\n",
            "427\n",
            "3\n",
            "1\n",
            "0\n",
            "2\n",
            "0\n",
            "0\n",
            "0\n",
            "2\n",
            "0\n",
            "0\n"
          ]
        }
      ]
    },
    {
      "cell_type": "code",
      "source": [
        "#4564\n",
        "\n",
        "def max_score(n, scores):\n",
        "    if n == 1:\n",
        "        return scores[0]\n",
        "    elif n == 2:\n",
        "        return scores[0] + scores[1]\n",
        "\n",
        "    dp = [0] * n\n",
        "    dp[0] = scores[0]\n",
        "    dp[1] = scores[0] + scores[1]\n",
        "    dp[2] = max(scores[0] + scores[2], scores[1] + scores[2])\n",
        "\n",
        "    for i in range(3, n):\n",
        "        dp[i] = max(dp[i-2] + scores[i], dp[i-3] + scores[i-1] + scores[i])\n",
        "\n",
        "    return dp[n-1]\n",
        "\n",
        "n = int(input())\n",
        "scores = [int(input()) for _ in range(n)]\n",
        "\n",
        "print(max_score(n, scores))\n"
      ],
      "metadata": {
        "id": "GftcPGpDPZrp"
      },
      "execution_count": null,
      "outputs": []
    },
    {
      "cell_type": "code",
      "source": [
        "#4571\n",
        "\n",
        "a = int(input())\n",
        "b = int(input())\n",
        "\n",
        "c = []\n",
        "for i in range(int(a**0.5), int(b**0.5)+1):\n",
        "  if a <= i*i <= b:\n",
        "    c.append(i*i)\n",
        "\n",
        "if c:\n",
        "  print(f'{sum(c)}\\n{min(c)}')\n",
        "else:\n",
        "  print(-1)"
      ],
      "metadata": {
        "colab": {
          "base_uri": "https://localhost:8080/"
        },
        "id": "i_tlCzd3Bwpp",
        "outputId": "e5949a7e-fec7-4c93-e4d4-ff2e7461d14c"
      },
      "execution_count": null,
      "outputs": [
        {
          "output_type": "stream",
          "name": "stdout",
          "text": [
            "60\n",
            "100\n",
            "245\n",
            "64\n"
          ]
        }
      ]
    },
    {
      "cell_type": "code",
      "source": [
        "#4592\n",
        "matr = [[0 for i in range(100)] for i in range(100)]\n",
        "\n",
        "a = int(input())\n",
        "b = [list(map(int, input().split())) for i in range(a)]\n",
        "\n",
        "for i,j in b:\n",
        "  for k in range(10):\n",
        "    for n in range(10):\n",
        "      matr[-(j+n)][i+k-1] = 1\n",
        "\n",
        "area = 0\n",
        "for i in matr:\n",
        "  area += sum(i)\n",
        "\n",
        "print(area)"
      ],
      "metadata": {
        "id": "RRKRBRyugPVH"
      },
      "execution_count": null,
      "outputs": []
    },
    {
      "cell_type": "code",
      "source": [
        "#4596\n",
        "a = [list(map(int, input().split())) for _ in range(9)]\n",
        "b = max([max(row) for row in a])\n",
        "\n",
        "for i in range(9):\n",
        "    if b in a[i]:\n",
        "      print(f'{b}\\n{i+1} {a[i].index(b)+1}')\n",
        "      break\n"
      ],
      "metadata": {
        "id": "9E6ftfo0EoU3"
      },
      "execution_count": null,
      "outputs": []
    },
    {
      "cell_type": "code",
      "source": [
        "#4621\n",
        "n,k = map(int, input().split()); a = [i for i in range(1,n+1) if n%i==0]\n",
        "print(a[k-1] if k < len(a) else 0)"
      ],
      "metadata": {
        "colab": {
          "base_uri": "https://localhost:8080/"
        },
        "id": "m2Yaw7UqDnRI",
        "outputId": "5a2f5277-fc97-4256-a32a-e680f828ad58"
      },
      "execution_count": null,
      "outputs": [
        {
          "output_type": "stream",
          "name": "stdout",
          "text": [
            "1234 6\n",
            "0\n"
          ]
        }
      ]
    },
    {
      "cell_type": "code",
      "source": [
        "#4626\n",
        "a = int(input())\n",
        "b = list(map(int, input().split()))\n",
        "cg = 0\n",
        "sh = 0\n",
        "for i in b:\n",
        "  if i == 0:\n",
        "    sh = 0\n",
        "  else:\n",
        "    sh+=1\n",
        "    cg += sh\n",
        "\n",
        "print(cg)"
      ],
      "metadata": {
        "colab": {
          "base_uri": "https://localhost:8080/"
        },
        "id": "8Eo70yGsIOHh",
        "outputId": "88121a1f-4895-4f04-c158-c12ccf9aee9b"
      },
      "execution_count": null,
      "outputs": [
        {
          "output_type": "stream",
          "name": "stdout",
          "text": [
            "10\n",
            "1 0 1 1 1 0 0 1 1 0\n",
            "10\n"
          ]
        }
      ]
    },
    {
      "cell_type": "code",
      "source": [
        "#4651\n",
        "for i in [map(int, input().split()) for i in range(3)]:\n",
        "  b = ''.join(map(str, i)).count('1') #등\n",
        "  print('A' if b == 3 else 'B' if b ==2 else 'C' if b == 1 else 'D' if b ==0 else 'E')"
      ],
      "metadata": {
        "colab": {
          "base_uri": "https://localhost:8080/"
        },
        "id": "sBHVvHJLB8nK",
        "outputId": "89de6434-f1f8-4a29-a828-222cbff2014f"
      },
      "execution_count": null,
      "outputs": [
        {
          "output_type": "stream",
          "name": "stdout",
          "text": [
            "0 1 0 1\n",
            "1 1 1 0\n",
            "0 0 1 1\n",
            "2\n",
            "3\n",
            "2\n"
          ]
        }
      ]
    },
    {
      "cell_type": "code",
      "source": [
        "#4681\n",
        "a = list(map(int, input().split()))\n",
        "b = sum([i**2 for i in a])\n",
        "print(b%10)"
      ],
      "metadata": {
        "colab": {
          "base_uri": "https://localhost:8080/"
        },
        "id": "xpYAjNXZIviW",
        "outputId": "8eb87db1-c209-4e26-9319-cd0bf8fca9b8"
      },
      "execution_count": null,
      "outputs": [
        {
          "output_type": "stream",
          "name": "stdout",
          "text": [
            "0 4 2 5 6\n",
            "1\n"
          ]
        }
      ]
    },
    {
      "cell_type": "code",
      "source": [
        "#4691\n",
        "\n",
        "def cal_prz(die):\n",
        "    cnt = [0] * 7\n",
        "    for d in die:\n",
        "        cnt[d] += 1\n",
        "    if 4 in cnt:\n",
        "        e = cnt.index(4)\n",
        "        return 50000 + e * 5000\n",
        "    elif 3 in cnt:\n",
        "        e = cnt.index(3)\n",
        "        return 10000 + e * 1000\n",
        "    elif cnt.count(2) == 2:\n",
        "        es = [i for i in range(1, 7) if cnt[i] == 2]\n",
        "        return 2000 + sum(e * 500 for e in es)\n",
        "    elif 2 in cnt:\n",
        "        e = cnt.index(2)\n",
        "        return 1000 + e * 100\n",
        "    else:\n",
        "        return max(die) * 100\n",
        "\n",
        "n = int(input())\n",
        "mpz = 0\n",
        "for _ in range(n):\n",
        "    die = list(map(int, input().split()))\n",
        "    prz = cal_prz(die)\n",
        "    if prz > mpz:\n",
        "        mpz = prz\n",
        "print(mpz)\n",
        "\n",
        "\n"
      ],
      "metadata": {
        "id": "L9MctgmNCZU5"
      },
      "execution_count": null,
      "outputs": []
    },
    {
      "cell_type": "code",
      "source": [
        "#4711\n",
        "a = [map(int, input().split()) for i in range(4)]\n",
        "\n",
        "hs = 0\n",
        "b = []\n",
        "for i,j in a:\n",
        "  hs += j\n",
        "  hs -= i\n",
        "  if hs > 10000:\n",
        "    hs = 10000\n",
        "  b.append(hs)\n",
        "\n",
        "print(max(b))\n",
        "##########################GPT(요청)\n",
        "a = [map(int, input().split()) for i in range(4)]\n",
        "hs = 0\n",
        "b = [(hs := min(hs + j - i, 10000)) for i, j in a]\n",
        "print(max(b))"
      ],
      "metadata": {
        "colab": {
          "base_uri": "https://localhost:8080/"
        },
        "id": "nOKYuf6b_3W_",
        "outputId": "17112c46-2f1c-4830-a42b-de5faf6c510b"
      },
      "execution_count": null,
      "outputs": [
        {
          "output_type": "stream",
          "name": "stdout",
          "text": [
            "0 32\n",
            "3 13\n",
            "28 25\n",
            "39 0\n",
            "84\n"
          ]
        }
      ]
    },
    {
      "cell_type": "code",
      "source": [
        "#4716\n",
        "a = [map(int, input().split()) for i in range(10)]\n",
        "hs = 0\n",
        "b = [(hs := min(hs + j - i, 10000)) for i, j in a]\n",
        "print(max(b))"
      ],
      "metadata": {
        "id": "nfGsLpAJCX5g"
      },
      "execution_count": null,
      "outputs": []
    },
    {
      "cell_type": "code",
      "source": [
        "#4721\n",
        "a = int(input())\n",
        "b = [0, 0, 0]\n",
        "p3 = [0, 0, 0]\n",
        "p2 = [0, 0, 0]\n",
        "\n",
        "for i in range(a):\n",
        "    c = list(map(int, input().split()))\n",
        "\n",
        "    for j in range(3):\n",
        "        b[j] += c[j]\n",
        "\n",
        "    for j in range(3):\n",
        "        if c[j] == 3:\n",
        "            p3[j] += 1\n",
        "        elif c[j] == 2:\n",
        "            p2[j] += 1\n",
        "\n",
        "mx = max(b)\n",
        "\n",
        "if b.count(mx) == 1:\n",
        "    win = b.index(mx) + 1\n",
        "    print(win, mx)\n",
        "else:\n",
        "    can = [i for i in range(3) if b[i] == mx]\n",
        "    mx_p3 = max(p3[i] for i in can)\n",
        "\n",
        "    if sum(1 for i in can if p3[i] == mx_p3) == 1:\n",
        "        win = can[[p3[i] for i in can].index(mx_p3)] + 1\n",
        "        print(win, mx)\n",
        "    else:\n",
        "        mx_p2 = max(p2[i] for i in can)\n",
        "        if sum(1 for i in can if p2[i] == mx_p2) == 1:\n",
        "            win = can[[p2[i] for i in can].index(mx_p2)] + 1\n",
        "            print(win, mx)\n",
        "        else:\n",
        "            print(0, mx)\n"
      ],
      "metadata": {
        "colab": {
          "base_uri": "https://localhost:8080/"
        },
        "id": "jHVyi3wpntQI",
        "outputId": "89a97cf4-f475-4f36-a5f0-be770b039f24"
      },
      "execution_count": null,
      "outputs": [
        {
          "output_type": "stream",
          "name": "stdout",
          "text": [
            "6\n",
            "3 1 2\n",
            "2 3 1\n",
            "3 1 2\n",
            "1 2 3\n",
            "3 1 2\n",
            "1 2 3\n",
            "0 13\n",
            "[13, 10, 13]\n"
          ]
        }
      ]
    },
    {
      "cell_type": "code",
      "source": [
        "#4726\n",
        "\n",
        "n, k = map(int, input().split())\n",
        "a = list(map(int, input().split()))\n",
        "\n",
        "s = sum(a[:k])\n",
        "m = s\n",
        "\n",
        "for i in range(k, n):\n",
        "    s += a[i] - a[i - k]\n",
        "    if s > m:\n",
        "        m = s\n",
        "\n",
        "print(m)"
      ],
      "metadata": {
        "colab": {
          "base_uri": "https://localhost:8080/"
        },
        "id": "It-aQGlX4vBs",
        "outputId": "9fe186ac-a33e-429b-9f51-ec5510d7e759"
      },
      "execution_count": null,
      "outputs": [
        {
          "output_type": "stream",
          "name": "stdout",
          "text": [
            "10 5\n",
            "3 -2 -4 -9 0 3 7 13 8 -3\n",
            "31\n"
          ]
        }
      ]
    },
    {
      "cell_type": "code",
      "source": [
        "#4727 가장큰 i,j 값을 만족시키는것 연 a*b = gcd// lcm\n",
        "\n",
        "import math\n",
        "\n",
        "def find_numbers(G, L):\n",
        "    mul = L // G\n",
        "    a, b = 1, mul\n",
        "    for i in range(1, int(math.sqrt(mul)) + 1):\n",
        "        if mul % i == 0:\n",
        "            j = mul // i\n",
        "            if math.gcd(i, j) == 1:\n",
        "                a, b = i, j\n",
        "\n",
        "    return G * a, G * b\n",
        "\n",
        "G, L = map(int, input().split())\n",
        "\n",
        "x, y = find_numbers(G, L)\n",
        "print(min(x, y), max(x, y))"
      ],
      "metadata": {
        "colab": {
          "base_uri": "https://localhost:8080/"
        },
        "id": "3RvgoCB_y18s",
        "outputId": "5c469f9b-17d4-42b8-ae13-d751ca21893e"
      },
      "execution_count": null,
      "outputs": [
        {
          "output_type": "stream",
          "name": "stdout",
          "text": [
            "6 180\n",
            "30 36\n"
          ]
        }
      ]
    },
    {
      "cell_type": "code",
      "source": [
        "#4741\n",
        "\n",
        "a,b = map(int, input().split())\n",
        "c = int(input())\n",
        "\n",
        "d = []\n",
        "for i in [3600, 60]:\n",
        "  d.append(c//i)\n",
        "  c %= i\n",
        "\n",
        "\n",
        "print((a+d[0]+1)%24 if d[1]+b > 60 else (a+d[0])%24, b+d[1]-60 if d[1]+b > 60 else b+d[1])\n"
      ],
      "metadata": {
        "colab": {
          "base_uri": "https://localhost:8080/"
        },
        "id": "G4srBq8MmT5w",
        "outputId": "64a4e1bf-529f-4e8f-d9a3-df60e145e444"
      },
      "execution_count": null,
      "outputs": [
        {
          "output_type": "stream",
          "name": "stdout",
          "text": [
            "14 0\n",
            "786\n",
            "3 6\n"
          ]
        }
      ]
    },
    {
      "cell_type": "code",
      "source": [
        "#4746\n",
        "a,b,c = map(int, input().split())\n",
        "secc = int(input())\n",
        "\n",
        "d = []\n",
        "for i in [3600, 60,1]:\n",
        "    d.append(secc//i)\n",
        "    secc %= i\n",
        "\n",
        "if d[2]+c > 60:\n",
        "  b+=1\n",
        "\n",
        "print((a+d[0]+1)%24 if d[1]+b > 60 else (a+d[0])%24, b+d[1]-60 if d[1]+b > 60 else b+d[1], c+d[2]-60 if d[2]+c > 60 else c+d[2] )"
      ],
      "metadata": {
        "colab": {
          "base_uri": "https://localhost:8080/",
          "height": 391
        },
        "id": "nxngYmDYb-Kg",
        "outputId": "8af6f923-4d77-4f6b-c6c8-edf3f2280456"
      },
      "execution_count": null,
      "outputs": [
        {
          "output_type": "error",
          "ename": "KeyboardInterrupt",
          "evalue": "Interrupted by user",
          "traceback": [
            "\u001b[0;31m---------------------------------------------------------------------------\u001b[0m",
            "\u001b[0;31mKeyboardInterrupt\u001b[0m                         Traceback (most recent call last)",
            "\u001b[0;32m<ipython-input-8-c4803f5ce299>\u001b[0m in \u001b[0;36m<cell line: 2>\u001b[0;34m()\u001b[0m\n\u001b[1;32m      1\u001b[0m \u001b[0;31m#4746\u001b[0m\u001b[0;34m\u001b[0m\u001b[0;34m\u001b[0m\u001b[0m\n\u001b[0;32m----> 2\u001b[0;31m \u001b[0ma\u001b[0m\u001b[0;34m,\u001b[0m\u001b[0mb\u001b[0m\u001b[0;34m,\u001b[0m\u001b[0mc\u001b[0m \u001b[0;34m=\u001b[0m \u001b[0mmap\u001b[0m\u001b[0;34m(\u001b[0m\u001b[0mint\u001b[0m\u001b[0;34m,\u001b[0m \u001b[0minput\u001b[0m\u001b[0;34m(\u001b[0m\u001b[0;34m)\u001b[0m\u001b[0;34m.\u001b[0m\u001b[0msplit\u001b[0m\u001b[0;34m(\u001b[0m\u001b[0;34m)\u001b[0m\u001b[0;34m)\u001b[0m\u001b[0;34m\u001b[0m\u001b[0;34m\u001b[0m\u001b[0m\n\u001b[0m\u001b[1;32m      3\u001b[0m \u001b[0msecc\u001b[0m \u001b[0;34m=\u001b[0m \u001b[0mint\u001b[0m\u001b[0;34m(\u001b[0m\u001b[0minput\u001b[0m\u001b[0;34m(\u001b[0m\u001b[0;34m)\u001b[0m\u001b[0;34m)\u001b[0m\u001b[0;34m\u001b[0m\u001b[0;34m\u001b[0m\u001b[0m\n\u001b[1;32m      4\u001b[0m \u001b[0;34m\u001b[0m\u001b[0m\n\u001b[1;32m      5\u001b[0m \u001b[0md\u001b[0m \u001b[0;34m=\u001b[0m \u001b[0;34m[\u001b[0m\u001b[0;34m]\u001b[0m\u001b[0;34m\u001b[0m\u001b[0;34m\u001b[0m\u001b[0m\n",
            "\u001b[0;32m/usr/local/lib/python3.10/dist-packages/ipykernel/kernelbase.py\u001b[0m in \u001b[0;36mraw_input\u001b[0;34m(self, prompt)\u001b[0m\n\u001b[1;32m    849\u001b[0m                 \u001b[0;34m\"raw_input was called, but this frontend does not support input requests.\"\u001b[0m\u001b[0;34m\u001b[0m\u001b[0;34m\u001b[0m\u001b[0m\n\u001b[1;32m    850\u001b[0m             )\n\u001b[0;32m--> 851\u001b[0;31m         return self._input_request(str(prompt),\n\u001b[0m\u001b[1;32m    852\u001b[0m             \u001b[0mself\u001b[0m\u001b[0;34m.\u001b[0m\u001b[0m_parent_ident\u001b[0m\u001b[0;34m,\u001b[0m\u001b[0;34m\u001b[0m\u001b[0;34m\u001b[0m\u001b[0m\n\u001b[1;32m    853\u001b[0m             \u001b[0mself\u001b[0m\u001b[0;34m.\u001b[0m\u001b[0m_parent_header\u001b[0m\u001b[0;34m,\u001b[0m\u001b[0;34m\u001b[0m\u001b[0;34m\u001b[0m\u001b[0m\n",
            "\u001b[0;32m/usr/local/lib/python3.10/dist-packages/ipykernel/kernelbase.py\u001b[0m in \u001b[0;36m_input_request\u001b[0;34m(self, prompt, ident, parent, password)\u001b[0m\n\u001b[1;32m    893\u001b[0m             \u001b[0;32mexcept\u001b[0m \u001b[0mKeyboardInterrupt\u001b[0m\u001b[0;34m:\u001b[0m\u001b[0;34m\u001b[0m\u001b[0;34m\u001b[0m\u001b[0m\n\u001b[1;32m    894\u001b[0m                 \u001b[0;31m# re-raise KeyboardInterrupt, to truncate traceback\u001b[0m\u001b[0;34m\u001b[0m\u001b[0;34m\u001b[0m\u001b[0m\n\u001b[0;32m--> 895\u001b[0;31m                 \u001b[0;32mraise\u001b[0m \u001b[0mKeyboardInterrupt\u001b[0m\u001b[0;34m(\u001b[0m\u001b[0;34m\"Interrupted by user\"\u001b[0m\u001b[0;34m)\u001b[0m \u001b[0;32mfrom\u001b[0m \u001b[0;32mNone\u001b[0m\u001b[0;34m\u001b[0m\u001b[0;34m\u001b[0m\u001b[0m\n\u001b[0m\u001b[1;32m    896\u001b[0m             \u001b[0;32mexcept\u001b[0m \u001b[0mException\u001b[0m \u001b[0;32mas\u001b[0m \u001b[0me\u001b[0m\u001b[0;34m:\u001b[0m\u001b[0;34m\u001b[0m\u001b[0;34m\u001b[0m\u001b[0m\n\u001b[1;32m    897\u001b[0m                 \u001b[0mself\u001b[0m\u001b[0;34m.\u001b[0m\u001b[0mlog\u001b[0m\u001b[0;34m.\u001b[0m\u001b[0mwarning\u001b[0m\u001b[0;34m(\u001b[0m\u001b[0;34m\"Invalid Message:\"\u001b[0m\u001b[0;34m,\u001b[0m \u001b[0mexc_info\u001b[0m\u001b[0;34m=\u001b[0m\u001b[0;32mTrue\u001b[0m\u001b[0;34m)\u001b[0m\u001b[0;34m\u001b[0m\u001b[0;34m\u001b[0m\u001b[0m\n",
            "\u001b[0;31mKeyboardInterrupt\u001b[0m: Interrupted by user"
          ]
        }
      ]
    },
    {
      "cell_type": "code",
      "source": [
        "#4751\n",
        "a = sorted([list(map(int,input().split())) for i in range(int(input()))], key = lambda x : x[2], reverse = True)\n",
        "\n",
        "b, c = [], 0\n",
        "for i in a:\n",
        "  if c == 3:\n",
        "    break\n",
        "\n",
        "  if b.count(i[0]) != 2:\n",
        "    print(i[0], i[1])\n",
        "    b.append(i[0])\n",
        "    c += 1"
      ],
      "metadata": {
        "id": "YqJ9kQhGsL0x",
        "colab": {
          "base_uri": "https://localhost:8080/"
        },
        "outputId": "59f8989f-1209-44b2-ade0-d30c6e9b6f2c"
      },
      "execution_count": null,
      "outputs": [
        {
          "output_type": "stream",
          "name": "stdout",
          "text": [
            "4\n",
            "1 1 230\n",
            "1 2 210\n",
            "1 3 205\n",
            "3 4 190\n",
            "1 1\n",
            "1 2\n",
            "3 4\n"
          ]
        }
      ]
    },
    {
      "cell_type": "code",
      "source": [
        "a = sorted([list(map(int,input().split())) for i in range(int(input()))], key = lambda x : x[2], reverse = True)\n",
        "\n",
        "print(a[0][0], a[0][1])\n",
        "print(a[1][0], a[1][1])\n",
        "\n",
        "if a[0][0] != a[1][0]:\n",
        "  print(a[2][0], a[2][1])\n",
        "else:\n",
        "  for i in a[2:]:\n",
        "    if i[0] != a[0][0]:\n",
        "      print(i[0], i[1])\n",
        "      break\n",
        "\n"
      ],
      "metadata": {
        "id": "7PF_a6xssAO2"
      },
      "execution_count": null,
      "outputs": []
    },
    {
      "cell_type": "code",
      "source": [
        "#4771\n",
        "a = list(input())\n",
        "b = 10\n",
        "for i in range(1,len(a)):\n",
        "  if a[i-1] != a[i]:\n",
        "    b+=10\n",
        "  else:\n",
        "    b+=5\n",
        "\n",
        "print(b)"
      ],
      "metadata": {
        "id": "EiB8ER4Vxq89",
        "colab": {
          "base_uri": "https://localhost:8080/"
        },
        "outputId": "84e3593f-da4f-4860-db32-f7fa2c271a5c"
      },
      "execution_count": null,
      "outputs": [
        {
          "output_type": "stream",
          "name": "stdout",
          "text": [
            "()()()))(\n",
            "80\n"
          ]
        }
      ]
    },
    {
      "cell_type": "code",
      "source": [
        "#4772\n",
        "def calculate_ranks(people):\n",
        "    n = len(people)\n",
        "    ranks = [1] * n\n",
        "\n",
        "    for i in range(n):\n",
        "        for j in range(n):\n",
        "            if i != j:\n",
        "                if people[i][0] < people[j][0] and people[i][1] < people[j][1]:\n",
        "                    ranks[i] += 1\n",
        "\n",
        "    return ranks\n",
        "\n",
        "people = [tuple(map(int,input().split())) for i in range(int(input()))]\n",
        "print(*calculate_ranks(people))\n"
      ],
      "metadata": {
        "colab": {
          "base_uri": "https://localhost:8080/"
        },
        "id": "Ud03mCvZiIOc",
        "outputId": "64c525e2-1979-4e6b-c02a-c79a8c3cd5f2"
      },
      "execution_count": null,
      "outputs": [
        {
          "output_type": "stream",
          "name": "stdout",
          "text": [
            "2 2 1 2 5\n"
          ]
        }
      ]
    },
    {
      "cell_type": "code",
      "source": [],
      "metadata": {
        "id": "elxyGRKQjJYq"
      },
      "execution_count": null,
      "outputs": []
    },
    {
      "cell_type": "code",
      "source": [
        "#4776\n",
        "\n",
        "A = [0, 1, 2, 3, 4, 5, 6, 7, 8, 9]\n",
        "B = ['A', 'B', 'C', 'D', 'E', 'F', 'G', 'H', 'I', 'J', 'K', 'L']\n",
        "\n",
        "year = int(input())\n",
        "\n",
        "print(f\"{B[(year + 8) % 12]}{A[(year + 6) % 10]}\")"
      ],
      "metadata": {
        "id": "0vcerHiHAZQz"
      },
      "execution_count": null,
      "outputs": []
    },
    {
      "cell_type": "code",
      "source": [
        "#4781\n",
        "a,b = map(int, input().split())\n",
        "board = [list(map(int, input().split())) for i in range(b)]\n",
        "\n",
        "\n",
        "from collections import deque\n",
        "\n",
        "\n",
        "n = len(board)\n",
        "m = len(board[0])\n",
        "\n",
        "dx = [-1, 1, 0, 0]\n",
        "dy = [0, 0, -1, 1]\n",
        "\n",
        "queue = deque()\n",
        "\n",
        "for i in range(n):\n",
        "    for j in range(m):\n",
        "        if board[i][j] == 1:\n",
        "            queue.append((i, j))\n",
        "\n",
        "steps = 0\n",
        "\n",
        "while queue:\n",
        "    for _ in range(len(queue)):\n",
        "        x, y = queue.popleft()\n",
        "\n",
        "        for i in range(4):\n",
        "            nx, ny = x + dx[i], y + dy[i]\n",
        "\n",
        "            if 0 <= nx < n and 0 <= ny < m and board[nx][ny] == 0:\n",
        "                board[nx][ny] = 1\n",
        "                queue.append((nx, ny))\n",
        "\n",
        "    steps += 1\n",
        "\n",
        "for row in board:\n",
        "    if 0 in row:\n",
        "        print(-1)\n",
        "        break\n",
        "else:\n",
        "    print(steps - 1)"
      ],
      "metadata": {
        "colab": {
          "base_uri": "https://localhost:8080/"
        },
        "id": "qPx5NyICGO8-",
        "outputId": "4e1dbb2a-2155-4ce6-a28c-07856ff36a87"
      },
      "execution_count": null,
      "outputs": [
        {
          "output_type": "stream",
          "name": "stdout",
          "text": [
            "5 3\n",
            "0 -1 0 0 0 \n",
            "-1 -1 0 1 1\n",
            "0 0 0 1 1\n",
            "-1\n"
          ]
        }
      ]
    },
    {
      "cell_type": "code",
      "source": [
        "#4786\n",
        "\n",
        "n, k = map(int, input().split())\n",
        "medals = [tuple(map(int, input().split())) for i in range(n)]\n",
        "\n",
        "sorted_medals = sorted(medals, key=lambda x: (-x[1], -x[2], -x[3]))\n",
        "\n",
        "rank = 1\n",
        "ranks = {}\n",
        "previous = sorted_medals[0]\n",
        "\n",
        "for i, country in enumerate(sorted_medals):\n",
        "    if i == 0 or (country[1:] != previous[1:]):\n",
        "        rank = i + 1\n",
        "    ranks[country[0]] = rank\n",
        "    previous = country\n",
        "\n",
        "print(ranks[k])"
      ],
      "metadata": {
        "colab": {
          "base_uri": "https://localhost:8080/",
          "height": 391
        },
        "id": "BRZ780uSSJ91",
        "outputId": "7894d7b0-8ff6-4717-9038-53e678da9225"
      },
      "execution_count": null,
      "outputs": [
        {
          "output_type": "error",
          "ename": "KeyboardInterrupt",
          "evalue": "Interrupted by user",
          "traceback": [
            "\u001b[0;31m---------------------------------------------------------------------------\u001b[0m",
            "\u001b[0;31mKeyboardInterrupt\u001b[0m                         Traceback (most recent call last)",
            "\u001b[0;32m<ipython-input-10-1c4202bc457b>\u001b[0m in \u001b[0;36m<cell line: 4>\u001b[0;34m()\u001b[0m\n\u001b[1;32m      2\u001b[0m \u001b[0;34m\u001b[0m\u001b[0m\n\u001b[1;32m      3\u001b[0m \u001b[0mn\u001b[0m\u001b[0;34m,\u001b[0m \u001b[0mk\u001b[0m \u001b[0;34m=\u001b[0m \u001b[0;36m4\u001b[0m\u001b[0;34m,\u001b[0m \u001b[0;36m3\u001b[0m\u001b[0;34m\u001b[0m\u001b[0;34m\u001b[0m\u001b[0m\n\u001b[0;32m----> 4\u001b[0;31m \u001b[0mmedals\u001b[0m \u001b[0;34m=\u001b[0m \u001b[0;34m[\u001b[0m\u001b[0mtuple\u001b[0m\u001b[0;34m(\u001b[0m\u001b[0mmap\u001b[0m\u001b[0;34m(\u001b[0m\u001b[0mint\u001b[0m\u001b[0;34m,\u001b[0m \u001b[0minput\u001b[0m\u001b[0;34m(\u001b[0m\u001b[0;34m)\u001b[0m\u001b[0;34m.\u001b[0m\u001b[0msplit\u001b[0m\u001b[0;34m(\u001b[0m\u001b[0;34m)\u001b[0m\u001b[0;34m)\u001b[0m\u001b[0;34m)\u001b[0m \u001b[0;32mfor\u001b[0m \u001b[0mi\u001b[0m \u001b[0;32min\u001b[0m \u001b[0mrange\u001b[0m\u001b[0;34m(\u001b[0m\u001b[0mn\u001b[0m\u001b[0;34m)\u001b[0m\u001b[0;34m]\u001b[0m\u001b[0;34m\u001b[0m\u001b[0;34m\u001b[0m\u001b[0m\n\u001b[0m\u001b[1;32m      5\u001b[0m \u001b[0;34m\u001b[0m\u001b[0m\n\u001b[1;32m      6\u001b[0m \u001b[0msorted_medals\u001b[0m \u001b[0;34m=\u001b[0m \u001b[0msorted\u001b[0m\u001b[0;34m(\u001b[0m\u001b[0mmedals\u001b[0m\u001b[0;34m,\u001b[0m \u001b[0mkey\u001b[0m\u001b[0;34m=\u001b[0m\u001b[0;32mlambda\u001b[0m \u001b[0mx\u001b[0m\u001b[0;34m:\u001b[0m \u001b[0;34m(\u001b[0m\u001b[0;34m-\u001b[0m\u001b[0mx\u001b[0m\u001b[0;34m[\u001b[0m\u001b[0;36m1\u001b[0m\u001b[0;34m]\u001b[0m\u001b[0;34m,\u001b[0m \u001b[0;34m-\u001b[0m\u001b[0mx\u001b[0m\u001b[0;34m[\u001b[0m\u001b[0;36m2\u001b[0m\u001b[0;34m]\u001b[0m\u001b[0;34m,\u001b[0m \u001b[0;34m-\u001b[0m\u001b[0mx\u001b[0m\u001b[0;34m[\u001b[0m\u001b[0;36m3\u001b[0m\u001b[0;34m]\u001b[0m\u001b[0;34m)\u001b[0m\u001b[0;34m)\u001b[0m\u001b[0;34m\u001b[0m\u001b[0;34m\u001b[0m\u001b[0m\n",
            "\u001b[0;32m<ipython-input-10-1c4202bc457b>\u001b[0m in \u001b[0;36m<listcomp>\u001b[0;34m(.0)\u001b[0m\n\u001b[1;32m      2\u001b[0m \u001b[0;34m\u001b[0m\u001b[0m\n\u001b[1;32m      3\u001b[0m \u001b[0mn\u001b[0m\u001b[0;34m,\u001b[0m \u001b[0mk\u001b[0m \u001b[0;34m=\u001b[0m \u001b[0;36m4\u001b[0m\u001b[0;34m,\u001b[0m \u001b[0;36m3\u001b[0m\u001b[0;34m\u001b[0m\u001b[0;34m\u001b[0m\u001b[0m\n\u001b[0;32m----> 4\u001b[0;31m \u001b[0mmedals\u001b[0m \u001b[0;34m=\u001b[0m \u001b[0;34m[\u001b[0m\u001b[0mtuple\u001b[0m\u001b[0;34m(\u001b[0m\u001b[0mmap\u001b[0m\u001b[0;34m(\u001b[0m\u001b[0mint\u001b[0m\u001b[0;34m,\u001b[0m \u001b[0minput\u001b[0m\u001b[0;34m(\u001b[0m\u001b[0;34m)\u001b[0m\u001b[0;34m.\u001b[0m\u001b[0msplit\u001b[0m\u001b[0;34m(\u001b[0m\u001b[0;34m)\u001b[0m\u001b[0;34m)\u001b[0m\u001b[0;34m)\u001b[0m \u001b[0;32mfor\u001b[0m \u001b[0mi\u001b[0m \u001b[0;32min\u001b[0m \u001b[0mrange\u001b[0m\u001b[0;34m(\u001b[0m\u001b[0mn\u001b[0m\u001b[0;34m)\u001b[0m\u001b[0;34m]\u001b[0m\u001b[0;34m\u001b[0m\u001b[0;34m\u001b[0m\u001b[0m\n\u001b[0m\u001b[1;32m      5\u001b[0m \u001b[0;34m\u001b[0m\u001b[0m\n\u001b[1;32m      6\u001b[0m \u001b[0msorted_medals\u001b[0m \u001b[0;34m=\u001b[0m \u001b[0msorted\u001b[0m\u001b[0;34m(\u001b[0m\u001b[0mmedals\u001b[0m\u001b[0;34m,\u001b[0m \u001b[0mkey\u001b[0m\u001b[0;34m=\u001b[0m\u001b[0;32mlambda\u001b[0m \u001b[0mx\u001b[0m\u001b[0;34m:\u001b[0m \u001b[0;34m(\u001b[0m\u001b[0;34m-\u001b[0m\u001b[0mx\u001b[0m\u001b[0;34m[\u001b[0m\u001b[0;36m1\u001b[0m\u001b[0;34m]\u001b[0m\u001b[0;34m,\u001b[0m \u001b[0;34m-\u001b[0m\u001b[0mx\u001b[0m\u001b[0;34m[\u001b[0m\u001b[0;36m2\u001b[0m\u001b[0;34m]\u001b[0m\u001b[0;34m,\u001b[0m \u001b[0;34m-\u001b[0m\u001b[0mx\u001b[0m\u001b[0;34m[\u001b[0m\u001b[0;36m3\u001b[0m\u001b[0;34m]\u001b[0m\u001b[0;34m)\u001b[0m\u001b[0;34m)\u001b[0m\u001b[0;34m\u001b[0m\u001b[0;34m\u001b[0m\u001b[0m\n",
            "\u001b[0;32m/usr/local/lib/python3.10/dist-packages/ipykernel/kernelbase.py\u001b[0m in \u001b[0;36mraw_input\u001b[0;34m(self, prompt)\u001b[0m\n\u001b[1;32m    849\u001b[0m                 \u001b[0;34m\"raw_input was called, but this frontend does not support input requests.\"\u001b[0m\u001b[0;34m\u001b[0m\u001b[0;34m\u001b[0m\u001b[0m\n\u001b[1;32m    850\u001b[0m             )\n\u001b[0;32m--> 851\u001b[0;31m         return self._input_request(str(prompt),\n\u001b[0m\u001b[1;32m    852\u001b[0m             \u001b[0mself\u001b[0m\u001b[0;34m.\u001b[0m\u001b[0m_parent_ident\u001b[0m\u001b[0;34m,\u001b[0m\u001b[0;34m\u001b[0m\u001b[0;34m\u001b[0m\u001b[0m\n\u001b[1;32m    853\u001b[0m             \u001b[0mself\u001b[0m\u001b[0;34m.\u001b[0m\u001b[0m_parent_header\u001b[0m\u001b[0;34m,\u001b[0m\u001b[0;34m\u001b[0m\u001b[0;34m\u001b[0m\u001b[0m\n",
            "\u001b[0;32m/usr/local/lib/python3.10/dist-packages/ipykernel/kernelbase.py\u001b[0m in \u001b[0;36m_input_request\u001b[0;34m(self, prompt, ident, parent, password)\u001b[0m\n\u001b[1;32m    893\u001b[0m             \u001b[0;32mexcept\u001b[0m \u001b[0mKeyboardInterrupt\u001b[0m\u001b[0;34m:\u001b[0m\u001b[0;34m\u001b[0m\u001b[0;34m\u001b[0m\u001b[0m\n\u001b[1;32m    894\u001b[0m                 \u001b[0;31m# re-raise KeyboardInterrupt, to truncate traceback\u001b[0m\u001b[0;34m\u001b[0m\u001b[0;34m\u001b[0m\u001b[0m\n\u001b[0;32m--> 895\u001b[0;31m                 \u001b[0;32mraise\u001b[0m \u001b[0mKeyboardInterrupt\u001b[0m\u001b[0;34m(\u001b[0m\u001b[0;34m\"Interrupted by user\"\u001b[0m\u001b[0;34m)\u001b[0m \u001b[0;32mfrom\u001b[0m \u001b[0;32mNone\u001b[0m\u001b[0;34m\u001b[0m\u001b[0;34m\u001b[0m\u001b[0m\n\u001b[0m\u001b[1;32m    896\u001b[0m             \u001b[0;32mexcept\u001b[0m \u001b[0mException\u001b[0m \u001b[0;32mas\u001b[0m \u001b[0me\u001b[0m\u001b[0;34m:\u001b[0m\u001b[0;34m\u001b[0m\u001b[0;34m\u001b[0m\u001b[0m\n\u001b[1;32m    897\u001b[0m                 \u001b[0mself\u001b[0m\u001b[0;34m.\u001b[0m\u001b[0mlog\u001b[0m\u001b[0;34m.\u001b[0m\u001b[0mwarning\u001b[0m\u001b[0;34m(\u001b[0m\u001b[0;34m\"Invalid Message:\"\u001b[0m\u001b[0;34m,\u001b[0m \u001b[0mexc_info\u001b[0m\u001b[0;34m=\u001b[0m\u001b[0;32mTrue\u001b[0m\u001b[0;34m)\u001b[0m\u001b[0;34m\u001b[0m\u001b[0;34m\u001b[0m\u001b[0m\n",
            "\u001b[0;31mKeyboardInterrupt\u001b[0m: Interrupted by user"
          ]
        }
      ]
    },
    {
      "cell_type": "code",
      "source": [
        "#4801\n",
        "\n",
        "a,b,c = map(int, input().split())\n",
        "print(max(0,(a*b)-c))"
      ],
      "metadata": {
        "colab": {
          "base_uri": "https://localhost:8080/"
        },
        "id": "3kYBdtNultvZ",
        "outputId": "61750676-a91e-44ed-8cc6-7d51d53b135d"
      },
      "execution_count": null,
      "outputs": [
        {
          "output_type": "stream",
          "name": "stdout",
          "text": [
            "250 2 140\n",
            "360\n"
          ]
        }
      ]
    },
    {
      "cell_type": "code",
      "source": [
        "#4816\n",
        "a = int(input())\n",
        "c = []\n",
        "for i in [300,60,10]:\n",
        "  c.append(a//i)\n",
        "  a %= i\n",
        "\n",
        "print(' '.join(map(str, c)) if a == 0 else -1)"
      ],
      "metadata": {
        "colab": {
          "base_uri": "https://localhost:8080/"
        },
        "id": "X-5CkgqvBHzP",
        "outputId": "62cfd4a3-3d4c-4000-d97f-92e6249c14c8"
      },
      "execution_count": null,
      "outputs": [
        {
          "output_type": "stream",
          "name": "stdout",
          "text": [
            "9840\n",
            "32 4 0\n"
          ]
        }
      ]
    },
    {
      "cell_type": "code",
      "source": [
        "#4818\n",
        "import math\n",
        "\n",
        "def count_paths(N, M, K):\n",
        "    if K == 0:\n",
        "        # O가 없는 경우, 전체 경로의 수를 조합으로 계산\n",
        "        return math.comb(N + M - 2, M - 1)\n",
        "    else:\n",
        "        O_row = (K - 1) // M\n",
        "        O_col = (K - 1) % M\n",
        "\n",
        "        paths_to_O = math.comb(O_row + O_col, O_col)\n",
        "\n",
        "        paths_from_O = math.comb((N - 1 - O_row) + (M - 1 - O_col), M - 1 - O_col)\n",
        "\n",
        "        return paths_to_O * paths_from_O\n",
        "\n",
        "N, M, K = map(int, input().split())\n",
        "\n",
        "result = count_paths(N, M, K)\n",
        "\n",
        "print(result)\n",
        "\n",
        "\n"
      ],
      "metadata": {
        "colab": {
          "base_uri": "https://localhost:8080/"
        },
        "id": "DZW60h3YSRSh",
        "outputId": "940c85ec-3b9d-470a-89fb-ac2fec360db3"
      },
      "execution_count": null,
      "outputs": [
        {
          "output_type": "stream",
          "name": "stdout",
          "text": [
            "3 5 8\n",
            "9\n"
          ]
        }
      ]
    },
    {
      "cell_type": "code",
      "source": [
        "#4831\n",
        "a = int(input())\n",
        "b = list(map(int, input().split()))\n",
        "print(b.count(a))"
      ],
      "metadata": {
        "colab": {
          "base_uri": "https://localhost:8080/"
        },
        "id": "zij2G2OmBrbs",
        "outputId": "e7e6f43f-75e0-4c8f-b977-fd4520c413bb"
      },
      "execution_count": null,
      "outputs": [
        {
          "output_type": "stream",
          "name": "stdout",
          "text": [
            "1\n",
            "2 3 4\n",
            "0\n"
          ]
        }
      ]
    },
    {
      "cell_type": "code",
      "source": [
        "a = [input() for i in range(5)]\n",
        "\n",
        "for i in range(15):\n",
        "  for j in range(5):\n",
        "    if i < len(a[j]):\n",
        "      print(a[j][i], end='')"
      ],
      "metadata": {
        "colab": {
          "base_uri": "https://localhost:8080/"
        },
        "id": "035zagb_z5Jh",
        "outputId": "bf3d0d51-3362-4e86-caea-716e3b6d1702"
      },
      "execution_count": null,
      "outputs": [
        {
          "output_type": "stream",
          "name": "stdout",
          "text": [
            "ABCDE\n",
            "ABCDE\n",
            "ABCDE\n",
            "ABCDE\n",
            "ABCDE\n",
            "AAAAABBBBBCCCCCDDDDDEEEEE"
          ]
        }
      ]
    },
    {
      "cell_type": "code",
      "source": [
        "#4833\n",
        "\n",
        "a = input()\n",
        "\n",
        "gal,gg = 0,0\n",
        "for i in range(len(a)):\n",
        "  if a[i] == '(' :\n",
        "    gal += 1\n",
        "  else:\n",
        "    gal -= 1\n",
        "    if a[i-1] == '(':\n",
        "      gg += gal\n",
        "    else:\n",
        "      gg += 1\n",
        "\n",
        "print(gg)"
      ],
      "metadata": {
        "id": "eSJk6jmJ-Ptj",
        "colab": {
          "base_uri": "https://localhost:8080/"
        },
        "outputId": "4b46278c-41e9-4171-eb0c-dc903cc3fe6b"
      },
      "execution_count": null,
      "outputs": [
        {
          "output_type": "stream",
          "name": "stdout",
          "text": [
            "()(((()())(())()))(())\n",
            "17\n"
          ]
        }
      ]
    },
    {
      "cell_type": "code",
      "source": [
        "#4846\n",
        "print(sum([j%i for i,j in [list(map(int, input().split())) for i in range(int(input()))]]))"
      ],
      "metadata": {
        "colab": {
          "base_uri": "https://localhost:8080/"
        },
        "id": "RcjSCoW5HaXN",
        "outputId": "404f9351-e4d8-4e61-f617-59e1c83890a9"
      },
      "execution_count": null,
      "outputs": [
        {
          "output_type": "stream",
          "name": "stdout",
          "text": [
            "5\n",
            "24 52\n",
            "13 22\n",
            "5 53\n",
            "23 10\n",
            "7 70\n",
            "[4, 9, 3, 10, 0]\n",
            "26\n"
          ]
        }
      ]
    },
    {
      "cell_type": "code",
      "source": [
        "#4861\n",
        "import math\n",
        "\n",
        "n ,k = map(int, input().split())\n",
        "\n",
        "grade = {\n",
        "    1: {0: 0, 1: 0},\n",
        "    2: {0: 0, 1: 0},\n",
        "    3: {0: 0, 1: 0},\n",
        "    4: {0: 0, 1: 0},\n",
        "    5: {0: 0, 1: 0},\n",
        "    6: {0: 0, 1: 0}\n",
        "}\n",
        "\n",
        "for i in range(n):\n",
        "  se, hn = map(int, input().split())\n",
        "  grade[hn][se] += 1\n",
        "\n",
        "room = 0\n",
        "for i in range(1,7):\n",
        "  room += math.ceil(grade[i][1]/k) + math.ceil(grade[i][0]/k)\n",
        "\n",
        "print(room)"
      ],
      "metadata": {
        "colab": {
          "base_uri": "https://localhost:8080/"
        },
        "id": "gpaI5lFhbTx8",
        "outputId": "1b74badc-056a-4b09-cdd3-cc6140106b32"
      },
      "execution_count": null,
      "outputs": [
        {
          "output_type": "stream",
          "name": "stdout",
          "text": [
            "2 2\n",
            "1 1\n",
            "0 1\n",
            "2\n"
          ]
        }
      ]
    },
    {
      "cell_type": "code",
      "source": [
        "#4876\n",
        "\n",
        "def classti(a,b):\n",
        "    a = ''.join(a)\n",
        "    b = ''.join(b)\n",
        "\n",
        "    if a == b:\n",
        "        return 'D'\n",
        "\n",
        "    s,c,r,t = False, False, False, False\n",
        "\n",
        "    if a.count('4') > b.count('4'):\n",
        "        return 'A'\n",
        "    elif a.count('4') < b.count('4'):\n",
        "        return 'B'\n",
        "    else:\n",
        "      s = True\n",
        "\n",
        "    if a.count('3') > b.count('3'):\n",
        "        return 'A'\n",
        "    elif a.count('3') < b.count('3'):\n",
        "        return 'B'\n",
        "    else:\n",
        "        c = True\n",
        "\n",
        "    if a.count('2') > b.count('2'):\n",
        "        return 'A'\n",
        "    elif a.count('2') < b.count('2'):\n",
        "        return 'B'\n",
        "    else:\n",
        "        r = True\n",
        "\n",
        "    if a.count('1') > b.count('1'):\n",
        "        return 'A'\n",
        "    elif a.count('1') < b.count('1'):\n",
        "        return 'B'\n",
        "    else:\n",
        "        t = True\n",
        "\n",
        "    if s and c and r and t:\n",
        "        return 'D'\n",
        "\n",
        "matchh = int(input())\n",
        "\n",
        "for i in range(matchh):\n",
        "  a = input().split()[1:]\n",
        "  b = input().split()[1:]\n",
        "\n",
        "  print(classti(a,b))\n"
      ],
      "metadata": {
        "colab": {
          "base_uri": "https://localhost:8080/"
        },
        "id": "o8CPvpSP2mxK",
        "outputId": "7855d3e6-cde8-4d00-cdb8-e452e01f2771"
      },
      "execution_count": null,
      "outputs": [
        {
          "output_type": "stream",
          "name": "stdout",
          "text": [
            "1\n",
            "5 2 4 3 2 1\n",
            "4 4 3 3 1\n",
            "B\n"
          ]
        }
      ]
    },
    {
      "cell_type": "code",
      "source": [
        "#4891\n",
        "a = input()\n",
        "b = list(map(int, input().split()))\n",
        "print(max(b)-min(b))"
      ],
      "metadata": {
        "colab": {
          "base_uri": "https://localhost:8080/"
        },
        "id": "qj6Vcd8YJslH",
        "outputId": "254f8ab1-1b06-47f3-8ec1-540069b85fce"
      },
      "execution_count": null,
      "outputs": [
        {
          "output_type": "stream",
          "name": "stdout",
          "text": [
            "5\n",
            "27 35 92 75 42\n",
            "65\n"
          ]
        }
      ]
    },
    {
      "cell_type": "code",
      "source": [
        "#4901\n",
        "b = [tuple(map(int, input().split())) for _ in range(int(input()))]\n",
        "\n",
        "c = dict() #각 점마다 q로 가는 화살표\n",
        "for i,j in b:\n",
        "  if j not in c:\n",
        "    c.update({j:[i]})\n",
        "  else:\n",
        "    c.update({j:c[j]+[i]})\n",
        "\n",
        "total = 0\n",
        "for k, j in c.items(): #그리디 알고리즘\n",
        "  j.sort()\n",
        "  if len(j) == 1:\n",
        "    continue\n",
        "\n",
        "  for i in range(len(j)):\n",
        "    if i == 0:\n",
        "        total += j[i+1] - j[i]\n",
        "    elif i == len(j) - 1:\n",
        "        total += j[i] - j[i-1]\n",
        "    else:\n",
        "        total += min(j[i] - j[i-1], j[i+1] - j[i])\n",
        "\n",
        "print(total)"
      ],
      "metadata": {
        "colab": {
          "base_uri": "https://localhost:8080/"
        },
        "id": "CjNi1M-dAXBN",
        "outputId": "a2ce2862-2762-4ccd-9740-ef12326edf61"
      },
      "execution_count": null,
      "outputs": [
        {
          "output_type": "stream",
          "name": "stdout",
          "text": [
            "4\n",
            "0 1\n",
            "1 2\n",
            "3 1\n",
            "4 1\n",
            "5\n"
          ]
        }
      ]
    },
    {
      "cell_type": "code",
      "source": [],
      "metadata": {
        "colab": {
          "base_uri": "https://localhost:8080/"
        },
        "id": "ixRnpSFqMyZ-",
        "outputId": "6337d267-3b99-4f90-88dc-179b072c316d"
      },
      "execution_count": null,
      "outputs": [
        {
          "output_type": "stream",
          "name": "stdout",
          "text": [
            "3\n",
            "1 4\n",
            "7 7\n",
            "12 16\n",
            "4\n",
            "3\n",
            "10\n"
          ]
        }
      ]
    },
    {
      "cell_type": "code",
      "source": [
        "#4991\n",
        "\n",
        "a = [int(input()) for i in range(int(input()))]\n",
        "\n",
        "mxc, vis = 0,0\n",
        "for i in reversed(a):\n",
        "  if i > mxc:\n",
        "    mxc = i\n",
        "    vis +=1\n",
        "\n",
        "print(vis)"
      ],
      "metadata": {
        "colab": {
          "base_uri": "https://localhost:8080/"
        },
        "id": "-ZVjLtC1DGko",
        "outputId": "59586a85-18de-46bd-aae0-6c1261c33913"
      },
      "execution_count": null,
      "outputs": [
        {
          "output_type": "stream",
          "name": "stdout",
          "text": [
            "10\n",
            "3\n",
            "4\n",
            "5\n",
            "5\n",
            "4\n",
            "1\n",
            "2\n",
            "3\n",
            "4\n",
            "1\n",
            "3\n"
          ]
        }
      ]
    },
    {
      "cell_type": "code",
      "source": [
        "#4917\n",
        "\n",
        "a = int(input())\n",
        "\n",
        "b = 0\n",
        "for i in range(1, a+1):\n",
        "  i = str(i)\n",
        "  b += (i.count('3')+i.count('6')+i.count('9'))\n",
        "\n",
        "print(b)\n",
        "\n",
        "#########################GPT 약 80ms 감소\n",
        "\n",
        "a = int(input())\n",
        "\n",
        "cache = [0] * (a + 1)\n",
        "\n",
        "b = 0\n",
        "for i in range(1, a + 1):\n",
        "    cache[i] = cache[i // 10] + (1 if i % 10 in [3, 6, 9] else 0)\n",
        "    b += cache[i]\n",
        "\n",
        "print(b)"
      ],
      "metadata": {
        "colab": {
          "base_uri": "https://localhost:8080/"
        },
        "id": "rGIQWxO9MQyp",
        "outputId": "45dad40e-3882-4262-89ff-502d05fa02fd"
      },
      "execution_count": null,
      "outputs": [
        {
          "output_type": "stream",
          "name": "stdout",
          "text": [
            "3\n",
            "1\n"
          ]
        }
      ]
    },
    {
      "cell_type": "code",
      "source": [
        "#4921\n",
        "def count_divisible(a):\n",
        "    dp = [0] * (a + 1)\n",
        "    c = 0\n",
        "\n",
        "    for i in range(1, a + 1):\n",
        "        dp[i] = dp[i // 10] + (i % 10)\n",
        "        if i % dp[i] == 0:\n",
        "            c += 1\n",
        "\n",
        "    return c\n",
        "\n",
        "a = int(input())\n",
        "print(count_divisible(a))\n"
      ],
      "metadata": {
        "colab": {
          "base_uri": "https://localhost:8080/"
        },
        "id": "slwVkpFi7YXE",
        "outputId": "5ff3acf9-1a52-4162-bb61-b0f305fa2e47"
      },
      "execution_count": null,
      "outputs": [
        {
          "output_type": "stream",
          "name": "stdout",
          "text": [
            "18\n",
            "12\n"
          ]
        }
      ]
    },
    {
      "cell_type": "code",
      "source": [
        "#5039\n",
        "\n",
        "a = input()\n",
        "\n",
        "b = 1\n",
        "c = [b := b*i for i in list(map(int, input().split()))]\n",
        "print(b%2013)"
      ],
      "metadata": {
        "colab": {
          "base_uri": "https://localhost:8080/"
        },
        "id": "3qB3U6cJVva_",
        "outputId": "f0efa5f2-adf5-4a4e-e2ee-f78045d2d673"
      },
      "execution_count": null,
      "outputs": [
        {
          "output_type": "stream",
          "name": "stdout",
          "text": [
            "5\n",
            "2 3 2 5 4\n",
            "240\n"
          ]
        }
      ]
    },
    {
      "cell_type": "code",
      "source": [
        "# 5043 (아래코드 뺴고 pypy3에서만 가능)\n",
        "\n",
        "n = int(input())\n",
        "\n",
        "gcd_n = [i for i in range(2, n+1) if n % i == 0]\n",
        "\n",
        "gasu = 0\n",
        "for i in range(1, n+1):\n",
        "  g = True\n",
        "  for j in range(1, i+1):\n",
        "    if i%j == 0:\n",
        "      if j in gcd_n and j != 1:\n",
        "        g = False\n",
        "        break\n",
        "\n",
        "  if g:\n",
        "    gasu += 1\n",
        "\n",
        "print(gasu)\n",
        "\n",
        "###\n",
        "\n",
        "import math\n",
        "\n",
        "n = int(input())\n",
        "\n",
        "gcd_n = [i for i in range(2, n+1) if n % i == 0]\n",
        "\n",
        "gasu = 0\n",
        "for i in range(1, n+1):\n",
        "    if all(math.gcd(i, x) == 1 for x in gcd_n):\n",
        "        gasu += 1\n",
        "\n",
        "print(gasu)\n"
      ],
      "metadata": {
        "colab": {
          "base_uri": "https://localhost:8080/",
          "height": 375
        },
        "id": "Cc8eQRJmp7PB",
        "outputId": "383bc87f-3bf3-4e25-c631-84bc28cda0c2"
      },
      "execution_count": null,
      "outputs": [
        {
          "output_type": "error",
          "ename": "KeyboardInterrupt",
          "evalue": "Interrupted by user",
          "traceback": [
            "\u001b[0;31m---------------------------------------------------------------------------\u001b[0m",
            "\u001b[0;31mKeyboardInterrupt\u001b[0m                         Traceback (most recent call last)",
            "\u001b[0;32m<ipython-input-42-cf34b8d1e86c>\u001b[0m in \u001b[0;36m<cell line: 3>\u001b[0;34m()\u001b[0m\n\u001b[1;32m      1\u001b[0m \u001b[0;31m# 5043\u001b[0m\u001b[0;34m\u001b[0m\u001b[0;34m\u001b[0m\u001b[0m\n\u001b[1;32m      2\u001b[0m \u001b[0;34m\u001b[0m\u001b[0m\n\u001b[0;32m----> 3\u001b[0;31m \u001b[0mn\u001b[0m \u001b[0;34m=\u001b[0m \u001b[0mint\u001b[0m\u001b[0;34m(\u001b[0m\u001b[0minput\u001b[0m\u001b[0;34m(\u001b[0m\u001b[0;34m)\u001b[0m\u001b[0;34m)\u001b[0m\u001b[0;34m\u001b[0m\u001b[0;34m\u001b[0m\u001b[0m\n\u001b[0m\u001b[1;32m      4\u001b[0m \u001b[0;34m\u001b[0m\u001b[0m\n\u001b[1;32m      5\u001b[0m \u001b[0mgcd_n\u001b[0m \u001b[0;34m=\u001b[0m \u001b[0;34m[\u001b[0m\u001b[0mi\u001b[0m \u001b[0;32mfor\u001b[0m \u001b[0mi\u001b[0m \u001b[0;32min\u001b[0m \u001b[0mrange\u001b[0m\u001b[0;34m(\u001b[0m\u001b[0;36m2\u001b[0m\u001b[0;34m,\u001b[0m \u001b[0mn\u001b[0m\u001b[0;34m+\u001b[0m\u001b[0;36m1\u001b[0m\u001b[0;34m)\u001b[0m \u001b[0;32mif\u001b[0m \u001b[0mn\u001b[0m \u001b[0;34m%\u001b[0m \u001b[0mi\u001b[0m \u001b[0;34m==\u001b[0m \u001b[0;36m0\u001b[0m\u001b[0;34m]\u001b[0m\u001b[0;34m\u001b[0m\u001b[0;34m\u001b[0m\u001b[0m\n",
            "\u001b[0;32m/usr/local/lib/python3.10/dist-packages/ipykernel/kernelbase.py\u001b[0m in \u001b[0;36mraw_input\u001b[0;34m(self, prompt)\u001b[0m\n\u001b[1;32m    849\u001b[0m                 \u001b[0;34m\"raw_input was called, but this frontend does not support input requests.\"\u001b[0m\u001b[0;34m\u001b[0m\u001b[0;34m\u001b[0m\u001b[0m\n\u001b[1;32m    850\u001b[0m             )\n\u001b[0;32m--> 851\u001b[0;31m         return self._input_request(str(prompt),\n\u001b[0m\u001b[1;32m    852\u001b[0m             \u001b[0mself\u001b[0m\u001b[0;34m.\u001b[0m\u001b[0m_parent_ident\u001b[0m\u001b[0;34m,\u001b[0m\u001b[0;34m\u001b[0m\u001b[0;34m\u001b[0m\u001b[0m\n\u001b[1;32m    853\u001b[0m             \u001b[0mself\u001b[0m\u001b[0;34m.\u001b[0m\u001b[0m_parent_header\u001b[0m\u001b[0;34m,\u001b[0m\u001b[0;34m\u001b[0m\u001b[0;34m\u001b[0m\u001b[0m\n",
            "\u001b[0;32m/usr/local/lib/python3.10/dist-packages/ipykernel/kernelbase.py\u001b[0m in \u001b[0;36m_input_request\u001b[0;34m(self, prompt, ident, parent, password)\u001b[0m\n\u001b[1;32m    893\u001b[0m             \u001b[0;32mexcept\u001b[0m \u001b[0mKeyboardInterrupt\u001b[0m\u001b[0;34m:\u001b[0m\u001b[0;34m\u001b[0m\u001b[0;34m\u001b[0m\u001b[0m\n\u001b[1;32m    894\u001b[0m                 \u001b[0;31m# re-raise KeyboardInterrupt, to truncate traceback\u001b[0m\u001b[0;34m\u001b[0m\u001b[0;34m\u001b[0m\u001b[0m\n\u001b[0;32m--> 895\u001b[0;31m                 \u001b[0;32mraise\u001b[0m \u001b[0mKeyboardInterrupt\u001b[0m\u001b[0;34m(\u001b[0m\u001b[0;34m\"Interrupted by user\"\u001b[0m\u001b[0;34m)\u001b[0m \u001b[0;32mfrom\u001b[0m \u001b[0;32mNone\u001b[0m\u001b[0;34m\u001b[0m\u001b[0;34m\u001b[0m\u001b[0m\n\u001b[0m\u001b[1;32m    896\u001b[0m             \u001b[0;32mexcept\u001b[0m \u001b[0mException\u001b[0m \u001b[0;32mas\u001b[0m \u001b[0me\u001b[0m\u001b[0;34m:\u001b[0m\u001b[0;34m\u001b[0m\u001b[0;34m\u001b[0m\u001b[0m\n\u001b[1;32m    897\u001b[0m                 \u001b[0mself\u001b[0m\u001b[0;34m.\u001b[0m\u001b[0mlog\u001b[0m\u001b[0;34m.\u001b[0m\u001b[0mwarning\u001b[0m\u001b[0;34m(\u001b[0m\u001b[0;34m\"Invalid Message:\"\u001b[0m\u001b[0;34m,\u001b[0m \u001b[0mexc_info\u001b[0m\u001b[0;34m=\u001b[0m\u001b[0;32mTrue\u001b[0m\u001b[0;34m)\u001b[0m\u001b[0;34m\u001b[0m\u001b[0;34m\u001b[0m\u001b[0m\n",
            "\u001b[0;31mKeyboardInterrupt\u001b[0m: Interrupted by user"
          ]
        }
      ]
    },
    {
      "cell_type": "code",
      "source": [
        "#5068\n",
        "from datetime import datetime, timedelta\n",
        "\n",
        "month = int(input())\n",
        "day = int(input())\n",
        "\n",
        "\n",
        "y = datetime.now().year\n",
        "date = datetime(y, month, day)\n",
        "s_date = datetime(y, 2, 18)\n",
        "\n",
        "if date < s_date:\n",
        "  print('Before')\n",
        "elif date > s_date:\n",
        "  print('After')\n",
        "elif date == s_date:\n",
        "  print('Special')"
      ],
      "metadata": {
        "id": "yO-39wdXLSxw"
      },
      "execution_count": null,
      "outputs": []
    },
    {
      "cell_type": "code",
      "source": [
        "#5069\n",
        "\n",
        "a = input()\n",
        "s1,s2 = a.count(':-)'), a.count(':-(')\n",
        "\n",
        "if s1 == 0 and s2 == 0 :\n",
        "  print('none')\n",
        "elif s1 == s2:\n",
        "  print('unsure')\n",
        "elif s1 > s2:\n",
        "  print('happy')\n",
        "elif s1 < s2:\n",
        "  print('sad')"
      ],
      "metadata": {
        "colab": {
          "base_uri": "https://localhost:8080/"
        },
        "id": "yihxe4f1-w80",
        "outputId": "1ee07ef9-7d2b-49e8-a5ab-b1c3f4644e1b"
      },
      "execution_count": null,
      "outputs": [
        {
          "output_type": "stream",
          "name": "stdout",
          "text": [
            ":-( :-)\n",
            "unsure\n"
          ]
        },
        {
          "output_type": "execute_result",
          "data": {
            "text/plain": [
              "(1, 1)"
            ]
          },
          "metadata": {},
          "execution_count": 101
        }
      ]
    },
    {
      "cell_type": "code",
      "source": [
        "#5078\n",
        "\n",
        "a = [int(input()) for i in range(3)]\n",
        "\n",
        "if sum(a) > 180 or 180 > sum(a):\n",
        "  print('Error')\n",
        "elif a[0] == a[1] == a[2]:\n",
        "  print('Equilateral')\n",
        "elif a[0] == a[1] or a[1] == a[2] or a[2] == a[0]:\n",
        "  print('Isosceles')\n",
        "else:\n",
        "  print('Scalene')\n"
      ],
      "metadata": {
        "id": "A4-6mm5q5E7Y"
      },
      "execution_count": null,
      "outputs": []
    },
    {
      "cell_type": "code",
      "source": [
        "#5079\n",
        "\n",
        "input()\n",
        "b = input()\n",
        "c = b.count('A')\n",
        "d = len(b) - c\n",
        "\n",
        "print('A' if c > d else 'B' if c < d else 'Tie')"
      ],
      "metadata": {
        "colab": {
          "base_uri": "https://localhost:8080/"
        },
        "id": "-OwbP3diQH8f",
        "outputId": "dea82601-5fa5-417b-fff3-abb8513d38e6"
      },
      "execution_count": null,
      "outputs": [
        {
          "output_type": "stream",
          "name": "stdout",
          "text": [
            "6\n",
            "ABBABB\n",
            "B\n"
          ]
        }
      ]
    },
    {
      "cell_type": "code",
      "source": [
        " #5080\n",
        "a, b = 100, 100\n",
        "c = [list(map(int, input().split())) for i in range(int(input()))]\n",
        "\n",
        "for i in c:\n",
        "  if i[0] > i[1]:\n",
        "    b -= i[0]\n",
        "  elif i[0] < i[1]:\n",
        "    a -= i[1]\n",
        "\n",
        "print(a)\n",
        "print(b)"
      ],
      "metadata": {
        "colab": {
          "base_uri": "https://localhost:8080/"
        },
        "id": "_sGl29eNZAt7",
        "outputId": "0856430d-d63c-486b-f722-b845cd23b157"
      },
      "execution_count": null,
      "outputs": [
        {
          "output_type": "stream",
          "name": "stdout",
          "text": [
            "4\n",
            "5 6\n",
            "6 6\n",
            "4 3\n",
            "5 2\n",
            "94\n",
            "91\n"
          ]
        }
      ]
    },
    {
      "cell_type": "code",
      "source": [
        "#5123\n",
        "import itertools\n",
        "\n",
        "a = int(input())*0\n",
        "b = list(map(int, input().split()))\n",
        "\n",
        "for i in itertools.combinations(b,2):\n",
        "  if sum(i) % 3 == 0:\n",
        "    a += 1\n",
        "\n",
        "print(a)\n"
      ],
      "metadata": {
        "colab": {
          "base_uri": "https://localhost:8080/"
        },
        "id": "jNTKYTmDKhPC",
        "outputId": "cfbbdd97-e365-456c-86c9-977101ff1503"
      },
      "execution_count": null,
      "outputs": [
        {
          "output_type": "stream",
          "name": "stdout",
          "text": [
            "5\n",
            "1 4 2  3 3\n",
            "(1, 2)\n",
            "(4, 2)\n",
            "(3, 3)\n",
            "3\n"
          ]
        }
      ]
    },
    {
      "cell_type": "code",
      "source": [
        "#5298\n",
        "def f(lft, tot, k, m):\n",
        "    # 트레이닝 횟수(m)를 통해 캐릭터 레벨을 올리는 과정을 계산하는 함수\n",
        "    # lft: 현재 레벨을 덜 올린 캐릭터 수, tot: 총 캐릭터 수, k: 캐릭터 그룹의 크기, m: 트레이닝 횟수\n",
        "    # t는 총 트레이닝 후 레벨 상승량을 계산하여 각 캐릭터에 얼마씩 올릴지 계산\n",
        "    t = (tot - lft) + k * m\n",
        "    return t // tot, tot - t % tot  # t를 tot로 나눈 몫과 나머지를 반환\n",
        "\n",
        "# 입력 처리: N명의 캐릭터 레벨과 트레이닝 정보 입력받기\n",
        "N = int(input())  # 캐릭터 수\n",
        "A = [0] + list(map(int, input().split()))  # 1-based index를 맞추기 위해 앞에 0 추가\n",
        "M, K = map(int, input().split())  # 트레이닝 횟수(M)와 선택할 캐릭터 수(K)\n",
        "\n",
        "# 캐릭터 레벨을 오름차순으로 정렬\n",
        "A.sort()\n",
        "\n",
        "# lb와 rb 설정: K번째 캐릭터를 기준으로 같은 레벨을 가진 캐릭터 범위를 찾음\n",
        "lb, rb = K - 1, K + 1\n",
        "# K번째 캐릭터와 같은 레벨을 가진 가장 왼쪽 캐릭터를 찾음\n",
        "while lb > 0 and A[lb] == A[K]:\n",
        "    lb -= 1\n",
        "# K번째 캐릭터보다 같거나 더 높은 레벨을 가진 오른쪽 캐릭터를 찾음\n",
        "while rb <= N and A[rb] <= A[K] + 1:\n",
        "    rb += 1\n",
        "\n",
        "# 레벨이 같은 캐릭터의 수와 그 그룹의 총 캐릭터 수를 계산\n",
        "lcnt = A.count(A[K])  # K번째 캐릭터와 같은 레벨을 가진 캐릭터 수\n",
        "tot = rb - lb - 1  # 그 그룹에 속한 캐릭터의 총 수\n",
        "tm = M  # 남은 트레이닝 횟수 저장\n",
        "st = A[K]  # K번째 캐릭터의 현재 레벨\n",
        "\n",
        "# 트레이닝을 통해 캐릭터들의 레벨을 올림\n",
        "while lb > 0 or rb <= N:\n",
        "    if M == 0:  # 트레이닝 횟수가 0이 되면 종료\n",
        "        break\n",
        "\n",
        "    lm, rm = M + 1, M + 1  # 왼쪽(lm)과 오른쪽(rm)에서 가능한 최소 트레이닝 횟수 초기화\n",
        "    if lb > 0:\n",
        "        # 왼쪽 캐릭터 그룹에서 트레이닝 횟수 계산 (이진 탐색)\n",
        "        l, r = 0, M\n",
        "        while l <= r:\n",
        "            m = (l + r) // 2\n",
        "            t_first, t_second = f(lcnt, tot, K - lb, m)\n",
        "            # 트레이닝 후 예상 레벨이 현재 왼쪽 캐릭터 레벨 이상인지 확인\n",
        "            if A[lb] + (tm - M) + m >= st + t_first:\n",
        "                r = m - 1\n",
        "            else:\n",
        "                l = m + 1\n",
        "        lm = l\n",
        "\n",
        "    if rb <= N:\n",
        "        # 오른쪽 캐릭터 그룹에서 트레이닝 횟수 계산 (이진 탐색)\n",
        "        l, r = 0, M\n",
        "        while l <= r:\n",
        "            m = (l + r) // 2\n",
        "            t_first, t_second = f(lcnt, tot, K - lb, m)\n",
        "            # 트레이닝 후 예상 레벨이 현재 오른쪽 캐릭터 레벨 이상인지 확인\n",
        "            if st + t_first + (t_second < tot) >= A[rb]:\n",
        "                r = m - 1\n",
        "            else:\n",
        "                l = m + 1\n",
        "        rm = l\n",
        "\n",
        "    # 가장 적은 트레이닝 횟수를 선택하여 캐릭터들의 레벨을 올림\n",
        "    if lm > M and rm > M:\n",
        "        t_first, t_second = f(lcnt, tot, K - lb, M)\n",
        "        st += t_first  # 예상된 레벨 상승을 적용\n",
        "        lcnt = t_second\n",
        "        M = 0\n",
        "        break\n",
        "\n",
        "    # 최소 트레이닝 횟수만큼 레벨을 올림\n",
        "    t_first, t_second = f(lcnt, tot, K - lb, min(lm, rm))\n",
        "    st += t_first  # 예상된 레벨 상승을 적용\n",
        "    lcnt = t_second  # 트레이닝 후 남은 캐릭터 수를 계산\n",
        "    M -= min(lm, rm)  # 트레이닝 횟수 차감\n",
        "    # 오른쪽 그룹이 더 효율적이면 오른쪽으로 이동\n",
        "    if lm >= rm:\n",
        "        rb += 1\n",
        "        if lcnt == tot:\n",
        "            lcnt += 1  # 추가 트레이닝이 필요한 캐릭터가 있으면 증가\n",
        "    else:  # 왼쪽 그룹이 더 효율적이면 왼쪽으로 이동\n",
        "        lb -= 1\n",
        "        lcnt += 1  # 트레이닝이 필요한 캐릭터 수 증가\n",
        "    tot += 1  # 총 캐릭터 수 증가\n",
        "\n",
        "# 마지막 남은 트레이닝 횟수로 캐릭터의 레벨을 계산\n",
        "t_first, t_second = f(lcnt, tot, K - lb, M)\n",
        "st += t_first\n",
        "lcnt = t_second\n",
        "\n",
        "# 트레이닝 후 레벨 적용\n",
        "for i in range(1, lb + 1):\n",
        "    A[i] += tm\n",
        "for i in range(lb + 1, rb):\n",
        "    if i - lb <= lcnt:\n",
        "        A[i] = st\n",
        "    else:\n",
        "        A[i] = st + 1\n",
        "\n",
        "# 결과 출력\n",
        "for i in range(1, N + 1):\n",
        "    print(A[i], end=\" \")\n"
      ],
      "metadata": {
        "colab": {
          "base_uri": "https://localhost:8080/"
        },
        "id": "1pju9OhcNOO5",
        "outputId": "41532aa2-4bf6-4b88-e4a4-ef986ddfa776"
      },
      "execution_count": null,
      "outputs": [
        {
          "output_type": "stream",
          "name": "stdout",
          "text": [
            "5\n",
            "5 1 7 5 4\n",
            "4 3\n",
            "5 7 7 7 8 "
          ]
        }
      ]
    },
    {
      "cell_type": "code",
      "source": [
        "#5301\n",
        "\n",
        "n, k, p = map(int, input().split())\n",
        "\n",
        "A = list(map(int, input().split()))\n",
        "\n",
        "res = 0\n",
        "\n",
        "for i in range(n):\n",
        "    cnt = 0\n",
        "\n",
        "    for j in range(k):\n",
        "        if A[i*k+j] == 0:\n",
        "            cnt += 1\n",
        "\n",
        "    if cnt < p:\n",
        "        res += 1\n",
        "\n",
        "print(res)"
      ],
      "metadata": {
        "id": "w8RjzuYCOx-8"
      },
      "execution_count": null,
      "outputs": []
    },
    {
      "cell_type": "code",
      "source": [
        "from collections import Counter\n",
        "\n",
        "c = input()\n",
        "b = list(map(int, input().split()))\n",
        "#Counter 조건넣어주고 이에 맞게 딕셔너리로 나눠줌 나머지로 나눔\n",
        "\n",
        "mod_count = Counter(x % 3 for x in b) #b원소중 3으로 나누어 지는거 찾\n",
        "print(mod_count)\n",
        "\n",
        "#3으로 나누었을 때 나머지가 같은 것끼리의 쌍을 계산\n",
        "a = (mod_count[0] * (mod_count[0] - 1) // 2) + (mod_count[1] * mod_count[2])\n",
        "\n",
        "print(a)"
      ],
      "metadata": {
        "colab": {
          "base_uri": "https://localhost:8080/"
        },
        "id": "qNuGJdU_OLWu",
        "outputId": "1edddc11-b2d1-4f08-e776-5ee6ae27ebca"
      },
      "execution_count": null,
      "outputs": [
        {
          "output_type": "stream",
          "name": "stdout",
          "text": [
            "5\n",
            "1 4 2 2 3\n",
            "Counter({1: 2, 2: 2, 0: 1})\n",
            "4\n"
          ]
        }
      ]
    },
    {
      "cell_type": "code",
      "source": [
        "a = int(input())\n",
        "b = int(input())\n",
        "c = int(input())\n",
        "\n",
        "if a + b + c == 180:\n",
        "  if a == b == c == 60:\n",
        "    print(\"Equilateral\")\n",
        "  elif a + b + c == 180 and (a == b or b == c or c == a):\n",
        "    print(\"Isosceles\")\n",
        "  else:\n",
        "    print(\"Scalene\")\n",
        "else:\n",
        "  print(\"Error\")\n"
      ],
      "metadata": {
        "id": "8WTVjz6u6MhE"
      },
      "execution_count": null,
      "outputs": []
    },
    {
      "cell_type": "code",
      "source": [
        "#2030\n",
        "a = [['.'] * 60 for _ in range(30)]\n",
        "\n",
        "for _ in range(int(input())):\n",
        "    cmd = input().split()\n",
        "    name, x1, y1, x2, y2 = cmd[0], int(cmd[1]) - 1, int(cmd[2]) - 1, int(cmd[3]) - 1, int(cmd[4]) - 1\n",
        "\n",
        "    # 윈도우 상단 테두리\n",
        "    a[y1][x1] = '+'\n",
        "    for j in range(x1 + 1, min(x2, x1 + len(name) + 1)):\n",
        "        a[y1][j] = name[j - x1 - 1]\n",
        "    for j in range(x1 + len(name) + 1, x2):\n",
        "        a[y1][j] = '-'\n",
        "    a[y1][x2] = '+'\n",
        "\n",
        "    # 윈도우 중간 부분\n",
        "    for i in range(y1 + 1, y2):\n",
        "        a[i][x1] = '|'\n",
        "        for j in range(x1 + 1, x2):\n",
        "            a[i][j] = ' '\n",
        "        a[i][x2] = '|'\n",
        "\n",
        "    # 윈도우 하단 테두리\n",
        "    a[y2][x1] = '+'\n",
        "    for j in range(x1 + 1, x2):\n",
        "        a[y2][j] = '-'\n",
        "    a[y2][x2] = '+'\n",
        "\n",
        "# 결과 출력\n",
        "for row in a:\n",
        "    print(\"\".join(row))\n",
        "\n",
        "\n",
        "\n",
        "\n"
      ],
      "metadata": {
        "colab": {
          "base_uri": "https://localhost:8080/"
        },
        "id": "m4ezbyR0MNq3",
        "outputId": "a3601544-f7bc-41ac-e6d5-adeb42615a34"
      },
      "execution_count": null,
      "outputs": [
        {
          "output_type": "stream",
          "name": "stdout",
          "text": [
            "1\n",
            "ie9 2 3 15 6\n",
            "............................................................\n",
            "............................................................\n",
            ".+ie9---------+.............................................\n",
            ".|            |.............................................\n",
            ".|            |.............................................\n",
            ".+------------+.............................................\n",
            "............................................................\n",
            "............................................................\n",
            "............................................................\n",
            "............................................................\n",
            "............................................................\n",
            "............................................................\n",
            "............................................................\n",
            "............................................................\n",
            "............................................................\n",
            "............................................................\n",
            "............................................................\n",
            "............................................................\n",
            "............................................................\n",
            "............................................................\n",
            "............................................................\n",
            "............................................................\n",
            "............................................................\n",
            "............................................................\n",
            "............................................................\n",
            "............................................................\n",
            "............................................................\n",
            "............................................................\n",
            "............................................................\n",
            "............................................................\n"
          ]
        }
      ]
    },
    {
      "cell_type": "code",
      "source": [
        "#2036\n",
        "\n",
        "import re\n",
        "\n",
        "def df(eq):\n",
        "    ts = eq.split('+')\n",
        "    dt = []\n",
        "    for t in ts:\n",
        "        m = re.match(r'(\\d+)\\*x\\^(\\d+)', t)\n",
        "        if m:\n",
        "            c = int(m.group(1))\n",
        "            p = int(m.group(2))\n",
        "            if p > 0:\n",
        "                nc = c * p\n",
        "                np = p - 1\n",
        "                dt.append(f'{nc}*x^{np}')\n",
        "            elif p == 0:\n",
        "                continue\n",
        "    return '+'.join(dt)\n",
        "\n",
        "def it(eq):\n",
        "    ts = eq.split('+')\n",
        "    it = []\n",
        "    for t in ts:\n",
        "        m = re.match(r'(\\d+)\\*x\\^(\\d+)', t)\n",
        "        if m:\n",
        "            c = int(m.group(1))\n",
        "            p = int(m.group(2))\n",
        "            np = p + 1\n",
        "            nc = c // np\n",
        "            it.append(f'{nc}*x^{np}')\n",
        "    return '+'.join(it) + '+c'\n",
        "\n",
        "n = int(input())\n",
        "for _ in range(n):\n",
        "    eq = input().strip()\n",
        "    print(df(eq), it(eq))\n",
        "\n"
      ],
      "metadata": {
        "colab": {
          "base_uri": "https://localhost:8080/"
        },
        "id": "FmSfjJg0fwST",
        "outputId": "bf651fd0-0510-4709-dbea-11102530c2cc"
      },
      "execution_count": null,
      "outputs": [
        {
          "output_type": "stream",
          "name": "stdout",
          "text": [
            "1\n",
            "4*x^3\n",
            "12*x^2 1*x^4+c\n"
          ]
        }
      ]
    },
    {
      "cell_type": "code",
      "source": [
        "#2038\n",
        "\n",
        "hp = sum(map(int, input().split()))\n",
        "\n",
        "sword = int(input())\n",
        "g_sword = sword\n",
        "\n",
        "buff = list(map(str, input().split()))\n",
        "\n",
        "mob_s, mob_hp = map(int, input().split())\n",
        "\n",
        "i = 0 if buff[0] == '0' else int(buff[-1])\n",
        "while mob_hp > 0 or hp > 0:\n",
        "  hp -= mob_s\n",
        "\n",
        "  if buff[0] == '1' and i != 0:\n",
        "    if '*' in buff or '*' in buff[1]:\n",
        "      if len(buff[1]) == 1:\n",
        "        sword *= int(buff[2])\n",
        "      else:\n",
        "        sword *= int(buff[1][1:])\n",
        "    else:\n",
        "      if len(buff[1]) == 1:\n",
        "        sword += int(buff[2])\n",
        "      else:\n",
        "        sword += int(buff[1][1:])\n",
        "    i -= 1\n",
        "  else:\n",
        "    sword = g_sword\n",
        "\n",
        "  mob_hp -= sword\n",
        "\n",
        "print(0 if mob_hp > hp else 1)"
      ],
      "metadata": {
        "colab": {
          "base_uri": "https://localhost:8080/",
          "height": 294
        },
        "id": "pUzFxBUyj2oe",
        "outputId": "62c3259e-1e8a-4fc1-d91e-cec8e1747972"
      },
      "execution_count": null,
      "outputs": [
        {
          "name": "stdout",
          "output_type": "stream",
          "text": [
            "1 2 5 4\n",
            "3\n",
            "1 * 2 4\n",
            "12 13\n"
          ]
        },
        {
          "output_type": "error",
          "ename": "ValueError",
          "evalue": "invalid literal for int() with base 10: ''",
          "traceback": [
            "\u001b[0;31m---------------------------------------------------------------------------\u001b[0m",
            "\u001b[0;31mValueError\u001b[0m                                Traceback (most recent call last)",
            "\u001b[0;32m<ipython-input-8-7eada4239c75>\u001b[0m in \u001b[0;36m<cell line: 12>\u001b[0;34m()\u001b[0m\n\u001b[1;32m     15\u001b[0m   \u001b[0;32mif\u001b[0m \u001b[0mbuff\u001b[0m\u001b[0;34m[\u001b[0m\u001b[0;36m0\u001b[0m\u001b[0;34m]\u001b[0m \u001b[0;34m==\u001b[0m \u001b[0;34m'1'\u001b[0m \u001b[0;32mand\u001b[0m \u001b[0mi\u001b[0m \u001b[0;34m!=\u001b[0m \u001b[0;36m0\u001b[0m\u001b[0;34m:\u001b[0m\u001b[0;34m\u001b[0m\u001b[0;34m\u001b[0m\u001b[0m\n\u001b[1;32m     16\u001b[0m     \u001b[0;32mif\u001b[0m \u001b[0;34m'*'\u001b[0m \u001b[0;32min\u001b[0m \u001b[0mbuff\u001b[0m\u001b[0;34m[\u001b[0m\u001b[0;36m1\u001b[0m\u001b[0;34m]\u001b[0m\u001b[0;34m:\u001b[0m\u001b[0;34m\u001b[0m\u001b[0;34m\u001b[0m\u001b[0m\n\u001b[0;32m---> 17\u001b[0;31m       \u001b[0msword\u001b[0m \u001b[0;34m*=\u001b[0m \u001b[0mint\u001b[0m\u001b[0;34m(\u001b[0m\u001b[0mbuff\u001b[0m\u001b[0;34m[\u001b[0m\u001b[0;36m1\u001b[0m\u001b[0;34m]\u001b[0m\u001b[0;34m[\u001b[0m\u001b[0;36m1\u001b[0m\u001b[0;34m:\u001b[0m\u001b[0;34m]\u001b[0m\u001b[0;34m.\u001b[0m\u001b[0mreplace\u001b[0m\u001b[0;34m(\u001b[0m\u001b[0;34m' '\u001b[0m\u001b[0;34m,\u001b[0m\u001b[0;34m''\u001b[0m\u001b[0;34m)\u001b[0m\u001b[0;34m)\u001b[0m\u001b[0;34m\u001b[0m\u001b[0;34m\u001b[0m\u001b[0m\n\u001b[0m\u001b[1;32m     18\u001b[0m     \u001b[0;32melse\u001b[0m\u001b[0;34m:\u001b[0m\u001b[0;34m\u001b[0m\u001b[0;34m\u001b[0m\u001b[0m\n\u001b[1;32m     19\u001b[0m       \u001b[0msword\u001b[0m \u001b[0;34m+=\u001b[0m \u001b[0mint\u001b[0m\u001b[0;34m(\u001b[0m\u001b[0mbuff\u001b[0m\u001b[0;34m[\u001b[0m\u001b[0;36m1\u001b[0m\u001b[0;34m]\u001b[0m\u001b[0;34m[\u001b[0m\u001b[0;36m1\u001b[0m\u001b[0;34m:\u001b[0m\u001b[0;34m]\u001b[0m\u001b[0;34m.\u001b[0m\u001b[0mreplace\u001b[0m\u001b[0;34m(\u001b[0m\u001b[0;34m' '\u001b[0m\u001b[0;34m,\u001b[0m\u001b[0;34m''\u001b[0m\u001b[0;34m)\u001b[0m\u001b[0;34m)\u001b[0m\u001b[0;34m\u001b[0m\u001b[0;34m\u001b[0m\u001b[0m\n",
            "\u001b[0;31mValueError\u001b[0m: invalid literal for int() with base 10: ''"
          ]
        }
      ]
    },
    {
      "cell_type": "code",
      "source": [],
      "metadata": {
        "id": "FM2rHPYqotos"
      },
      "execution_count": null,
      "outputs": []
    },
    {
      "cell_type": "code",
      "source": [
        "#2044\n",
        "a = input()\n",
        "a = list(a[a.rfind('C') + 1:])\n",
        "\n",
        "while 'A' in a or 'B' in a:\n",
        "    if 'B' in a and a.index('B') <= a.index('A'):\n",
        "        idx = a.index('B')\n",
        "        del a[idx-2:idx+1]\n",
        "    elif 'A' in a:\n",
        "        idx = a.index('A')\n",
        "        del a[idx-1:idx+1]\n",
        "\n",
        "print(\"\".join(a))"
      ],
      "metadata": {
        "colab": {
          "base_uri": "https://localhost:8080/"
        },
        "id": "T2thi_xIQSCH",
        "outputId": "ac5448cc-481f-4c1a-b03c-fe16d4fff0e6"
      },
      "execution_count": null,
      "outputs": [
        {
          "output_type": "stream",
          "name": "stdout",
          "text": [
            "011B1C11A122B11A\n",
            "111\n"
          ]
        }
      ]
    },
    {
      "cell_type": "code",
      "source": [
        "# 2081\n",
        "a = [input() for i in range(9)]\n",
        "b = [(i+1,j) for i,j in enumerate(a)]\n",
        "c = max(b, key=lambda x: x[1])\n",
        "print(f'{c[1]}\\n{c[0]}')"
      ],
      "metadata": {
        "colab": {
          "base_uri": "https://localhost:8080/"
        },
        "id": "8DRC3v_XaHFP",
        "outputId": "465b73f0-9f98-4d4e-83fd-577999f0abe4"
      },
      "execution_count": null,
      "outputs": [
        {
          "output_type": "stream",
          "name": "stdout",
          "text": [
            "1\n",
            "9\n",
            "9\n",
            "2\n"
          ]
        }
      ]
    },
    {
      "cell_type": "code",
      "source": [
        "n,k = map(int, input().split())\n",
        "c = list(map(int, input().split()))\n",
        "print(c.index(k)+1 if k in c else -1)"
      ],
      "metadata": {
        "colab": {
          "base_uri": "https://localhost:8080/"
        },
        "id": "26vz8JuBcLpr",
        "outputId": "af823971-d329-4440-a091-9ac3365e228e"
      },
      "execution_count": null,
      "outputs": [
        {
          "output_type": "stream",
          "name": "stdout",
          "text": [
            "5 3\n",
            "5 2 9 7 3\n",
            "5\n"
          ]
        }
      ]
    },
    {
      "cell_type": "code",
      "source": [
        "a,b,c,d = map(int, input().split())\n",
        "\n",
        "e = [a] #시작값\n",
        "for i in range(1,d):\n",
        "  e.append(e[i-1]*b+c)\n",
        "\n",
        "print(e[d-1])"
      ],
      "metadata": {
        "colab": {
          "base_uri": "https://localhost:8080/"
        },
        "id": "NJbbdwsUUFI8",
        "outputId": "ec3eb2f4-bfbd-4058-8048-9b942c876e09"
      },
      "execution_count": null,
      "outputs": [
        {
          "output_type": "stream",
          "name": "stdout",
          "text": [
            "1 -2 1 8\n",
            "-85\n"
          ]
        }
      ]
    },
    {
      "cell_type": "code",
      "source": [
        "from math import comb\n",
        "\n",
        "def solve(n, m, k, p):\n",
        "    abs_n = abs(n)\n",
        "    abs_m = abs(m)\n",
        "\n",
        "    if n == 0 or m == 0: #특수경\n",
        "\n",
        "        total_distance = abs_n + abs_m + 2\n",
        "\n",
        "        total_paths = comb(total_distance, 2)\n",
        "\n",
        "        if n == 0:\n",
        "            extra_turns = abs_m\n",
        "        else:\n",
        "            extra_turns = abs_n\n",
        "\n",
        "        if k == 0:\n",
        "            valid_paths = total_paths - 2 + extra_turns\n",
        "        else:\n",
        "            valid_paths = total_paths - 3 + extra_turns\n",
        "    else: #일반\n",
        "        total_distance = abs_n + abs_m\n",
        "        total_paths = comb(total_distance, abs_n)\n",
        "\n",
        "\n",
        "        if k == 1:\n",
        "            valid_paths = total_paths - 3\n",
        "        else:\n",
        "            valid_paths = total_paths - 2\n",
        "\n",
        "    if valid_paths < 0:\n",
        "        valid_paths = 0\n",
        "\n",
        "    if p > 0:\n",
        "        valid_paths = valid_paths % p\n",
        "\n",
        "    return total_distance, valid_paths\n",
        "\n",
        "n, m, k, p = map(int, input().split())\n",
        "distance, num_paths = solve(n, m, k, p)\n",
        "print(distance, num_paths)\n"
      ],
      "metadata": {
        "colab": {
          "base_uri": "https://localhost:8080/"
        },
        "id": "cWuopIGSfsX6",
        "outputId": "c38ced84-d1f8-4338-d17f-b8441725d6ac"
      },
      "execution_count": null,
      "outputs": [
        {
          "output_type": "stream",
          "name": "stdout",
          "text": [
            "-18 0 1 277\n",
            "20 205\n"
          ]
        }
      ]
    },
    {
      "cell_type": "code",
      "source": [
        "from math import comb\n",
        "\n",
        "def solve(n, m, k, p):\n",
        "    abs_n = abs(n)\n",
        "    abs_m = abs(m)\n",
        "\n",
        "    if n == 0 or m == 0:  # 특수 경로: 직선 경로\n",
        "\n",
        "        total_distance = abs_n + abs_m + 2\n",
        "\n",
        "        total_paths = comb(total_distance, 2)\n",
        "\n",
        "        if n == 0:\n",
        "            extra_turns = abs_m\n",
        "        else:\n",
        "            extra_turns = abs_n\n",
        "\n",
        "        if k == 0:\n",
        "            valid_paths = total_paths - 2 + extra_turns\n",
        "        else:\n",
        "            valid_paths = total_paths - 3 + extra_turns\n",
        "    else: #일반일때\n",
        "        total_distance = abs_n + abs_m\n",
        "        total_paths = comb(total_distance, abs_n)\n",
        "\n",
        "\n",
        "        if k == 1:\n",
        "            valid_paths = total_paths - 3\n",
        "        else:\n",
        "            valid_paths = total_paths - 2\n",
        "\n",
        "    if valid_paths < 0:\n",
        "        valid_paths = 0\n",
        "\n",
        "    if p > 0:\n",
        "        valid_paths = valid_paths % p\n",
        "\n",
        "    return total_distance, valid_paths\n",
        "\n",
        "n, m, k, p = map(int, input().split())\n",
        "distance, num_paths = solve(n, m, k, p)\n",
        "print(distance, num_paths)\n"
      ],
      "metadata": {
        "colab": {
          "base_uri": "https://localhost:8080/"
        },
        "id": "A0AlsUwItIkB",
        "outputId": "591aa04f-4b40-4bd4-cb9b-e87afac01f29"
      },
      "execution_count": null,
      "outputs": [
        {
          "output_type": "stream",
          "name": "stdout",
          "text": [
            "-18 0 1 277\n",
            "20 151\n"
          ]
        }
      ]
    },
    {
      "cell_type": "code",
      "source": [],
      "metadata": {
        "id": "Ojd2AbT_nEqj"
      },
      "execution_count": null,
      "outputs": []
    },
    {
      "cell_type": "code",
      "source": [],
      "metadata": {
        "id": "_gc4YaodOx_8"
      },
      "execution_count": null,
      "outputs": []
    },
    {
      "cell_type": "code",
      "source": [],
      "metadata": {
        "id": "TMg-dhctnEmt"
      },
      "execution_count": null,
      "outputs": []
    },
    {
      "cell_type": "code",
      "source": [],
      "metadata": {
        "id": "BBk4wrkhtIhD",
        "colab": {
          "base_uri": "https://localhost:8080/"
        },
        "outputId": "5e7d3c1f-c3c2-4533-a3d4-5128744f7173"
      },
      "execution_count": null,
      "outputs": [
        {
          "output_type": "stream",
          "name": "stdout",
          "text": [
            "65\n"
          ]
        }
      ]
    },
    {
      "cell_type": "code",
      "source": [],
      "metadata": {
        "id": "CqaGtmlGfsMd",
        "colab": {
          "base_uri": "https://localhost:8080/"
        },
        "outputId": "83d65c39-7406-444a-bfde-93b04a686bda"
      },
      "execution_count": null,
      "outputs": [
        {
          "output_type": "execute_result",
          "data": {
            "text/plain": [
              "495"
            ]
          },
          "metadata": {},
          "execution_count": 17
        }
      ]
    },
    {
      "cell_type": "code",
      "source": [
        "#6101\n",
        "import numpy as np\n",
        "print('1.24.3')\n",
        "a =np.zeros(10)\n",
        "print(a)\n",
        "a[4] = 1\n",
        "print(a)"
      ],
      "metadata": {
        "colab": {
          "base_uri": "https://localhost:8080/"
        },
        "id": "tS1_VAg1TpCp",
        "outputId": "10fabdc3-0b64-4730-fbed-8e8613317590"
      },
      "execution_count": null,
      "outputs": [
        {
          "output_type": "stream",
          "name": "stdout",
          "text": [
            "1.24.3\n",
            "[0. 0. 0. 0. 0. 0. 0. 0. 0. 0.]\n",
            "[0. 0. 0. 0. 1. 0. 0. 0. 0. 0.]\n"
          ]
        }
      ]
    },
    {
      "cell_type": "code",
      "source": [
        "#6102\n",
        "import numpy as np\n",
        "print(np.arange(10, 50))\n",
        "print(np.arange(49,9,-1))\n",
        "print(np.arange(0, 9).reshape(3,3))\n",
        "print((np.nonzero([1,2,0,0,4,0])))\n",
        "print(np.eye(3,3))"
      ],
      "metadata": {
        "colab": {
          "base_uri": "https://localhost:8080/"
        },
        "id": "rfMki_6bVNGL",
        "outputId": "9d2300c9-2dd3-4676-bbba-cc64f7cdc4a8"
      },
      "execution_count": null,
      "outputs": [
        {
          "output_type": "stream",
          "name": "stdout",
          "text": [
            "[10 11 12 13 14 15 16 17 18 19 20 21 22 23 24 25 26 27 28 29 30 31 32 33\n",
            " 34 35 36 37 38 39 40 41 42 43 44 45 46 47 48 49]\n",
            "[49 48 47 46 45 44 43 42 41 40 39 38 37 36 35 34 33 32 31 30 29 28 27 26\n",
            " 25 24 23 22 21 20 19 18 17 16 15 14 13 12 11 10]\n",
            "[[0 1 2]\n",
            " [3 4 5]\n",
            " [6 7 8]]\n",
            "(array([0, 1, 4]),)\n",
            "[[1. 0. 0.]\n",
            " [0. 1. 0.]\n",
            " [0. 0. 1.]]\n"
          ]
        }
      ]
    },
    {
      "cell_type": "code",
      "source": [
        "#6103\n",
        "import numpy as np\n",
        "\n",
        "np.random.seed(32)\n",
        "\n",
        "array_3x3x3 = np.random.random((3, 3, 3))\n",
        "print(array_3x3x3)\n",
        "\n",
        "array_10x10 = np.random.random((10, 10))\n",
        "min_value = array_10x10.min()\n",
        "max_value = array_10x10.max()\n",
        "print(f\"{min_value} {max_value}\")\n",
        "\n",
        "array_30 = np.random.random(30)\n",
        "mean_value = array_30.mean()\n",
        "print(mean_value)"
      ],
      "metadata": {
        "id": "_wJkSYwCWPLI"
      },
      "execution_count": null,
      "outputs": []
    },
    {
      "cell_type": "code",
      "source": [
        "import numpy as np\n",
        "\n",
        "array_10x10_border = np.ones((10, 10))\n",
        "array_10x10_border[1:-1, 1:-1] = 0\n",
        "print(array_10x10_border)\n",
        "\n",
        "checkerboard_8x8 = np.zeros((8, 8), dtype=int) # dtype이 있냐에 따라서 숫자뒤 . 여부\n",
        "checkerboard_8x8[1::2, ::2] = 1\n",
        "checkerboard_8x8[::2, 1::2] = 1\n",
        "print(checkerboard_8x8)\n"
      ],
      "metadata": {
        "colab": {
          "base_uri": "https://localhost:8080/"
        },
        "id": "tW4-OMaDYGVj",
        "outputId": "f9f3e052-850a-4971-b338-ab7fcccf51b2"
      },
      "execution_count": null,
      "outputs": [
        {
          "output_type": "stream",
          "name": "stdout",
          "text": [
            "[[1. 1. 1. 1. 1. 1. 1. 1. 1. 1.]\n",
            " [1. 0. 0. 0. 0. 0. 0. 0. 0. 1.]\n",
            " [1. 0. 0. 0. 0. 0. 0. 0. 0. 1.]\n",
            " [1. 0. 0. 0. 0. 0. 0. 0. 0. 1.]\n",
            " [1. 0. 0. 0. 0. 0. 0. 0. 0. 1.]\n",
            " [1. 0. 0. 0. 0. 0. 0. 0. 0. 1.]\n",
            " [1. 0. 0. 0. 0. 0. 0. 0. 0. 1.]\n",
            " [1. 0. 0. 0. 0. 0. 0. 0. 0. 1.]\n",
            " [1. 0. 0. 0. 0. 0. 0. 0. 0. 1.]\n",
            " [1. 1. 1. 1. 1. 1. 1. 1. 1. 1.]]\n",
            "[[0 1 0 1 0 1 0 1]\n",
            " [1 0 1 0 1 0 1 0]\n",
            " [0 1 0 1 0 1 0 1]\n",
            " [1 0 1 0 1 0 1 0]\n",
            " [0 1 0 1 0 1 0 1]\n",
            " [1 0 1 0 1 0 1 0]\n",
            " [0 1 0 1 0 1 0 1]\n",
            " [1 0 1 0 1 0 1 0]]\n"
          ]
        }
      ]
    },
    {
      "cell_type": "code",
      "source": [
        "#6130\n",
        "a = input()\n",
        "b = int(a[:a.find('x')])\n",
        "c = int(a[a.find('x')+2:])\n",
        "\n",
        "print(f\"{(c/b) if a[a.find('x')+1] == '+' else -(c/b):.02f}\")"
      ],
      "metadata": {
        "colab": {
          "base_uri": "https://localhost:8080/"
        },
        "id": "-Q9AvMsAZrC8",
        "outputId": "e2c0e2c8-1a99-4e63-b593-a15e0759c5ea"
      },
      "execution_count": null,
      "outputs": [
        {
          "output_type": "stream",
          "name": "stdout",
          "text": [
            "5x+4\n",
            "-0.80\n"
          ]
        }
      ]
    },
    {
      "cell_type": "code",
      "source": [
        "#6131\n",
        "a = input()\n",
        "b =int(a[a.find('x')+2:a.find('=')])\n",
        "c = int(a[a.find('=')+1:])\n",
        "d = b+c if a[a.find('x')+1] == '-' else c-b\n",
        "\n",
        "print(f\"{d/int(a[:a.find('x')]):.02f}\")"
      ],
      "metadata": {
        "colab": {
          "base_uri": "https://localhost:8080/"
        },
        "id": "lxQVEfc_Z3Kg",
        "outputId": "9b03ae59-d5cd-497c-c332-cdaad0086382"
      },
      "execution_count": null,
      "outputs": [
        {
          "output_type": "stream",
          "name": "stdout",
          "text": [
            "4x-3=2\n",
            "1.25\n"
          ]
        }
      ]
    },
    {
      "cell_type": "code",
      "source": [
        "5/4"
      ],
      "metadata": {
        "colab": {
          "base_uri": "https://localhost:8080/"
        },
        "id": "zsHjgoagbpYI",
        "outputId": "b01988eb-ceea-48e3-88a0-6b5c93f572d7"
      },
      "execution_count": null,
      "outputs": [
        {
          "output_type": "execute_result",
          "data": {
            "text/plain": [
              "1.25"
            ]
          },
          "metadata": {},
          "execution_count": 111
        }
      ]
    }
  ]
}